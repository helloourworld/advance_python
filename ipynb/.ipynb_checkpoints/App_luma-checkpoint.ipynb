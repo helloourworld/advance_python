{
 "cells": [
  {
   "cell_type": "code",
   "execution_count": 5,
   "metadata": {
    "collapsed": false
   },
   "outputs": [],
   "source": [
    "daysInSolarMonth=[31, 28, 31, 30, 31, 30, 31, 31, 30, 31, 30, 31]"
   ]
  },
  {
   "cell_type": "code",
   "execution_count": 6,
   "metadata": {
    "collapsed": false
   },
   "outputs": [],
   "source": [
    "lunarMonthDays  = [29,30] # a short (long) lunar month has 29 (30) days */"
   ]
  },
  {
   "cell_type": "code",
   "execution_count": 7,
   "metadata": {
    "collapsed": false
   },
   "outputs": [],
   "source": [
    "shengXiaoEn     = [\"Mouse\", \"Ox\", \"Tiger\", \"Rabbit\", \"Dragon\", \"Snake\",\n",
    "                   \"Horse\", \"Goat\", \"Monkey\", \"Rooster\", \"Dog\", \"Pig\"]"
   ]
  },
  {
   "cell_type": "code",
   "execution_count": 8,
   "metadata": {
    "collapsed": false
   },
   "outputs": [],
   "source": [
    "shengXiaoGB     = [\"鼠\", \"牛\", \"虎\", \"兔\", \"龙\", \"蛇\", \"马\", \"羊\", \"猴\", \"鸡\",\n",
    "                   \"狗\", \"猪\"]"
   ]
  },
  {
   "cell_type": "code",
   "execution_count": 9,
   "metadata": {
    "collapsed": false
   },
   "outputs": [],
   "source": [
    "zhiGB           = [\"子\", \"丑\", \"寅\", \"卯\", \"辰\", \"巳\", \"午\", \"未\", \"申\", \"酉\",\n",
    "                   \"戌\", \"亥\"]\n",
    "ganGB           = [\"甲\", \"乙\", \"丙\", \"丁\", \"戊\", \"己\", \"庚\", \"辛\", \"壬\", \"癸\"]\n"
   ]
  },
  {
   "cell_type": "code",
   "execution_count": 10,
   "metadata": {
    "collapsed": false
   },
   "outputs": [],
   "source": [
    "monthEn         = ['January', 'February', 'March', 'April', 'May', 'June',\n",
    "                   'July', 'August', 'September', 'October', 'November',\n",
    "                   'December']\n",
    "weekdayEn       = [\"Monday\", \"Tuesday\", \"Wednesday\", \"Thursday\",\n",
    "                   \"Friday\", \"Saturday\", \"Sunday\"]"
   ]
  },
  {
   "cell_type": "code",
   "execution_count": 11,
   "metadata": {
    "collapsed": false
   },
   "outputs": [],
   "source": [
    "weekdayGB       = [\"一\", \"二\", \"三\", \"四\", \"五\", \"六\", \"日\"]\n",
    "numGB           = ['○', \"一\", \"二\", \"三\", \"四\", \"五\", \"六\", \"七\", \"八\", \"九\",\n",
    "                   \"十\"]\n",
    "lunarHoliday    = {'0_0':'春节', '4_4':'端午', '7_14':'中秋', '8_8':'重阳',\n",
    "                   '0_14':'元宵'}"
   ]
  },
  {
   "cell_type": "code",
   "execution_count": 12,
   "metadata": {
    "collapsed": false
   },
   "outputs": [],
   "source": [
    "yearCode = [\n",
    "         0x04bd8, # 1900\n",
    "    0x04ae0, 0x0a570, 0x054d5, 0x0d260, 0x0d950, # 1905\n",
    "    0x16554, 0x056a0, 0x09ad0, 0x055d2, 0x04ae0, # 1910\n",
    "    0x0a5b6, 0x0a4d0, 0x0d250, 0x1d255, 0x0b540, # 1915\n",
    "    0x056a0, 0x0ada2, 0x095b0, 0x14977, 0x04970, # 1920\n",
    "    0x0a4b0, 0x0b4b5, 0x06a50, 0x06d40, 0x1ab54, # 1925\n",
    "    0x02b60, 0x09570, 0x052f2, 0x04970, 0x06566, # 1930\n",
    "    0x0d4a0, 0x0ea50, 0x06e95, 0x05ad0, 0x02b60, # 1935\n",
    "    0x186e3, 0x092e0, 0x1c8d7, 0x0c950, 0x0d4a0, # 1940\n",
    "    0x1d8a6, 0x0b550, 0x056a0, 0x1a5b4, 0x025d0, # 1945\n",
    "    0x092d0, 0x0d2b2, 0x0a950, 0x0b557, 0x06ca0, # 1950\n",
    "    0x0b550, 0x15355, 0x04da0, 0x0a5b0, 0x14573, # 1955\n",
    "    0x052b0, 0x0a9a8, 0x0e950, 0x06aa0, 0x0aea6, # 1960\n",
    "    0x0ab50, 0x04b60, 0x0aae4, 0x0a570, 0x05260, # 1965\n",
    "    0x0f263, 0x0d950, 0x05b57, 0x056a0, 0x096d0, # 1970\n",
    "    0x04dd5, 0x04ad0, 0x0a4d0, 0x0d4d4, 0x0d250, # 1975\n",
    "    0x0d558, 0x0b540, 0x0b6a0, 0x195a6, 0x095b0, # 1980\n",
    "    0x049b0, 0x0a974, 0x0a4b0, 0x0b27a, 0x06a50, # 1985\n",
    "    0x06d40, 0x0af46, 0x0ab60, 0x09570, 0x04af5, # 1990\n",
    "    0x04970, 0x064b0, 0x074a3, 0x0ea50, 0x06b58, # 1995\n",
    "    0x055c0, 0x0ab60, 0x096d5, 0x092e0, 0x0c960, # 2000\n",
    "    0x0d954, 0x0d4a0, 0x0da50, 0x07552, 0x056a0, # 2005\n",
    "    0x0abb7, 0x025d0, 0x092d0, 0x0cab5, 0x0a950, # 2010\n",
    "    0x0b4a0, 0x0baa4, 0x0ad50, 0x055d9, 0x04ba0, # 2015\n",
    "    0x0a5b0, 0x15176, 0x052b0, 0x0a930, 0x07954, # 2020\n",
    "    0x06aa0, 0x0ad50, 0x05b52, 0x04b60, 0x0a6e6, # 2025\n",
    "    0x0a4e0, 0x0d260, 0x0ea65, 0x0d530, 0x05aa0, # 2030\n",
    "    0x076a3, 0x096d0, 0x04bd7, 0x04ad0, 0x0a4d0, # 2035\n",
    "    0x1d0b6, 0x0d250, 0x0d520, 0x0dd45, 0x0b5a0, # 2040\n",
    "    0x056d0, 0x055b2, 0x049b0, 0x0a577, 0x0a4b0, # 2045\n",
    "    0x0aa50, 0x1b255, 0x06d20, 0x0ada0   # 2049\n",
    "]\n",
    "yearsCoded = len(yearCode)"
   ]
  },
  {
   "cell_type": "code",
   "execution_count": 13,
   "metadata": {
    "collapsed": false
   },
   "outputs": [],
   "source": [
    "from sys import argv, exit, stdout"
   ]
  },
  {
   "cell_type": "code",
   "execution_count": 14,
   "metadata": {
    "collapsed": false
   },
   "outputs": [],
   "source": [
    "from time import time,localtime"
   ]
  },
  {
   "cell_type": "code",
   "execution_count": 15,
   "metadata": {
    "collapsed": true
   },
   "outputs": [],
   "source": [
    "ow=stdout.write"
   ]
  },
  {
   "cell_type": "code",
   "execution_count": 43,
   "metadata": {
    "collapsed": false
   },
   "outputs": [],
   "source": [
    "# #   The leap month (if exists) is long one if M = 1.\n",
    "class LunarYearInfo:\n",
    "    '''\n",
    "    农历闰年\n",
    "    中国旧历作为阴阳历的一种，每月的天数依照月亏而定，一年的时间以12个月为基准，平年\n",
    "    比一回归年少约11天。为了合上地球围绕太阳运行周期即回归年，每隔2到4年，增加一个月，\n",
    "    增加的这个月为闰月。闰月加到哪个月，以农历历法规则推断，主要依照与农历的二十四节\n",
    "    气（春雨惊春清谷天，夏满芒夏暑相连，秋处露秋寒霜降，冬雪雪冬小大寒）相符合来确定。\n",
    "    在加有闰月的那一年有13个月，历年长度为384或385日，这一年也称为闰年。如2015年羊年\n",
    "    的农历中，有两个九月。农历闰年闰月的推算，3年一闰，5年二闰，19年七闰；农历基本上\n",
    "    19年为一周期对应于公历同一时间。如公历的2001年5月27日、1982年5月27日和1963年5月27\n",
    "    日这个日子，都是闰四月初五。\n",
    "    '''\n",
    "    def __init__(self):\n",
    "        self.yearDays = 0\n",
    "        self.monthDays = [0] * 13\n",
    "        self.leapMonth = -1 # -1 means no lunar leap month\n",
    "        "
   ]
  },
  {
   "cell_type": "code",
   "execution_count": 17,
   "metadata": {
    "collapsed": false
   },
   "outputs": [],
   "source": [
    "yearInfo = [0] * yearsCoded # global variable\n",
    "for i in range(yearsCoded):\n",
    "    yearInfo[i] = LunarYearInfo()"
   ]
  },
  {
   "cell_type": "code",
   "execution_count": 18,
   "metadata": {
    "collapsed": false
   },
   "outputs": [],
   "source": [
    "class Date:\n",
    "    def __init__(self, year, month, day, weekday=-1, gan=-1, zhi=-1):\n",
    "        self.year = year\n",
    "        self.month = month\n",
    "        self.day = day\n",
    "        self.weekday = weekday\n",
    "        self.gan = gan\n",
    "        self.zhi = zhi\n",
    "        \n"
   ]
  },
  {
   "cell_type": "code",
   "execution_count": 19,
   "metadata": {
    "collapsed": false
   },
   "outputs": [],
   "source": [
    "solar1st = Date(0, 0, 30, weekday=2) #Wednesday, 31Jan1900\n",
    "lunar1st = Date(0, 0, 0, weekday=2, gan=6, zhi=0) #Wednesday, First day, First month, 1900,庚子年"
   ]
  },
  {
   "cell_type": "code",
   "execution_count": 20,
   "metadata": {
    "collapsed": false
   },
   "outputs": [],
   "source": [
    "def error(msg):\n",
    "    print 'Error:', msg; exit(0)"
   ]
  },
  {
   "cell_type": "code",
   "execution_count": 21,
   "metadata": {
    "collapsed": false
   },
   "outputs": [],
   "source": [
    "def isSolarLeapYear(year):\n",
    "    '''\n",
    "    Leap year, Intercalary Year(闰年)是为了弥补因人为历法规定造成的年度天数与地球实际公转周期的时间差而设立的。补上时间差的年份为闰年。\n",
    "    闰年包括在公历或夏历中有闰日或闰月的年份。\n",
    "    闰年法则：四年一闰，百年不闰，四百年再闰\n",
    "    根本原因：\n",
    "    地球绕太阳运行周期为365天5小时48分46秒（合365.24219天)，即一回归年（tropical year）。公历的平年只有365日，比回归年短约0.2422日，所余下的时间约为每四年\n",
    "    累计一天，故第四年于2月末加一天，使当年的历年长度为366日，这一年为闰年。\n",
    "    现行公历中每400年有97个闰年。\n",
    "    按照每四年一个闰年计算，平均每年就要多算出0.0078天，这样经过400年就会多算出大约3天来。因此每四百年中要减少三个闰年。所以公历规定：年份是整百数时，必须\n",
    "    是400的倍数才是闰年；不是400的倍数的年份，即使是4的倍数也不是闰年。\n",
    "    '''\n",
    "    year = year + 1900\n",
    "    return (year%4==0) and (year%100!=0) or (year%400 ==0)\n",
    "# isSolarLeapYear(108)"
   ]
  },
  {
   "cell_type": "code",
   "execution_count": 23,
   "metadata": {
    "collapsed": false
   },
   "outputs": [],
   "source": [
    "baseYear=1201 - 1900\n",
    "# in fact, real baseYear=1201.  In order to ease calculation of\n",
    "# leap years. real baseYear must conform to:\n",
    "#   realBaseYear%4==1 and realBaseYear%400==1.\n",
    "# Assert realBaseYear < solar1st.year .\n",
    "# Compute the number of days from the Solar First Date\n",
    "# month=0 means January, ...\n"
   ]
  },
  {
   "cell_type": "code",
   "execution_count": 24,
   "metadata": {
    "collapsed": false
   },
   "outputs": [],
   "source": [
    "def solarDaysFromBaseYear(d): # d is a Date class\n",
    "    delta = d.year - baseYear\n",
    "    offset = delta*365 + delta/4 - delta/100 + delta/400\n",
    "    for i in range(d.month):\n",
    "        offset += daysInSolarMonth[i];\n",
    "    if d.month>1 and isSolarLeapYear(d.year):\n",
    "        offset+=1\n",
    "    offset += d.day\n",
    "    return offset"
   ]
  },
  {
   "cell_type": "code",
   "execution_count": 25,
   "metadata": {
    "collapsed": false
   },
   "outputs": [],
   "source": [
    "def solarDaysFromFirstDate (d): #d is a Date class\n",
    "    return solarDaysFromBaseYear (d) - solarDaysFromBaseYear (solar1st)"
   ]
  },
  {
   "cell_type": "code",
   "execution_count": 26,
   "metadata": {
    "collapsed": false
   },
   "outputs": [],
   "source": [
    "def calcLunarDaysPerMonth(iYear):\n",
    "    code = yearCode[iYear]\n",
    "    leapMonth = code&0xf #leapMonth==0 means no lunar leap month\n",
    "    code >>= 4\n",
    "    for iMonth in range(12):\n",
    "        yearInfo[iYear].monthDays[11-iMonth] = lunarMonthDays [code&0x1]\n",
    "        code >>= 1\n",
    "    if leapMonth>0:\n",
    "        yearInfo[iYear].leapMonth = leapMonth-1\n",
    "        yearInfo[iYear].monthDays.insert (leapMonth,\n",
    "                lunarMonthDays [code & 0x1])"
   ]
  },
  {
   "cell_type": "code",
   "execution_count": 27,
   "metadata": {
    "collapsed": false
   },
   "outputs": [],
   "source": [
    "def calcAllLunarYearsInfo():\n",
    "    for iYear in range(yearsCoded):\n",
    "        calcLunarDaysPerMonth(iYear)\n",
    "        for iMonth in range(13):\n",
    "            yearInfo[iYear].yearDays += yearInfo[iYear].monthDays[iMonth]"
   ]
  },
  {
   "cell_type": "code",
   "execution_count": 29,
   "metadata": {
    "collapsed": false
   },
   "outputs": [],
   "source": [
    "#input dateSolar, return (dateLunar, isLunarMonthOrNot)\n",
    "def solar2Lunar(d): #d is a Date class\n",
    "    dLunar = Date(-1, -1, -1) #unknown lunar Date class\n",
    "    offset = solarDaysFromFirstDate(d)\n",
    "    dLunar.weekday  = (offset + solar1st.weekday)%7\n",
    "    for iYear in range(yearsCoded):\n",
    "        if offset < yearInfo[iYear].yearDays:\n",
    "            dLunar.year = iYear; break\n",
    "    offset -= yearInfo[iYear].yearDays\n",
    "    if dLunar.year == -1:   error (\"Date out of range.\")\n",
    "    dLunar.gan      = (dLunar.year + lunar1st.gan) % 10\n",
    "    dLunar.zhi      = (dLunar.year + lunar1st.zhi) % 12\n",
    "    for iMonth in range(13):\n",
    "        if offset< yearInfo[dLunar.year].monthDays[iMonth]:\n",
    "            dLunar.month = iMonth; break\n",
    "    offset -= yearInfo[dLunar.year].monthDays[iMonth]\n",
    "    dLunar.day = offset\n",
    "\n",
    "    isLeapMonth=0\n",
    "    if yearInfo[dLunar.year].leapMonth >=0:\n",
    "        if dLunar.month ==  yearInfo[iYear].leapMonth + 1:\n",
    "            isLeapMonth=1\n",
    "        if dLunar.month > yearInfo[dLunar.year].leapMonth:\n",
    "            dLunar.month -= 1\n",
    "    return (dLunar, isLeapMonth)"
   ]
  },
  {
   "cell_type": "code",
   "execution_count": 30,
   "metadata": {
    "collapsed": false
   },
   "outputs": [],
   "source": [
    "def getSolarDaysInMonth (year, month):\n",
    "    if isSolarLeapYear(year) and month==1:\n",
    "            return 29\n",
    "    else:   return daysInSolarMonth[month]"
   ]
  },
  {
   "cell_type": "code",
   "execution_count": 31,
   "metadata": {
    "collapsed": false
   },
   "outputs": [
    {
     "data": {
      "text/plain": [
       "29"
      ]
     },
     "execution_count": 31,
     "metadata": {},
     "output_type": "execute_result"
    }
   ],
   "source": [
    "getSolarDaysInMonth(2016, 1)"
   ]
  },
  {
   "cell_type": "code",
   "execution_count": 32,
   "metadata": {
    "collapsed": false
   },
   "outputs": [],
   "source": [
    "def num2GB (num):\n",
    "    if num==10:\n",
    "        return '十'\n",
    "    elif num>10 and num<20:\n",
    "        return '十' + numGB[num-10]\n",
    "    tmp=''\n",
    "    while num>10:\n",
    "        tmp = numGB[num%10] + tmp\n",
    "        num = int(num/10)\n",
    "    tmp = numGB[num] + tmp\n",
    "    return tmp"
   ]
  },
  {
   "cell_type": "code",
   "execution_count": 33,
   "metadata": {
    "collapsed": false
   },
   "outputs": [
    {
     "name": "stdout",
     "output_type": "stream",
     "text": [
      "二\n"
     ]
    }
   ],
   "source": [
    "print num2GB(2)"
   ]
  },
  {
   "cell_type": "code",
   "execution_count": 34,
   "metadata": {
    "collapsed": false
   },
   "outputs": [],
   "source": [
    "def lunarDate2GB (dLunar, isLeapMonth):\n",
    "    tmp = str(dLunar.month)+'_'+str(dLunar.day)\n",
    "    if lunarHoliday.has_key( tmp ):\n",
    "        return '\u001b[0;33;44m%s\u001b[0m  '% lunarHoliday[tmp] + \\\n",
    "               ' '*(6-len(lunarHoliday[tmp]))\n",
    "    elif dLunar.day==0:\n",
    "        tmp2 = '闰'*isLeapMonth + num2GB(dLunar.month+1) +'月'\n",
    "        return '\u001b[7m%s\u001b[0m' % tmp2 + ' '*(8-len(tmp2))\n",
    "    elif dLunar.day<10:\n",
    "        return '初' + num2GB(dLunar.day+1)\n",
    "    else:\n",
    "        return num2GB(dLunar.day+1)"
   ]
  },
  {
   "cell_type": "code",
   "execution_count": 35,
   "metadata": {
    "collapsed": false
   },
   "outputs": [],
   "source": [
    "def outputCalendar(year, month):\n",
    "    dLunar = Date(-1,-1,-1)\n",
    "    ow ('\\n     阳历%d年%d月         ' % (year+1900, month+1) )\n",
    "    for iDay in range( getSolarDaysInMonth(year, month) ):\n",
    "        dSolar = Date(year, month, iDay)\n",
    "        dLunar, isLeapMonth = solar2Lunar (dSolar)\n",
    "        if iDay==0:\n",
    "            ow ('始于 阴历%s年%s%s月 (%s%s年, 生肖属%s)\\n' %\n",
    "                ( num2GB(dLunar.year+1900), '闰'*isLeapMonth,\n",
    "                  num2GB(dLunar.month+1),\n",
    "                  ganGB [dLunar.gan], zhiGB[dLunar.zhi], shengXiaoGB[dLunar.zhi]\n",
    "                ))\n",
    "            ow ('='*74 + '\\n')\n",
    "            for i in range(7):\n",
    "                ow (\"%3s %2s     \" % (weekdayEn[i][:3], weekdayGB[i]) )\n",
    "            ow('\\n\\n')\n",
    "            for i in range(dLunar.weekday): ow(' '*11)\n",
    "        elif dLunar.weekday==0: ow('\\n')\n",
    "        ow ( \"%2d %-8s\" %(iDay+1, lunarDate2GB(dLunar, isLeapMonth) ) )\n",
    "    ow('\\n\\n')"
   ]
  },
  {
   "cell_type": "code",
   "execution_count": 36,
   "metadata": {
    "collapsed": false
   },
   "outputs": [],
   "source": [
    "def checkArgv (argv):\n",
    "    argc = len(argv)\n",
    "    if argc==1 or argv[1] in ('-h', '--help'):\n",
    "        print __doc__; exit(0)\n",
    "    #in case people input arguments as \"4-digit-year month\"\n",
    "    if argc==3 and len(argv[1]) == 4 and len(argv[2]) in (1,2):\n",
    "        argv[1], argv[2] = argv[2], argv[1]\n",
    "\n",
    "    #Get month\n",
    "    month=-1\n",
    "    for iMonth in range(12):\n",
    "        if argv[1].lower() == monthEn[iMonth].lower() or \\\n",
    "           argv[1].lower() == monthEn[iMonth][:3].lower():\n",
    "               month = iMonth+1; break\n",
    "    if month==-1:\n",
    "        month = eval(argv[1])\n",
    "    if month<1 or month>12:     error (\"Month not within 1--12.\")\n",
    "    #Get year\n",
    "    if argc==2: year = localtime(time())[0]\n",
    "    else:\n",
    "        if len(argv[2]) != 4:   error (\"Year must be 4 digits.\")\n",
    "        year = eval(argv[2])\n",
    "        if year<1900 or year>= 1900+yearsCoded or (year==1900 and month==1):\n",
    "            error (\"Year must be within %d--%d, excluding 1900/1.\"\n",
    "                    % (1900, 1900 + yearsCoded-1) )\n",
    "    return year-1900, month-1"
   ]
  },
  {
   "cell_type": "code",
   "execution_count": 40,
   "metadata": {
    "collapsed": false
   },
   "outputs": [
    {
     "data": {
      "text/plain": [
       "[0, 0, 0, 0, 0, 0, 0, 0, 0, 0, 0, 0, 0]"
      ]
     },
     "execution_count": 40,
     "metadata": {},
     "output_type": "execute_result"
    }
   ],
   "source": [
    "yearInfo[1].monthDays"
   ]
  },
  {
   "cell_type": "code",
   "execution_count": null,
   "metadata": {
    "collapsed": false
   },
   "outputs": [],
   "source": []
  }
 ],
 "metadata": {
  "anaconda-cloud": {},
  "kernelspec": {
   "display_name": "Python [Root]",
   "language": "python",
   "name": "Python [Root]"
  }
 },
 "nbformat": 4,
 "nbformat_minor": 0
}

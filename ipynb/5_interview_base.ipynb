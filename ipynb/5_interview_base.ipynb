{
 "metadata": {
  "name": "",
  "signature": "sha256:6374345c6f968200c8113c2ad82347a8f13a3f3df2e8cd03bc43d483d9f46fa2"
 },
 "nbformat": 3,
 "nbformat_minor": 0,
 "worksheets": [
  {
   "cells": [
    {
     "cell_type": "code",
     "collapsed": false,
     "input": [
      "import datetime\n",
      "td = datetime.date(2015,05,26)\n",
      "print td"
     ],
     "language": "python",
     "metadata": {},
     "outputs": [
      {
       "output_type": "stream",
       "stream": "stdout",
       "text": [
        "2015-05-26\n"
       ]
      }
     ],
     "prompt_number": 16
    },
    {
     "cell_type": "code",
     "collapsed": false,
     "input": [
      "%connect_info"
     ],
     "language": "python",
     "metadata": {},
     "outputs": [
      {
       "output_type": "stream",
       "stream": "stdout",
       "text": [
        "{\n",
        "  \"stdin_port\": 54983, \n",
        "  \"ip\": \"127.0.0.1\", \n",
        "  \"control_port\": 54984, \n",
        "  \"hb_port\": 54985, \n",
        "  \"signature_scheme\": \"hmac-sha256\", \n",
        "  \"key\": \"26cec425-4c8d-437c-a3ba-e488e69f5904\", \n",
        "  \"shell_port\": 54981, \n",
        "  \"transport\": \"tcp\", \n",
        "  \"iopub_port\": 54982\n",
        "}\n",
        "\n",
        "Paste the above JSON into a file, and connect with:\n",
        "    $> ipython <app> --existing <file>\n",
        "or, if you are local, you can connect with just:\n",
        "    $> ipython <app> --existing kernel-a752a2e3-caee-4d62-bddd-fac89cbe2805.json \n",
        "or even just:\n",
        "    $> ipython <app> --existing \n",
        "if this is the most recent IPython session you have started.\n"
       ]
      }
     ],
     "prompt_number": 17
    },
    {
     "cell_type": "code",
     "collapsed": false,
     "input": [
      "def normalize(name):\n",
      "    return name.capitalize()"
     ],
     "language": "python",
     "metadata": {},
     "outputs": [],
     "prompt_number": 18
    },
    {
     "cell_type": "code",
     "collapsed": true,
     "input": [
      "%qtconsole"
     ],
     "language": "python",
     "metadata": {},
     "outputs": [],
     "prompt_number": 19
    },
    {
     "cell_type": "code",
     "collapsed": false,
     "input": [
      "L1 = ['DAVID', \"YULIJUN\", 'yulijun']"
     ],
     "language": "python",
     "metadata": {},
     "outputs": [],
     "prompt_number": 20
    },
    {
     "cell_type": "code",
     "collapsed": false,
     "input": [
      "L2 = list(map(normalize, L1))\n",
      "print(L2)"
     ],
     "language": "python",
     "metadata": {},
     "outputs": [
      {
       "output_type": "stream",
       "stream": "stdout",
       "text": [
        "['David', 'Yulijun', 'Yulijun']\n"
       ]
      }
     ],
     "prompt_number": 21
    },
    {
     "cell_type": "code",
     "collapsed": false,
     "input": [
      "a = None\n",
      "b = 'ss'\n",
      "print 1 and a or b"
     ],
     "language": "python",
     "metadata": {},
     "outputs": [
      {
       "output_type": "stream",
       "stream": "stdout",
       "text": [
        "ss\n"
       ]
      }
     ],
     "prompt_number": 22
    },
    {
     "cell_type": "code",
     "collapsed": false,
     "input": [
      "a = None\n",
      "b = 'null'\n",
      "s = 1 and a or b"
     ],
     "language": "python",
     "metadata": {},
     "outputs": [],
     "prompt_number": 23
    },
    {
     "cell_type": "code",
     "collapsed": false,
     "input": [
      "print s.strip()"
     ],
     "language": "python",
     "metadata": {},
     "outputs": [
      {
       "output_type": "stream",
       "stream": "stdout",
       "text": [
        "null\n"
       ]
      }
     ],
     "prompt_number": 24
    },
    {
     "cell_type": "code",
     "collapsed": false,
     "input": [
      "series = range(1,5)\n",
      "import math\n",
      "print sum((0.1 * each)** 2 for each in series)"
     ],
     "language": "python",
     "metadata": {},
     "outputs": [
      {
       "output_type": "stream",
       "stream": "stdout",
       "text": [
        "0.3\n"
       ]
      }
     ],
     "prompt_number": 25
    },
    {
     "cell_type": "code",
     "collapsed": false,
     "input": [
      "print (0.1**2 + 0.2** 2 + 0.3**2 + 0.4**2)"
     ],
     "language": "python",
     "metadata": {},
     "outputs": [
      {
       "output_type": "stream",
       "stream": "stdout",
       "text": [
        "0.3\n"
       ]
      }
     ],
     "prompt_number": 26
    },
    {
     "cell_type": "code",
     "collapsed": false,
     "input": [
      "import numpy as np\n",
      "n = 2\n",
      "prin = 1000\n",
      "r = 0.09\n",
      "fv = prin * (1 + r) ** (n )\n",
      "print fv"
     ],
     "language": "python",
     "metadata": {},
     "outputs": [
      {
       "output_type": "stream",
       "stream": "stdout",
       "text": [
        "1188.1\n"
       ]
      }
     ],
     "prompt_number": 27
    },
    {
     "cell_type": "code",
     "collapsed": false,
     "input": [
      "import numpy as np\n",
      "o_0 = 78\n",
      "o_1 = 4"
     ],
     "language": "python",
     "metadata": {},
     "outputs": [],
     "prompt_number": 28
    },
    {
     "cell_type": "code",
     "collapsed": false,
     "input": [
      "l_0=5\n",
      "l_1 = 33"
     ],
     "language": "python",
     "metadata": {},
     "outputs": [],
     "prompt_number": 29
    },
    {
     "cell_type": "code",
     "collapsed": false,
     "input": [
      "o_0+o_1"
     ],
     "language": "python",
     "metadata": {},
     "outputs": [
      {
       "metadata": {},
       "output_type": "pyout",
       "prompt_number": 30,
       "text": [
        "82"
       ]
      }
     ],
     "prompt_number": 30
    },
    {
     "cell_type": "code",
     "collapsed": false,
     "input": [
      "l_0+l_1"
     ],
     "language": "python",
     "metadata": {},
     "outputs": [
      {
       "metadata": {},
       "output_type": "pyout",
       "prompt_number": 31,
       "text": [
        "38"
       ]
      }
     ],
     "prompt_number": 31
    },
    {
     "cell_type": "code",
     "collapsed": false,
     "input": [
      "o_0 + l_1"
     ],
     "language": "python",
     "metadata": {},
     "outputs": [
      {
       "metadata": {},
       "output_type": "pyout",
       "prompt_number": 32,
       "text": [
        "111"
       ]
      }
     ],
     "prompt_number": 32
    },
    {
     "cell_type": "code",
     "collapsed": false,
     "input": [
      "111/120.0"
     ],
     "language": "python",
     "metadata": {},
     "outputs": [
      {
       "metadata": {},
       "output_type": "pyout",
       "prompt_number": 33,
       "text": [
        "0.925"
       ]
      }
     ],
     "prompt_number": 33
    },
    {
     "cell_type": "code",
     "collapsed": false,
     "input": [
      "9.0/120"
     ],
     "language": "python",
     "metadata": {},
     "outputs": [
      {
       "metadata": {},
       "output_type": "pyout",
       "prompt_number": 34,
       "text": [
        "0.075"
       ]
      }
     ],
     "prompt_number": 34
    },
    {
     "cell_type": "code",
     "collapsed": false,
     "input": [
      "recall = l_1*.01/((l_1+l_0)*.01)\n",
      "print '%0.5f'%recall"
     ],
     "language": "python",
     "metadata": {},
     "outputs": [
      {
       "output_type": "stream",
       "stream": "stdout",
       "text": [
        "0.86842\n"
       ]
      }
     ],
     "prompt_number": 35
    },
    {
     "cell_type": "code",
     "collapsed": false,
     "input": [
      "precision = l_1*0.01/((l_1+o_1)*.01)\n",
      "print '%.5f'%precision"
     ],
     "language": "python",
     "metadata": {},
     "outputs": [
      {
       "output_type": "stream",
       "stream": "stdout",
       "text": [
        "0.89189\n"
       ]
      }
     ],
     "prompt_number": 36
    },
    {
     "cell_type": "code",
     "collapsed": false,
     "input": [
      "print np.average((precision, recall))"
     ],
     "language": "python",
     "metadata": {},
     "outputs": [
      {
       "output_type": "stream",
       "stream": "stdout",
       "text": [
        "0.880156472262\n"
       ]
      }
     ],
     "prompt_number": 37
    },
    {
     "cell_type": "code",
     "collapsed": false,
     "input": [
      "!dir"
     ],
     "language": "python",
     "metadata": {},
     "outputs": [
      {
       "output_type": "stream",
       "stream": "stdout",
       "text": [
        " \u9a71\u52a8\u5668 C \u4e2d\u7684\u5377\u662f System\n",
        " \u5377\u7684\u5e8f\u5217\u53f7\u662f 9271-57E6\n",
        "\n",
        " C:\\Users\\yulj\\Documents\\IPython Notebooks \u7684\u76ee\u5f55\n",
        "\n",
        "16/07/04  15:53    <DIR>          .\n",
        "16/07/04  15:53    <DIR>          ..\n",
        "16/07/04  15:50    <DIR>          .ipynb_checkpoints\n",
        "15/08/31  18:11                 5 a.txt\n",
        "15/09/01  09:15    <DIR>          BX-Dump\n",
        "15/09/12  11:19    <DIR>          ccimg\n",
        "15/09/15  17:36            27,383 clust2.ipynb\n",
        "15/09/13  16:18            37,142 cluster1.ipynb\n",
        "15/09/13  15:26    <DIR>          code\n",
        "16/07/04  15:43            15,284 Coding_Pythonically.ipynb\n",
        "16/07/04  15:48            31,813 ControFlow_DataStructure.ipynb\n",
        "16/04/02  21:38         1,730,114 Credit_develop.csv\n",
        "16/07/04  15:04            18,773 decorator Learn.ipynb\n",
        "15/01/20  21:30               279 dogs.csv\n",
        "16/06/18  11:54            22,627 function_coding.ipynb\n",
        "15/09/13  14:44    <DIR>          img\n",
        "16/07/04  15:52             8,121 interview.ipynb\n",
        "15/11/20  14:22            19,341 luma.ipynb\n",
        "16/07/04  15:57            13,396 note_1.ipynb\n",
        "15/09/12  14:38            37,717 P2P_Outlook.ipynb\n",
        "16/05/26  11:18            72,414 pandas_1.ipynb\n",
        "15/08/31  15:33            61,715 pandas_2.ipynb\n",
        "15/09/01  09:50           118,741 pandas_3.ipynb\n",
        "15/09/01  13:53            34,259 pandas_4.ipynb\n",
        "16/06/18  16:03             1,672 pca.py.ipynb\n",
        "15/06/04  15:52             9,676 PythonBasic.ipynb\n",
        "15/07/31  15:47            17,058 python_operate_date_and_time.ipynb\n",
        "16/04/07  15:29           199,170 rf.ipynb\n",
        "16/06/13  18:02             3,765 rf2.ipynb\n",
        "15/05/21  17:49            41,835 S0EP4_Python_In_Practice.ipynb\n",
        "15/09/20  17:19            51,867 S1EP1_car.txt\n",
        "16/05/26  13:27             3,950 S1EP3_Iris.txt\n",
        "15/09/01  09:37            13,824 S1EP3_Iris.xls\n",
        "16/04/02  21:38           853,638 score_card.html\n",
        "16/04/02  21:38           721,110 score_card.ipynb\n",
        "16/04/05  11:20    <DIR>          score_card_files\n",
        "15/08/04  14:37            10,076 sorts_method_all.ipynb\n",
        "15/07/16  09:53            12,363 statsmodel.ipynb\n",
        "15/07/19  10:44            79,660 statsmodels.ipynb\n",
        "15/07/01  17:45             8,743 treetest.ipynb\n",
        "15/08/04  15:03             4,084 two_array.ipynb\n",
        "16/06/27  14:33            62,180 Untitled0.ipynb\n",
        "16/01/27  17:17             2,303 Untitled1.ipynb\n",
        "15/09/06  17:50             2,978 Untitled2.ipynb\n",
        "15/09/12  10:22           177,868 Untitled3.ipynb\n",
        "15/09/20  17:29            11,134 Untitled4.ipynb\n",
        "15/11/05  18:13             3,834 Untitled5.ipynb\n",
        "16/06/22  11:44            18,964 Untitled6.ipynb\n",
        "16/06/08  17:36            29,626 Untitled7.ipynb\n",
        "15/07/31  17:38            12,759 yield_useful.ipynb\n",
        "              42 \u4e2a\u6587\u4ef6      4,603,261 \u5b57\u8282\n",
        "               8 \u4e2a\u76ee\u5f55 11,768,627,200 \u53ef\u7528\u5b57\u8282\n"
       ]
      }
     ],
     "prompt_number": 38
    },
    {
     "cell_type": "code",
     "collapsed": false,
     "input": [
      "import os\n",
      "os.listdir('.')"
     ],
     "language": "python",
     "metadata": {},
     "outputs": [
      {
       "metadata": {},
       "output_type": "pyout",
       "prompt_number": 39,
       "text": [
        "['.ipynb_checkpoints',\n",
        " 'a.txt',\n",
        " 'BX-Dump',\n",
        " 'ccimg',\n",
        " 'clust2.ipynb',\n",
        " 'cluster1.ipynb',\n",
        " 'code',\n",
        " 'Coding_Pythonically.ipynb',\n",
        " 'ControFlow_DataStructure.ipynb',\n",
        " 'Credit_develop.csv',\n",
        " 'decorator Learn.ipynb',\n",
        " 'dogs.csv',\n",
        " 'function_coding.ipynb',\n",
        " 'img',\n",
        " 'interview.ipynb',\n",
        " 'luma.ipynb',\n",
        " 'note_1.ipynb',\n",
        " 'P2P_Outlook.ipynb',\n",
        " 'pandas_1.ipynb',\n",
        " 'pandas_2.ipynb',\n",
        " 'pandas_3.ipynb',\n",
        " 'pandas_4.ipynb',\n",
        " 'pca.py.ipynb',\n",
        " 'PythonBasic.ipynb',\n",
        " 'python_operate_date_and_time.ipynb',\n",
        " 'rf.ipynb',\n",
        " 'rf2.ipynb',\n",
        " 'S0EP4_Python_In_Practice.ipynb',\n",
        " 'S1EP1_car.txt',\n",
        " 'S1EP3_Iris.txt',\n",
        " 'S1EP3_Iris.xls',\n",
        " 'score_card.html',\n",
        " 'score_card.ipynb',\n",
        " 'score_card_files',\n",
        " 'sorts_method_all.ipynb',\n",
        " 'statsmodel.ipynb',\n",
        " 'statsmodels.ipynb',\n",
        " 'Thumbs.db',\n",
        " 'treetest.ipynb',\n",
        " 'two_array.ipynb',\n",
        " 'Untitled0.ipynb',\n",
        " 'Untitled1.ipynb',\n",
        " 'Untitled2.ipynb',\n",
        " 'Untitled3.ipynb',\n",
        " 'Untitled4.ipynb',\n",
        " 'Untitled5.ipynb',\n",
        " 'Untitled6.ipynb',\n",
        " 'Untitled7.ipynb',\n",
        " 'yield_useful.ipynb']"
       ]
      }
     ],
     "prompt_number": 39
    },
    {
     "cell_type": "code",
     "collapsed": false,
     "input": [
      "print os.curdir"
     ],
     "language": "python",
     "metadata": {},
     "outputs": [
      {
       "output_type": "stream",
       "stream": "stdout",
       "text": [
        ".\n"
       ]
      }
     ],
     "prompt_number": 40
    },
    {
     "cell_type": "markdown",
     "metadata": {},
     "source": [
      "![](a.jpg)"
     ]
    },
    {
     "cell_type": "code",
     "collapsed": false,
     "input": [],
     "language": "python",
     "metadata": {},
     "outputs": [],
     "prompt_number": 40
    }
   ],
   "metadata": {}
  }
 ]
}
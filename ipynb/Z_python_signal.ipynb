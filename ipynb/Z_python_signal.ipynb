{
 "cells": [
  {
   "cell_type": "markdown",
   "metadata": {
    "nbpresent": {
     "id": "39aba382-6b09-4487-9820-c82718eb0224"
    }
   },
   "source": [
    "# Python Signal\n",
    "## 信号的概念"
   ]
  },
  {
   "cell_type": "markdown",
   "metadata": {
    "nbpresent": {
     "id": "08e7a821-4bd2-44cf-af32-50e1174094ec"
    }
   },
   "source": [
    "* 信号（signal）----进程之间通讯的方式，是一种软件中断。一个进程一旦接收到信号就会打断原来的程序执行流程来处理信号。\n",
    "* 几个常用信号:\n",
    "* SIGINT    终止进程     中断进程  (control+c)\n",
    "* SIGTERM   终止进程     软件终止信号\n",
    "* SIGKILL   终止进程     杀死进程\n",
    "* SIGALRM 闹钟信号"
   ]
  },
  {
   "cell_type": "markdown",
   "metadata": {
    "nbpresent": {
     "id": "29a51514-556c-4ddc-b769-44eb4ae6ba30"
    }
   },
   "source": [
    "### 进程结束信号 SIGTERM和SIGKILL的区别"
   ]
  },
  {
   "cell_type": "markdown",
   "metadata": {
    "nbpresent": {
     "id": "7d910f0d-d982-462f-a473-c12cba0cdff1"
    }
   },
   "source": [
    "SIGTERM比较友好，进程能捕捉这个信号，根据您的需要来关闭程序。在关闭程序之前，您可以结束打开的记录文件和完成正在做的任务。在某些情况下，假如进程正在进行作业而且不能中断，那么进程可以忽略这个SIGTERM信号。\n",
    "对于SIGKILL信号，进程是不能忽略的。这是一个 “我不管您在做什么,立刻停止”的信号。假如您发送SIGKILL信号给进程，Linux就将进程停止在那里。"
   ]
  },
  {
   "cell_type": "markdown",
   "metadata": {
    "nbpresent": {
     "id": "a4d6c4c8-34db-4c2c-852f-55dc99f17133"
    }
   },
   "source": [
    "### 发送信号一般有两种原因:\n",
    "\n",
    "* 1(被动式)  内核检测到一个系统事件.例如子进程退出会像父进程发送SIGCHLD信号.键盘按下control+c会发送SIGINT信号\n",
    "* 2(主动式)  通过系统调用kill来向指定进程发送信号"
   ]
  },
  {
   "cell_type": "markdown",
   "metadata": {
    "nbpresent": {
     "id": "851cc145-32e9-4809-9e88-ef9d1f6c1edd"
    }
   },
   "source": [
    "* **操作系统**规定了进程收到信号以后的默认行为\n",
    "* 但是，我们可以通过绑定信号处理函数来修改进程收到信号以后的行为\n",
    "* 有两个信号是不可更改的SIGTOP和SIGKILL\n",
    "\n",
    "**绑定信号处理函数：**"
   ]
  },
  {
   "cell_type": "code",
   "execution_count": 2,
   "metadata": {
    "collapsed": true,
    "nbpresent": {
     "id": "a94d6e39-795e-4477-9a1c-1c924939e28b"
    }
   },
   "outputs": [],
   "source": [
    "import os\n",
    "import signal\n",
    "import time"
   ]
  },
  {
   "cell_type": "code",
   "execution_count": 3,
   "metadata": {
    "collapsed": true,
    "nbpresent": {
     "id": "07eb3951-0ee7-421d-aac5-9099e2843211"
    }
   },
   "outputs": [],
   "source": [
    "def onsignal_term(a, b):\n",
    "    print \"收到SIGTERM信号\""
   ]
  },
  {
   "cell_type": "code",
   "execution_count": 4,
   "metadata": {
    "collapsed": false,
    "nbpresent": {
     "id": "82918b0e-9d4c-47c4-b25d-a7d17d7375d1"
    }
   },
   "outputs": [
    {
     "data": {
      "text/plain": [
       "0"
      ]
     },
     "execution_count": 4,
     "metadata": {},
     "output_type": "execute_result"
    }
   ],
   "source": [
    "#这里是绑定信号处理函数，将SIGTERM绑定在函数onsignal_term上面    \n",
    "signal.signal(signal.SIGTERM,onsignal_term)   "
   ]
  },
  {
   "cell_type": "code",
   "execution_count": 7,
   "metadata": {
    "collapsed": false,
    "nbpresent": {
     "id": "3c691607-11dd-40fc-9fac-2009b1e27356"
    }
   },
   "outputs": [
    {
     "name": "stdout",
     "output_type": "stream",
     "text": [
      "我的进程id是 14992\n",
      "我的进程id是 14992\n",
      "我的进程id是 14992\n",
      "我的进程id是 14992\n",
      "我的进程id是 14992\n",
      "我的进程id是 14992\n",
      "我的进程id是 14992\n"
     ]
    },
    {
     "ename": "KeyboardInterrupt",
     "evalue": "",
     "output_type": "error",
     "traceback": [
      "\u001b[1;31m---------------------------------------------------------------------------\u001b[0m",
      "\u001b[1;31mKeyboardInterrupt\u001b[0m                         Traceback (most recent call last)",
      "\u001b[1;32m<ipython-input-7-ecb04f7a84fe>\u001b[0m in \u001b[0;36m<module>\u001b[1;34m()\u001b[0m\n\u001b[0;32m      1\u001b[0m \u001b[1;32mwhile\u001b[0m \u001b[1;36m1\u001b[0m\u001b[1;33m:\u001b[0m\u001b[1;33m\u001b[0m\u001b[0m\n\u001b[0;32m      2\u001b[0m     \u001b[1;32mprint\u001b[0m \u001b[1;34m'我的进程id是'\u001b[0m\u001b[1;33m,\u001b[0m\u001b[0mos\u001b[0m\u001b[1;33m.\u001b[0m\u001b[0mgetpid\u001b[0m\u001b[1;33m(\u001b[0m\u001b[1;33m)\u001b[0m\u001b[1;33m\u001b[0m\u001b[0m\n\u001b[1;32m----> 3\u001b[1;33m     \u001b[0mtime\u001b[0m\u001b[1;33m.\u001b[0m\u001b[0msleep\u001b[0m\u001b[1;33m(\u001b[0m\u001b[1;36m10\u001b[0m\u001b[1;33m)\u001b[0m\u001b[1;33m\u001b[0m\u001b[0m\n\u001b[0m",
      "\u001b[1;31mKeyboardInterrupt\u001b[0m: "
     ]
    }
   ],
   "source": [
    "while 1:    \n",
    "    print '我的进程id是',os.getpid()    \n",
    "    time.sleep(10)   "
   ]
  },
  {
   "cell_type": "markdown",
   "metadata": {
    "nbpresent": {
     "id": "28b331dd-87e8-4358-8c06-32521b582241"
    }
   },
   "source": [
    "运行该程序。然后通过另外一个进程来发送信号。\n",
    "\n",
    "发送消息的代码如下："
   ]
  },
  {
   "cell_type": "code",
   "execution_count": null,
   "metadata": {
    "collapsed": true,
    "nbpresent": {
     "id": "82d7b751-5fb2-4842-9142-5be1f6122367"
    }
   },
   "outputs": [],
   "source": [
    "import os    \n",
    "import signal    \n",
    "     \n",
    "#发送信号，16175是前面那个绑定信号处理函数的pid，需要自行修改    \n",
    "os.kill(16175,signal.SIGTERM) "
   ]
  },
  {
   "cell_type": "markdown",
   "metadata": {
    "nbpresent": {
     "id": "4b65f8ef-d7c1-4b72-96ed-927dd52bd0b7"
    }
   },
   "source": [
    "使用信号需要特别注意的地方：\n",
    "\n",
    "如果一个进程收到一个SIGUSR1信号，然后执行信号绑定函数，第二个SIGUSR2信号又来了，第一个信号没有被处理完毕的话，第二个信号就会丢弃。\n",
    "\n",
    "所以，尽量不要在多线程中使用信号。"
   ]
  },
  {
   "cell_type": "code",
   "execution_count": 1,
   "metadata": {
    "collapsed": true,
    "nbpresent": {
     "id": "2a8b24fb-9d73-4ad3-a3c2-9e75c1968ac4"
    }
   },
   "outputs": [],
   "source": [
    "import pandas as pd\n",
    "import numpy as np"
   ]
  },
  {
   "cell_type": "code",
   "execution_count": 2,
   "metadata": {
    "collapsed": true
   },
   "outputs": [],
   "source": [
    "%matplotlib inline"
   ]
  },
  {
   "cell_type": "code",
   "execution_count": 3,
   "metadata": {
    "collapsed": false
   },
   "outputs": [
    {
     "name": "stdout",
     "output_type": "stream",
     "text": [
      "Populating the interactive namespace from numpy and matplotlib\n"
     ]
    }
   ],
   "source": [
    "%pylab inline"
   ]
  },
  {
   "cell_type": "code",
   "execution_count": 4,
   "metadata": {
    "collapsed": true
   },
   "outputs": [],
   "source": [
    "nd = pd.Series(np.random.randn(600))"
   ]
  },
  {
   "cell_type": "code",
   "execution_count": 6,
   "metadata": {
    "collapsed": false
   },
   "outputs": [
    {
     "data": {
      "text/plain": [
       "<matplotlib.axes._subplots.AxesSubplot at 0x8aa89e8>"
      ]
     },
     "execution_count": 6,
     "metadata": {},
     "output_type": "execute_result"
    },
    {
     "data": {
      "image/png": "[encoded data removed]",
      "text/plain": [
       "<matplotlib.figure.Figure at 0x8ca1908>"
      ]
     },
     "metadata": {},
     "output_type": "display_data"
    }
   ],
   "source": [
    "nd.hist(bins=100,range=(-5,5))"
   ]
  },
  {
   "cell_type": "code",
   "execution_count": null,
   "metadata": {
    "collapsed": true
   },
   "outputs": [],
   "source": []
  }
 ],
 "metadata": {
  "kernelspec": {
   "display_name": "Python [Root]",
   "language": "python",
   "name": "Python [Root]"
  },
  "language_info": {
   "codemirror_mode": {
    "name": "ipython",
    "version": 2
   },
   "file_extension": ".py",
   "mimetype": "text/x-python",
   "name": "python",
   "nbconvert_exporter": "python",
   "pygments_lexer": "ipython2",
   "version": "2.7.12"
  },
  "nbpresent": {
   "slides": {
    "0e42923c-6b7b-446f-b282-7b3e9603abc6": {
     "id": "0e42923c-6b7b-446f-b282-7b3e9603abc6",
     "prev": "53710479-c716-4f4b-9b56-a6dfaf952f46",
     "regions": {
      "d4de1801-889e-422a-bf0e-fe23c9c013e1": {
       "attrs": {
        "height": 0.8,
        "width": 0.8,
        "x": 0.1,
        "y": 0.1
       },
       "content": {
        "cell": "3c691607-11dd-40fc-9fac-2009b1e27356",
        "part": "whole"
       },
       "id": "d4de1801-889e-422a-bf0e-fe23c9c013e1"
      }
     }
    },
    "21189cff-69fb-4cc0-92fe-7ce6963fa5a3": {
     "id": "21189cff-69fb-4cc0-92fe-7ce6963fa5a3",
     "prev": "d4cbc84c-e369-4157-af32-cfd081d36bb2",
     "regions": {
      "d66d94a8-661f-4a49-ab0b-7715ad1fcb5a": {
       "attrs": {
        "height": 0.8,
        "width": 0.8,
        "x": 0.1,
        "y": 0.1
       },
       "content": {
        "cell": "4b65f8ef-d7c1-4b72-96ed-927dd52bd0b7",
        "part": "whole"
       },
       "id": "d66d94a8-661f-4a49-ab0b-7715ad1fcb5a"
      }
     }
    },
    "2aac722f-36af-4501-b41e-aac73a1caa8b": {
     "id": "2aac722f-36af-4501-b41e-aac73a1caa8b",
     "prev": "7348335a-aa83-4bb7-b03d-333fa3ce7240",
     "regions": {
      "95ed5d93-11a6-41f9-b27a-6c63b04fe7d9": {
       "attrs": {
        "height": 0.8,
        "width": 0.8,
        "x": 0.1,
        "y": 0.1
       },
       "content": {
        "cell": "29a51514-556c-4ddc-b769-44eb4ae6ba30",
        "part": "whole"
       },
       "id": "95ed5d93-11a6-41f9-b27a-6c63b04fe7d9"
      }
     }
    },
    "53710479-c716-4f4b-9b56-a6dfaf952f46": {
     "id": "53710479-c716-4f4b-9b56-a6dfaf952f46",
     "prev": "d90e5f25-6c0d-41ac-bf96-99a5e65da068",
     "regions": {
      "d4c531c0-67c0-49c8-b339-b6d9f8eb18c6": {
       "attrs": {
        "height": 0.8,
        "width": 0.8,
        "x": 0.1,
        "y": 0.1
       },
       "content": {
        "cell": "82918b0e-9d4c-47c4-b25d-a7d17d7375d1",
        "part": "whole"
       },
       "id": "d4c531c0-67c0-49c8-b339-b6d9f8eb18c6"
      }
     }
    },
    "57535a0e-9c4f-42b2-af47-d00113462feb": {
     "id": "57535a0e-9c4f-42b2-af47-d00113462feb",
     "prev": "ec4aaa09-741a-42b3-8345-1ea7043f56e3",
     "regions": {
      "ef931f40-8c43-45c2-8ae4-1557efb1291f": {
       "attrs": {
        "height": 0.8,
        "width": 0.8,
        "x": 0.1,
        "y": 0.1
       },
       "content": {
        "cell": "a4d6c4c8-34db-4c2c-852f-55dc99f17133",
        "part": "whole"
       },
       "id": "ef931f40-8c43-45c2-8ae4-1557efb1291f"
      }
     }
    },
    "60a49286-7627-4afd-84d3-382f95d0227d": {
     "id": "60a49286-7627-4afd-84d3-382f95d0227d",
     "prev": "0e42923c-6b7b-446f-b282-7b3e9603abc6",
     "regions": {
      "8c1dcc94-aa6b-4c80-8e91-10f27546d595": {
       "attrs": {
        "height": 0.8,
        "width": 0.8,
        "x": 0.1,
        "y": 0.1
       },
       "content": {
        "cell": "28b331dd-87e8-4358-8c06-32521b582241",
        "part": "whole"
       },
       "id": "8c1dcc94-aa6b-4c80-8e91-10f27546d595"
      }
     }
    },
    "7348335a-aa83-4bb7-b03d-333fa3ce7240": {
     "id": "7348335a-aa83-4bb7-b03d-333fa3ce7240",
     "prev": "73c58d82-192c-4c62-9cd1-ee1f2d1e0c10",
     "regions": {
      "bae76bc0-3eee-4eaa-a579-f778e1a51f50": {
       "attrs": {
        "height": 0.8,
        "width": 0.8,
        "x": 0.1,
        "y": 0.1
       },
       "content": {
        "cell": "08e7a821-4bd2-44cf-af32-50e1174094ec",
        "part": "whole"
       },
       "id": "bae76bc0-3eee-4eaa-a579-f778e1a51f50"
      }
     }
    },
    "73c58d82-192c-4c62-9cd1-ee1f2d1e0c10": {
     "id": "73c58d82-192c-4c62-9cd1-ee1f2d1e0c10",
     "prev": null,
     "regions": {
      "0a1380a6-3a1e-4d01-b4da-34f46bcf04cb": {
       "attrs": {
        "height": 0.8,
        "width": 0.8,
        "x": 0.1,
        "y": 0.1
       },
       "content": {
        "cell": "39aba382-6b09-4487-9820-c82718eb0224",
        "part": "whole"
       },
       "id": "0a1380a6-3a1e-4d01-b4da-34f46bcf04cb"
      }
     }
    },
    "9396e177-b2fc-4083-bb74-360fa1d77d0d": {
     "id": "9396e177-b2fc-4083-bb74-360fa1d77d0d",
     "prev": "57535a0e-9c4f-42b2-af47-d00113462feb",
     "regions": {
      "e1790f10-b3ee-4edd-a2d9-42ac32a2630c": {
       "attrs": {
        "height": 0.8,
        "width": 0.8,
        "x": 0.1,
        "y": 0.1
       },
       "content": {
        "cell": "851cc145-32e9-4809-9e88-ef9d1f6c1edd",
        "part": "whole"
       },
       "id": "e1790f10-b3ee-4edd-a2d9-42ac32a2630c"
      }
     }
    },
    "c15bb052-1379-41be-ae2f-a1824295b084": {
     "id": "c15bb052-1379-41be-ae2f-a1824295b084",
     "prev": "9396e177-b2fc-4083-bb74-360fa1d77d0d",
     "regions": {
      "7375996e-3998-4455-a20f-745a528a22ae": {
       "attrs": {
        "height": 0.8,
        "width": 0.8,
        "x": 0.1,
        "y": 0.1
       },
       "content": {
        "cell": "a94d6e39-795e-4477-9a1c-1c924939e28b",
        "part": "whole"
       },
       "id": "7375996e-3998-4455-a20f-745a528a22ae"
      }
     }
    },
    "d4cbc84c-e369-4157-af32-cfd081d36bb2": {
     "id": "d4cbc84c-e369-4157-af32-cfd081d36bb2",
     "prev": "60a49286-7627-4afd-84d3-382f95d0227d",
     "regions": {
      "a37d628a-557e-4f8c-8d95-e1936910d4f4": {
       "attrs": {
        "height": 0.8,
        "width": 0.8,
        "x": 0.1,
        "y": 0.1
       },
       "content": {
        "cell": "82d7b751-5fb2-4842-9142-5be1f6122367",
        "part": "whole"
       },
       "id": "a37d628a-557e-4f8c-8d95-e1936910d4f4"
      }
     }
    },
    "d90e5f25-6c0d-41ac-bf96-99a5e65da068": {
     "id": "d90e5f25-6c0d-41ac-bf96-99a5e65da068",
     "prev": "c15bb052-1379-41be-ae2f-a1824295b084",
     "regions": {
      "d17a30d8-5bfb-4494-97b8-25f83adafd3d": {
       "attrs": {
        "height": 0.8,
        "width": 0.8,
        "x": 0.1,
        "y": 0.1
       },
       "content": {
        "cell": "07eb3951-0ee7-421d-aac5-9099e2843211",
        "part": "whole"
       },
       "id": "d17a30d8-5bfb-4494-97b8-25f83adafd3d"
      }
     }
    },
    "e2204397-ce0e-4e73-b364-faad27f93a45": {
     "id": "e2204397-ce0e-4e73-b364-faad27f93a45",
     "prev": "21189cff-69fb-4cc0-92fe-7ce6963fa5a3",
     "regions": {
      "fbd5057a-ff80-48ef-ad5d-16e986e0d189": {
       "attrs": {
        "height": 0.8,
        "width": 0.8,
        "x": 0.1,
        "y": 0.1
       },
       "content": {
        "cell": "2a8b24fb-9d73-4ad3-a3c2-9e75c1968ac4",
        "part": "whole"
       },
       "id": "fbd5057a-ff80-48ef-ad5d-16e986e0d189"
      }
     }
    },
    "ec4aaa09-741a-42b3-8345-1ea7043f56e3": {
     "id": "ec4aaa09-741a-42b3-8345-1ea7043f56e3",
     "prev": "2aac722f-36af-4501-b41e-aac73a1caa8b",
     "regions": {
      "4bca01fb-8341-4afd-b4b6-ba5f744dda89": {
       "attrs": {
        "height": 0.8,
        "width": 0.8,
        "x": 0.1,
        "y": 0.1
       },
       "content": {
        "cell": "7d910f0d-d982-462f-a473-c12cba0cdff1",
        "part": "whole"
       },
       "id": "4bca01fb-8341-4afd-b4b6-ba5f744dda89"
      }
     }
    }
   },
   "themes": {}
  }
 },
 "nbformat": 4,
 "nbformat_minor": 0
}

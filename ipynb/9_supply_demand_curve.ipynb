{
 "metadata": {
  "name": "",
  "signature": "sha256:3d93de579f94df4d350838da0206755daad9882a9675c6541eff40bc121f3d5a"
 },
 "nbformat": 3,
 "nbformat_minor": 0,
 "worksheets": [
  {
   "cells": [
    {
     "cell_type": "code",
     "collapsed": false,
     "input": [
      "%pylab inline"
     ],
     "language": "python",
     "metadata": {},
     "outputs": [
      {
       "output_type": "stream",
       "stream": "stdout",
       "text": [
        "Populating the interactive namespace from numpy and matplotlib\n"
       ]
      }
     ],
     "prompt_number": 1
    },
    {
     "cell_type": "code",
     "collapsed": false,
     "input": [
      "import scipy as sp"
     ],
     "language": "python",
     "metadata": {},
     "outputs": [],
     "prompt_number": 2
    },
    {
     "cell_type": "code",
     "collapsed": false,
     "input": [
      "def make_supply(A,B,C):\n",
      "    def supply_func(q):\n",
      "        return A * q/(C - B * q)\n",
      "    return supply_func\n",
      "    \n",
      "def make_demand(K,L):\n",
      "    def demand_func(q):\n",
      "        return K/(1 + L * q)\n",
      "    return demand_func\n",
      "\n",
      "\n",
      "        "
     ],
     "language": "python",
     "metadata": {},
     "outputs": [],
     "prompt_number": 3
    },
    {
     "cell_type": "code",
     "collapsed": false,
     "input": [
      "A,B,C = 23.3, 9.2, 82.4"
     ],
     "language": "python",
     "metadata": {},
     "outputs": [],
     "prompt_number": 4
    },
    {
     "cell_type": "code",
     "collapsed": false,
     "input": [
      "\n",
      "K,L = 1.2, 0.54"
     ],
     "language": "python",
     "metadata": {},
     "outputs": [],
     "prompt_number": 5
    },
    {
     "cell_type": "code",
     "collapsed": false,
     "input": [
      "\n",
      "supply = make_supply(A,B,C)\n",
      "demand = make_demand(K, L)"
     ],
     "language": "python",
     "metadata": {},
     "outputs": [],
     "prompt_number": 6
    },
    {
     "cell_type": "code",
     "collapsed": false,
     "input": [
      "q = linspace(0.01, 5, 200)\n",
      "plot(q, supply(q), lw = 2)\n",
      "plot(q, demand(q), lw = 4)\n",
      "title('Supply and demand curves')\n",
      "xlabel('Quantity (thousands of units)')\n",
      "ylabel('Price($)')\n",
      "legend(['Supply', 'Demand'], loc = 'upper left')"
     ],
     "language": "python",
     "metadata": {},
     "outputs": [
      {
       "metadata": {},
       "output_type": "pyout",
       "prompt_number": 7,
       "text": [
        "<matplotlib.legend.Legend at 0xa12efd0>"
       ]
      },
      {
       "metadata": {},
       "output_type": "display_data",
       "png": "[encoded data removed]",
       "text": [
        "<matplotlib.figure.Figure at 0xa04a358>"
       ]
      }
     ],
     "prompt_number": 7
    },
    {
     "cell_type": "code",
     "collapsed": false,
     "input": [],
     "language": "python",
     "metadata": {},
     "outputs": [],
     "prompt_number": 7
    }
   ],
   "metadata": {}
  }
 ]
}
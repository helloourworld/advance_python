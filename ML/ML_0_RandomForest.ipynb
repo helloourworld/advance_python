{
 "worksheets": [
  {
   "cells": [
    {
     "cell_type": "markdown",
     "metadata": {},
     "source": [
      "机器学习算法系列教程\n",
      "==================\n",
      "欢迎您的访问！\n",
      "作者：Lijun Yu（davidyjun）大卫君\n",
      "\n",
      "访问网址：[@机器学习_大卫君](http://blog.sina.com.cn/u/2672280861)\n"
     ]
    },
    {
     "cell_type": "heading",
     "metadata": {},
     "level": 2,
     "source": [
      "机器学习算法之随机森林"
     ]
    },
    {
     "cell_type": "markdown",
     "metadata": {},
     "source": [
      "随机森林是数据挖掘中非常常用的分类预测算法，以分类或回归的决策树为基分类器。\n",
      "\n",
      "算法要点：\n",
      ">1 each tree in the ensemble is built from a sample drawn with replacement \n",
      "from the trainning set.\n",
      "（有限次有放回抽样）\n",
      "\n",
      ">2 when splitting a node during the construction of the tree, the split \n",
      "that is chosen is no longer the best split among all features.the split\n",
      "that is picked is the best split among a random subset of the features\n",
      "（单棵树最好，非全局最好）\n",
      "\n",
      "参考sklearn(http://scikit-learn.org/stable/modules/ensemble.html#random-forests)"
     ]
    },
    {
     "cell_type": "markdown",
     "metadata": {},
     "source": [
      "1.代码示例\n",
      "---------\n",
      "例：以经典的Kaggle\"泰坦尼克号\"乘客的数据集建模说明。数据[https://www.kaggle.com/c/titanic]"
     ]
    },
    {
     "cell_type": "code",
     "execution_count": null,
     "metadata": {},
     "outputs": [
      {
       "ename": "ImportError",
       "evalue": "No module named model",
       "traceback": [
        "\u001b[1;31m---------------------------------------------------------------------------\u001b[0m\n\u001b[1;31mImportError\u001b[0m                               Traceback (most recent call last)",
        "\u001b[1;32m<ipython-input-1-7ecd2140e8d8>\u001b[0m in \u001b[0;36m<module>\u001b[1;34m()\u001b[0m\n\u001b[1;32m----> 1\u001b[1;33m \u001b[1;32mfrom\u001b[0m \u001b[0mmodel\u001b[0m \u001b[1;32mimport\u001b[0m \u001b[1;33m*\u001b[0m\u001b[1;33m\u001b[0m\u001b[0m\n\u001b[0m",
        "\u001b[1;31mImportError\u001b[0m: No module named model"
       ],
       "output_type": "pyerr"
      }
     ],
     "input": [
      "from model import *"
     ],
     "language": "python",
     "prompt_number": 1
    },
    {
     "cell_type": "raw",
     "metadata": {},
     "source": [
      "http://blog.csdn.net/lo_cima/article/details/50533010#"
     ]
    }
   ]
  }
 ],
 "cells": [],
 "metadata": {
  "name": "",
  "signature": "sha256:23b4c1a84c68a3a94221306812ebe74fd56cda50eb253f2e681b4808a763a4f7"
 },
 "nbformat": 4,
 "nbformat_minor": 0
}
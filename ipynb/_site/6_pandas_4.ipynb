{
 "metadata": {
  "name": "",
  "signature": "sha256:64b29c141c1156425dcde9944a567f8ca8e10e2957780b8b0c47cc9259acc4a5"
 },
 "nbformat": 3,
 "nbformat_minor": 0,
 "worksheets": [
  {
   "cells": [
    {
     "cell_type": "heading",
     "level": 1,
     "metadata": {},
     "source": [
      "3. \u6df1\u5165Pandas\u6570\u636e\u64cd\u7eb5"
     ]
    },
    {
     "cell_type": "markdown",
     "metadata": {},
     "source": [
      "## \u6570\u636e\u96c6\u6574\u5408\n",
      "### 3.1.1 \u6a2a\u5411\u62fc\u63a5\uff1a \u76f4\u63a5DataFrame"
     ]
    },
    {
     "cell_type": "code",
     "collapsed": false,
     "input": [
      "import pandas as pd\n",
      "import json\n",
      "import numpy as np"
     ],
     "language": "python",
     "metadata": {},
     "outputs": [],
     "prompt_number": 1
    },
    {
     "cell_type": "code",
     "collapsed": false,
     "input": [
      "pd.DataFrame([np.random.rand(2),np.random.rand(2),np.random.rand(2)],columns =['C1', 'C2'])"
     ],
     "language": "python",
     "metadata": {},
     "outputs": [
      {
       "html": [
        "<div style=\"max-width:1500px;overflow:auto;\">\n",
        "<table border=\"1\" class=\"dataframe\">\n",
        "  <thead>\n",
        "    <tr style=\"text-align: right;\">\n",
        "      <th></th>\n",
        "      <th>C1</th>\n",
        "      <th>C2</th>\n",
        "    </tr>\n",
        "  </thead>\n",
        "  <tbody>\n",
        "    <tr>\n",
        "      <th>0</th>\n",
        "      <td>0.582893</td>\n",
        "      <td>0.786099</td>\n",
        "    </tr>\n",
        "    <tr>\n",
        "      <th>1</th>\n",
        "      <td>0.831245</td>\n",
        "      <td>0.267305</td>\n",
        "    </tr>\n",
        "    <tr>\n",
        "      <th>2</th>\n",
        "      <td>0.871266</td>\n",
        "      <td>0.478386</td>\n",
        "    </tr>\n",
        "  </tbody>\n",
        "</table>\n",
        "</div>"
       ],
       "metadata": {},
       "output_type": "pyout",
       "prompt_number": 2,
       "text": [
        "         C1        C2\n",
        "0  0.582893  0.786099\n",
        "1  0.831245  0.267305\n",
        "2  0.871266  0.478386"
       ]
      }
     ],
     "prompt_number": 2
    },
    {
     "cell_type": "markdown",
     "metadata": {},
     "source": [
      "### 3.1.2 \u6a2a\u5411\u62fc\u63a5\uff1a Concatenate"
     ]
    },
    {
     "cell_type": "code",
     "collapsed": false,
     "input": [
      "json_data = [{'name': 'Wang', 'sal': 50000, 'Job': 'VP'},\\\n",
      "             {'name': 'Shen', 'Job': 'Mnger', 'report': 'VP'},\n",
      "             {'name': 'Li', 'sal': 5000, 'report': 'IT'}]"
     ],
     "language": "python",
     "metadata": {},
     "outputs": [],
     "prompt_number": 3
    },
    {
     "cell_type": "code",
     "collapsed": false,
     "input": [
      "data_employee = pd.read_json(json.dumps(json_data))"
     ],
     "language": "python",
     "metadata": {},
     "outputs": [],
     "prompt_number": 4
    },
    {
     "cell_type": "code",
     "collapsed": false,
     "input": [
      "data_employee_ri = data_employee.reindex(columns=['name','Job','sal','report'])"
     ],
     "language": "python",
     "metadata": {},
     "outputs": [],
     "prompt_number": 5
    },
    {
     "cell_type": "code",
     "collapsed": false,
     "input": [
      "pd.concat([data_employee_ri,data_employee_ri,data_employee_ri])"
     ],
     "language": "python",
     "metadata": {},
     "outputs": [
      {
       "html": [
        "<div style=\"max-width:1500px;overflow:auto;\">\n",
        "<table border=\"1\" class=\"dataframe\">\n",
        "  <thead>\n",
        "    <tr style=\"text-align: right;\">\n",
        "      <th></th>\n",
        "      <th>name</th>\n",
        "      <th>Job</th>\n",
        "      <th>sal</th>\n",
        "      <th>report</th>\n",
        "    </tr>\n",
        "  </thead>\n",
        "  <tbody>\n",
        "    <tr>\n",
        "      <th>0</th>\n",
        "      <td>Wang</td>\n",
        "      <td>VP</td>\n",
        "      <td>50000.0</td>\n",
        "      <td>NaN</td>\n",
        "    </tr>\n",
        "    <tr>\n",
        "      <th>1</th>\n",
        "      <td>Shen</td>\n",
        "      <td>Mnger</td>\n",
        "      <td>NaN</td>\n",
        "      <td>VP</td>\n",
        "    </tr>\n",
        "    <tr>\n",
        "      <th>2</th>\n",
        "      <td>Li</td>\n",
        "      <td>NaN</td>\n",
        "      <td>5000.0</td>\n",
        "      <td>IT</td>\n",
        "    </tr>\n",
        "    <tr>\n",
        "      <th>0</th>\n",
        "      <td>Wang</td>\n",
        "      <td>VP</td>\n",
        "      <td>50000.0</td>\n",
        "      <td>NaN</td>\n",
        "    </tr>\n",
        "    <tr>\n",
        "      <th>1</th>\n",
        "      <td>Shen</td>\n",
        "      <td>Mnger</td>\n",
        "      <td>NaN</td>\n",
        "      <td>VP</td>\n",
        "    </tr>\n",
        "    <tr>\n",
        "      <th>2</th>\n",
        "      <td>Li</td>\n",
        "      <td>NaN</td>\n",
        "      <td>5000.0</td>\n",
        "      <td>IT</td>\n",
        "    </tr>\n",
        "    <tr>\n",
        "      <th>0</th>\n",
        "      <td>Wang</td>\n",
        "      <td>VP</td>\n",
        "      <td>50000.0</td>\n",
        "      <td>NaN</td>\n",
        "    </tr>\n",
        "    <tr>\n",
        "      <th>1</th>\n",
        "      <td>Shen</td>\n",
        "      <td>Mnger</td>\n",
        "      <td>NaN</td>\n",
        "      <td>VP</td>\n",
        "    </tr>\n",
        "    <tr>\n",
        "      <th>2</th>\n",
        "      <td>Li</td>\n",
        "      <td>NaN</td>\n",
        "      <td>5000.0</td>\n",
        "      <td>IT</td>\n",
        "    </tr>\n",
        "  </tbody>\n",
        "</table>\n",
        "</div>"
       ],
       "metadata": {},
       "output_type": "pyout",
       "prompt_number": 6,
       "text": [
        "   name    Job      sal report\n",
        "0  Wang     VP  50000.0    NaN\n",
        "1  Shen  Mnger      NaN     VP\n",
        "2    Li    NaN   5000.0     IT\n",
        "0  Wang     VP  50000.0    NaN\n",
        "1  Shen  Mnger      NaN     VP\n",
        "2    Li    NaN   5000.0     IT\n",
        "0  Wang     VP  50000.0    NaN\n",
        "1  Shen  Mnger      NaN     VP\n",
        "2    Li    NaN   5000.0     IT"
       ]
      }
     ],
     "prompt_number": 6
    },
    {
     "cell_type": "markdown",
     "metadata": {},
     "source": [
      "### 3.1.3 \u7eb5\u5411\u62fc\u63a5\uff1a Merge"
     ]
    },
    {
     "cell_type": "markdown",
     "metadata": {},
     "source": [
      "\u6839\u636e\u6570\u636e\u5173\u8054\uff0c\u4f7f\u7528\u5173\u952e\u5b57\n",
      "\n",
      "* \u53ef\u4ee5\u6307\u5b9a\u4e00\u5217\u6216\u591a\u5217\n",
      "* \u53ef\u4ee5\u4f7f\u7528left_on\u548cright_on"
     ]
    },
    {
     "cell_type": "code",
     "collapsed": false,
     "input": [
      "pd.merge(data_employee_ri,data_employee_ri,on = 'name')"
     ],
     "language": "python",
     "metadata": {},
     "outputs": [
      {
       "html": [
        "<div style=\"max-width:1500px;overflow:auto;\">\n",
        "<table border=\"1\" class=\"dataframe\">\n",
        "  <thead>\n",
        "    <tr style=\"text-align: right;\">\n",
        "      <th></th>\n",
        "      <th>name</th>\n",
        "      <th>Job_x</th>\n",
        "      <th>sal_x</th>\n",
        "      <th>report_x</th>\n",
        "      <th>Job_y</th>\n",
        "      <th>sal_y</th>\n",
        "      <th>report_y</th>\n",
        "    </tr>\n",
        "  </thead>\n",
        "  <tbody>\n",
        "    <tr>\n",
        "      <th>0</th>\n",
        "      <td>Wang</td>\n",
        "      <td>VP</td>\n",
        "      <td>50000.0</td>\n",
        "      <td>NaN</td>\n",
        "      <td>VP</td>\n",
        "      <td>50000.0</td>\n",
        "      <td>NaN</td>\n",
        "    </tr>\n",
        "    <tr>\n",
        "      <th>1</th>\n",
        "      <td>Shen</td>\n",
        "      <td>Mnger</td>\n",
        "      <td>NaN</td>\n",
        "      <td>VP</td>\n",
        "      <td>Mnger</td>\n",
        "      <td>NaN</td>\n",
        "      <td>VP</td>\n",
        "    </tr>\n",
        "    <tr>\n",
        "      <th>2</th>\n",
        "      <td>Li</td>\n",
        "      <td>NaN</td>\n",
        "      <td>5000.0</td>\n",
        "      <td>IT</td>\n",
        "      <td>NaN</td>\n",
        "      <td>5000.0</td>\n",
        "      <td>IT</td>\n",
        "    </tr>\n",
        "  </tbody>\n",
        "</table>\n",
        "</div>"
       ],
       "metadata": {},
       "output_type": "pyout",
       "prompt_number": 7,
       "text": [
        "   name  Job_x    sal_x report_x  Job_y    sal_y report_y\n",
        "0  Wang     VP  50000.0      NaN     VP  50000.0      NaN\n",
        "1  Shen  Mnger      NaN       VP  Mnger      NaN       VP\n",
        "2    Li    NaN   5000.0       IT    NaN   5000.0       IT"
       ]
      }
     ],
     "prompt_number": 7
    },
    {
     "cell_type": "code",
     "collapsed": false,
     "input": [
      "pd.merge(data_employee_ri,data_employee_ri, on=['name','Job'])"
     ],
     "language": "python",
     "metadata": {},
     "outputs": [
      {
       "html": [
        "<div style=\"max-width:1500px;overflow:auto;\">\n",
        "<table border=\"1\" class=\"dataframe\">\n",
        "  <thead>\n",
        "    <tr style=\"text-align: right;\">\n",
        "      <th></th>\n",
        "      <th>name</th>\n",
        "      <th>Job</th>\n",
        "      <th>sal_x</th>\n",
        "      <th>report_x</th>\n",
        "      <th>sal_y</th>\n",
        "      <th>report_y</th>\n",
        "    </tr>\n",
        "  </thead>\n",
        "  <tbody>\n",
        "    <tr>\n",
        "      <th>0</th>\n",
        "      <td>Wang</td>\n",
        "      <td>VP</td>\n",
        "      <td>50000.0</td>\n",
        "      <td>NaN</td>\n",
        "      <td>50000.0</td>\n",
        "      <td>NaN</td>\n",
        "    </tr>\n",
        "    <tr>\n",
        "      <th>1</th>\n",
        "      <td>Shen</td>\n",
        "      <td>Mnger</td>\n",
        "      <td>NaN</td>\n",
        "      <td>VP</td>\n",
        "      <td>NaN</td>\n",
        "      <td>VP</td>\n",
        "    </tr>\n",
        "    <tr>\n",
        "      <th>2</th>\n",
        "      <td>Li</td>\n",
        "      <td>NaN</td>\n",
        "      <td>5000.0</td>\n",
        "      <td>IT</td>\n",
        "      <td>5000.0</td>\n",
        "      <td>IT</td>\n",
        "    </tr>\n",
        "  </tbody>\n",
        "</table>\n",
        "</div>"
       ],
       "metadata": {},
       "output_type": "pyout",
       "prompt_number": 8,
       "text": [
        "   name    Job    sal_x report_x    sal_y report_y\n",
        "0  Wang     VP  50000.0      NaN  50000.0      NaN\n",
        "1  Shen  Mnger      NaN       VP      NaN       VP\n",
        "2    Li    NaN   5000.0       IT   5000.0       IT"
       ]
      }
     ],
     "prompt_number": 8
    },
    {
     "cell_type": "markdown",
     "metadata": {},
     "source": [
      "\u6839\u636eindex\u5173\u8054\uff0c\u53ef\u4ee5\u76f4\u63a5\u4f7f\u7528left_index\u548cright_index"
     ]
    },
    {
     "cell_type": "code",
     "collapsed": false,
     "input": [
      "data_employee_ri.index.name = 'index1'\n",
      "pd.merge(data_employee_ri,data_employee_ri,left_index='index1',right_index='index1')"
     ],
     "language": "python",
     "metadata": {},
     "outputs": [
      {
       "html": [
        "<div style=\"max-width:1500px;overflow:auto;\">\n",
        "<table border=\"1\" class=\"dataframe\">\n",
        "  <thead>\n",
        "    <tr style=\"text-align: right;\">\n",
        "      <th></th>\n",
        "      <th>name_x</th>\n",
        "      <th>Job_x</th>\n",
        "      <th>sal_x</th>\n",
        "      <th>report_x</th>\n",
        "      <th>name_y</th>\n",
        "      <th>Job_y</th>\n",
        "      <th>sal_y</th>\n",
        "      <th>report_y</th>\n",
        "    </tr>\n",
        "    <tr>\n",
        "      <th>index1</th>\n",
        "      <th></th>\n",
        "      <th></th>\n",
        "      <th></th>\n",
        "      <th></th>\n",
        "      <th></th>\n",
        "      <th></th>\n",
        "      <th></th>\n",
        "      <th></th>\n",
        "    </tr>\n",
        "  </thead>\n",
        "  <tbody>\n",
        "    <tr>\n",
        "      <th>0</th>\n",
        "      <td>Wang</td>\n",
        "      <td>VP</td>\n",
        "      <td>50000.0</td>\n",
        "      <td>NaN</td>\n",
        "      <td>Wang</td>\n",
        "      <td>VP</td>\n",
        "      <td>50000.0</td>\n",
        "      <td>NaN</td>\n",
        "    </tr>\n",
        "    <tr>\n",
        "      <th>1</th>\n",
        "      <td>Shen</td>\n",
        "      <td>Mnger</td>\n",
        "      <td>NaN</td>\n",
        "      <td>VP</td>\n",
        "      <td>Shen</td>\n",
        "      <td>Mnger</td>\n",
        "      <td>NaN</td>\n",
        "      <td>VP</td>\n",
        "    </tr>\n",
        "    <tr>\n",
        "      <th>2</th>\n",
        "      <td>Li</td>\n",
        "      <td>NaN</td>\n",
        "      <td>5000.0</td>\n",
        "      <td>IT</td>\n",
        "      <td>Li</td>\n",
        "      <td>NaN</td>\n",
        "      <td>5000.0</td>\n",
        "      <td>IT</td>\n",
        "    </tr>\n",
        "  </tbody>\n",
        "</table>\n",
        "</div>"
       ],
       "metadata": {},
       "output_type": "pyout",
       "prompt_number": 9,
       "text": [
        "       name_x  Job_x    sal_x report_x name_y  Job_y    sal_y report_y\n",
        "index1                                                                \n",
        "0        Wang     VP  50000.0      NaN   Wang     VP  50000.0      NaN\n",
        "1        Shen  Mnger      NaN       VP   Shen  Mnger      NaN       VP\n",
        "2          Li    NaN   5000.0       IT     Li    NaN   5000.0       IT"
       ]
      }
     ],
     "prompt_number": 9
    },
    {
     "cell_type": "markdown",
     "metadata": {},
     "source": [
      "** Tips:\u589e\u52a0HOW\u5173\u952e\u5b57\uff0c\u5e76\u6307\u5b9a\n",
      "    \n",
      "* how = 'inner'\n",
      "* how = 'left'\n",
      "* how = 'right'\n",
      "* how = 'outer'\n",
      "\n",
      "\u7ed3\u5408How\uff0c\u53ef\u4ee5\u770b\u5230merge\u57fa\u672c\u518d\u73b0SQL\u5e94\u6709\u7684\u529f\u80fd\uff0c\u5e76\u4fdd\u6301\u4ee3\u7801\u6574\u6d01"
     ]
    },
    {
     "cell_type": "markdown",
     "metadata": {},
     "source": [
      "# 3.2\u81ea\u5b9a\u4e49\u51fd\u6570\u6620\u5c04"
     ]
    },
    {
     "cell_type": "code",
     "collapsed": false,
     "input": [
      "dataNumpy32 = np.asarray([('Japan', 'Tokyo',4000),('S.Korea','Seoul',1900),('China','Beijing',9100)])\n",
      "DF32 = pd.DataFrame(dataNumpy32,columns=['nation','capital','GDP'])\n",
      "DF32"
     ],
     "language": "python",
     "metadata": {},
     "outputs": [
      {
       "html": [
        "<div style=\"max-width:1500px;overflow:auto;\">\n",
        "<table border=\"1\" class=\"dataframe\">\n",
        "  <thead>\n",
        "    <tr style=\"text-align: right;\">\n",
        "      <th></th>\n",
        "      <th>nation</th>\n",
        "      <th>capital</th>\n",
        "      <th>GDP</th>\n",
        "    </tr>\n",
        "  </thead>\n",
        "  <tbody>\n",
        "    <tr>\n",
        "      <th>0</th>\n",
        "      <td>Japan</td>\n",
        "      <td>Tokyo</td>\n",
        "      <td>4000</td>\n",
        "    </tr>\n",
        "    <tr>\n",
        "      <th>1</th>\n",
        "      <td>S.Korea</td>\n",
        "      <td>Seoul</td>\n",
        "      <td>1900</td>\n",
        "    </tr>\n",
        "    <tr>\n",
        "      <th>2</th>\n",
        "      <td>China</td>\n",
        "      <td>Beijing</td>\n",
        "      <td>9100</td>\n",
        "    </tr>\n",
        "  </tbody>\n",
        "</table>\n",
        "</div>"
       ],
       "metadata": {},
       "output_type": "pyout",
       "prompt_number": 10,
       "text": [
        "    nation  capital   GDP\n",
        "0    Japan    Tokyo  4000\n",
        "1  S.Korea    Seoul  1900\n",
        "2    China  Beijing  9100"
       ]
      }
     ],
     "prompt_number": 10
    },
    {
     "cell_type": "markdown",
     "metadata": {},
     "source": [
      "** map:** \u4ee5\u76f8\u540c\u89c4\u5219\u5c06\u4e00\u5217\u6570\u636e\u4f5c\u4e3a\u4e00\u4e2a\u6620\u5c04\uff0c\u4e5f\u5c31\u662f\u8fdb\u884c\u76f8\u540c\u51fd\u6570\u7684\u5904\u7406"
     ]
    },
    {
     "cell_type": "code",
     "collapsed": false,
     "input": [
      "def GDP_Factorize(v):\n",
      "    fv = np.float64(v)\n",
      "    if fv > 6000.0:\n",
      "        return 'H'\n",
      "    elif fv < 2000.0:\n",
      "        return 'L'\n",
      "    else:\n",
      "        return 'M'"
     ],
     "language": "python",
     "metadata": {},
     "outputs": [],
     "prompt_number": 11
    },
    {
     "cell_type": "code",
     "collapsed": false,
     "input": [
      "DF32['GDP_Level'] = DF32['GDP'].map(GDP_Factorize)"
     ],
     "language": "python",
     "metadata": {},
     "outputs": [],
     "prompt_number": 12
    },
    {
     "cell_type": "code",
     "collapsed": false,
     "input": [
      "DF32['NATION'] = DF32['nation'].map(str.upper)"
     ],
     "language": "python",
     "metadata": {},
     "outputs": [],
     "prompt_number": 13
    },
    {
     "cell_type": "code",
     "collapsed": false,
     "input": [
      "DF32"
     ],
     "language": "python",
     "metadata": {},
     "outputs": [
      {
       "html": [
        "<div style=\"max-width:1500px;overflow:auto;\">\n",
        "<table border=\"1\" class=\"dataframe\">\n",
        "  <thead>\n",
        "    <tr style=\"text-align: right;\">\n",
        "      <th></th>\n",
        "      <th>nation</th>\n",
        "      <th>capital</th>\n",
        "      <th>GDP</th>\n",
        "      <th>GDP_Level</th>\n",
        "      <th>NATION</th>\n",
        "    </tr>\n",
        "  </thead>\n",
        "  <tbody>\n",
        "    <tr>\n",
        "      <th>0</th>\n",
        "      <td>Japan</td>\n",
        "      <td>Tokyo</td>\n",
        "      <td>4000</td>\n",
        "      <td>M</td>\n",
        "      <td>JAPAN</td>\n",
        "    </tr>\n",
        "    <tr>\n",
        "      <th>1</th>\n",
        "      <td>S.Korea</td>\n",
        "      <td>Seoul</td>\n",
        "      <td>1900</td>\n",
        "      <td>L</td>\n",
        "      <td>S.KOREA</td>\n",
        "    </tr>\n",
        "    <tr>\n",
        "      <th>2</th>\n",
        "      <td>China</td>\n",
        "      <td>Beijing</td>\n",
        "      <td>9100</td>\n",
        "      <td>H</td>\n",
        "      <td>CHINA</td>\n",
        "    </tr>\n",
        "  </tbody>\n",
        "</table>\n",
        "</div>"
       ],
       "metadata": {},
       "output_type": "pyout",
       "prompt_number": 14,
       "text": [
        "    nation  capital   GDP GDP_Level   NATION\n",
        "0    Japan    Tokyo  4000         M    JAPAN\n",
        "1  S.Korea    Seoul  1900         L  S.KOREA\n",
        "2    China  Beijing  9100         H    CHINA"
       ]
      }
     ],
     "prompt_number": 14
    },
    {
     "cell_type": "markdown",
     "metadata": {},
     "source": [
      "## 3.3 \u6392\u5e8f\n",
      "\n",
      "* sort: \u6309\u4e00\u5217\u6216\u591a\u5217\u503c\u8fdb\u884c\u884c\u7ea7\u6392\u5e8f\n",
      "* sort_index: \u6839\u636eindex\u91cc\u7684\u53d6\u503c\u8fdb\u884c\u6392\u5e8f\uff0c\u800c\u4e14\u53ef\u4ee5\u6839\u636eaxis\u51b3\u5b9a\u662f\u91cd\u6392\u884c\u8fd8\u662f\u91cd\u6392\u5217"
     ]
    },
    {
     "cell_type": "code",
     "collapsed": false,
     "input": [
      "dataNumpy33 = np.asarray"
     ],
     "language": "python",
     "metadata": {},
     "outputs": [],
     "prompt_number": 15
    },
    {
     "cell_type": "code",
     "collapsed": false,
     "input": [
      "dataNumPy33 = np.asarray([('Japan','Tokyo',4000),('S.Korea','Seoul',1300),('China','Beijing',9100)])\n",
      "DF33 = pd.DataFrame(dataNumPy33,columns=['nation','capital','GDP'])\n",
      "DF33"
     ],
     "language": "python",
     "metadata": {},
     "outputs": [
      {
       "html": [
        "<div style=\"max-width:1500px;overflow:auto;\">\n",
        "<table border=\"1\" class=\"dataframe\">\n",
        "  <thead>\n",
        "    <tr style=\"text-align: right;\">\n",
        "      <th></th>\n",
        "      <th>nation</th>\n",
        "      <th>capital</th>\n",
        "      <th>GDP</th>\n",
        "    </tr>\n",
        "  </thead>\n",
        "  <tbody>\n",
        "    <tr>\n",
        "      <th>0</th>\n",
        "      <td>Japan</td>\n",
        "      <td>Tokyo</td>\n",
        "      <td>4000</td>\n",
        "    </tr>\n",
        "    <tr>\n",
        "      <th>1</th>\n",
        "      <td>S.Korea</td>\n",
        "      <td>Seoul</td>\n",
        "      <td>1300</td>\n",
        "    </tr>\n",
        "    <tr>\n",
        "      <th>2</th>\n",
        "      <td>China</td>\n",
        "      <td>Beijing</td>\n",
        "      <td>9100</td>\n",
        "    </tr>\n",
        "  </tbody>\n",
        "</table>\n",
        "</div>"
       ],
       "metadata": {},
       "output_type": "pyout",
       "prompt_number": 16,
       "text": [
        "    nation  capital   GDP\n",
        "0    Japan    Tokyo  4000\n",
        "1  S.Korea    Seoul  1300\n",
        "2    China  Beijing  9100"
       ]
      }
     ],
     "prompt_number": 16
    },
    {
     "cell_type": "code",
     "collapsed": false,
     "input": [
      "DF33.sort('GDP')"
     ],
     "language": "python",
     "metadata": {},
     "outputs": [
      {
       "output_type": "stream",
       "stream": "stderr",
       "text": [
        "-c:1: FutureWarning: sort(columns=....) is deprecated, use sort_values(by=.....)\n"
       ]
      },
      {
       "html": [
        "<div style=\"max-width:1500px;overflow:auto;\">\n",
        "<table border=\"1\" class=\"dataframe\">\n",
        "  <thead>\n",
        "    <tr style=\"text-align: right;\">\n",
        "      <th></th>\n",
        "      <th>nation</th>\n",
        "      <th>capital</th>\n",
        "      <th>GDP</th>\n",
        "    </tr>\n",
        "  </thead>\n",
        "  <tbody>\n",
        "    <tr>\n",
        "      <th>1</th>\n",
        "      <td>S.Korea</td>\n",
        "      <td>Seoul</td>\n",
        "      <td>1300</td>\n",
        "    </tr>\n",
        "    <tr>\n",
        "      <th>0</th>\n",
        "      <td>Japan</td>\n",
        "      <td>Tokyo</td>\n",
        "      <td>4000</td>\n",
        "    </tr>\n",
        "    <tr>\n",
        "      <th>2</th>\n",
        "      <td>China</td>\n",
        "      <td>Beijing</td>\n",
        "      <td>9100</td>\n",
        "    </tr>\n",
        "  </tbody>\n",
        "</table>\n",
        "</div>"
       ],
       "metadata": {},
       "output_type": "pyout",
       "prompt_number": 17,
       "text": [
        "    nation  capital   GDP\n",
        "1  S.Korea    Seoul  1300\n",
        "0    Japan    Tokyo  4000\n",
        "2    China  Beijing  9100"
       ]
      }
     ],
     "prompt_number": 17
    },
    {
     "cell_type": "code",
     "collapsed": false,
     "input": [
      "DF33.sort(['capital', 'nation'], ascending = False)"
     ],
     "language": "python",
     "metadata": {},
     "outputs": [
      {
       "html": [
        "<div style=\"max-width:1500px;overflow:auto;\">\n",
        "<table border=\"1\" class=\"dataframe\">\n",
        "  <thead>\n",
        "    <tr style=\"text-align: right;\">\n",
        "      <th></th>\n",
        "      <th>nation</th>\n",
        "      <th>capital</th>\n",
        "      <th>GDP</th>\n",
        "    </tr>\n",
        "  </thead>\n",
        "  <tbody>\n",
        "    <tr>\n",
        "      <th>0</th>\n",
        "      <td>Japan</td>\n",
        "      <td>Tokyo</td>\n",
        "      <td>4000</td>\n",
        "    </tr>\n",
        "    <tr>\n",
        "      <th>1</th>\n",
        "      <td>S.Korea</td>\n",
        "      <td>Seoul</td>\n",
        "      <td>1300</td>\n",
        "    </tr>\n",
        "    <tr>\n",
        "      <th>2</th>\n",
        "      <td>China</td>\n",
        "      <td>Beijing</td>\n",
        "      <td>9100</td>\n",
        "    </tr>\n",
        "  </tbody>\n",
        "</table>\n",
        "</div>"
       ],
       "metadata": {},
       "output_type": "pyout",
       "prompt_number": 18,
       "text": [
        "    nation  capital   GDP\n",
        "0    Japan    Tokyo  4000\n",
        "1  S.Korea    Seoul  1300\n",
        "2    China  Beijing  9100"
       ]
      }
     ],
     "prompt_number": 18
    },
    {
     "cell_type": "code",
     "collapsed": false,
     "input": [
      "DF33.sort('GDP',ascending=False)"
     ],
     "language": "python",
     "metadata": {},
     "outputs": [
      {
       "html": [
        "<div style=\"max-width:1500px;overflow:auto;\">\n",
        "<table border=\"1\" class=\"dataframe\">\n",
        "  <thead>\n",
        "    <tr style=\"text-align: right;\">\n",
        "      <th></th>\n",
        "      <th>nation</th>\n",
        "      <th>capital</th>\n",
        "      <th>GDP</th>\n",
        "    </tr>\n",
        "  </thead>\n",
        "  <tbody>\n",
        "    <tr>\n",
        "      <th>2</th>\n",
        "      <td>China</td>\n",
        "      <td>Beijing</td>\n",
        "      <td>9100</td>\n",
        "    </tr>\n",
        "    <tr>\n",
        "      <th>0</th>\n",
        "      <td>Japan</td>\n",
        "      <td>Tokyo</td>\n",
        "      <td>4000</td>\n",
        "    </tr>\n",
        "    <tr>\n",
        "      <th>1</th>\n",
        "      <td>S.Korea</td>\n",
        "      <td>Seoul</td>\n",
        "      <td>1300</td>\n",
        "    </tr>\n",
        "  </tbody>\n",
        "</table>\n",
        "</div>"
       ],
       "metadata": {},
       "output_type": "pyout",
       "prompt_number": 19,
       "text": [
        "    nation  capital   GDP\n",
        "2    China  Beijing  9100\n",
        "0    Japan    Tokyo  4000\n",
        "1  S.Korea    Seoul  1300"
       ]
      }
     ],
     "prompt_number": 19
    },
    {
     "cell_type": "code",
     "collapsed": false,
     "input": [
      "DF33.sort_index(axis = 1,ascending=True)"
     ],
     "language": "python",
     "metadata": {},
     "outputs": [
      {
       "html": [
        "<div style=\"max-width:1500px;overflow:auto;\">\n",
        "<table border=\"1\" class=\"dataframe\">\n",
        "  <thead>\n",
        "    <tr style=\"text-align: right;\">\n",
        "      <th></th>\n",
        "      <th>GDP</th>\n",
        "      <th>capital</th>\n",
        "      <th>nation</th>\n",
        "    </tr>\n",
        "  </thead>\n",
        "  <tbody>\n",
        "    <tr>\n",
        "      <th>0</th>\n",
        "      <td>4000</td>\n",
        "      <td>Tokyo</td>\n",
        "      <td>Japan</td>\n",
        "    </tr>\n",
        "    <tr>\n",
        "      <th>1</th>\n",
        "      <td>1300</td>\n",
        "      <td>Seoul</td>\n",
        "      <td>S.Korea</td>\n",
        "    </tr>\n",
        "    <tr>\n",
        "      <th>2</th>\n",
        "      <td>9100</td>\n",
        "      <td>Beijing</td>\n",
        "      <td>China</td>\n",
        "    </tr>\n",
        "  </tbody>\n",
        "</table>\n",
        "</div>"
       ],
       "metadata": {},
       "output_type": "pyout",
       "prompt_number": 20,
       "text": [
        "    GDP  capital   nation\n",
        "0  4000    Tokyo    Japan\n",
        "1  1300    Seoul  S.Korea\n",
        "2  9100  Beijing    China"
       ]
      }
     ],
     "prompt_number": 20
    },
    {
     "cell_type": "markdown",
     "metadata": {},
     "source": [
      "\u4e00\u4e2a\u597d\u7528\u7684\u529f\u80fd: Rank"
     ]
    },
    {
     "cell_type": "code",
     "collapsed": false,
     "input": [
      "DF33.rank()"
     ],
     "language": "python",
     "metadata": {},
     "outputs": [
      {
       "html": [
        "<div style=\"max-width:1500px;overflow:auto;\">\n",
        "<table border=\"1\" class=\"dataframe\">\n",
        "  <thead>\n",
        "    <tr style=\"text-align: right;\">\n",
        "      <th></th>\n",
        "      <th>nation</th>\n",
        "      <th>capital</th>\n",
        "      <th>GDP</th>\n",
        "    </tr>\n",
        "  </thead>\n",
        "  <tbody>\n",
        "    <tr>\n",
        "      <th>0</th>\n",
        "      <td>2.0</td>\n",
        "      <td>3.0</td>\n",
        "      <td>2.0</td>\n",
        "    </tr>\n",
        "    <tr>\n",
        "      <th>1</th>\n",
        "      <td>3.0</td>\n",
        "      <td>2.0</td>\n",
        "      <td>1.0</td>\n",
        "    </tr>\n",
        "    <tr>\n",
        "      <th>2</th>\n",
        "      <td>1.0</td>\n",
        "      <td>1.0</td>\n",
        "      <td>3.0</td>\n",
        "    </tr>\n",
        "  </tbody>\n",
        "</table>\n",
        "</div>"
       ],
       "metadata": {},
       "output_type": "pyout",
       "prompt_number": 21,
       "text": [
        "   nation  capital  GDP\n",
        "0     2.0      3.0  2.0\n",
        "1     3.0      2.0  1.0\n",
        "2     1.0      1.0  3.0"
       ]
      }
     ],
     "prompt_number": 21
    },
    {
     "cell_type": "code",
     "collapsed": false,
     "input": [
      "DF33.rank(ascending=False)"
     ],
     "language": "python",
     "metadata": {},
     "outputs": [
      {
       "html": [
        "<div style=\"max-width:1500px;overflow:auto;\">\n",
        "<table border=\"1\" class=\"dataframe\">\n",
        "  <thead>\n",
        "    <tr style=\"text-align: right;\">\n",
        "      <th></th>\n",
        "      <th>nation</th>\n",
        "      <th>capital</th>\n",
        "      <th>GDP</th>\n",
        "    </tr>\n",
        "  </thead>\n",
        "  <tbody>\n",
        "    <tr>\n",
        "      <th>0</th>\n",
        "      <td>2.0</td>\n",
        "      <td>1.0</td>\n",
        "      <td>2.0</td>\n",
        "    </tr>\n",
        "    <tr>\n",
        "      <th>1</th>\n",
        "      <td>1.0</td>\n",
        "      <td>2.0</td>\n",
        "      <td>3.0</td>\n",
        "    </tr>\n",
        "    <tr>\n",
        "      <th>2</th>\n",
        "      <td>3.0</td>\n",
        "      <td>3.0</td>\n",
        "      <td>1.0</td>\n",
        "    </tr>\n",
        "  </tbody>\n",
        "</table>\n",
        "</div>"
       ],
       "metadata": {},
       "output_type": "pyout",
       "prompt_number": 22,
       "text": [
        "   nation  capital  GDP\n",
        "0     2.0      1.0  2.0\n",
        "1     1.0      2.0  3.0\n",
        "2     3.0      3.0  1.0"
       ]
      }
     ],
     "prompt_number": 22
    },
    {
     "cell_type": "markdown",
     "metadata": {},
     "source": [
      "\u6ce8\u610f ** tied data(\u76f8\u540c\u503c)\u7684\u5904\u7406**\n",
      "\n",
      "* method = 'average'\n",
      "* method = 'min'\n",
      "* method = 'max'\n",
      "* method = 'first'"
     ]
    },
    {
     "cell_type": "markdown",
     "metadata": {},
     "source": [
      "## 3.4 \u7f3a\u5931\u6570\u636e\u5904\u7406\n"
     ]
    },
    {
     "cell_type": "code",
     "collapsed": false,
     "input": [
      "# >>>"
     ],
     "language": "python",
     "metadata": {},
     "outputs": [],
     "prompt_number": 23
    },
    {
     "cell_type": "code",
     "collapsed": false,
     "input": [],
     "language": "python",
     "metadata": {},
     "outputs": [],
     "prompt_number": 23
    }
   ],
   "metadata": {}
  }
 ]
}
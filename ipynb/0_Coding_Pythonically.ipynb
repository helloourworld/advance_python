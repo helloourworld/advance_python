{
 "metadata": {
  "name": "",
  "signature": "sha256:b93164b9275ccae34ee8adb886b72edc472fc7aa573ea18f4fb3f87cf613936a"
 },
 "nbformat": 3,
 "nbformat_minor": 0,
 "worksheets": [
  {
   "cells": [
    {
     "cell_type": "code",
     "collapsed": false,
     "input": [
      "Lord_of_ring = ['Ainur','Dragons','Dwarves','Elves','Ents','Hobbits','Men','Orcs']\n",
      "\n",
      "for idx,element in enumerate(Lord_of_ring):\n",
      "    Lord_of_ring[idx] =\"{0}:{1}\".format(idx,element)\n",
      "\n",
      "print Lord_of_ring"
     ],
     "language": "python",
     "metadata": {},
     "outputs": [
      {
       "output_type": "stream",
       "stream": "stdout",
       "text": [
        "['0:Ainur', '1:Dragons', '2:Dwarves', '3:Elves', '4:Ents', '5:Hobbits', '6:Men', '7:Orcs']\n"
       ]
      }
     ],
     "prompt_number": 1
    },
    {
     "cell_type": "code",
     "collapsed": false,
     "input": [
      "print type(Lord_of_ring)"
     ],
     "language": "python",
     "metadata": {},
     "outputs": [
      {
       "output_type": "stream",
       "stream": "stdout",
       "text": [
        "<type 'list'>\n"
       ]
      }
     ],
     "prompt_number": 2
    },
    {
     "cell_type": "code",
     "collapsed": false,
     "input": [
      "Lord_of_ring_dict = {idx: element for idx,element in enumerate(Lord_of_ring)}"
     ],
     "language": "python",
     "metadata": {},
     "outputs": [],
     "prompt_number": 3
    },
    {
     "cell_type": "code",
     "collapsed": false,
     "input": [
      "print Lord_of_ring_dict"
     ],
     "language": "python",
     "metadata": {},
     "outputs": [
      {
       "output_type": "stream",
       "stream": "stdout",
       "text": [
        "{0: '0:Ainur', 1: '1:Dragons', 2: '2:Dwarves', 3: '3:Elves', 4: '4:Ents', 5: '5:Hobbits', 6: '6:Men', 7: '7:Orcs'}\n"
       ]
      }
     ],
     "prompt_number": 4
    },
    {
     "cell_type": "code",
     "collapsed": false,
     "input": [
      "test =['Ainur','Dragons','Dwarves','Elves','Ents','Hobbits','Men','Orcs']\n",
      "\n",
      "def _trans(idx,element):\n",
      "    return '{0}:{1}'.format(idx,element)\n",
      "print [_trans(idx,element) for idx,element in enumerate(test)]\n",
      "\n",
      "print ['{0}:{1}'.format(idx,element) for idx,element in enumerate(test) ]"
     ],
     "language": "python",
     "metadata": {},
     "outputs": [
      {
       "output_type": "stream",
       "stream": "stdout",
       "text": [
        "['0:Ainur', '1:Dragons', '2:Dwarves', '3:Elves', '4:Ents', '5:Hobbits', '6:Men', '7:Orcs']\n",
        "['0:Ainur', '1:Dragons', '2:Dwarves', '3:Elves', '4:Ents', '5:Hobbits', '6:Men', '7:Orcs']\n"
       ]
      }
     ],
     "prompt_number": 5
    },
    {
     "cell_type": "code",
     "collapsed": false,
     "input": [
      "import collections\n",
      "\n",
      "print isinstance(\"H\", collections.Iterable)\n",
      "print isinstance(test, collections.Iterable)"
     ],
     "language": "python",
     "metadata": {},
     "outputs": [
      {
       "output_type": "stream",
       "stream": "stdout",
       "text": [
        "True\n",
        "True\n"
       ]
      }
     ],
     "prompt_number": 6
    },
    {
     "cell_type": "code",
     "collapsed": false,
     "input": [
      "language={\"Scala\":\"Martin Odersky\",\\\n",
      "          \"Clojure\":\"Richy Hickey\",\\\n",
      "          \"C\":\"Dennis Ritchie\",\\\n",
      "          \"Standard ML\":\"Robin Milner\"}\n",
      "\n",
      "['{0:<15} created by {1:<15}'.format(la,ua) for la,ua in language.iteritems()]"
     ],
     "language": "python",
     "metadata": {},
     "outputs": [
      {
       "metadata": {},
       "output_type": "pyout",
       "prompt_number": 7,
       "text": [
        "['Standard ML     created by Robin Milner   ',\n",
        " 'C               created by Dennis Ritchie ',\n",
        " 'Clojure         created by Richy Hickey   ',\n",
        " 'Scala           created by Martin Odersky ']"
       ]
      }
     ],
     "prompt_number": 7
    },
    {
     "cell_type": "code",
     "collapsed": false,
     "input": [
      "# \u591a\u91cd\u89e3\u6790\n",
      "print [(x+1,y+1) for x in xrange(4) for y in xrange(4)]\n",
      "print [(x+1,y+1) for x in xrange(4) for y in xrange(4) if y<x]\n",
      "print [(x+1,y+1) for x in xrange(4) for y in xrange(x)]"
     ],
     "language": "python",
     "metadata": {},
     "outputs": [
      {
       "output_type": "stream",
       "stream": "stdout",
       "text": [
        "[(1, 1), (1, 2), (1, 3), (1, 4), (2, 1), (2, 2), (2, 3), (2, 4), (3, 1), (3, 2), (3, 3), (3, 4), (4, 1), (4, 2), (4, 3), (4, 4)]\n",
        "[(2, 1), (3, 1), (3, 2), (4, 1), (4, 2), (4, 3)]\n",
        "[(2, 1), (3, 1), (3, 2), (4, 1), (4, 2), (4, 3)]\n"
       ]
      }
     ],
     "prompt_number": 8
    },
    {
     "cell_type": "code",
     "collapsed": false,
     "input": [
      "# \u4f7f\u7528\u5c0f\u62ec\u53f7\u505aComprehension\u8fd4\u56de\u751f\u6210\u5668\u5bf9\u8c61\uff0c\u5360\u7528O(1)\u5185\u5b58\u7a7a\u95f4\n",
      "num = range(1,20)\n",
      "simple_generator = (x ** 2 for x in num if x > 0)\n",
      "print simple_generator"
     ],
     "language": "python",
     "metadata": {},
     "outputs": [
      {
       "output_type": "stream",
       "stream": "stdout",
       "text": [
        "<generator object <genexpr> at 0x0000000003DF4EA0>\n"
       ]
      }
     ],
     "prompt_number": 9
    },
    {
     "cell_type": "code",
     "collapsed": false,
     "input": [
      "for e in simple_generator:\n",
      "    print e,"
     ],
     "language": "python",
     "metadata": {},
     "outputs": [
      {
       "output_type": "stream",
       "stream": "stdout",
       "text": [
        "1 4 9 16 25 36 49 64 81 100 121 144 169 196 225 256 289 324 361\n"
       ]
      }
     ],
     "prompt_number": 10
    },
    {
     "cell_type": "code",
     "collapsed": false,
     "input": [
      "# \u4f7f\u7528\u5c0f\u62ec\u53f7\u89e3\u6790\u5e76\u4e0d\u4f1a\u8fd4\u56de\u4e00\u4e2a\u4e0d\u53ef\u53d8\u5143\u7ec4\u800c\u662f\u751f\u6210\u5668\uff0c\u662f\u4e00\u4e2a\u9700\u8981\u5f3a\u8bb0\u7684\u89c4\u5219\uff1b\u7136\u800c\u5927\u62ec\u53f7\u89e3\u6790\u5f0f\u5c31\u666e\u901a\u4e86\u8bb8\u591a\u3002\n",
      "x = range(10)\n",
      "\n",
      "print { i for i in x if i%2==0 }\n",
      "print { idx:i**2 for idx,i in enumerate(x) if i%2==0 }"
     ],
     "language": "python",
     "metadata": {},
     "outputs": [
      {
       "output_type": "stream",
       "stream": "stdout",
       "text": [
        "set([0, 8, 2, 4, 6])\n",
        "{0: 0, 8: 64, 2: 4, 4: 16, 6: 36}\n"
       ]
      }
     ],
     "prompt_number": 11
    },
    {
     "cell_type": "code",
     "collapsed": false,
     "input": [
      "#\u82b1\u6837\u4f20\u53c2\uff1azip\u4e0e\u661f\u53f7\u64cd\u4f5c\n"
     ],
     "language": "python",
     "metadata": {},
     "outputs": [],
     "prompt_number": 12
    },
    {
     "cell_type": "code",
     "collapsed": false,
     "input": [
      "# zip: \u62c9\u94fe\u51fd\u6570\n",
      "# *: \u7ecf\u5e38\u548czip\u5728\u4e00\u8d77\uff0c\u7528\u4e8e\u4f20\u9012\u53c2\u6570\u3002\n",
      "# **: \u7528\u4e8e\u4f20\u9012\u5173\u952e\u5b57\u578b\u53c2\u6570"
     ],
     "language": "python",
     "metadata": {},
     "outputs": [],
     "prompt_number": 13
    },
    {
     "cell_type": "code",
     "collapsed": false,
     "input": [
      "# enumerate: \u8fd4\u56de\u751f\u6210\u5668\uff0c\u751f\u6210\u5668\u6bcf\u6b21\u7ed9\u51fa\u4e0b\u6807\u548cIterable\u7684\u5185\u5bb9\n",
      "# sorted: \u8fd4\u56de\u5217\u8868\uff0c\u53ef\u4ee5\u8fdb\u884c\u6392\u5e8f\n",
      "# zip: \u628a\u591a\u4e2a\u957f\u5ea6\u76f8\u540c\u7684\u5217\u8868\u5f53\u6210\u6570\u636e\u5217\u7ec4\u6210\u7684\u6570\u636e\u8868\uff0c\u8fd4\u56de\u4e00\u4e2a\u5305\u542b\u7740\u5143\u7ec4\u7684\u5217\u8868\uff0c\u6bcf\u4e2a\u5143\u7ec4\u662f\u6570\u636e\u8868\u4e2d\u7684\u4e00\u884c"
     ],
     "language": "python",
     "metadata": {},
     "outputs": [],
     "prompt_number": 14
    },
    {
     "cell_type": "code",
     "collapsed": false,
     "input": [
      "war3_char = ['Orc','Humans','Undead','Night Elves']\n",
      "dota_hero = ['Blade Master','Archmage','Death King','Demon Hunter']\n",
      "Your_choice=zip(war3_char,dota_hero)\n",
      "print Your_choice"
     ],
     "language": "python",
     "metadata": {},
     "outputs": [
      {
       "output_type": "stream",
       "stream": "stdout",
       "text": [
        "[('Orc', 'Blade Master'), ('Humans', 'Archmage'), ('Undead', 'Death King'), ('Night Elves', 'Demon Hunter')]\n"
       ]
      }
     ],
     "prompt_number": 15
    },
    {
     "cell_type": "code",
     "collapsed": false,
     "input": [
      "# \u53d6\u56de\u539f\u6765\u7684\u5217\u8868\uff1a\n",
      "choice1,choice2,choice3,choice4 = Your_choice\n",
      "print zip(choice1,choice2,choice3,choice4)"
     ],
     "language": "python",
     "metadata": {},
     "outputs": [
      {
       "output_type": "stream",
       "stream": "stdout",
       "text": [
        "[('Orc', 'Humans', 'Undead', 'Night Elves'), ('Blade Master', 'Archmage', 'Death King', 'Demon Hunter')]\n"
       ]
      }
     ],
     "prompt_number": 16
    },
    {
     "cell_type": "code",
     "collapsed": false,
     "input": [
      "# \u7528*\u628aYour_choice\u7684\u5185\u5bb9\u800c\u4e0d\u662f\u5b83\u672c\u8eab\u4f5c\u4e3a\u53c2\u6570\u4f20\u9012\n",
      "print zip(*Your_choice)\n",
      "# * \u544a\u8bc9Python\u5373\u5c06\u4f20\u5165\u7684\u53c2\u6570Your_choice\u4e0d\u662f\u5355\u72ec\u4e00\u4e2a\u5e8f\u5217\uff0c\u800c\u662f\u628aYour_choice\u4e2d\u7684\u6bcf\u4e00\u9879\u4f5c\u4e3a\u53c2\u6570"
     ],
     "language": "python",
     "metadata": {},
     "outputs": [
      {
       "output_type": "stream",
       "stream": "stdout",
       "text": [
        "[('Orc', 'Humans', 'Undead', 'Night Elves'), ('Blade Master', 'Archmage', 'Death King', 'Demon Hunter')]\n"
       ]
      }
     ],
     "prompt_number": 17
    },
    {
     "cell_type": "code",
     "collapsed": false,
     "input": [
      "Base_Damage={'Blade Master':48,'Death King':65,'Tauren Chieftain':51}"
     ],
     "language": "python",
     "metadata": {},
     "outputs": [],
     "prompt_number": 18
    },
    {
     "cell_type": "code",
     "collapsed": false,
     "input": [
      "max_Damage = max(zip(Base_Damage.itervalues(), Base_Damage.iterkeys()))\n",
      "print max_Damage"
     ],
     "language": "python",
     "metadata": {},
     "outputs": [
      {
       "output_type": "stream",
       "stream": "stdout",
       "text": [
        "(65, 'Death King')\n"
       ]
      }
     ],
     "prompt_number": 19
    },
    {
     "cell_type": "code",
     "collapsed": false,
     "input": [
      "min_Damage = min(zip(Base_Damage.iterkeys(), Base_Damage.itervalues()))\n",
      "print min_Damage"
     ],
     "language": "python",
     "metadata": {},
     "outputs": [
      {
       "output_type": "stream",
       "stream": "stdout",
       "text": [
        "('Blade Master', 48)\n"
       ]
      }
     ],
     "prompt_number": 20
    },
    {
     "cell_type": "code",
     "collapsed": false,
     "input": [
      "\n",
      "# \u82b1\u6837\u4f20\u53c2\n",
      "\n",
      "def triplesum(a,b,c):\n",
      "    return a * 100 + b * 10 + c\n",
      "\n",
      "print triplesum(1,2,3)"
     ],
     "language": "python",
     "metadata": {},
     "outputs": [
      {
       "output_type": "stream",
       "stream": "stdout",
       "text": [
        "123\n"
       ]
      }
     ],
     "prompt_number": 21
    },
    {
     "cell_type": "code",
     "collapsed": false,
     "input": [
      "# \u5e26\u9ed8\u8ba4\u503c\u7684\u53c2\u6570\u53ebkeyword arguments(kargs):\n",
      "\n",
      "def triplesum_default(a=0,b=0,c=1):\n",
      "    return a * 100 + b * 10 + c\n",
      "\n",
      "print triplesum_default(*[1,2,3])\n",
      "print triplesum_default(*[1,3])\n",
      "print triplesum_default(**{'b':2,'c':3,'a':1})\n",
      "print triplesum_default(**{'c':3,'a':1})"
     ],
     "language": "python",
     "metadata": {},
     "outputs": [
      {
       "output_type": "stream",
       "stream": "stdout",
       "text": [
        "123\n",
        "131\n",
        "123\n",
        "103\n"
       ]
      }
     ],
     "prompt_number": 22
    },
    {
     "cell_type": "code",
     "collapsed": false,
     "input": [
      "#\u6df1\u6d45\u62f7\u8d1d\uff1a\u5173\u7cfb\u5230\u53d8\u91cf\u7684\u6b63\u786e\u4fee\u6539\u4e0e\u590d\u5236\n",
      "#\u53d8\u91cf\u7684\u5c5e\u6027\uff1a\n",
      "#\u8eab\u4efd\uff1a\u5c31\u50cf\u8eab\u4efd\u8bc1\uff08\u6216\u8005\u5185\u5b58\u5730\u5740\uff09\u90a3\u6837\uff0cid()\n",
      "#\u5c5e\u6027\uff1a\u8868\u793a\u53d8\u91cf\u7684\u7c7b\u578b\uff0ctype()\u6216\u8005isInstance()\u786e\u8ba4\n",
      "#\u503c\uff1a\u8fd9\u4e2a\u5730\u5740\u5b58\u7684\u6570\u636e\uff0c\u901a\u8fc7\u4e0e\u540d\u5b57\u7ed1\u5b9a\u7684\u65b9\u6cd5\u6765\u8bfb\u53d6"
     ],
     "language": "python",
     "metadata": {},
     "outputs": [],
     "prompt_number": 23
    },
    {
     "cell_type": "code",
     "collapsed": false,
     "input": [
      "import math\n",
      "print math.log(10, 100)"
     ],
     "language": "python",
     "metadata": {},
     "outputs": [
      {
       "output_type": "stream",
       "stream": "stdout",
       "text": [
        "0.5\n"
       ]
      }
     ],
     "prompt_number": 24
    },
    {
     "cell_type": "code",
     "collapsed": false,
     "input": [
      "print math.log(100,math.e)"
     ],
     "language": "python",
     "metadata": {},
     "outputs": [
      {
       "output_type": "stream",
       "stream": "stdout",
       "text": [
        "4.60517018599\n"
       ]
      }
     ],
     "prompt_number": 25
    },
    {
     "cell_type": "code",
     "collapsed": false,
     "input": [
      "def ind(a, e):\n",
      "    return (a-e) * math.log((a*0.01/(e*0.01)),e)\n",
      "\n",
      "act = [19, 21,29]\n",
      "exp = [18, 30, 30]\n",
      "\n",
      "ainde = map(ind, act, exp)\n",
      "print ainde"
     ],
     "language": "python",
     "metadata": {},
     "outputs": [
      {
       "output_type": "stream",
       "stream": "stdout",
       "text": [
        "[0.018705974801535595, 0.943807175895166, 0.009967534333192314]\n"
       ]
      }
     ],
     "prompt_number": 26
    },
    {
     "cell_type": "code",
     "collapsed": false,
     "input": [],
     "language": "python",
     "metadata": {},
     "outputs": [],
     "prompt_number": 26
    }
   ],
   "metadata": {}
  }
 ]
}
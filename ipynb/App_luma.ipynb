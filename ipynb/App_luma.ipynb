{
 "metadata": {
  "name": "",
  "signature": "sha256:c56f1861371505b89c7f929be3c73e0222451661c7389d1b4df8b76228dbfeee"
 },
 "nbformat": 3,
 "nbformat_minor": 0,
 "worksheets": [
  {
   "cells": [
    {
     "cell_type": "code",
     "collapsed": false,
     "input": [
      "daysInSolarMonth=[31, 28, 31, 30, 31, 30, 31, 31, 30, 31, 30, 31]"
     ],
     "language": "python",
     "metadata": {},
     "outputs": [],
     "prompt_number": 5
    },
    {
     "cell_type": "code",
     "collapsed": false,
     "input": [
      "lunarMonthDays  = [29,30] # a short (long) lunar month has 29 (30) days */"
     ],
     "language": "python",
     "metadata": {},
     "outputs": [],
     "prompt_number": 6
    },
    {
     "cell_type": "code",
     "collapsed": false,
     "input": [
      "shengXiaoEn     = [\"Mouse\", \"Ox\", \"Tiger\", \"Rabbit\", \"Dragon\", \"Snake\",\n",
      "                   \"Horse\", \"Goat\", \"Monkey\", \"Rooster\", \"Dog\", \"Pig\"]"
     ],
     "language": "python",
     "metadata": {},
     "outputs": [],
     "prompt_number": 7
    },
    {
     "cell_type": "code",
     "collapsed": false,
     "input": [
      "shengXiaoGB     = [\"\u9f20\", \"\u725b\", \"\u864e\", \"\u5154\", \"\u9f99\", \"\u86c7\", \"\u9a6c\", \"\u7f8a\", \"\u7334\", \"\u9e21\",\n",
      "                   \"\u72d7\", \"\u732a\"]"
     ],
     "language": "python",
     "metadata": {},
     "outputs": [],
     "prompt_number": 8
    },
    {
     "cell_type": "code",
     "collapsed": false,
     "input": [
      "zhiGB           = [\"\u5b50\", \"\u4e11\", \"\u5bc5\", \"\u536f\", \"\u8fb0\", \"\u5df3\", \"\u5348\", \"\u672a\", \"\u7533\", \"\u9149\",\n",
      "                   \"\u620c\", \"\u4ea5\"]\n",
      "ganGB           = [\"\u7532\", \"\u4e59\", \"\u4e19\", \"\u4e01\", \"\u620a\", \"\u5df1\", \"\u5e9a\", \"\u8f9b\", \"\u58ec\", \"\u7678\"]\n"
     ],
     "language": "python",
     "metadata": {},
     "outputs": [],
     "prompt_number": 9
    },
    {
     "cell_type": "code",
     "collapsed": false,
     "input": [
      "monthEn         = ['January', 'February', 'March', 'April', 'May', 'June',\n",
      "                   'July', 'August', 'September', 'October', 'November',\n",
      "                   'December']\n",
      "weekdayEn       = [\"Monday\", \"Tuesday\", \"Wednesday\", \"Thursday\",\n",
      "                   \"Friday\", \"Saturday\", \"Sunday\"]"
     ],
     "language": "python",
     "metadata": {},
     "outputs": [],
     "prompt_number": 10
    },
    {
     "cell_type": "code",
     "collapsed": false,
     "input": [
      "weekdayGB       = [\"\u4e00\", \"\u4e8c\", \"\u4e09\", \"\u56db\", \"\u4e94\", \"\u516d\", \"\u65e5\"]\n",
      "numGB           = ['\u25cb', \"\u4e00\", \"\u4e8c\", \"\u4e09\", \"\u56db\", \"\u4e94\", \"\u516d\", \"\u4e03\", \"\u516b\", \"\u4e5d\",\n",
      "                   \"\u5341\"]\n",
      "lunarHoliday    = {'0_0':'\u6625\u8282', '4_4':'\u7aef\u5348', '7_14':'\u4e2d\u79cb', '8_8':'\u91cd\u9633',\n",
      "                   '0_14':'\u5143\u5bb5'}"
     ],
     "language": "python",
     "metadata": {},
     "outputs": [],
     "prompt_number": 11
    },
    {
     "cell_type": "code",
     "collapsed": false,
     "input": [
      "yearCode = [\n",
      "         0x04bd8, # 1900\n",
      "    0x04ae0, 0x0a570, 0x054d5, 0x0d260, 0x0d950, # 1905\n",
      "    0x16554, 0x056a0, 0x09ad0, 0x055d2, 0x04ae0, # 1910\n",
      "    0x0a5b6, 0x0a4d0, 0x0d250, 0x1d255, 0x0b540, # 1915\n",
      "    0x056a0, 0x0ada2, 0x095b0, 0x14977, 0x04970, # 1920\n",
      "    0x0a4b0, 0x0b4b5, 0x06a50, 0x06d40, 0x1ab54, # 1925\n",
      "    0x02b60, 0x09570, 0x052f2, 0x04970, 0x06566, # 1930\n",
      "    0x0d4a0, 0x0ea50, 0x06e95, 0x05ad0, 0x02b60, # 1935\n",
      "    0x186e3, 0x092e0, 0x1c8d7, 0x0c950, 0x0d4a0, # 1940\n",
      "    0x1d8a6, 0x0b550, 0x056a0, 0x1a5b4, 0x025d0, # 1945\n",
      "    0x092d0, 0x0d2b2, 0x0a950, 0x0b557, 0x06ca0, # 1950\n",
      "    0x0b550, 0x15355, 0x04da0, 0x0a5b0, 0x14573, # 1955\n",
      "    0x052b0, 0x0a9a8, 0x0e950, 0x06aa0, 0x0aea6, # 1960\n",
      "    0x0ab50, 0x04b60, 0x0aae4, 0x0a570, 0x05260, # 1965\n",
      "    0x0f263, 0x0d950, 0x05b57, 0x056a0, 0x096d0, # 1970\n",
      "    0x04dd5, 0x04ad0, 0x0a4d0, 0x0d4d4, 0x0d250, # 1975\n",
      "    0x0d558, 0x0b540, 0x0b6a0, 0x195a6, 0x095b0, # 1980\n",
      "    0x049b0, 0x0a974, 0x0a4b0, 0x0b27a, 0x06a50, # 1985\n",
      "    0x06d40, 0x0af46, 0x0ab60, 0x09570, 0x04af5, # 1990\n",
      "    0x04970, 0x064b0, 0x074a3, 0x0ea50, 0x06b58, # 1995\n",
      "    0x055c0, 0x0ab60, 0x096d5, 0x092e0, 0x0c960, # 2000\n",
      "    0x0d954, 0x0d4a0, 0x0da50, 0x07552, 0x056a0, # 2005\n",
      "    0x0abb7, 0x025d0, 0x092d0, 0x0cab5, 0x0a950, # 2010\n",
      "    0x0b4a0, 0x0baa4, 0x0ad50, 0x055d9, 0x04ba0, # 2015\n",
      "    0x0a5b0, 0x15176, 0x052b0, 0x0a930, 0x07954, # 2020\n",
      "    0x06aa0, 0x0ad50, 0x05b52, 0x04b60, 0x0a6e6, # 2025\n",
      "    0x0a4e0, 0x0d260, 0x0ea65, 0x0d530, 0x05aa0, # 2030\n",
      "    0x076a3, 0x096d0, 0x04bd7, 0x04ad0, 0x0a4d0, # 2035\n",
      "    0x1d0b6, 0x0d250, 0x0d520, 0x0dd45, 0x0b5a0, # 2040\n",
      "    0x056d0, 0x055b2, 0x049b0, 0x0a577, 0x0a4b0, # 2045\n",
      "    0x0aa50, 0x1b255, 0x06d20, 0x0ada0   # 2049\n",
      "]\n",
      "yearsCoded = len(yearCode)"
     ],
     "language": "python",
     "metadata": {},
     "outputs": [],
     "prompt_number": 12
    },
    {
     "cell_type": "code",
     "collapsed": false,
     "input": [
      "from sys import argv, exit, stdout"
     ],
     "language": "python",
     "metadata": {},
     "outputs": [],
     "prompt_number": 13
    },
    {
     "cell_type": "code",
     "collapsed": false,
     "input": [
      "from time import time,localtime"
     ],
     "language": "python",
     "metadata": {},
     "outputs": [],
     "prompt_number": 14
    },
    {
     "cell_type": "code",
     "collapsed": true,
     "input": [
      "ow=stdout.write"
     ],
     "language": "python",
     "metadata": {},
     "outputs": [],
     "prompt_number": 15
    },
    {
     "cell_type": "code",
     "collapsed": false,
     "input": [
      "# #   The leap month (if exists) is long one if M = 1.\n",
      "class LunarYearInfo:\n",
      "    '''\n",
      "    \u519c\u5386\u95f0\u5e74\n",
      "    \u4e2d\u56fd\u65e7\u5386\u4f5c\u4e3a\u9634\u9633\u5386\u7684\u4e00\u79cd\uff0c\u6bcf\u6708\u7684\u5929\u6570\u4f9d\u7167\u6708\u4e8f\u800c\u5b9a\uff0c\u4e00\u5e74\u7684\u65f6\u95f4\u4ee512\u4e2a\u6708\u4e3a\u57fa\u51c6\uff0c\u5e73\u5e74\n",
      "    \u6bd4\u4e00\u56de\u5f52\u5e74\u5c11\u7ea611\u5929\u3002\u4e3a\u4e86\u5408\u4e0a\u5730\u7403\u56f4\u7ed5\u592a\u9633\u8fd0\u884c\u5468\u671f\u5373\u56de\u5f52\u5e74\uff0c\u6bcf\u96942\u52304\u5e74\uff0c\u589e\u52a0\u4e00\u4e2a\u6708\uff0c\n",
      "    \u589e\u52a0\u7684\u8fd9\u4e2a\u6708\u4e3a\u95f0\u6708\u3002\u95f0\u6708\u52a0\u5230\u54ea\u4e2a\u6708\uff0c\u4ee5\u519c\u5386\u5386\u6cd5\u89c4\u5219\u63a8\u65ad\uff0c\u4e3b\u8981\u4f9d\u7167\u4e0e\u519c\u5386\u7684\u4e8c\u5341\u56db\u8282\n",
      "    \u6c14\uff08\u6625\u96e8\u60ca\u6625\u6e05\u8c37\u5929\uff0c\u590f\u6ee1\u8292\u590f\u6691\u76f8\u8fde\uff0c\u79cb\u5904\u9732\u79cb\u5bd2\u971c\u964d\uff0c\u51ac\u96ea\u96ea\u51ac\u5c0f\u5927\u5bd2\uff09\u76f8\u7b26\u5408\u6765\u786e\u5b9a\u3002\n",
      "    \u5728\u52a0\u6709\u95f0\u6708\u7684\u90a3\u4e00\u5e74\u670913\u4e2a\u6708\uff0c\u5386\u5e74\u957f\u5ea6\u4e3a384\u6216385\u65e5\uff0c\u8fd9\u4e00\u5e74\u4e5f\u79f0\u4e3a\u95f0\u5e74\u3002\u59822015\u5e74\u7f8a\u5e74\n",
      "    \u7684\u519c\u5386\u4e2d\uff0c\u6709\u4e24\u4e2a\u4e5d\u6708\u3002\u519c\u5386\u95f0\u5e74\u95f0\u6708\u7684\u63a8\u7b97\uff0c3\u5e74\u4e00\u95f0\uff0c5\u5e74\u4e8c\u95f0\uff0c19\u5e74\u4e03\u95f0\uff1b\u519c\u5386\u57fa\u672c\u4e0a\n",
      "    19\u5e74\u4e3a\u4e00\u5468\u671f\u5bf9\u5e94\u4e8e\u516c\u5386\u540c\u4e00\u65f6\u95f4\u3002\u5982\u516c\u5386\u76842001\u5e745\u670827\u65e5\u30011982\u5e745\u670827\u65e5\u548c1963\u5e745\u670827\n",
      "    \u65e5\u8fd9\u4e2a\u65e5\u5b50\uff0c\u90fd\u662f\u95f0\u56db\u6708\u521d\u4e94\u3002\n",
      "    '''\n",
      "    def __init__(self):\n",
      "        self.yearDays = 0\n",
      "        self.monthDays = [0] * 13\n",
      "        self.leapMonth = -1 # -1 means no lunar leap month\n",
      "        "
     ],
     "language": "python",
     "metadata": {},
     "outputs": [],
     "prompt_number": 43
    },
    {
     "cell_type": "code",
     "collapsed": false,
     "input": [
      "yearInfo = [0] * yearsCoded # global variable\n",
      "for i in range(yearsCoded):\n",
      "    yearInfo[i] = LunarYearInfo()"
     ],
     "language": "python",
     "metadata": {},
     "outputs": [],
     "prompt_number": 17
    },
    {
     "cell_type": "code",
     "collapsed": false,
     "input": [
      "class Date:\n",
      "    def __init__(self, year, month, day, weekday=-1, gan=-1, zhi=-1):\n",
      "        self.year = year\n",
      "        self.month = month\n",
      "        self.day = day\n",
      "        self.weekday = weekday\n",
      "        self.gan = gan\n",
      "        self.zhi = zhi\n",
      "        \n"
     ],
     "language": "python",
     "metadata": {},
     "outputs": [],
     "prompt_number": 18
    },
    {
     "cell_type": "code",
     "collapsed": false,
     "input": [
      "solar1st = Date(0, 0, 30, weekday=2) #Wednesday, 31Jan1900\n",
      "lunar1st = Date(0, 0, 0, weekday=2, gan=6, zhi=0) #Wednesday, First day, First month, 1900,\u5e9a\u5b50\u5e74"
     ],
     "language": "python",
     "metadata": {},
     "outputs": [],
     "prompt_number": 19
    },
    {
     "cell_type": "code",
     "collapsed": false,
     "input": [
      "def error(msg):\n",
      "    print 'Error:', msg; exit(0)"
     ],
     "language": "python",
     "metadata": {},
     "outputs": [],
     "prompt_number": 20
    },
    {
     "cell_type": "code",
     "collapsed": false,
     "input": [
      "def isSolarLeapYear(year):\n",
      "    '''\n",
      "    Leap year, Intercalary Year(\u95f0\u5e74)\u662f\u4e3a\u4e86\u5f25\u8865\u56e0\u4eba\u4e3a\u5386\u6cd5\u89c4\u5b9a\u9020\u6210\u7684\u5e74\u5ea6\u5929\u6570\u4e0e\u5730\u7403\u5b9e\u9645\u516c\u8f6c\u5468\u671f\u7684\u65f6\u95f4\u5dee\u800c\u8bbe\u7acb\u7684\u3002\u8865\u4e0a\u65f6\u95f4\u5dee\u7684\u5e74\u4efd\u4e3a\u95f0\u5e74\u3002\n",
      "    \u95f0\u5e74\u5305\u62ec\u5728\u516c\u5386\u6216\u590f\u5386\u4e2d\u6709\u95f0\u65e5\u6216\u95f0\u6708\u7684\u5e74\u4efd\u3002\n",
      "    \u95f0\u5e74\u6cd5\u5219\uff1a\u56db\u5e74\u4e00\u95f0\uff0c\u767e\u5e74\u4e0d\u95f0\uff0c\u56db\u767e\u5e74\u518d\u95f0\n",
      "    \u6839\u672c\u539f\u56e0\uff1a\n",
      "    \u5730\u7403\u7ed5\u592a\u9633\u8fd0\u884c\u5468\u671f\u4e3a365\u59295\u5c0f\u65f648\u520646\u79d2\uff08\u5408365.24219\u5929)\uff0c\u5373\u4e00\u56de\u5f52\u5e74\uff08tropical year\uff09\u3002\u516c\u5386\u7684\u5e73\u5e74\u53ea\u6709365\u65e5\uff0c\u6bd4\u56de\u5f52\u5e74\u77ed\u7ea60.2422\u65e5\uff0c\u6240\u4f59\u4e0b\u7684\u65f6\u95f4\u7ea6\u4e3a\u6bcf\u56db\u5e74\n",
      "    \u7d2f\u8ba1\u4e00\u5929\uff0c\u6545\u7b2c\u56db\u5e74\u4e8e2\u6708\u672b\u52a0\u4e00\u5929\uff0c\u4f7f\u5f53\u5e74\u7684\u5386\u5e74\u957f\u5ea6\u4e3a366\u65e5\uff0c\u8fd9\u4e00\u5e74\u4e3a\u95f0\u5e74\u3002\n",
      "    \u73b0\u884c\u516c\u5386\u4e2d\u6bcf400\u5e74\u670997\u4e2a\u95f0\u5e74\u3002\n",
      "    \u6309\u7167\u6bcf\u56db\u5e74\u4e00\u4e2a\u95f0\u5e74\u8ba1\u7b97\uff0c\u5e73\u5747\u6bcf\u5e74\u5c31\u8981\u591a\u7b97\u51fa0.0078\u5929\uff0c\u8fd9\u6837\u7ecf\u8fc7400\u5e74\u5c31\u4f1a\u591a\u7b97\u51fa\u5927\u7ea63\u5929\u6765\u3002\u56e0\u6b64\u6bcf\u56db\u767e\u5e74\u4e2d\u8981\u51cf\u5c11\u4e09\u4e2a\u95f0\u5e74\u3002\u6240\u4ee5\u516c\u5386\u89c4\u5b9a\uff1a\u5e74\u4efd\u662f\u6574\u767e\u6570\u65f6\uff0c\u5fc5\u987b\n",
      "    \u662f400\u7684\u500d\u6570\u624d\u662f\u95f0\u5e74\uff1b\u4e0d\u662f400\u7684\u500d\u6570\u7684\u5e74\u4efd\uff0c\u5373\u4f7f\u662f4\u7684\u500d\u6570\u4e5f\u4e0d\u662f\u95f0\u5e74\u3002\n",
      "    '''\n",
      "    year = year + 1900\n",
      "    return (year%4==0) and (year%100!=0) or (year%400 ==0)\n",
      "# isSolarLeapYear(108)"
     ],
     "language": "python",
     "metadata": {},
     "outputs": [],
     "prompt_number": 21
    },
    {
     "cell_type": "code",
     "collapsed": false,
     "input": [
      "baseYear=1201 - 1900\n",
      "# in fact, real baseYear=1201.  In order to ease calculation of\n",
      "# leap years. real baseYear must conform to:\n",
      "#   realBaseYear%4==1 and realBaseYear%400==1.\n",
      "# Assert realBaseYear < solar1st.year .\n",
      "# Compute the number of days from the Solar First Date\n",
      "# month=0 means January, ...\n"
     ],
     "language": "python",
     "metadata": {},
     "outputs": [],
     "prompt_number": 23
    },
    {
     "cell_type": "code",
     "collapsed": false,
     "input": [
      "def solarDaysFromBaseYear(d): # d is a Date class\n",
      "    delta = d.year - baseYear\n",
      "    offset = delta*365 + delta/4 - delta/100 + delta/400\n",
      "    for i in range(d.month):\n",
      "        offset += daysInSolarMonth[i];\n",
      "    if d.month>1 and isSolarLeapYear(d.year):\n",
      "        offset+=1\n",
      "    offset += d.day\n",
      "    return offset"
     ],
     "language": "python",
     "metadata": {},
     "outputs": [],
     "prompt_number": 24
    },
    {
     "cell_type": "code",
     "collapsed": false,
     "input": [
      "def solarDaysFromFirstDate (d): #d is a Date class\n",
      "    return solarDaysFromBaseYear (d) - solarDaysFromBaseYear (solar1st)"
     ],
     "language": "python",
     "metadata": {},
     "outputs": [],
     "prompt_number": 25
    },
    {
     "cell_type": "code",
     "collapsed": false,
     "input": [
      "def calcLunarDaysPerMonth(iYear):\n",
      "    code = yearCode[iYear]\n",
      "    leapMonth = code&0xf #leapMonth==0 means no lunar leap month\n",
      "    code >>= 4\n",
      "    for iMonth in range(12):\n",
      "        yearInfo[iYear].monthDays[11-iMonth] = lunarMonthDays [code&0x1]\n",
      "        code >>= 1\n",
      "    if leapMonth>0:\n",
      "        yearInfo[iYear].leapMonth = leapMonth-1\n",
      "        yearInfo[iYear].monthDays.insert (leapMonth,\n",
      "                lunarMonthDays [code & 0x1])"
     ],
     "language": "python",
     "metadata": {},
     "outputs": [],
     "prompt_number": 26
    },
    {
     "cell_type": "code",
     "collapsed": false,
     "input": [
      "def calcAllLunarYearsInfo():\n",
      "    for iYear in range(yearsCoded):\n",
      "        calcLunarDaysPerMonth(iYear)\n",
      "        for iMonth in range(13):\n",
      "            yearInfo[iYear].yearDays += yearInfo[iYear].monthDays[iMonth]"
     ],
     "language": "python",
     "metadata": {},
     "outputs": [],
     "prompt_number": 27
    },
    {
     "cell_type": "code",
     "collapsed": false,
     "input": [
      "#input dateSolar, return (dateLunar, isLunarMonthOrNot)\n",
      "def solar2Lunar(d): #d is a Date class\n",
      "    dLunar = Date(-1, -1, -1) #unknown lunar Date class\n",
      "    offset = solarDaysFromFirstDate(d)\n",
      "    dLunar.weekday  = (offset + solar1st.weekday)%7\n",
      "    for iYear in range(yearsCoded):\n",
      "        if offset < yearInfo[iYear].yearDays:\n",
      "            dLunar.year = iYear; break\n",
      "    offset -= yearInfo[iYear].yearDays\n",
      "    if dLunar.year == -1:   error (\"Date out of range.\")\n",
      "    dLunar.gan      = (dLunar.year + lunar1st.gan) % 10\n",
      "    dLunar.zhi      = (dLunar.year + lunar1st.zhi) % 12\n",
      "    for iMonth in range(13):\n",
      "        if offset< yearInfo[dLunar.year].monthDays[iMonth]:\n",
      "            dLunar.month = iMonth; break\n",
      "    offset -= yearInfo[dLunar.year].monthDays[iMonth]\n",
      "    dLunar.day = offset\n",
      "\n",
      "    isLeapMonth=0\n",
      "    if yearInfo[dLunar.year].leapMonth >=0:\n",
      "        if dLunar.month ==  yearInfo[iYear].leapMonth + 1:\n",
      "            isLeapMonth=1\n",
      "        if dLunar.month > yearInfo[dLunar.year].leapMonth:\n",
      "            dLunar.month -= 1\n",
      "    return (dLunar, isLeapMonth)"
     ],
     "language": "python",
     "metadata": {},
     "outputs": [],
     "prompt_number": 29
    },
    {
     "cell_type": "code",
     "collapsed": false,
     "input": [
      "def getSolarDaysInMonth (year, month):\n",
      "    if isSolarLeapYear(year) and month==1:\n",
      "            return 29\n",
      "    else:   return daysInSolarMonth[month]"
     ],
     "language": "python",
     "metadata": {},
     "outputs": [],
     "prompt_number": 30
    },
    {
     "cell_type": "code",
     "collapsed": false,
     "input": [
      "getSolarDaysInMonth(2016, 1)"
     ],
     "language": "python",
     "metadata": {},
     "outputs": [
      {
       "metadata": {},
       "output_type": "pyout",
       "prompt_number": 31,
       "text": [
        "29"
       ]
      }
     ],
     "prompt_number": 31
    },
    {
     "cell_type": "code",
     "collapsed": false,
     "input": [
      "def num2GB (num):\n",
      "    if num==10:\n",
      "        return '\u5341'\n",
      "    elif num>10 and num<20:\n",
      "        return '\u5341' + numGB[num-10]\n",
      "    tmp=''\n",
      "    while num>10:\n",
      "        tmp = numGB[num%10] + tmp\n",
      "        num = int(num/10)\n",
      "    tmp = numGB[num] + tmp\n",
      "    return tmp"
     ],
     "language": "python",
     "metadata": {},
     "outputs": [],
     "prompt_number": 32
    },
    {
     "cell_type": "code",
     "collapsed": false,
     "input": [
      "print num2GB(2)"
     ],
     "language": "python",
     "metadata": {},
     "outputs": [
      {
       "output_type": "stream",
       "stream": "stdout",
       "text": [
        "\u4e8c\n"
       ]
      }
     ],
     "prompt_number": 33
    },
    {
     "cell_type": "code",
     "collapsed": false,
     "input": [
      "def lunarDate2GB (dLunar, isLeapMonth):\n",
      "    tmp = str(dLunar.month)+'_'+str(dLunar.day)\n",
      "    if lunarHoliday.has_key( tmp ):\n",
      "        return '\u001b[0;33;44m%s\u001b[0m  '% lunarHoliday[tmp] + \\\n",
      "               ' '*(6-len(lunarHoliday[tmp]))\n",
      "    elif dLunar.day==0:\n",
      "        tmp2 = '\u95f0'*isLeapMonth + num2GB(dLunar.month+1) +'\u6708'\n",
      "        return '\u001b[7m%s\u001b[0m' % tmp2 + ' '*(8-len(tmp2))\n",
      "    elif dLunar.day<10:\n",
      "        return '\u521d' + num2GB(dLunar.day+1)\n",
      "    else:\n",
      "        return num2GB(dLunar.day+1)"
     ],
     "language": "python",
     "metadata": {},
     "outputs": [],
     "prompt_number": 34
    },
    {
     "cell_type": "code",
     "collapsed": false,
     "input": [
      "def outputCalendar(year, month):\n",
      "    dLunar = Date(-1,-1,-1)\n",
      "    ow ('\\n     \u9633\u5386%d\u5e74%d\u6708         ' % (year+1900, month+1) )\n",
      "    for iDay in range( getSolarDaysInMonth(year, month) ):\n",
      "        dSolar = Date(year, month, iDay)\n",
      "        dLunar, isLeapMonth = solar2Lunar (dSolar)\n",
      "        if iDay==0:\n",
      "            ow ('\u59cb\u4e8e \u9634\u5386%s\u5e74%s%s\u6708 (%s%s\u5e74, \u751f\u8096\u5c5e%s)\\n' %\n",
      "                ( num2GB(dLunar.year+1900), '\u95f0'*isLeapMonth,\n",
      "                  num2GB(dLunar.month+1),\n",
      "                  ganGB [dLunar.gan], zhiGB[dLunar.zhi], shengXiaoGB[dLunar.zhi]\n",
      "                ))\n",
      "            ow ('='*74 + '\\n')\n",
      "            for i in range(7):\n",
      "                ow (\"%3s %2s     \" % (weekdayEn[i][:3], weekdayGB[i]) )\n",
      "            ow('\\n\\n')\n",
      "            for i in range(dLunar.weekday): ow(' '*11)\n",
      "        elif dLunar.weekday==0: ow('\\n')\n",
      "        ow ( \"%2d %-8s\" %(iDay+1, lunarDate2GB(dLunar, isLeapMonth) ) )\n",
      "    ow('\\n\\n')"
     ],
     "language": "python",
     "metadata": {},
     "outputs": [],
     "prompt_number": 35
    },
    {
     "cell_type": "code",
     "collapsed": false,
     "input": [
      "def checkArgv (argv):\n",
      "    argc = len(argv)\n",
      "    if argc==1 or argv[1] in ('-h', '--help'):\n",
      "        print __doc__; exit(0)\n",
      "    #in case people input arguments as \"4-digit-year month\"\n",
      "    if argc==3 and len(argv[1]) == 4 and len(argv[2]) in (1,2):\n",
      "        argv[1], argv[2] = argv[2], argv[1]\n",
      "\n",
      "    #Get month\n",
      "    month=-1\n",
      "    for iMonth in range(12):\n",
      "        if argv[1].lower() == monthEn[iMonth].lower() or \\\n",
      "           argv[1].lower() == monthEn[iMonth][:3].lower():\n",
      "               month = iMonth+1; break\n",
      "    if month==-1:\n",
      "        month = eval(argv[1])\n",
      "    if month<1 or month>12:     error (\"Month not within 1--12.\")\n",
      "    #Get year\n",
      "    if argc==2: year = localtime(time())[0]\n",
      "    else:\n",
      "        if len(argv[2]) != 4:   error (\"Year must be 4 digits.\")\n",
      "        year = eval(argv[2])\n",
      "        if year<1900 or year>= 1900+yearsCoded or (year==1900 and month==1):\n",
      "            error (\"Year must be within %d--%d, excluding 1900/1.\"\n",
      "                    % (1900, 1900 + yearsCoded-1) )\n",
      "    return year-1900, month-1"
     ],
     "language": "python",
     "metadata": {},
     "outputs": [],
     "prompt_number": 36
    },
    {
     "cell_type": "code",
     "collapsed": false,
     "input": [
      "yearInfo[1].monthDays"
     ],
     "language": "python",
     "metadata": {},
     "outputs": [
      {
       "metadata": {},
       "output_type": "pyout",
       "prompt_number": 40,
       "text": [
        "[0, 0, 0, 0, 0, 0, 0, 0, 0, 0, 0, 0, 0]"
       ]
      }
     ],
     "prompt_number": 40
    },
    {
     "cell_type": "code",
     "collapsed": false,
     "input": [],
     "language": "python",
     "metadata": {},
     "outputs": []
    }
   ],
   "metadata": {}
  }
 ]
}
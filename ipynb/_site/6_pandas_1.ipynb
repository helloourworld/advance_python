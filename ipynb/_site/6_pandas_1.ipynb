{
 "metadata": {
  "name": "",
  "signature": "sha256:1b56aa0f10c52e83465d256fdebc5420234f45adad792305dae29b89da503a18"
 },
 "nbformat": 3,
 "nbformat_minor": 0,
 "worksheets": [
  {
   "cells": [
    {
     "cell_type": "code",
     "collapsed": false,
     "input": [
      "import codecs\n",
      "import requests\n",
      "import numpy as np\n",
      "import scipy as sp\n",
      "import pandas as pd\n",
      "import datetime\n",
      "import json"
     ],
     "language": "python",
     "metadata": {},
     "outputs": []
    },
    {
     "cell_type": "code",
     "collapsed": false,
     "input": [
      "# get test data\n",
      "r = requests.get(\"http://archive.ics.uci.edu/ml/machine-learning-databases/iris/iris.data\")"
     ],
     "language": "python",
     "metadata": {},
     "outputs": []
    },
    {
     "cell_type": "code",
     "collapsed": false,
     "input": [
      "# \u67e5\u770b\u5f53\u524d\u76ee\u5f55\u4e0b\u5185\u5bb9\n",
      "!ls -l"
     ],
     "language": "python",
     "metadata": {},
     "outputs": []
    },
    {
     "cell_type": "code",
     "collapsed": false,
     "input": [
      "# write data in file for test\n",
      "with codecs.open('S1EP3_Iris.txt','w',encoding='utf-8') as f:\n",
      "    f.write(r.text)"
     ],
     "language": "python",
     "metadata": {},
     "outputs": []
    },
    {
     "cell_type": "code",
     "collapsed": false,
     "input": [
      "# cat the text\n",
      "print r.text"
     ],
     "language": "python",
     "metadata": {},
     "outputs": []
    },
    {
     "cell_type": "code",
     "collapsed": false,
     "input": [
      "with codecs.open('S1EP3_Iris.txt', 'r', encoding='utf-8') as f:\n",
      "    lines = f.readlines()\n",
      "    for line in lines:\n",
      "        print line,"
     ],
     "language": "python",
     "metadata": {},
     "outputs": []
    },
    {
     "cell_type": "markdown",
     "metadata": {},
     "source": [
      "## Pandas  \u7684 \u610f\u4e49\u5728\u4e8e\uff1a\n",
      "# \u5feb\u901f\u7684\u8bc6\u522b\u7ed3\u6784\u5316\u6570\u636e"
     ]
    },
    {
     "cell_type": "code",
     "collapsed": false,
     "input": [
      "import pandas as pd\n",
      "irisdata = pd.read_csv('S1EP3_Iris.txt', header = None, encoding='utf-8')"
     ],
     "language": "python",
     "metadata": {},
     "outputs": []
    },
    {
     "cell_type": "code",
     "collapsed": false,
     "input": [
      "irisdata"
     ],
     "language": "python",
     "metadata": {},
     "outputs": []
    },
    {
     "cell_type": "markdown",
     "metadata": {},
     "source": [
      "# \u5feb\u901f\u7684\u64cd\u4f5c\u5143\u6570\u636e"
     ]
    },
    {
     "cell_type": "code",
     "collapsed": false,
     "input": [
      "cnames = ['sepal_length', 'sepal_width','petal_length', 'petal_width', 'class']\n",
      "irisdata.columns = cnames\n",
      "irisdata;"
     ],
     "language": "python",
     "metadata": {},
     "outputs": []
    },
    {
     "cell_type": "markdown",
     "metadata": {},
     "source": [
      "\u5feb\u901f\u8fc7\u6ee4\n",
      "======="
     ]
    },
    {
     "cell_type": "code",
     "collapsed": false,
     "input": [
      "irisdata[irisdata['petal_width'] == irisdata.petal_width.max()]"
     ],
     "language": "python",
     "metadata": {},
     "outputs": []
    },
    {
     "cell_type": "markdown",
     "metadata": {},
     "source": [
      "##\u5feb\u901f\u5207\u7247"
     ]
    },
    {
     "cell_type": "code",
     "collapsed": false,
     "input": [
      "irisdata.iloc[::30, :2]"
     ],
     "language": "python",
     "metadata": {},
     "outputs": []
    },
    {
     "cell_type": "markdown",
     "metadata": {},
     "source": [
      "## \u5feb\u901f\u7edf\u8ba1"
     ]
    },
    {
     "cell_type": "code",
     "collapsed": false,
     "input": [
      "print irisdata['class'].value_counts()\n",
      "len(irisdata)"
     ],
     "language": "python",
     "metadata": {},
     "outputs": []
    },
    {
     "cell_type": "code",
     "collapsed": false,
     "input": [
      "for x in xrange(4):\n",
      "    s = irisdata.iloc[:,x]\n",
      "    print '{0:<12}'.format(s.name.upper()), \" Statistics: \",\\\n",
      "    '{0:>5} {1:>5} {2:>5} {3:>5}'.format(s.max(), s.min(), round(s.mean(),2), round(s.std(),2))"
     ],
     "language": "python",
     "metadata": {},
     "outputs": []
    },
    {
     "cell_type": "markdown",
     "metadata": {},
     "source": [
      "## \u5feb\u901f MapReduce"
     ]
    },
    {
     "cell_type": "code",
     "collapsed": false,
     "input": [
      "slogs = lambda x: sp.log(x) * x\n",
      "entpy = lambda x: sp.exp((slogs(x.sum()) - x.map(slogs).sum())/x.sum())\n",
      "irisdata.groupby('class').agg(entpy)"
     ],
     "language": "python",
     "metadata": {},
     "outputs": []
    },
    {
     "cell_type": "code",
     "collapsed": false,
     "input": [],
     "language": "python",
     "metadata": {},
     "outputs": []
    }
   ],
   "metadata": {}
  }
 ]
}
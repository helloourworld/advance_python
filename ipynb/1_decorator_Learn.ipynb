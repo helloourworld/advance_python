{
 "metadata": {
  "name": "",
  "signature": "sha256:b7aaac1d74a863b596045174bf0cbac2c2fc6efdf3e060c67531866d57761307"
 },
 "nbformat": 3,
 "nbformat_minor": 0,
 "worksheets": [
  {
   "cells": [
    {
     "cell_type": "markdown",
     "metadata": {},
     "source": [
      "Decoator\n",
      "======\n",
      "\n",
      "http://www.cnblogs.com/rhcad/archive/2011/12/21/2295507.html"
     ]
    },
    {
     "cell_type": "markdown",
     "metadata": {},
     "source": [
      ">1 \u6700\u7b80\u5355\u7684\u51fd\u6570\uff0c\u51c6\u5907\u9644\u52a0\u989d\u5916\u529f\u80fd\uff1a"
     ]
    },
    {
     "cell_type": "code",
     "collapsed": false,
     "input": [
      "# -*- coding:gbk -*-\n",
      "'''\u793a\u4f8b1: \u6700\u7b80\u5355\u7684\u51fd\u6570,\u8868\u793a\u8c03\u7528\u4e86\u4e24\u6b21'''\n",
      " \n",
      "def myfunc():\n",
      "    print(\"'myfunc' called.\")\n",
      " \n",
      "myfunc()\n",
      "myfunc()"
     ],
     "language": "python",
     "metadata": {},
     "outputs": [
      {
       "output_type": "stream",
       "stream": "stdout",
       "text": [
        "'myfunc' called.\n",
        "'myfunc' called.\n"
       ]
      }
     ],
     "prompt_number": 1
    },
    {
     "cell_type": "markdown",
     "metadata": {},
     "source": [
      ">2\u4f7f\u7528\u88c5\u9970\u51fd\u6570\u5728\u51fd\u6570\u6267\u884c\u524d\u548c\u6267\u884c\u540e\u5206\u522b\u9644\u52a0\u989d\u5916\u529f\u80fd"
     ]
    },
    {
     "cell_type": "code",
     "collapsed": false,
     "input": [
      "# -*- coding:gbk -*-\n",
      "'''\u793a\u4f8b2: \u66ff\u6362\u51fd\u6570(\u88c5\u9970)\n",
      "\u88c5\u9970\u51fd\u6570\u7684\u53c2\u6570\u662f\u88ab\u88c5\u9970\u7684\u51fd\u6570\u5bf9\u8c61\uff0c\u8fd4\u56de\u539f\u51fd\u6570\u5bf9\u8c61\n",
      "\u88c5\u9970\u7684\u5b9e\u8d28\u8bed\u53e5: myfunc = deco(myfunc)'''\n",
      " \n",
      "def deco(func):\n",
      "    print(\"before myfunc() called.\")\n",
      "    func()\n",
      "    print(\"  after myfunc() called.\")\n",
      "    return func\n",
      " \n",
      "def myfunc():\n",
      "    print(\" This is myfunc() called.\")\n",
      " \n",
      "myf = deco(myfunc)\n",
      "print(\"****\")\n",
      "myf()\n",
      "print(\"******\")\n",
      "myf()"
     ],
     "language": "python",
     "metadata": {},
     "outputs": [
      {
       "output_type": "stream",
       "stream": "stdout",
       "text": [
        "before myfunc() called.\n",
        " This is myfunc() called.\n",
        "  after myfunc() called.\n",
        "****\n",
        " This is myfunc() called.\n",
        "******\n",
        " This is myfunc() called.\n"
       ]
      }
     ],
     "prompt_number": 2
    },
    {
     "cell_type": "markdown",
     "metadata": {},
     "source": [
      ">3\u4f7f\u7528\u8bed\u6cd5\u7cd6@\u6765\u88c5\u9970\u51fd\u6570"
     ]
    },
    {
     "cell_type": "code",
     "collapsed": false,
     "input": [
      "# -*- coding:gbk -*-\n",
      "'''\u793a\u4f8b3: \u4f7f\u7528\u8bed\u6cd5\u7cd6@\u6765\u88c5\u9970\u51fd\u6570\uff0c\u76f8\u5f53\u4e8e\u201cmyfunc = deco(myfunc)\u201d\n",
      "\u4f46\u53d1\u73b0\u65b0\u51fd\u6570\u53ea\u5728\u7b2c\u4e00\u6b21\u88ab\u8c03\u7528\uff0c\u4e14\u539f\u51fd\u6570\u591a\u8c03\u7528\u4e86\u4e00\u6b21'''\n",
      " \n",
      "def deco(func):\n",
      "    print(\"before myfunc() called.\")\n",
      "    func()\n",
      "    print(\"  after myfunc() called.\")\n",
      "    return func\n",
      " \n",
      "@deco\n",
      "def myfunc():\n",
      "    print(\" myfunc() called.\")\n",
      "print(\"***\") \n",
      "myfunc()\n",
      "print(\"***\")\n",
      "myfunc()"
     ],
     "language": "python",
     "metadata": {},
     "outputs": [
      {
       "output_type": "stream",
       "stream": "stdout",
       "text": [
        "before myfunc() called.\n",
        " myfunc() called.\n",
        "  after myfunc() called.\n",
        "***\n",
        " myfunc() called.\n",
        "***\n",
        " myfunc() called.\n"
       ]
      }
     ],
     "prompt_number": 3
    },
    {
     "cell_type": "markdown",
     "metadata": {},
     "source": [
      ">4\u4f7f\u7528\u5185\u5d4c\u5305\u88c5\u51fd\u6570\u6765\u786e\u4fdd\u6bcf\u6b21\u65b0\u51fd\u6570\u90fd\u88ab\u8c03\u7528"
     ]
    },
    {
     "cell_type": "code",
     "collapsed": false,
     "input": [
      "# -*- coding:gbk -*-\n",
      "'''\u793a\u4f8b4: \u4f7f\u7528\u5185\u5d4c\u5305\u88c5\u51fd\u6570\u6765\u786e\u4fdd\u6bcf\u6b21\u65b0\u51fd\u6570\u90fd\u88ab\u8c03\u7528\uff0c\n",
      "\u5185\u5d4c\u5305\u88c5\u51fd\u6570\u7684\u5f62\u53c2\u548c\u8fd4\u56de\u503c\u4e0e\u539f\u51fd\u6570\u76f8\u540c\uff0c\u88c5\u9970\u51fd\u6570\u8fd4\u56de\u5185\u5d4c\u5305\u88c5\u51fd\u6570\u5bf9\u8c61'''\n",
      " \n",
      "def deco(func):\n",
      "    print 'Start:'\n",
      "    def _deco():\n",
      "        print(\"before myfunc() called.\",'%s' % (func.__name__))\n",
      "        func()\n",
      "        print(\"  after myfunc() called.\")\n",
      "        # \u4e0d\u9700\u8981\u8fd4\u56defunc\uff0c\u5b9e\u9645\u4e0a\u5e94\u8fd4\u56de\u539f\u51fd\u6570\u7684\u8fd4\u56de\u503c\n",
      "    return _deco\n",
      " \n",
      "@deco\n",
      "def myfunc():\n",
      "    print(\" myfunc() called.\")\n",
      "    return 'ok'\n",
      " \n",
      "print(\"***\") \n",
      "myfunc()\n",
      "print(\"***\")\n",
      "myfunc()"
     ],
     "language": "python",
     "metadata": {},
     "outputs": [
      {
       "output_type": "stream",
       "stream": "stdout",
       "text": [
        "Start:\n",
        "***\n",
        "('before myfunc() called.', 'myfunc')\n",
        " myfunc() called.\n",
        "  after myfunc() called.\n",
        "***\n",
        "('before myfunc() called.', 'myfunc')\n",
        " myfunc() called.\n",
        "  after myfunc() called.\n"
       ]
      }
     ],
     "prompt_number": 4
    },
    {
     "cell_type": "markdown",
     "metadata": {},
     "source": [
      ">5\u5bf9\u5e26\u53c2\u6570\u7684\u51fd\u6570\u8fdb\u884c\u88c5\u9970"
     ]
    },
    {
     "cell_type": "code",
     "collapsed": false,
     "input": [
      "# -*- coding:gbk -*-\n",
      "'''\u793a\u4f8b5: \u5bf9\u5e26\u53c2\u6570\u7684\u51fd\u6570\u8fdb\u884c\u88c5\u9970\uff0c\n",
      "\u5185\u5d4c\u5305\u88c5\u51fd\u6570\u7684\u5f62\u53c2\u548c\u8fd4\u56de\u503c\u4e0e\u539f\u51fd\u6570\u76f8\u540c\uff0c\u88c5\u9970\u51fd\u6570\u8fd4\u56de\u5185\u5d4c\u5305\u88c5\u51fd\u6570\u5bf9\u8c61'''\n",
      " \n",
      "def deco(func):\n",
      "    def _deco(a, b):\n",
      "        print(\"before myfunc() called.\", func.__name__)\n",
      "        ret = func(a, b)\n",
      "        print(\"  after myfunc() called. result: %s\" % ret)\n",
      "        return ret\n",
      "    return _deco\n",
      " \n",
      "@deco\n",
      "def myfunc(a, b):\n",
      "    print(\" myfunc(%s,%s) called.\" % (a, b))\n",
      "    return a + b\n",
      " \n",
      "myfunc(1, 2)\n",
      "myfunc(3, 4)"
     ],
     "language": "python",
     "metadata": {},
     "outputs": [
      {
       "output_type": "stream",
       "stream": "stdout",
       "text": [
        "('before myfunc() called.', 'myfunc')\n",
        " myfunc(1,2) called.\n",
        "  after myfunc() called. result: 3\n",
        "('before myfunc() called.', 'myfunc')\n",
        " myfunc(3,4) called.\n",
        "  after myfunc() called. result: 7\n"
       ]
      },
      {
       "metadata": {},
       "output_type": "pyout",
       "prompt_number": 5,
       "text": [
        "7"
       ]
      }
     ],
     "prompt_number": 5
    },
    {
     "cell_type": "markdown",
     "metadata": {},
     "source": [
      ">6\u5bf9\u53c2\u6570\u6570\u91cf\u4e0d\u786e\u5b9a\u7684\u51fd\u6570\u8fdb\u884c\u88c5\u9970"
     ]
    },
    {
     "cell_type": "code",
     "collapsed": false,
     "input": [
      "# -*- coding:gbk -*-\n",
      "'''\u793a\u4f8b6: \u5bf9\u53c2\u6570\u6570\u91cf\u4e0d\u786e\u5b9a\u7684\u51fd\u6570\u8fdb\u884c\u88c5\u9970\uff0c\n",
      "\u53c2\u6570\u7528(*args, **kwargs)\uff0c\u81ea\u52a8\u9002\u5e94\u53d8\u53c2\u548c\u547d\u540d\u53c2\u6570'''\n",
      " \n",
      "def deco(func):\n",
      "    def _deco(*args, **kwargs):\n",
      "        print(\"before %s called.\" % func.__name__)\n",
      "        ret = func(*args, **kwargs)\n",
      "        print(\"  after %s called. result: %s\" % (func.__name__, ret))\n",
      "        return ret\n",
      "    return _deco\n",
      " \n",
      "@deco\n",
      "def myfunc1(a, b):\n",
      "    print(\" myfunc(%s,%s) called.\" % (a, b))\n",
      "    return a+b\n",
      " \n",
      "@deco\n",
      "def myfunc2(a, b, c):\n",
      "    print(\" myfunc2(%s,%s,%s) called.\" % (a, b, c))\n",
      "    return a+b+c\n",
      "print '***'\n",
      "myfunc1(1, 2)\n",
      "print '****'\n",
      "myfunc1(3, 4)\n",
      "print '*****'\n",
      "myfunc2(1, 2, 3)\n",
      "print '******'\n",
      "myfunc2(3, 4, 5)"
     ],
     "language": "python",
     "metadata": {},
     "outputs": [
      {
       "output_type": "stream",
       "stream": "stdout",
       "text": [
        "***\n",
        "before myfunc1 called.\n",
        " myfunc(1,2) called.\n",
        "  after myfunc1 called. result: 3\n",
        "****\n",
        "before myfunc1 called.\n",
        " myfunc(3,4) called.\n",
        "  after myfunc1 called. result: 7\n",
        "*****\n",
        "before myfunc2 called.\n",
        " myfunc2(1,2,3) called.\n",
        "  after myfunc2 called. result: 6\n",
        "******\n",
        "before myfunc2 called.\n",
        " myfunc2(3,4,5) called.\n",
        "  after myfunc2 called. result: 12\n"
       ]
      },
      {
       "metadata": {},
       "output_type": "pyout",
       "prompt_number": 6,
       "text": [
        "12"
       ]
      }
     ],
     "prompt_number": 6
    },
    {
     "cell_type": "markdown",
     "metadata": {},
     "source": [
      ">7\u8ba9\u88c5\u9970\u5668\u5e26\u53c2\u6570"
     ]
    },
    {
     "cell_type": "code",
     "collapsed": false,
     "input": [
      "# -*- coding:gbk -*-\n",
      "'''\u793a\u4f8b7: \u5728\u793a\u4f8b4\u7684\u57fa\u7840\u4e0a\uff0c\u8ba9\u88c5\u9970\u5668\u5e26\u53c2\u6570\uff0c\n",
      "\u548c\u4e0a\u4e00\u793a\u4f8b\u76f8\u6bd4\u5728\u5916\u5c42\u591a\u4e86\u4e00\u5c42\u5305\u88c5\u3002\n",
      "\u88c5\u9970\u51fd\u6570\u540d\u5b9e\u9645\u4e0a\u5e94\u66f4\u6709\u610f\u4e49\u4e9b'''\n",
      " \n",
      "def deco(arg):\n",
      "    def _deco(func):\n",
      "        def __deco():\n",
      "            print(\"before %s called [%s].\" % (func.__name__, arg))\n",
      "            func()\n",
      "            print(\"  after %s called [%s].\" % (func.__name__, arg))\n",
      "        return __deco\n",
      "    return _deco\n",
      " \n",
      "@deco(\"mymodule\")\n",
      "def myfunc():\n",
      "    print(\" myfunc is called.\")\n",
      " \n",
      "@deco(\"module2\")\n",
      "def myfunc2():\n",
      "    print(\" myfunc2 is called.\")\n",
      "print '*****'\n",
      "myfunc()\n",
      "print '***'\n",
      "myfunc2()"
     ],
     "language": "python",
     "metadata": {},
     "outputs": [
      {
       "output_type": "stream",
       "stream": "stdout",
       "text": [
        "*****\n",
        "before myfunc called [mymodule].\n",
        " myfunc is called.\n",
        "  after myfunc called [mymodule].\n",
        "***\n",
        "before myfunc2 called [module2].\n",
        " myfunc2 is called.\n",
        "  after myfunc2 called [module2].\n"
       ]
      }
     ],
     "prompt_number": 7
    },
    {
     "cell_type": "markdown",
     "metadata": {},
     "source": [
      ">8\u8ba9\u88c5\u9970\u5668\u5e26 \u7c7b \u53c2\u6570\n"
     ]
    },
    {
     "cell_type": "code",
     "collapsed": false,
     "input": [
      "# -*- coding:gbk -*-\n",
      "'''\u793a\u4f8b8: \u88c5\u9970\u5668\u5e26\u7c7b\u53c2\u6570'''\n",
      " \n",
      "class locker:\n",
      "    def __init__(self):\n",
      "        print(\"locker.__init__() should be not called.\")\n",
      "         \n",
      "    @staticmethod\n",
      "    def acquire():\n",
      "        print(\"locker.acquire() called.\uff08\u8fd9\u662f\u9759\u6001\u65b9\u6cd5\uff09\")\n",
      "         \n",
      "    @staticmethod\n",
      "    def release():\n",
      "        print(\"  locker.release() called.\uff08\u4e0d\u9700\u8981\u5bf9\u8c61\u5b9e\u4f8b\uff09\")\n",
      " \n",
      "def deco(cls):\n",
      "    '''cls \u5fc5\u987b\u5b9e\u73b0acquire\u548crelease\u9759\u6001\u65b9\u6cd5'''\n",
      "    def _deco(func):\n",
      "        def __deco():\n",
      "            print(\"before %s called [%s].\" % (func.__name__, cls))\n",
      "            cls.acquire()\n",
      "            try:\n",
      "                return func()\n",
      "            finally:\n",
      "                cls.release()\n",
      "        return __deco\n",
      "    return _deco\n",
      " \n",
      "@deco(locker)\n",
      "def myfunc():\n",
      "    print(\" myfunc() called.\")\n",
      "print '1\\n',\n",
      "myfunc()\n",
      "print '2'\n",
      "myfunc()"
     ],
     "language": "python",
     "metadata": {},
     "outputs": [
      {
       "output_type": "stream",
       "stream": "stdout",
       "text": [
        "1\n",
        "before myfunc called [__main__.locker].\n",
        "locker.acquire() called.\uff08\u8fd9\u662f\u9759\u6001\u65b9\u6cd5\uff09\n",
        " myfunc() called.\n",
        "  locker.release() called.\uff08\u4e0d\u9700\u8981\u5bf9\u8c61\u5b9e\u4f8b\uff09\n",
        "2\n",
        "before myfunc called [__main__.locker].\n",
        "locker.acquire() called.\uff08\u8fd9\u662f\u9759\u6001\u65b9\u6cd5\uff09\n",
        " myfunc() called.\n",
        "  locker.release() called.\uff08\u4e0d\u9700\u8981\u5bf9\u8c61\u5b9e\u4f8b\uff09\n"
       ]
      }
     ],
     "prompt_number": 8
    },
    {
     "cell_type": "markdown",
     "metadata": {},
     "source": [
      ">9\u88c5\u9970\u5668\u5e26\u7c7b\u53c2\u6570\uff0c\u5e76\u5206\u62c6\u516c\u5171\u7c7b\u5230\u5176\u4ed6py\u6587\u4ef6\u4e2d\uff0c\u540c\u65f6\u6f14\u793a\u4e86\u5bf9\u4e00\u4e2a\u51fd\u6570\u5e94\u7528\u591a\u4e2a\u88c5\u9970\u5668"
     ]
    },
    {
     "cell_type": "code",
     "collapsed": false,
     "input": [
      "# -*- coding:gbk -*-\n",
      "'''mylocker.py: \u516c\u5171\u7c7b for \u793a\u4f8b9.py'''\n",
      "\n",
      "class mylocker:\n",
      "    def __init__(self):\n",
      "        print(\"mylocker.__init__() called.\")\n",
      "        \n",
      "    @staticmethod\n",
      "    def acquire():\n",
      "        print(\"mylocker.acquire() called.\")\n",
      "        \n",
      "    @staticmethod\n",
      "    def unlock():\n",
      "        print(\"  mylocker.unlock() called.\")\n",
      "\n",
      "class lockerex(mylocker):\n",
      "    @staticmethod\n",
      "    def acquire():\n",
      "        print(\"lockerex.acquire() called.\")\n",
      "        \n",
      "    @staticmethod\n",
      "    def unlock():\n",
      "        print(\"  lockerex.unlock() called.\")\n",
      "\n",
      "def lockhelper(cls):\n",
      "    '''cls \u5fc5\u987b\u5b9e\u73b0acquire\u548crelease\u9759\u6001\u65b9\u6cd5'''\n",
      "    def _deco(func):\n",
      "        def __deco(*args, **kwargs):\n",
      "            print(\"before %s called.\" % func.__name__)\n",
      "            cls.acquire()\n",
      "            try:\n",
      "                return func(*args, **kwargs)\n",
      "            finally:\n",
      "                cls.unlock()\n",
      "        return __deco\n",
      "    return _deco"
     ],
     "language": "python",
     "metadata": {},
     "outputs": [],
     "prompt_number": 9
    },
    {
     "cell_type": "code",
     "collapsed": false,
     "input": [
      "# -*- coding:gbk -*-\n",
      "'''\u793a\u4f8b9: \u88c5\u9970\u5668\u5e26\u7c7b\u53c2\u6570\uff0c\u5e76\u5206\u62c6\u516c\u5171\u7c7b\u5230\u5176\u4ed6py\u6587\u4ef6\u4e2d\n",
      "\u540c\u65f6\u6f14\u793a\u4e86\u5bf9\u4e00\u4e2a\u51fd\u6570\u5e94\u7528\u591a\u4e2a\u88c5\u9970\u5668'''\n",
      "\n",
      "# from mylocker import *\n",
      "\n",
      "class example:\n",
      "    @lockhelper(mylocker)\n",
      "    def myfunc(self):\n",
      "        print(\" myfunc() called.\")\n",
      "\n",
      "    @lockhelper(mylocker)\n",
      "    @lockhelper(lockerex)\n",
      "    def myfunc2(self, a, b):\n",
      "        print(\" myfunc2() called.\")\n",
      "        return a + b\n",
      "\n",
      "if __name__==\"__main__\":\n",
      "    a = example()\n",
      "    a.myfunc()\n",
      "    print(a.myfunc())\n",
      "    print(a.myfunc2(1, 2))\n",
      "    print(a.myfunc2(3, 4))"
     ],
     "language": "python",
     "metadata": {},
     "outputs": [
      {
       "output_type": "stream",
       "stream": "stdout",
       "text": [
        "before myfunc called.\n",
        "mylocker.acquire() called.\n",
        " myfunc() called.\n",
        "  mylocker.unlock() called.\n",
        "before myfunc called.\n",
        "mylocker.acquire() called.\n",
        " myfunc() called.\n",
        "  mylocker.unlock() called.\n",
        "None\n",
        "before __deco called.\n",
        "mylocker.acquire() called.\n",
        "before myfunc2 called.\n",
        "lockerex.acquire() called.\n",
        " myfunc2() called.\n",
        "  lockerex.unlock() called.\n",
        "  mylocker.unlock() called.\n",
        "3\n",
        "before __deco called.\n",
        "mylocker.acquire() called.\n",
        "before myfunc2 called.\n",
        "lockerex.acquire() called.\n",
        " myfunc2() called.\n",
        "  lockerex.unlock() called.\n",
        "  mylocker.unlock() called.\n",
        "7\n"
       ]
      }
     ],
     "prompt_number": 10
    },
    {
     "cell_type": "code",
     "collapsed": false,
     "input": [],
     "language": "python",
     "metadata": {},
     "outputs": [],
     "prompt_number": 10
    }
   ],
   "metadata": {}
  }
 ]
}
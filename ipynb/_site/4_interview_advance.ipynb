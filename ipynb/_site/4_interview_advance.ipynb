{
 "metadata": {
  "name": "",
  "signature": "sha256:f45f5ddbe4f34b75aafebc31132d1c5a817ad76593b6f60ead5b5f0f00769dde"
 },
 "nbformat": 3,
 "nbformat_minor": 0,
 "worksheets": [
  {
   "cells": [
    {
     "cell_type": "markdown",
     "metadata": {},
     "source": [
      "Interview\n",
      "=============="
     ]
    },
    {
     "cell_type": "markdown",
     "metadata": {},
     "source": [
      "1 Mutable & Unmutable\n",
      "-------------\n",
      "strings,tuples, and numbers \u662f\u4e0d\u53ef\u66f4\u6539\u5bf9\u8c61\uff0c \u800clist, dict\u662f\u53ef\u66f4\u6539\u5bf9\u8c61"
     ]
    },
    {
     "cell_type": "code",
     "collapsed": false,
     "input": [
      "def try_to_change_list_contents(the_list):\n",
      "    print 'got', the_list\n",
      "    the_list.append('four')\n",
      "    print 'changed to', the_list"
     ],
     "language": "python",
     "metadata": {},
     "outputs": [],
     "prompt_number": 26
    },
    {
     "cell_type": "code",
     "collapsed": false,
     "input": [
      "outer_list = ['one', 'two', 'three']\n",
      "print 'before: outer_list =', outer_list\n",
      "try_to_change_list_contents(outer_list)\n",
      "print 'after: outer_list =', outer_list"
     ],
     "language": "python",
     "metadata": {},
     "outputs": [
      {
       "output_type": "stream",
       "stream": "stdout",
       "text": [
        "before: outer_list = ['one', 'two', 'three']\n",
        "got ['one', 'two', 'three']\n",
        "changed to ['one', 'two', 'three', 'four']\n",
        "after: outer_list = ['one', 'two', 'three', 'four']\n"
       ]
      }
     ],
     "prompt_number": 27
    },
    {
     "cell_type": "markdown",
     "metadata": {},
     "source": [
      "Now try to change the referene that was passed in as a parameter:"
     ]
    },
    {
     "cell_type": "code",
     "collapsed": false,
     "input": [
      "def try_to_change_list_reference(the_list):\n",
      "    print 'got', the_list\n",
      "    the_list = ['and', 'we', 'can', 'not', 'lie']\n",
      "    print 'set to', the_list\n",
      "\n",
      "outer_list = ['we', 'like', 'proper', 'english']\n",
      "print 'before: outer_list = ', outer_list\n",
      "try_to_change_list_reference(outer_list)\n",
      "print 'after: outer_list = ', outer_list"
     ],
     "language": "python",
     "metadata": {},
     "outputs": [
      {
       "output_type": "stream",
       "stream": "stdout",
       "text": [
        "before: outer_list =  ['we', 'like', 'proper', 'english']\n",
        "got ['we', 'like', 'proper', 'english']\n",
        "set to ['and', 'we', 'can', 'not', 'lie']\n",
        "after: outer_list =  ['we', 'like', 'proper', 'english']\n"
       ]
      }
     ],
     "prompt_number": 28
    },
    {
     "cell_type": "markdown",
     "metadata": {},
     "source": [
      "Since the the_list parameter was passed by value, assigning a new list to it had no effect that the code outside the method could see. #The the_list was a copy of the outer_list reference#, and we had the_list point to a new list, but there was no way to change where outer_list pointed."
     ]
    },
    {
     "cell_type": "markdown",
     "metadata": {},
     "source": [
      "String - an immutable table\n",
      "-----------------------"
     ]
    },
    {
     "cell_type": "markdown",
     "metadata": {},
     "source": [
      "It's immutable, so there's nothing we can do to change the contents of the string\n",
      "Now, let's try to change the reference"
     ]
    },
    {
     "cell_type": "code",
     "collapsed": false,
     "input": [
      "def try_to_change_string_reference(the_string):\n",
      "    print 'got', the_string\n",
      "    the_string = 'In a kingdom ty the sea'\n",
      "    print 'set to', the_string\n",
      "    \n",
      "outer_string = 'It was many and many a year ago'\n",
      "print 'before: ,outer_string = ', outer_string\n",
      "try_to_change_string_reference(outer_string)\n",
      "print 'after: ,outer_string = ', outer_string"
     ],
     "language": "python",
     "metadata": {},
     "outputs": [
      {
       "output_type": "stream",
       "stream": "stdout",
       "text": [
        "before: ,outer_string =  It was many and many a year ago\n",
        "got It was many and many a year ago\n",
        "set to In a kingdom ty the sea\n",
        "after: ,outer_string =  It was many and many a year ago\n"
       ]
      }
     ],
     "prompt_number": 29
    },
    {
     "cell_type": "markdown",
     "metadata": {},
     "source": [
      "Again, since the the_string parameter was ##passed ty value, assigning a new string to it had no effect that the code outside the method could see."
     ]
    },
    {
     "cell_type": "code",
     "collapsed": false,
     "input": [
      "\n",
      "def return_a_whole_new_string(the_string):\n",
      "    # new_string = something_to_do_with_the_old_string(the_string)\n",
      "    new_string = len(the_string)\n",
      "    return new_string\n",
      "\n",
      "# then U could call it like\n",
      "my_string = 'I love you'\n",
      "my_string = return_a_whole_new_string(my_string)\n",
      "print my_string"
     ],
     "language": "python",
     "metadata": {},
     "outputs": [
      {
       "output_type": "stream",
       "stream": "stdout",
       "text": [
        "10\n"
       ]
      }
     ],
     "prompt_number": 30
    },
    {
     "cell_type": "markdown",
     "metadata": {},
     "source": [
      "If you really wanted to avoid using a return value, you could create a class to hold your value and pass it into the funcion or use an existing class, like a list:\n"
     ]
    },
    {
     "cell_type": "code",
     "collapsed": false,
     "input": [
      "def use_a_wrapper_to_simulate_pass_by_reference(stuff_to_change):\n",
      "    # new_string = something_to_do_with_the_old_string(stuff_to_change[0])\n",
      "    new_string = stuff_to_change[0]\n",
      "    stuff_to_change[0] = new_string\n",
      "    \n",
      "# then U can call it like\n",
      "my_string = 'Davidyjun'\n",
      "wrapper = [my_string]\n",
      "use_a_wrapper_to_simulate_pass_by_reference(wrapper)\n",
      "# do_something_with(wrapper[0])\n",
      "print len(wrapper[0])"
     ],
     "language": "python",
     "metadata": {},
     "outputs": [
      {
       "output_type": "stream",
       "stream": "stdout",
       "text": [
        "9\n"
       ]
      }
     ],
     "prompt_number": 31
    },
    {
     "cell_type": "markdown",
     "metadata": {},
     "source": [
      "\u2014\u2014\u2014\u2014\u2014\u2014\u2014\u2014\u2014\u2014\u2014\u2014\u2014\u2014\u2014\u2014\u2014\u2014\u2014\u2014\u2014\u2014\u2014\u2014\u2014\u2014\u2014\u2014\u2014\u2014\u2014\u2014\u2014\u2014\u2014\u2014\u2014\u2014\u2014\u2014\u2014\u2014\u2014\u2014\u2014\u2014\u2014\u2014\u2014\u2014\u2014\u2014"
     ]
    },
    {
     "cell_type": "markdown",
     "metadata": {},
     "source": [
      "2 metaclass python\u4e2d\u7684\u5143\u7c7b"
     ]
    },
    {
     "cell_type": "markdown",
     "metadata": {},
     "source": [
      "\u4e0d\u5e38\u7528"
     ]
    },
    {
     "cell_type": "markdown",
     "metadata": {},
     "source": [
      "\u2014\u2014\u2014\u2014\u2014\u2014\u2014\u2014\u2014\u2014\u2014\u2014\u2014\u2014\u2014\u2014\u2014\u2014\u2014\u2014\u2014\u2014\u2014\u2014\u2014\u2014\u2014\u2014\u2014\u2014\u2014\u2014\u2014\u2014\u2014\u2014\u2014\u2014\u2014\u2014"
     ]
    },
    {
     "cell_type": "markdown",
     "metadata": {},
     "source": [
      "3 @staticmethond \u548c @classmethod"
     ]
    },
    {
     "cell_type": "code",
     "collapsed": false,
     "input": [],
     "language": "python",
     "metadata": {},
     "outputs": []
    }
   ],
   "metadata": {}
  }
 ]
}
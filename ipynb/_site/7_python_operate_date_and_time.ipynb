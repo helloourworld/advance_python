{
 "metadata": {
  "name": "",
  "signature": "sha256:e9ff3a3345511963bce545771d2b22c24b70a80eb7eb929a754887421ad93deb"
 },
 "nbformat": 3,
 "nbformat_minor": 0,
 "worksheets": [
  {
   "cells": [
    {
     "cell_type": "heading",
     "level": 1,
     "metadata": {},
     "source": [
      "\n",
      "\u4e0d\u7ba1\u4f55\u65f6\u4f55\u5730\uff0c\u53ea\u8981\u6211\u4eec\u7f16\u7a0b\u65f6\u9047\u5230\u4e86\u8ddf\u65f6\u95f4\u6709\u5173\u7684\u95ee\u9898\uff0c\u90fd\u8981\u60f3\u5230 datetime \u548c time \u6807\u51c6\u5e93\u6a21\u5757\uff0c\u4eca\u5929\u6211\u4eec\u5c31\u7528\u5b83\u5185\u90e8\u7684\u65b9\u6cd5\uff0c\u8be6\u89e3python\u64cd\u4f5c\u65e5\u671f\u548c\u65f6\u95f4\u7684\u65b9\u6cd5\u3002\n"
     ]
    },
    {
     "cell_type": "code",
     "collapsed": false,
     "input": [
      "'''\n",
      "1.\u5c06\u5b57\u7b26\u4e32\u7684\u65f6\u95f4\u8f6c\u6362\u4e3a\u65f6\u95f4\u6233\n",
      "'''\n",
      "a = \"2013-10-10 23:40:00\"\n",
      "#\u5c06\u5176\u8f6c\u6362\u4e3a\u65f6\u95f4\u6570\u7ec4\n",
      "import time\n",
      "timeArray = time.strptime(a, \"%Y-%m-%d %H:%M:%S\")\n",
      "#\u8f6c\u6362\u4e3a\u65f6\u95f4\u6233:\n",
      "timeStamp = int(time.mktime(timeArray))\n",
      "timeStamp == 1381419600"
     ],
     "language": "python",
     "metadata": {},
     "outputs": [
      {
       "metadata": {},
       "output_type": "pyout",
       "prompt_number": 2,
       "text": [
        "True"
       ]
      }
     ],
     "prompt_number": 2
    },
    {
     "cell_type": "code",
     "collapsed": false,
     "input": [
      "# 2.\u683c\u5f0f\u66f4\u6539\n",
      "'''\n",
      "\u5982a = \"2013-10-10 23:40:00\",\u60f3\u6539\u4e3a a = \"2013/10/10 23:40:00\"\n",
      "\u65b9\u6cd5:\u5148\u8f6c\u6362\u4e3a\u65f6\u95f4\u6570\u7ec4,\u7136\u540e\u8f6c\u6362\u4e3a\u5176\u4ed6\u683c\u5f0f\n",
      "'''\n",
      "timeArray = time.strptime(a, \"%Y-%m-%d %H:%M:%S\")\n",
      "otherStyleTime = time.strftime(\"%Y/%m/%d %H:%M:%S\", timeArray)"
     ],
     "language": "python",
     "metadata": {},
     "outputs": [],
     "prompt_number": 3
    },
    {
     "cell_type": "code",
     "collapsed": false,
     "input": [
      "otherStyleTime"
     ],
     "language": "python",
     "metadata": {},
     "outputs": [
      {
       "metadata": {},
       "output_type": "pyout",
       "prompt_number": 4,
       "text": [
        "'2013/10/10 23:40:00'"
       ]
      }
     ],
     "prompt_number": 4
    },
    {
     "cell_type": "code",
     "collapsed": false,
     "input": [
      "# 3.\u65f6\u95f4\u6233\u8f6c\u6362\u4e3a\u6307\u5b9a\u683c\u5f0f\u65e5\u671f\n",
      "# \u65b9\u6cd5\u4e00:\u5229\u7528localtime()\u8f6c\u6362\u4e3a\u65f6\u95f4\u6570\u7ec4,\u7136\u540e\u683c\u5f0f\u5316\u4e3a\u9700\u8981\u7684\u683c\u5f0f,\u5982\uff1a\n",
      "timeStamp = 1381419600\n",
      "timeArray = time.localtime(timeStamp)\n",
      "otherStyleTime = time.strftime(\"%Y-%m-%d %H:%M:%S\", timeArray)\n",
      "otherStyleTime == \"2013-10-10 23:40:00\""
     ],
     "language": "python",
     "metadata": {},
     "outputs": [
      {
       "metadata": {},
       "output_type": "pyout",
       "prompt_number": 5,
       "text": [
        "True"
       ]
      }
     ],
     "prompt_number": 5
    },
    {
     "cell_type": "code",
     "collapsed": false,
     "input": [
      "# \u65b9\u6cd5\u4e8c\n",
      "import datetime\n",
      "timeStamp = 1381419600\n",
      "dateArray = datetime.datetime.utcfromtimestamp(timeStamp)\n",
      "otherStyleTime = dateArray.strftime(\"%Y-%m-%d %H:%M:%S\")\n",
      "otherStyleTime == \"2013-10-10 23:40:00\""
     ],
     "language": "python",
     "metadata": {},
     "outputs": [
      {
       "metadata": {},
       "output_type": "pyout",
       "prompt_number": 6,
       "text": [
        "False"
       ]
      }
     ],
     "prompt_number": 6
    },
    {
     "cell_type": "markdown",
     "metadata": {},
     "source": [
      "4.\u83b7\u53d6\u5f53\u524d\u65f6\u95f4\u5e76\u8f6c\u6362\u4e3a\u6307\u5b9a\u65e5\u671f\u683c\u5f0f"
     ]
    },
    {
     "cell_type": "code",
     "collapsed": false,
     "input": [
      "import time\n",
      "#\u83b7\u5f97\u5f53\u524d\u65f6\u95f4\u65f6\u95f4\u6233\n",
      "now = int(time.time())  # \u8fd9\u662f\u65f6\u95f4\u6233\n",
      "#\u8f6c\u6362\u4e3a\u5176\u4ed6\u65e5\u671f\u683c\u5f0f,\u5982:\"%Y-%m-%d %H:%M:%S\"\n",
      "timeArray = time.localtime(now)\n",
      "otherStyleTime = time.strftime(\"%Y-%m-%d %H:%M:%S\", timeArray)\n",
      "otherStyleTime"
     ],
     "language": "python",
     "metadata": {},
     "outputs": [
      {
       "metadata": {},
       "output_type": "pyout",
       "prompt_number": 7,
       "text": [
        "'2016-07-05 18:42:51'"
       ]
      }
     ],
     "prompt_number": 7
    },
    {
     "cell_type": "code",
     "collapsed": false,
     "input": [
      "import datetime\n",
      "#\u83b7\u5f97\u5f53\u524d\u65f6\u95f4\n",
      "now = datetime.datetime.now()  # \u8fd9\u662f\u65f6\u95f4\u6570\u7ec4\u683c\u5f0f\n",
      "#\u8f6c\u6362\u4e3a\u6307\u5b9a\u7684\u683c\u5f0f:\n",
      "otherStyleTime = now.strftime(\"%Y-%m-%d %H:%M:%S\")\n",
      "otherStyleTime"
     ],
     "language": "python",
     "metadata": {},
     "outputs": [
      {
       "metadata": {},
       "output_type": "pyout",
       "prompt_number": 8,
       "text": [
        "'2016-07-05 18:42:51'"
       ]
      }
     ],
     "prompt_number": 8
    },
    {
     "cell_type": "markdown",
     "metadata": {},
     "source": [
      "*5.\u83b7\u5f97\u4e09\u5929\u524d\u7684\u65f6\u95f4\u7684\u65b9\u6cd5*"
     ]
    },
    {
     "cell_type": "code",
     "collapsed": false,
     "input": [
      "import time\n",
      "import datetime\n",
      "#\u5148\u83b7\u5f97\u65f6\u95f4\u6570\u7ec4\u683c\u5f0f\u7684\u65e5\u671f\n",
      "threeDayAgo = (datetime.datetime.now() - datetime.timedelta(days = 3))\n",
      "#\u8f6c\u6362\u4e3a\u65f6\u95f4\u6233:\n",
      "timeStamp = int(time.mktime(threeDayAgo.timetuple()))\n",
      "#\u8f6c\u6362\u4e3a\u5176\u4ed6\u5b57\u7b26\u4e32\u683c\u5f0f:\n",
      "otherStyleTime = threeDayAgo.strftime(\"%Y-%m-%d %H:%M:%S\")\n",
      "# \u6ce8:timedelta()\u7684\u53c2\u6570\u6709:days,hours,seconds,microseconds"
     ],
     "language": "python",
     "metadata": {},
     "outputs": [],
     "prompt_number": 9
    },
    {
     "cell_type": "markdown",
     "metadata": {},
     "source": [
      "6.\u7ed9\u5b9a\u65f6\u95f4\u6233,\u8ba1\u7b97\u8be5\u65f6\u95f4\u7684\u51e0\u5929\u524d\u65f6\u95f4"
     ]
    },
    {
     "cell_type": "code",
     "collapsed": false,
     "input": [
      "timeStamp = 1381419600\n",
      "#\u5148\u8f6c\u6362\u4e3adatetime\n",
      "import datetime\n",
      "import time\n",
      "dateArray = datetime.datetime.utcfromtimestamp(timeStamp)\n",
      "threeDayAgo = dateArray - datetime.timedelta(days = 3)"
     ],
     "language": "python",
     "metadata": {},
     "outputs": [],
     "prompt_number": 10
    },
    {
     "cell_type": "markdown",
     "metadata": {},
     "source": [
      "python \u8ba1\u7b97\u6628\u5929\u548c\u660e\u5929\u7684\u65e5\u671f"
     ]
    },
    {
     "cell_type": "code",
     "collapsed": false,
     "input": [
      "import datetime\n",
      "today = datetime.date.today()\n",
      "today"
     ],
     "language": "python",
     "metadata": {},
     "outputs": [
      {
       "metadata": {},
       "output_type": "pyout",
       "prompt_number": 11,
       "text": [
        "datetime.date(2016, 7, 5)"
       ]
      }
     ],
     "prompt_number": 11
    },
    {
     "cell_type": "code",
     "collapsed": false,
     "input": [
      "yesterday = today - datetime.timedelta(days = 1)"
     ],
     "language": "python",
     "metadata": {},
     "outputs": [],
     "prompt_number": 12
    },
    {
     "cell_type": "code",
     "collapsed": false,
     "input": [
      "yesterday"
     ],
     "language": "python",
     "metadata": {},
     "outputs": [
      {
       "metadata": {},
       "output_type": "pyout",
       "prompt_number": 13,
       "text": [
        "datetime.date(2016, 7, 4)"
       ]
      }
     ],
     "prompt_number": 13
    },
    {
     "cell_type": "code",
     "collapsed": false,
     "input": [
      "tomorrow = today + datetime.timedelta(days = 2)\n",
      "tomorrow"
     ],
     "language": "python",
     "metadata": {},
     "outputs": [
      {
       "metadata": {},
       "output_type": "pyout",
       "prompt_number": 14,
       "text": [
        "datetime.date(2016, 7, 7)"
       ]
      }
     ],
     "prompt_number": 14
    },
    {
     "cell_type": "raw",
     "metadata": {},
     "source": [
      "print \" \u6628\u5929: %s, \u4eca\u5929:%s, \u540e\u5929: %s\" %(yesterday, today, tomorrow)"
     ]
    },
    {
     "cell_type": "raw",
     "metadata": {},
     "source": [
      "8\u3001python\u91cc\u4f7f\u7528time\u6a21\u5757\u6765\u83b7\u53d6\u5f53\u524d\u7684\u65f6\u95f4 \u65e5\u671f"
     ]
    },
    {
     "cell_type": "code",
     "collapsed": false,
     "input": [
      "import time\n",
      "print time.strftime(\"%H:%M\uff1a%S\")"
     ],
     "language": "python",
     "metadata": {},
     "outputs": [
      {
       "output_type": "stream",
       "stream": "stdout",
       "text": [
        "18:42\uff1a52\n"
       ]
      }
     ],
     "prompt_number": 15
    },
    {
     "cell_type": "code",
     "collapsed": false,
     "input": [
      "## 12 hour format\u3000\uff03\uff03\n",
      "print time.strftime(\"%I:%M :%S\")"
     ],
     "language": "python",
     "metadata": {},
     "outputs": [
      {
       "output_type": "stream",
       "stream": "stdout",
       "text": [
        "06:42 :52\n"
       ]
      }
     ],
     "prompt_number": 16
    },
    {
     "cell_type": "code",
     "collapsed": false,
     "input": [
      "## date ##\n",
      "print time.strftime(\"%Y-%m-%d\")"
     ],
     "language": "python",
     "metadata": {},
     "outputs": [
      {
       "output_type": "stream",
       "stream": "stdout",
       "text": [
        "2016-07-05\n"
       ]
      }
     ],
     "prompt_number": 17
    },
    {
     "cell_type": "markdown",
     "metadata": {},
     "source": [
      "10\u3001\u4f7f\u7528datetime\u6a21\u5757\u6765\u83b7\u53d6\u5f53\u524d\u7684\u65e5\u671f\u548c\u65f6\u95f4"
     ]
    },
    {
     "cell_type": "code",
     "collapsed": false,
     "input": [
      "import datetime\n",
      "i = datetime.datetime.now()\n",
      "i"
     ],
     "language": "python",
     "metadata": {},
     "outputs": [
      {
       "metadata": {},
       "output_type": "pyout",
       "prompt_number": 18,
       "text": [
        "datetime.datetime(2016, 7, 5, 18, 42, 52, 82000)"
       ]
      }
     ],
     "prompt_number": 18
    },
    {
     "cell_type": "code",
     "collapsed": false,
     "input": [
      "print \"\u5f53\u524d\u7684\u65e5\u671f\u548c\u65f6\u95f4\u662f %s\"%i"
     ],
     "language": "python",
     "metadata": {},
     "outputs": [
      {
       "output_type": "stream",
       "stream": "stdout",
       "text": [
        "\u5f53\u524d\u7684\u65e5\u671f\u548c\u65f6\u95f4\u662f 2016-07-05 18:42:52.082000\n"
       ]
      }
     ],
     "prompt_number": 19
    },
    {
     "cell_type": "code",
     "collapsed": false,
     "input": [
      "print \"ISO\u683c\u5f0f\u7684\u65f6\u95f4\u548c\u65e5\u671f\u662f%s\" %i.isoformat()"
     ],
     "language": "python",
     "metadata": {},
     "outputs": [
      {
       "output_type": "stream",
       "stream": "stdout",
       "text": [
        "ISO\u683c\u5f0f\u7684\u65f6\u95f4\u548c\u65e5\u671f\u662f2016-07-05T18:42:52.082000\n"
       ]
      }
     ],
     "prompt_number": 20
    },
    {
     "cell_type": "code",
     "collapsed": false,
     "input": [
      "print \"\u5f53\u524d\u7684\u5e74\u4efd\u662f%s\" % i.year"
     ],
     "language": "python",
     "metadata": {},
     "outputs": [
      {
       "output_type": "stream",
       "stream": "stdout",
       "text": [
        "\u5f53\u524d\u7684\u5e74\u4efd\u662f2016\n"
       ]
      }
     ],
     "prompt_number": 21
    },
    {
     "cell_type": "code",
     "collapsed": false,
     "input": [
      "i.month,i.day"
     ],
     "language": "python",
     "metadata": {},
     "outputs": [
      {
       "metadata": {},
       "output_type": "pyout",
       "prompt_number": 22,
       "text": [
        "(7, 5)"
       ]
      }
     ],
     "prompt_number": 22
    },
    {
     "cell_type": "code",
     "collapsed": false,
     "input": [
      "print \"dd/mm/yyyy\u683c\u5f0f\u662f%s/%s/%s\" % (i.day,i.month,i.year)"
     ],
     "language": "python",
     "metadata": {},
     "outputs": [
      {
       "output_type": "stream",
       "stream": "stdout",
       "text": [
        "dd/mm/yyyy\u683c\u5f0f\u662f5/7/2016\n"
       ]
      }
     ],
     "prompt_number": 23
    },
    {
     "cell_type": "code",
     "collapsed": false,
     "input": [
      "print (\"\u5f53\u524d\u5c0f\u65f6\u662f %s\" %i.hour)\n",
      "print (\"\u5f53\u524d\u5206\u949f\u662f %s\" %i.minute)\n",
      "print (\"\u5f53\u524d\u79d2\u662f  %s\" %i.second)"
     ],
     "language": "python",
     "metadata": {},
     "outputs": [
      {
       "output_type": "stream",
       "stream": "stdout",
       "text": [
        "\u5f53\u524d\u5c0f\u65f6\u662f 18\n",
        "\u5f53\u524d\u5206\u949f\u662f 42\n",
        "\u5f53\u524d\u79d2\u662f  52\n"
       ]
      }
     ],
     "prompt_number": 24
    },
    {
     "cell_type": "markdown",
     "metadata": {},
     "source": [
      "\u9644\uff1a\u65e5\u671f\u548c\u65f6\u95f4\u7684\u683c\u5f0f\u5316\u53c2\u6570\n",
      "%a \u661f\u671f\u51e0\u7684\u7b80\u5199\n",
      "%A \u661f\u671f\u51e0\u7684\u5168\u79f0\n",
      "%b \u6708\u5206\u7684\u7b80\u5199\n",
      "%B \u6708\u4efd\u7684\u5168\u79f0\n",
      "%c \u6807\u51c6\u7684\u65e5\u671f\u7684\u65f6\u95f4\u4e32\n",
      "%C \u5e74\u4efd\u7684\u540e\u4e24\u4f4d\u6570\u5b57\n",
      "%d \u5341\u8fdb\u5236\u8868\u793a\u7684\u6bcf\u6708\u7684\u7b2c\u51e0\u5929\n",
      "%D \u6708/\u5929/\u5e74\n",
      "%e \u5728\u4e24\u5b57\u7b26\u57df\u4e2d\uff0c\u5341\u8fdb\u5236\u8868\u793a\u7684\u6bcf\u6708\u7684\u7b2c\u51e0\u5929\n",
      "%F \u5e74-\u6708-\u65e5\n",
      "%g \u5e74\u4efd\u7684\u540e\u4e24\u4f4d\u6570\u5b57\uff0c\u4f7f\u7528\u57fa\u4e8e\u5468\u7684\u5e74\n",
      "%G \u5e74\u5206\uff0c\u4f7f\u7528\u57fa\u4e8e\u5468\u7684\u5e74\n",
      "%h \u7b80\u5199\u7684\u6708\u4efd\u540d\n",
      "%H 24\u5c0f\u65f6\u5236\u7684\u5c0f\u65f6\n",
      "%I 12\u5c0f\u65f6\u5236\u7684\u5c0f\u65f6\n",
      "%j \u5341\u8fdb\u5236\u8868\u793a\u7684\u6bcf\u5e74\u7684\u7b2c\u51e0\u5929\n",
      "%m \u5341\u8fdb\u5236\u8868\u793a\u7684\u6708\u4efd\n",
      "%M \u5341\u65f6\u5236\u8868\u793a\u7684\u5206\u949f\u6570\n",
      "%n \u65b0\u884c\u7b26\n",
      "%p \u672c\u5730\u7684AM\u6216PM\u7684\u7b49\u4ef7\u663e\u793a\n",
      "%r 12\u5c0f\u65f6\u7684\u65f6\u95f4\n",
      "%R \u663e\u793a\u5c0f\u65f6\u548c\u5206\u949f\uff1ahh:mm\n",
      "%S \u5341\u8fdb\u5236\u7684\u79d2\u6570\n",
      "%t \u6c34\u5e73\u5236\u8868\u7b26\n",
      "%T \u663e\u793a\u65f6\u5206\u79d2\uff1ahh:mm:ss\n",
      "%u \u6bcf\u5468\u7684\u7b2c\u51e0\u5929\uff0c\u661f\u671f\u4e00\u4e3a\u7b2c\u4e00\u5929 \uff08\u503c\u4ece0\u52306\uff0c\u661f\u671f\u4e00\u4e3a0\uff09\n",
      "%U \u7b2c\u5e74\u7684\u7b2c\u51e0\u5468\uff0c\u628a\u661f\u671f\u65e5\u505a\u4e3a\u7b2c\u4e00\u5929\uff08\u503c\u4ece0\u523053\uff09\n",
      "%V \u6bcf\u5e74\u7684\u7b2c\u51e0\u5468\uff0c\u4f7f\u7528\u57fa\u4e8e\u5468\u7684\u5e74\n",
      "%w \u5341\u8fdb\u5236\u8868\u793a\u7684\u661f\u671f\u51e0\uff08\u503c\u4ece0\u52306\uff0c\u661f\u671f\u5929\u4e3a0\uff09\n",
      "%W \u6bcf\u5e74\u7684\u7b2c\u51e0\u5468\uff0c\u628a\u661f\u671f\u4e00\u505a\u4e3a\u7b2c\u4e00\u5929\uff08\u503c\u4ece0\u523053\uff09\n",
      "%x \u6807\u51c6\u7684\u65e5\u671f\u4e32\n",
      "%X \u6807\u51c6\u7684\u65f6\u95f4\u4e32\n",
      "%y \u4e0d\u5e26\u4e16\u7eaa\u7684\u5341\u8fdb\u5236\u5e74\u4efd\uff08\u503c\u4ece0\u523099\uff09\n",
      "%Y \u5e26\u4e16\u7eaa\u90e8\u5206\u7684\u5341\u5236\u5e74\u4efd\n",
      "%z\uff0c%Z \u65f6\u533a\u540d\u79f0\uff0c\u5982\u679c\u4e0d\u80fd\u5f97\u5230\u65f6\u533a\u540d\u79f0\u5219\u8fd4\u56de\u7a7a\u5b57\u7b26\u3002\n",
      "%% \u767e\u5206\u53f7"
     ]
    }
   ],
   "metadata": {}
  }
 ]
}
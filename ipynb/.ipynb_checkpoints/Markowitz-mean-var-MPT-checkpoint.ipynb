{
 "cells": [
  {
   "cell_type": "markdown",
   "metadata": {},
   "source": [
    "最小方差组合理论与实践\n",
    "===="
   ]
  },
  {
   "cell_type": "markdown",
   "metadata": {},
   "source": [
    "### 摘要\n",
    "---\n",
    "- 本文深入浅出介绍了最小方差组合的理论与实践，2007年至今以上证50为基准的回测显示，组合年化波动率为26.4%，低于基准的31.2%，在收益上最小方差组合表现平平（对收益更感兴趣的矿友，可以参考资产配置后续文章，风险平价risk parity）\n",
    "- 在回测上,文中首次采用**`动态Universe`**的方法，对`幸存者偏差`还不熟悉的矿友建议好好看一下文中推荐的研究文章\n",
    "- 文中分享了诸多笔者平时研究的常用工具函数（包括最小方差组合构建相关），感兴趣者可以克隆自行使用"
   ]
  },
  {
   "cell_type": "markdown",
   "metadata": {},
   "source": [
    "### 前言\n",
    "---\n",
    "\n",
    "- 1、资产配置是个很广泛的话题，配置的过程也算是个间接择时的过程，因为高配的资产必然是投资者综合其收益与风险考量后非常看好的\n",
    "\n",
    "- 2、从使用场景分类上来看，资产配置可以是宏观的资产配置，比如货币类、债券类、权益类之间的配置；当然也可以是某一大类资产下的配置，比如在沪深300成分股不同标的之间的权重配置\n",
    "\n",
    "- 3、但不管怎么说，从方法层面上看，对于不同场景下的使用都是一致的，只不过需要注意不同场景使用下的一些特殊处理\n",
    "\n",
    "- 4、本篇作为资产配置研究系列的第一篇，从最简单的最小方差组合入手，理论结合实践，深入浅出\n",
    "\n",
    "- 5、后续会根据时间安排，逐步介绍资产配置领域的相关理论与实践\n"
   ]
  },
  {
   "cell_type": "markdown",
   "metadata": {},
   "source": [
    "### 最小方差组合简介\n",
    "---\n",
    "\n",
    "- 1、先从校园版开始，CAPM给我们提供了一条有效前沿(efficient frontier)，不在有效前沿上的风险组合都是不值得我们去投资的；其实，简单来讲就是要满足在一定风险情况下我们要追求收益最高，或者叫在给定收益约束下追求风险最低；这里面其实已经包含了组合分析的精髓：风险和收益之间的权衡\n",
    "\n",
    "- 2、在实践中，我们会综合考虑收益和风险来构建投资组合，在数学上可以用最大化投资效用来求解投资组合，表示如下：\n",
    "$$max \\quad {\\boldsymbol u' \\boldsymbol w}-{\\frac{\\lambda}{2}\\boldsymbol w'\\boldsymbol \\Omega \\boldsymbol w}$$\n",
    "$$\\boldsymbol w' \\boldsymbol 1 = 1$$\n",
    "$$ w_i \\geq 0$$\n",
    "\t\t上式中：$\\boldsymbol u$为资产的预期收益率（n*1列向量，其余的类似），$\\boldsymbol w$为资产权重，$\\lambda$为投资者风险厌恶系数，$\\boldsymbol \\Omega$为方差协方差矩阵\n",
    "\n",
    "- 3、对于不同的投资经理，最后构建组合的过程归根到底都是优化求解一个庞大的二次规划问题，只是形式上比上式要复杂好多；比如，在目标函数中可以引入交易成本、在约束条件中可以加入行业或风格限制等\n",
    "----\n",
    "- 4、在实际的会发现，预期收益率的好坏对模型结果影响很大，换句话说，优化结果对参数$u$极其敏感；而且对于预期收益的估计也是最难最没有把握的，基于此，很多人就在目标函数中放弃收益项，进而转变为最小化组合风险，如下是所示：\n",
    "$$min \\quad  \\frac{1}{2}\\boldsymbol \\omega' \\boldsymbol \\Omega \\boldsymbol \\omega$$\n",
    "$$\\boldsymbol w' \\boldsymbol1 = 1$$\n",
    "$$ w_i \\geq 0$$\n",
    "\n",
    "- 5、至此，便可以构建最小方差组合，可以看到只需要估计出资产间的`方差协方差矩阵`便可以得到最小方差下的权重配置\n"
   ]
  },
  {
   "cell_type": "markdown",
   "metadata": {},
   "source": [
    "### 估计协方差矩阵\n",
    "---\n",
    "- 根据如上分析，可以看到资产配置问题的核心在于协方差矩阵的估计，下面提供两种常见的实践方法\n",
    "\n",
    "- **方法1：根据历史数据直接估计**\n",
    "\t\t- 直接用历史数据来估计是最简单易用的方法之一，直接取过去一段时间的历史行情，计算资产收益间的协方差矩阵即可\n",
    "\t\t- 一般来说，上面说的一段时间尽量是越长越好；当然还需要综合考虑你的投资时间跨度(invest horizon)\n",
    "\t\t- 另外，估计协方差是可以考虑引入EWMA，简单讲就是离现在更近的数据具有更高的权重\n",
    "\t\t- 当然，更多细节的地方每个人都有自己的处理方式，但整体来说直接用历史数据估计是个非常具有实践价值的方法\n",
    "\t\t\t\n",
    "- **方法2：依赖风险模型**\n",
    "\t\t- 风险模型的使用场景更多集中于权益类，也就是前面提到的某一大类资产下的配置问题\n",
    "\t\t- 从美国市场上看，其已经有诸多专门做风险模型的公司，比如**MSCI（Barra）、Axioma、Northfield**\n",
    "\t\t- 应用第三方已有的风险模型，我们可以更准确地估计出组合的风险，也就是说，上述第三方公司已经帮我们完成了估计协方差的过程\n",
    "---\n",
    "实际中，个人很少有财力去买第三方的风险模型，哪怕是机构也很少；所以下面将用方法1来进行资产配置实例介绍"
   ]
  },
  {
   "cell_type": "code",
   "execution_count": 2,
   "metadata": {
    "collapsed": true
   },
   "outputs": [],
   "source": [
    "import numpy as np\n",
    "import pandas as pd\n",
    "import tushare as ts"
   ]
  },
  {
   "cell_type": "markdown",
   "metadata": {},
   "source": [
    "先给出简单估算协方差矩阵的工具函数（细节与优化部分仁者见仁智者见智，这里不深入讨论）\n",
    "\n",
    "df.cov"
   ]
  },
  {
   "cell_type": "code",
   "execution_count": 25,
   "metadata": {
    "collapsed": false
   },
   "outputs": [],
   "source": [
    "def get_data(secidList):\n",
    "    \"\"\"\n",
    "    输入secid + 日期，获得以此估计出来的年化方差协方差矩阵\n",
    "    \"\"\"\n",
    "    da = []\n",
    "    for each in secidList:\n",
    "        hist_data_each = ts.get_hist_data(each, \"2016-04-28\")  # 获取沪深300指数k线数据\n",
    "        da += [hist_data_each['close']]\n",
    "    data = pd.concat(da, axis=1)\n",
    "    data.columns = secidList\n",
    "    return data"
   ]
  },
  {
   "cell_type": "code",
   "execution_count": 27,
   "metadata": {
    "collapsed": false
   },
   "outputs": [],
   "source": [
    "stock = ['510300','510010','hs300'] # ['510300','510010','hs300']\n",
    "data = get_data(stock)"
   ]
  },
  {
   "cell_type": "code",
   "execution_count": 28,
   "metadata": {
    "collapsed": false
   },
   "outputs": [
    {
     "data": {
      "text/html": [
       "<div>\n",
       "<table border=\"1\" class=\"dataframe\">\n",
       "  <thead>\n",
       "    <tr style=\"text-align: right;\">\n",
       "      <th></th>\n",
       "      <th>510300</th>\n",
       "      <th>510010</th>\n",
       "      <th>hs300</th>\n",
       "    </tr>\n",
       "  </thead>\n",
       "  <tbody>\n",
       "    <tr>\n",
       "      <th>2016-04-28</th>\n",
       "      <td>3.16</td>\n",
       "      <td>0.90</td>\n",
       "      <td>3160.581</td>\n",
       "    </tr>\n",
       "    <tr>\n",
       "      <th>2016-04-29</th>\n",
       "      <td>3.15</td>\n",
       "      <td>0.88</td>\n",
       "      <td>3156.745</td>\n",
       "    </tr>\n",
       "    <tr>\n",
       "      <th>2016-05-03</th>\n",
       "      <td>3.21</td>\n",
       "      <td>0.89</td>\n",
       "      <td>3213.540</td>\n",
       "    </tr>\n",
       "    <tr>\n",
       "      <th>2016-05-04</th>\n",
       "      <td>3.20</td>\n",
       "      <td>0.90</td>\n",
       "      <td>3209.461</td>\n",
       "    </tr>\n",
       "    <tr>\n",
       "      <th>2016-05-05</th>\n",
       "      <td>3.20</td>\n",
       "      <td>0.89</td>\n",
       "      <td>3213.920</td>\n",
       "    </tr>\n",
       "  </tbody>\n",
       "</table>\n",
       "</div>"
      ],
      "text/plain": [
       "            510300  510010     hs300\n",
       "2016-04-28    3.16    0.90  3160.581\n",
       "2016-04-29    3.15    0.88  3156.745\n",
       "2016-05-03    3.21    0.89  3213.540\n",
       "2016-05-04    3.20    0.90  3209.461\n",
       "2016-05-05    3.20    0.89  3213.920"
      ]
     },
     "execution_count": 28,
     "metadata": {},
     "output_type": "execute_result"
    }
   ],
   "source": [
    "data.head()"
   ]
  },
  {
   "cell_type": "code",
   "execution_count": 33,
   "metadata": {
    "collapsed": true
   },
   "outputs": [],
   "source": [
    "def get_log_ret(data):\n",
    "    return np.log(data/data.shift(1)).fillna(0.0)"
   ]
  },
  {
   "cell_type": "code",
   "execution_count": 34,
   "metadata": {
    "collapsed": false
   },
   "outputs": [
    {
     "data": {
      "text/html": [
       "<div>\n",
       "<table border=\"1\" class=\"dataframe\">\n",
       "  <thead>\n",
       "    <tr style=\"text-align: right;\">\n",
       "      <th></th>\n",
       "      <th>510300</th>\n",
       "      <th>510010</th>\n",
       "      <th>hs300</th>\n",
       "    </tr>\n",
       "  </thead>\n",
       "  <tbody>\n",
       "    <tr>\n",
       "      <th>2016-04-28</th>\n",
       "      <td>0.000000</td>\n",
       "      <td>0.000000</td>\n",
       "      <td>0.000000</td>\n",
       "    </tr>\n",
       "    <tr>\n",
       "      <th>2016-04-29</th>\n",
       "      <td>-0.003170</td>\n",
       "      <td>-0.022473</td>\n",
       "      <td>-0.001214</td>\n",
       "    </tr>\n",
       "    <tr>\n",
       "      <th>2016-05-03</th>\n",
       "      <td>0.018868</td>\n",
       "      <td>0.011300</td>\n",
       "      <td>0.017832</td>\n",
       "    </tr>\n",
       "    <tr>\n",
       "      <th>2016-05-04</th>\n",
       "      <td>-0.003120</td>\n",
       "      <td>0.011173</td>\n",
       "      <td>-0.001270</td>\n",
       "    </tr>\n",
       "    <tr>\n",
       "      <th>2016-05-05</th>\n",
       "      <td>0.000000</td>\n",
       "      <td>-0.011173</td>\n",
       "      <td>0.001388</td>\n",
       "    </tr>\n",
       "  </tbody>\n",
       "</table>\n",
       "</div>"
      ],
      "text/plain": [
       "              510300    510010     hs300\n",
       "2016-04-28  0.000000  0.000000  0.000000\n",
       "2016-04-29 -0.003170 -0.022473 -0.001214\n",
       "2016-05-03  0.018868  0.011300  0.017832\n",
       "2016-05-04 -0.003120  0.011173 -0.001270\n",
       "2016-05-05  0.000000 -0.011173  0.001388"
      ]
     },
     "execution_count": 34,
     "metadata": {},
     "output_type": "execute_result"
    }
   ],
   "source": [
    "retData= get_log_ret(data)\n",
    "retData.head()"
   ]
  },
  {
   "cell_type": "code",
   "execution_count": 35,
   "metadata": {
    "collapsed": true
   },
   "outputs": [],
   "source": [
    "def get_covmat(retData, tradeDay=252):\n",
    "    return retData.cov()*tradeDay"
   ]
  },
  {
   "cell_type": "code",
   "execution_count": 37,
   "metadata": {
    "collapsed": false
   },
   "outputs": [
    {
     "data": {
      "text/html": [
       "<div>\n",
       "<table border=\"1\" class=\"dataframe\">\n",
       "  <thead>\n",
       "    <tr style=\"text-align: right;\">\n",
       "      <th></th>\n",
       "      <th>510300</th>\n",
       "      <th>510010</th>\n",
       "      <th>hs300</th>\n",
       "    </tr>\n",
       "  </thead>\n",
       "  <tbody>\n",
       "    <tr>\n",
       "      <th>510300</th>\n",
       "      <td>0.016100</td>\n",
       "      <td>0.010889</td>\n",
       "      <td>0.014258</td>\n",
       "    </tr>\n",
       "    <tr>\n",
       "      <th>510010</th>\n",
       "      <td>0.010889</td>\n",
       "      <td>0.018891</td>\n",
       "      <td>0.010382</td>\n",
       "    </tr>\n",
       "    <tr>\n",
       "      <th>hs300</th>\n",
       "      <td>0.014258</td>\n",
       "      <td>0.010382</td>\n",
       "      <td>0.015033</td>\n",
       "    </tr>\n",
       "  </tbody>\n",
       "</table>\n",
       "</div>"
      ],
      "text/plain": [
       "          510300    510010     hs300\n",
       "510300  0.016100  0.010889  0.014258\n",
       "510010  0.010889  0.018891  0.010382\n",
       "hs300   0.014258  0.010382  0.015033"
      ]
     },
     "execution_count": 37,
     "metadata": {},
     "output_type": "execute_result"
    }
   ],
   "source": [
    "cov_mat = get_covmat(retData)\n",
    "cov_mat.head()"
   ]
  },
  {
   "cell_type": "markdown",
   "metadata": {},
   "source": [
    "### 简单说明几点\n",
    "\n",
    "- 如上计算得到的协方差是最简单的估算方式，用过去三年的历史数据来估计日收益率的协方差矩阵，然后年化\n",
    "\n",
    "- 做得更好一点可以加一些对协方差矩阵的预测，常用的可以比如有EWMA、对角元和非对角元采用不同的方法处理、GARCH建模（具体思路可以借鉴barra risk model handbook）\n",
    "\n",
    "- 在得到协方差矩阵之后，就要构建组合，使得组合的风险最小"
   ]
  },
  {
   "cell_type": "markdown",
   "metadata": {},
   "source": [
    "### 组合优化\n",
    "---\n",
    "\n",
    "- 根据前文描述，我们的组合构建可以简化为求解如下最优问题\n",
    "$$min \\quad  \\frac{1}{2}\\boldsymbol \\omega' \\boldsymbol \\Omega \\boldsymbol \\omega$$\n",
    "$$\\boldsymbol w' \\boldsymbol1 = 1$$\n",
    "$$ w_i \\geq 0$$\n",
    "\n",
    "- 其中$\\boldsymbol \\Omega$ 就是我们估计出来的协方差矩阵，$\\boldsymbol w$即为我们需要优化出来的各个资产的权重\n",
    "        \n",
    "- 在$\\boldsymbol w$没有非负约束的条件下可以引入拉格朗日乘子，求解得到上述优化问题的封闭解，如下所示\n",
    "$$\\boldsymbol w^* = \\frac{\\boldsymbol \\Omega^{-1}\\boldsymbol 1}{\\boldsymbol 1' \\boldsymbol \\Omega^{-1} \\boldsymbol 1}$$\n",
    "\n",
    "- 实际中，由于A股的不好轻易做空限制，在优化组合时都会加上非空的限制，这个时候就需要利用优化器进行优化\n",
    "\n",
    "- 可以看到需要优化的是一个简单的二次优化问题，用python中的CVXOPT可轻松求解，关于CVXOPT的用法可以参见我的另一篇帖子[`如何在Python中利用CVXOPT求解二次规划问题`](https://uqer.io/community/share/55c9a55df9f06c91f818c675)\n",
    "---\n",
    "#### 这里还是简单回顾下，并做最细一步的讲解\n",
    "二次规划问题的标准形式如下：\n",
    "$$min \\quad  \\frac{1}{2}x'Px+qx$$\n",
    "$$s.t.\\quad Gx\\leq h$$\n",
    "$$Ax=b$$\n",
    "然后将我们的优化问题转换为如上的形式，`找到对应的P、q、G、h、A、b，带入优化函数即可求解`：\n",
    "$$min \\quad  \\frac{1}{2} \\omega' \\Omega \\omega$$\n",
    "\n",
    "$$s.t.\\begin{pmatrix} -1  & \\cdots & 0 &  0 \\\\ 0 & -1 &  \\cdots & 0 \\\\ \\vdots & \\vdots & \\vdots &  \\vdots \\\\ 0 & 0 &  \\cdots & -1 \\end{pmatrix}_{n*n} \\begin{pmatrix} \\omega_1 \\\\ \\omega_2 \\\\ \\vdots \\\\ \\omega_n \\end{pmatrix} \\leq \\begin{pmatrix} 0 \\\\ 0 \\\\ \\vdots \\\\ 0 \\end{pmatrix}$$\n",
    "$$\\begin{pmatrix} 1  & \\cdots & 1 &  1 \\end{pmatrix}_{1*n} \\begin{pmatrix} \\omega_1 \\\\ \\omega_2 \\\\ \\vdots \\\\ \\omega_n \\end{pmatrix} = 1$$\n",
    "\n",
    "所以可以很容易得到\n",
    "$$P=\\boldsymbol \\Omega$$\n",
    "$$q=\\begin{pmatrix} 0 \\\\ 0 \\\\ \\vdots \\\\ 0 \\end{pmatrix}$$\n",
    "$$G=\\begin{pmatrix} -1  & \\cdots & 0 &  0 \\\\ 0 & -1 &  \\cdots & 0 \\\\ \\vdots & \\vdots & \\vdots &  \\vdots \\\\ 0 & 0 &  \\cdots & -1 \\end{pmatrix}$$\n",
    "$$h=\\begin{pmatrix} 0 \\\\ 0 \\\\ \\vdots \\\\ 0 \\end{pmatrix}$$\n",
    "$$A=\\begin{pmatrix} 1  & \\cdots & 1 &  1 \\end{pmatrix}$$\n",
    "$$b=\\begin{pmatrix}1 \\end{pmatrix}$$\n",
    "---\n",
    "#### 下面就用前面得到的cov_mat来完整实现一遍优化过程"
   ]
  },
  {
   "cell_type": "code",
   "execution_count": 38,
   "metadata": {
    "collapsed": false
   },
   "outputs": [
    {
     "name": "stdout",
     "output_type": "stream",
     "text": [
      "     pcost       dcost       gap    pres   dres\n",
      " 0:  6.7266e-03 -9.9350e-01  1e+00  0e+00  2e+00\n",
      " 1:  6.7265e-03 -3.5024e-03  1e-02  1e-16  2e-02\n",
      " 2:  6.7185e-03  6.4065e-03  3e-04  8e-17  7e-04\n",
      " 3:  6.6770e-03  6.6487e-03  3e-05  1e-16  3e-18\n",
      " 4:  6.6738e-03  6.6722e-03  2e-06  2e-16  4e-18\n",
      " 5:  6.6738e-03  6.6738e-03  2e-08  6e-17  2e-18\n",
      "Optimal solution found.\n"
     ]
    },
    {
     "data": {
      "text/plain": [
       "510300    0.129177\n",
       "510010    0.340826\n",
       "hs300     0.529998\n",
       "dtype: float64"
      ]
     },
     "execution_count": 38,
     "metadata": {},
     "output_type": "execute_result"
    }
   ],
   "source": [
    "from cvxopt import solvers, matrix\n",
    "\n",
    "# 根据上面的描述写好对应的P、q、G、h、A、b\n",
    "Nums = cov_mat.shape[0]\n",
    "P = matrix(cov_mat.values)\n",
    "q = matrix(np.zeros(Nums))\n",
    "G = matrix(np.diag(-np.ones(Nums)))\n",
    "h = matrix(np.zeros(Nums))\n",
    "A = matrix(np.ones(Nums)).T\n",
    "b = matrix(1.0).T\n",
    "\n",
    "# 代入优化方程求解\n",
    "sol = solvers.qp(P, q, G, h, A, b)\n",
    "wts = pd.Series(index=cov_mat.index, data=np.array(sol['x']).flatten())\n",
    "wts.head()"
   ]
  },
  {
   "cell_type": "markdown",
   "metadata": {},
   "source": [
    "#### 如上，我们便得到了最小方差下的权重配置方案，接下来就看看回测结果如何，先简单说明几点\n",
    "---\n",
    "- 回测之前，先将回测过程中可能用到的函数都打包在下面的cell\n",
    "\n",
    "- 回测过程采用了动态universe的方式，规避了幸存者偏差，平时不清楚这个概念的矿友们可以认真研读下这篇文章：[`量化策略七宗罪`](http://wallstreetcn.com/node/263186)\n",
    "\n",
    "- 对于最小方差组合，可千万别期待其在收益上有多么牛逼的表现，更应该关注其波动\n"
   ]
  },
  {
   "cell_type": "code",
   "execution_count": 39,
   "metadata": {
    "collapsed": true
   },
   "outputs": [],
   "source": [
    "def get_weights(retData):\n",
    "    \n",
    "    cov_mat = get_covmat(retData)\n",
    "    # 根据上面的描述写好对应的P、q、G、h、A、b\n",
    "    Nums = cov_mat.shape[0]\n",
    "    P = matrix(cov_mat.values)\n",
    "    q = matrix(np.zeros(Nums))\n",
    "    G = matrix(np.diag(-np.ones(Nums)))\n",
    "    h = matrix(np.zeros(Nums))\n",
    "    A = matrix(np.ones(Nums)).T\n",
    "    b = matrix(1.0).T\n",
    "\n",
    "    # 代入优化方程求解\n",
    "    solvers.options['show_progress'] = False\n",
    "    sol = solvers.qp(P, q, G, h, A, b)\n",
    "    wts = pd.Series(index=cov_mat.index, data=np.array(sol['x']).flatten())\n",
    "    wts = wts[wts >= 0.0001]  # weights调整，对于权重太小的不予配置\n",
    "    wts_adjusted = wts / wts.sum() * 1.0\n",
    "    return wts_adjusted\n",
    "\n",
    "def get_idx_cons(idx, date):\n",
    "    '''\n",
    "    取某一天某个指数的成分股\n",
    "    '''\n",
    "    \n",
    "    data = DataAPI.IdxConsGet(ticker=idx,intoDate=date,field='',pandas=\"1\")['consTickerSymbol'].apply(lambda x: '%06d' % x)\n",
    "    return list(set(data))\n",
    "\n",
    "def get_halt_tickers(date, universe):\n",
    "    '''\n",
    "    获取某一天的停牌股票\n",
    "    '''\n",
    "\n",
    "    return DataAPI.SecHaltGet(beginDate=date,endDate=date,ticker=universe,field=u\"\",pandas=\"1\")['ticker'].tolist()\n",
    "\n",
    "def get_dates(start_date, end_date, frequency='daily'):\n",
    "    '''\n",
    "    输入起始日期和频率，即可获得日期列表\n",
    "    '''\n",
    "    \n",
    "    data = DataAPI.TradeCalGet(exchangeCD=u\"XSHG\",beginDate=start_date,endDate=end_date,field=u\"calendarDate,isMonthEnd\",pandas=\"1\")\n",
    "    if frequency == 'monthly':\n",
    "        data = data[data['isMonthEnd'] == 1]\n",
    "    else:\n",
    "        raise ValueError('调仓频率必须为monthly！！！')\n",
    "    date_list = map(lambda x: x[0:4]+x[5:7]+x[8:10], data['calendarDate'].values.tolist())\n",
    "    return date_list\n",
    "\n",
    "def ticker2sec(ticker):\n",
    "    '''\n",
    "    将ticker转换为secID\n",
    "    '''\n",
    "    \n",
    "    universe = DataAPI.EquGet(equTypeCD=u\"A\",listStatusCD=\"L,S,DE,UN\",field=u\"ticker,secID\",pandas=\"1\") # 获取所有的A股（包括已退市）\n",
    "    universe = dict(universe.set_index('ticker')['secID'])\n",
    "    if isinstance(ticker, list):\n",
    "        res = []\n",
    "        for i in ticker:\n",
    "            if i in universe:\n",
    "                res.append(universe[i])\n",
    "            else:\n",
    "                print i, ' 在universe中不存在，没有找到对应的secID！'\n",
    "        return res\n",
    "    else:\n",
    "        raise ValueError('ticker should be list！')"
   ]
  },
  {
   "cell_type": "code",
   "execution_count": null,
   "metadata": {
    "collapsed": true
   },
   "outputs": [],
   "source": [
    "# 构建所有的universe\n",
    "date_list = get_dates('20070101', '20160901', 'monthly')\n",
    "res = set()\n",
    "for d in date_list:\n",
    "    tmp = get_idx_cons('000016', d)\n",
    "    res = res | set(tmp)\n",
    "universe = ticker2sec(list(res))\n",
    "\n",
    "start = '2007-01-01'\n",
    "end = '2016-09-14'\n",
    "benchmark = 'SH50'                       # 策略参考标准\n",
    "capital_base = 1000000                     # 起始资金\n",
    "freq = 'd'                              # 策略类型，'d'表示日间策略使用日线回测，'m'表示日内策略使用分钟线回测\n",
    "refresh_rate = 60                          # 调仓频率\n",
    "\n",
    "def initialize(account):                   # 初始化虚拟账户状态\n",
    "    pass\n",
    "\n",
    "def handle_data(account):                  # 每个交易日的买入卖出指令\n",
    "    \n",
    "    # 不断更新日期列表，以此来判断调仓\n",
    "    today = account.current_date.strftime('%Y%m%d')  \n",
    "    yesterday = account.previous_date.strftime('%Y%m%d')  # 向前移动一个工作日\n",
    "    \n",
    "    my_universe = get_idx_cons('000016', yesterday)\n",
    "    suspend_stk = get_halt_tickers(today, my_universe)  # 当日停牌股\n",
    "    my_universe = list(set(my_universe) - set(suspend_stk))\n",
    "    my_universe = ticker2sec(my_universe)\n",
    "    wts = get_weights(my_universe, yesterday).to_dict()\n",
    "\n",
    "    # 交易部分\n",
    "    sell_list = [stk for stk in account.valid_secpos if stk not in wts]\n",
    "    for stk in sell_list:\n",
    "        order_to(stk,0)\n",
    "\n",
    "    c = account.referencePortfolioValue\n",
    "    change = {}\n",
    "    for stock, w in wts.iteritems():\n",
    "        p = account.referencePrice.get(stock, np.nan)\n",
    "        if not np.isnan(p) and p > 0:\n",
    "            change[stock] = int(c * w / p) - account.valid_secpos.get(stock, 0)\n",
    "\n",
    "    for stock in sorted(change, key=change.get):\n",
    "        order(stock, change[stock])"
   ]
  },
  {
   "cell_type": "markdown",
   "metadata": {},
   "source": [
    "### 总结\n",
    "---\n",
    "- 从回测结果上看，最小方差组合收益表现很一般，这一点正如前文的预期一致，因为该方法所追求的就是波动小，而实证结果也显示，组合年化波动率为27.6%，低于基准的31.2%\n",
    "- 另外，本篇的目的在于深入浅出介绍理论与方法，对于很多可以优化的参数只做了最一般的处理，对参数优化感兴趣的朋友可以下去自行研究\n",
    "- 最后，对收益感兴趣的朋友可以关注后续文章，风险平价配置方法risk parity"
   ]
  },
  {
   "cell_type": "code",
   "execution_count": null,
   "metadata": {
    "collapsed": true
   },
   "outputs": [],
   "source": []
  }
 ],
 "metadata": {
  "kernelspec": {
   "display_name": "Python [Root]",
   "language": "python",
   "name": "Python [Root]"
  },
  "language_info": {
   "codemirror_mode": {
    "name": "ipython",
    "version": 2
   },
   "file_extension": ".py",
   "mimetype": "text/x-python",
   "name": "python",
   "nbconvert_exporter": "python",
   "pygments_lexer": "ipython2",
   "version": "2.7.12"
  }
 },
 "nbformat": 4,
 "nbformat_minor": 0
}

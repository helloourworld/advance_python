{
 "cells": [
  {
   "cell_type": "markdown",
   "metadata": {},
   "source": [
    "http://blog.csdn.net/bone_ace/article/details/46718683"
   ]
  },
  {
   "cell_type": "code",
   "execution_count": 1,
   "metadata": {
    "collapsed": true
   },
   "outputs": [],
   "source": [
    "import networkx as nx"
   ]
  },
  {
   "cell_type": "code",
   "execution_count": 2,
   "metadata": {
    "collapsed": true
   },
   "outputs": [],
   "source": [
    "import matplotlib.pyplot as plt"
   ]
  },
  {
   "cell_type": "code",
   "execution_count": null,
   "metadata": {
    "collapsed": false
   },
   "outputs": [],
   "source": [
    "class Node(object):\n",
    "    \"\"\"节点类\"\"\"\n",
    "    def __init__(self, elem=-1, lchild=None, rchild=None):\n",
    "        self.elem = elem\n",
    "        self.lchild = lchild\n",
    "        self.rchild = rchild\n",
    "            \n"
   ]
  },
  {
   "cell_type": "code",
   "execution_count": null,
   "metadata": {
    "collapsed": true
   },
   "outputs": [],
   "source": [
    "class Tree(object):\n",
    "    \"\"\"树类\"\"\"\n",
    "    def __init__(self):\n",
    "        self.root = Node()\n",
    "    \n",
    "    def add(self, elem):\n",
    "        \"\"\"为树加节点\"\"\"\n",
    "        if self.root.elem == -1:\n",
    "            self.root = node\n",
    "        else:\n",
    "            myQueue = []\n",
    "            treeNode = self.root\n",
    "            myQueue.append(treeNode)\n",
    "            while myQueue:\n",
    "                treeNode = myQueue.pop(0)\n",
    "                if tree.Node.lchild == None:\n",
    "                    treeNode.lchild = node\n",
    "                    return\n",
    "                if treeNode.rchild == None:\n",
    "                    treeNode.rchild = node\n",
    "                    return\n",
    "                else:\n",
    "                    myQueue.append(treeNode.lchild)\n",
    "                    myQueue.append(treeNode.rchild)\n"
   ]
  },
  {
   "cell_type": "code",
   "execution_count": null,
   "metadata": {
    "collapsed": false
   },
   "outputs": [],
   "source": [
    "G = nx.Graph()\n",
    "G.add_node(\"spam\")\n",
    "G.add_edge(1,2)\n",
    "print(list(G.nodes()))"
   ]
  },
  {
   "cell_type": "code",
   "execution_count": null,
   "metadata": {
    "collapsed": false
   },
   "outputs": [],
   "source": [
    "print list(G.edges())"
   ]
  },
  {
   "cell_type": "code",
   "execution_count": null,
   "metadata": {
    "collapsed": true
   },
   "outputs": [],
   "source": [
    "nx.draw(G)\n",
    "plt.show()"
   ]
  },
  {
   "cell_type": "code",
   "execution_count": null,
   "metadata": {
    "collapsed": false
   },
   "outputs": [],
   "source": [
    "\"\"\"\n",
    "Create an G{n,m} random graph and compute the eigenvalues.\n",
    "Requires numpy and matplotlib.\n",
    "\"\"\"\n",
    "import networkx as nx\n",
    "import numpy.linalg\n",
    "import matplotlib.pyplot as plt\n",
    "\n",
    "n = 1000 # 1000 nodes\n",
    "m = 5000 # 5000 edges\n",
    "G = nx.gnm_random_graph(n,m)\n",
    "\n",
    "L = nx.normalized_laplacian_matrix(G)\n",
    "e = numpy.linalg.eigvals(L.A)\n",
    "print(\"Largest eigenvalue:\", max(e))\n",
    "print(\"Smallest eigenvalue:\", min(e))\n",
    "plt.hist(e,bins=100) # histogram with 100 bins\n",
    "plt.xlim(0,2)  # eigenvalues between 0 and 2\n",
    "plt.show()"
   ]
  },
  {
   "cell_type": "code",
   "execution_count": null,
   "metadata": {
    "collapsed": true
   },
   "outputs": [],
   "source": []
  }
 ],
 "metadata": {
  "anaconda-cloud": {},
  "kernelspec": {
   "display_name": "Python [Root]",
   "language": "python",
   "name": "Python [Root]"
  },
  "language_info": {
   "codemirror_mode": {
    "name": "ipython",
    "version": 2
   },
   "file_extension": ".py",
   "mimetype": "text/x-python",
   "name": "python",
   "nbconvert_exporter": "python",
   "pygments_lexer": "ipython2",
   "version": "2.7.12"
  }
 },
 "nbformat": 4,
 "nbformat_minor": 0
}

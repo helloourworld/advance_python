{
 "metadata": {
  "name": "",
  "signature": "sha256:b2ff8d5bc0dbce9bb30c4bac4d93030f41f68100ebdeb5043f980eb71a0d6f77"
 },
 "nbformat": 3,
 "nbformat_minor": 0,
 "worksheets": [
  {
   "cells": [
    {
     "cell_type": "code",
     "collapsed": false,
     "input": [
      "# trick 1 print one tree\n",
      "for i in range(0,5)+range(2,8)+range(3,12)+[2,2]:\n",
      "    print' '*(40-2*i-i//2)+'*'*(4*i+1+i)"
     ],
     "language": "python",
     "metadata": {},
     "outputs": [
      {
       "output_type": "stream",
       "stream": "stdout",
       "text": [
        "                                        *\n",
        "                                      ******\n",
        "                                   ***********\n",
        "                                 ****************\n",
        "                              *********************\n",
        "                                   ***********\n",
        "                                 ****************\n",
        "                              *********************\n",
        "                            **************************\n",
        "                         *******************************\n",
        "                       ************************************\n",
        "                                 ****************\n",
        "                              *********************\n",
        "                            **************************\n",
        "                         *******************************\n",
        "                       ************************************\n",
        "                    *****************************************\n",
        "                  **********************************************\n",
        "               ***************************************************\n",
        "             ********************************************************\n",
        "                                   ***********\n",
        "                                   ***********\n"
       ]
      }
     ],
     "prompt_number": 36
    },
    {
     "cell_type": "code",
     "collapsed": false,
     "input": [
      "s = 'string'"
     ],
     "language": "python",
     "metadata": {},
     "outputs": [],
     "prompt_number": 37
    },
    {
     "cell_type": "code",
     "collapsed": false,
     "input": [
      "print type(s)"
     ],
     "language": "python",
     "metadata": {},
     "outputs": [
      {
       "output_type": "stream",
       "stream": "stdout",
       "text": [
        "<type 'str'>\n"
       ]
      }
     ],
     "prompt_number": 38
    },
    {
     "cell_type": "code",
     "collapsed": false,
     "input": [
      "print s[2]\n",
      "s[2] = '0'"
     ],
     "language": "python",
     "metadata": {},
     "outputs": [
      {
       "output_type": "stream",
       "stream": "stdout",
       "text": [
        "r\n"
       ]
      },
      {
       "ename": "TypeError",
       "evalue": "'str' object does not support item assignment",
       "output_type": "pyerr",
       "traceback": [
        "\u001b[1;31m---------------------------------------------------------------------------\u001b[0m\n\u001b[1;31mTypeError\u001b[0m                                 Traceback (most recent call last)",
        "\u001b[1;32m<ipython-input-39-8c0c08262e50>\u001b[0m in \u001b[0;36m<module>\u001b[1;34m()\u001b[0m\n\u001b[0;32m      1\u001b[0m \u001b[1;32mprint\u001b[0m \u001b[0ms\u001b[0m\u001b[1;33m[\u001b[0m\u001b[1;36m2\u001b[0m\u001b[1;33m]\u001b[0m\u001b[1;33m\u001b[0m\u001b[0m\n\u001b[1;32m----> 2\u001b[1;33m \u001b[0ms\u001b[0m\u001b[1;33m[\u001b[0m\u001b[1;36m2\u001b[0m\u001b[1;33m]\u001b[0m \u001b[1;33m=\u001b[0m \u001b[1;34m'0'\u001b[0m\u001b[1;33m\u001b[0m\u001b[0m\n\u001b[0m",
        "\u001b[1;31mTypeError\u001b[0m: 'str' object does not support item assignment"
       ]
      }
     ],
     "prompt_number": 39
    },
    {
     "cell_type": "code",
     "collapsed": false,
     "input": [
      "sba = bytearray(s)\n",
      "sba[3] = \"o\"\n",
      "print sba\n",
      "sba2 = sba\n",
      "del sba\n",
      "print sba2     #\u4ecd\u7136\u5b58\u5728"
     ],
     "language": "python",
     "metadata": {},
     "outputs": [
      {
       "output_type": "stream",
       "stream": "stdout",
       "text": [
        "strong\n",
        "strong\n"
       ]
      }
     ],
     "prompt_number": 40
    },
    {
     "cell_type": "code",
     "collapsed": false,
     "input": [],
     "language": "python",
     "metadata": {},
     "outputs": []
    }
   ],
   "metadata": {}
  }
 ]
}
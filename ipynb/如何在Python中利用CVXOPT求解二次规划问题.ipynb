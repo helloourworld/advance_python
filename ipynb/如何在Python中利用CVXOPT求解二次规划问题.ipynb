{
 "metadata": {
  "signature": "sha256:8d6029ff50f842340a2a7ee3aa5d2a9c38cfebdfc37dd167c852c97361adc0d4"
 },
 "nbformat": 3,
 "nbformat_minor": 0,
 "original_thread": "55c9a55df9f06c91f818c675",
 "worksheets": [
  {
   "cells": [
    {
     "cell_type": "markdown",
     "id": "147F45EFCEF740209D046C92BFC26073",
     "metadata": {},
     "source": [
      "#####  **\u95ee\u9898\u63cf\u8ff0\uff1a**\n",
      "\n",
      "- \u5728\u5b9e\u9645\u751f\u6d3b\u4e2d\uff0c\u6211\u4eec\u7ecf\u5e38\u4f1a\u9047\u5230\u4e00\u4e9b\u4f18\u5316\u95ee\u9898\uff0c\u7b80\u5355\u7684\u7ebf\u6027\u89c4\u5212\u53ef\u4ee5\u4f5c\u56fe\u6c42\u89e3\uff0c\u4f46\u662f\u5bf9\u4e8e\u76ee\u6807\u51fd\u6570\u5305\u542b\u4e8c\u6b21\u9879\u65f6\uff0c\u5219\u9700\u8981\u53e6\u89c5\u5b83\u6cd5\n",
      "\n",
      "- \u5728\u91d1\u878d\u5b9e\u8df5\u4e2d\uff0c\u9a6c\u79d1\u7ef4\u8328\u5747\u65b9\u5dee\u6a21\u578b\u5c31\u6709\u5b9e\u9645\u7684\u4e8c\u6b21\u4f18\u5316\u9700\u6c42"
     ]
    },
    {
     "cell_type": "markdown",
     "id": "7EA9CBFBFD2B4A278451E27D95307F53",
     "metadata": {},
     "source": [
      "##### \u4f5c\u4e3a\u91d1\u878d\u5b9e\u8df5\u4e2d\u5e38\u7528\u7684\u65b9\u6cd5\uff0c\u672c\u7bc7\u5c06\u5bf9CVXOPT\u4e2d\u6c42\u89e3\u4e8c\u6b21\u89c4\u5212\u7684\u95ee\u9898\u8fdb\u884c\u4e3e\u4f8b\u8be6\u7ec6\u8bf4\u660e\uff0c\u5173\u4e8e\u8be5\u65b9\u6cd5\u5728\u5747\u65b9\u5dee\u4f18\u5316\u4e2d\u7684\u5b9e\u8df5\u5e94\u7528\uff0c\u53c2\u89c1\u540e\u7eed\u53d1\u5e16"
     ]
    },
    {
     "cell_type": "markdown",
     "id": "89834EA632DF43F182F058695AB83999",
     "metadata": {},
     "source": [
      "##### **1\u3001\u4e8c\u6b21\u89c4\u5212\u95ee\u9898\u7684\u6807\u51c6\u5f62\u5f0f**\n",
      "$$min \\quad \\frac{1}{2}x^TPx+q^Tx$$\n",
      "$$s.t. \\quad Gx\\leq h $$\n",
      "$$\\qquad Ax=b$$\n",
      "$\\qquad$ \u4e0a\u5f0f\u4e2d\uff0c$x$\u4e3a\u6240\u8981\u6c42\u89e3\u7684\u5217\u5411\u91cf,$x^T$\u8868\u793a$x$\u7684\u8f6c\u7f6e"
     ]
    },
    {
     "cell_type": "markdown",
     "id": "81CCCFBD5E464E5792AEE73F74961332",
     "metadata": {},
     "source": [
      "##### \u63a5\u4e0b\u6765\uff0c\u6309\u6b65\u9aa4\u5bf9\u4e0a\u5f0f\u8fdb\u884c\u76f8\u5173\u8bf4\u660e\uff1a\n",
      "\n",
      "- \u4e0a\u5f0f\u8868\u660e\uff0c\u4efb\u4f55\u4e8c\u6b21\u89c4\u5212\u95ee\u9898\u90fd\u53ef\u4ee5\u8f6c\u5316\u4e3a\u4e0a\u5f0f\u7684\u7ed3\u6784\uff0c\u4e8b\u5b9e\u4e0a\u7528cvxopt\u7684\u7b2c\u4e00\u6b65\u5c31\u662f\u5c06\u5b9e\u9645\u7684\u4e8c\u6b21\u89c4\u5212\u95ee\u9898\u8f6c\u6362\u4e3a\u4e0a\u5f0f\u7684\u7ed3\u6784\uff0c\u5199\u51fa\u5bf9\u5e94\u7684$P$\u3001$q$\u3001$G$\u3001$h$\u3001$A$\u3001$b$\n",
      "\n",
      "- \u76ee\u6807\u51fd\u6570\u82e5\u4e3a\u6c42$max$\uff0c\u53ef\u4ee5\u901a\u8fc7\u4e58\u4ee5$-1$\uff0c\u5c06\u6700\u5927\u5316\u95ee\u9898\u8f6c\u6362\u4e3a\u6700\u5c0f\u5316\u95ee\u9898\n",
      "\n",
      "- $Gx\\leq b$\u8868\u793a\u7684\u662f\u6240\u6709\u7684\u4e0d\u7b49\u5f0f\u7ea6\u675f\uff0c\u540c\u6837\uff0c\u82e5\u5b58\u5728\u8bf8\u5982$x\\geq0$\u7684\u9650\u5236\u6761\u4ef6\uff0c\u4e5f\u53ef\u4ee5\u901a\u8fc7\u4e58\u4ee5$-1$\u8f6c\u6362\u4e3a$\"\\leq\"$\u7684\u5f62\u5f0f\n",
      "\n",
      "- $Ax=b$\u8868\u793a\u6240\u6709\u7684\u7b49\u5f0f\u7ea6\u675f"
     ]
    },
    {
     "cell_type": "markdown",
     "id": "E30DE54D58844685831C5F8C3067C070",
     "metadata": {},
     "source": [
      "##### **2\u3001\u4ee5\u4e00\u4e2a\u6807\u51c6\u7684\u4f8b\u5b50\u8fdb\u884c\u8fc7\u7a0b\u8bf4\u660e**"
     ]
    },
    {
     "cell_type": "markdown",
     "id": "E0EBE48E7D9E4FB3AA5B9C39F78A9032",
     "metadata": {},
     "source": [
      "$$min(x,y) \\quad \\frac{1}{2}x^2 + 3x +4y  $$\n",
      "$$s.t. \\qquad x,y \\geq 0$$\n",
      "$$\\qquad x + 3y \\geq 15$$\n",
      "$$\\qquad 2x + 5y \\leq 100$$\n",
      "$$\\qquad 3x + 4y \\leq 80$$"
     ]
    },
    {
     "cell_type": "markdown",
     "id": "F146F51649C64D2A8B74C2DDB4ADE143",
     "metadata": {},
     "source": [
      "\u4f8b\u5b50\u4e2d\uff0c\u9700\u8981\u6c42\u89e3\u7684\u662f$x,y$\uff0c\u6211\u4eec\u53ef\u4ee5\u628a\u5b83\u5199\u6210\u5411\u91cf\u7684\u5f62\u5f0f\uff0c\u540c\u65f6\uff0c\u4e5f\u9700\u8981\u5c06\u9650\u5236\u6761\u4ef6\u6309\u7167\u4e0a\u8ff0\u6807\u51c6\u5f62\u5f0f\u8fdb\u884c\u8c03\u6574\uff0c\u7528\u77e9\u9635\u5f62\u5f0f\u8868\u793a\uff0c\u5982\u4e0b\u6240\u793a\uff1a"
     ]
    },
    {
     "cell_type": "markdown",
     "id": "172344D4C71B441892491A231658243D",
     "metadata": {},
     "source": [
      "$$min(x,y) \\quad \\frac{1}{2} \\left[ \\begin{matrix} x\\\\y \\end{matrix} \\right]^T \\left[ \\begin{matrix} 1&0\\\\0&0 \\end{matrix}\\right] \\left[ \\begin{matrix} x\\\\y \\end{matrix} \\right] + \\left[ \\begin{matrix} 3\\\\4 \\end{matrix} \\right]^T \\left[ \\begin{matrix} x\\\\y \\end{matrix} \\right]$$\n",
      "$$ \\left[ \\begin{matrix}  -1&0 \\\\ 0&-1 \\\\-1&-3 \\\\ 2&5 \\\\ 3&4 \\end{matrix}\\right] \\left[ \\begin{matrix} x\\\\y \\end{matrix} \\right] \\leq \\left[ \\begin{matrix} 0\\\\0\\\\-15\\\\100\\\\80 \\end{matrix} \\right]$$"
     ]
    },
    {
     "cell_type": "markdown",
     "id": "932AC64D90A94434866AB549AB344257",
     "metadata": {},
     "source": [
      "- \u5982\u4e0a\u6240\u793a\uff0c\u76ee\u6807\u51fd\u6570\u548c\u9650\u5236\u6761\u4ef6\u5747\u8f6c\u5316\u6210\u4e86`\u4e8c\u6b21\u89c4\u5212\u7684\u6807\u51c6\u5f62\u5f0f`\uff0c\u8fd9\u662f\u7b2c\u4e00\u6b65\uff0c\u4e5f\u662f\u6700\u96be\u7684\u4e00\u6b65\uff0c\u63a5\u4e0b\u6765\u7684\u4e8b\u60c5\u5c31\u7b80\u5355\u4e86\n",
      "- \u5bf9\u6bd4\u4e0a\u5f0f\u548c\u6807\u51c6\u5f62\u5f0f\uff0c\u4e0d\u96be\u5f97\u51fa\uff1a\n",
      "$$P=\\left[ \\begin{matrix} 1&0\\\\0&0 \\end{matrix}\\right]\uff0c q = \\left[ \\begin{matrix} 3\\\\4 \\end{matrix} \\right] \uff0cG=\\left[ \\begin{matrix}  -1&0 \\\\ 0&-1 \\\\-1&-3 \\\\ 2&5 \\\\ 3&4 \\end{matrix}\\right]\uff0ch = \\left[ \\begin{matrix} 0\\\\0\\\\-15\\\\100\\\\80 \\end{matrix} \\right] $$"
     ]
    },
    {
     "cell_type": "markdown",
     "id": "C1DC5ACBE44E4BEEAFF83EBC4BA4A0C2",
     "metadata": {},
     "source": [
      "##### \u63a5\u4e0b\u6765\u5c31\u662f\u51e0\u884c\u7b80\u5355\u7684\u4ee3\u7801\uff0c\u76ee\u7684\u662f\u544a\u8bc9\u8ba1\u7b97\u673a\u4e0a\u9762\u7684\u53c2\u6570\u5177\u4f53\u662f\u4ec0\u4e48"
     ]
    },
    {
     "cell_type": "code",
     "collapsed": false,
     "id": "5B3ED30FEAFF4B8B8839889D6354FF5A",
     "input": [
      "from cvxopt  import solvers, matrix \n",
      "P = matrix([[1.0,0.0],[0.0,0.0]])   # matrix\u91cc\u533a\u5206int\u548cdouble\uff0c\u6240\u4ee5\u6570\u5b57\u540e\u9762\u90fd\u9700\u8981\u52a0\u5c0f\u6570\u70b9\n",
      "q = matrix([3.0,4.0])\n",
      "G = matrix([[-1.0,0.0,-1.0,2.0,3.0],[0.0,-1.0,-3.0,5.0,4.0]])\n",
      "h = matrix([0.0,0.0,-15.0,100.0,80.0])\n",
      "\n",
      "sol = solvers.qp(P,q,G,h)   # \u8c03\u7528\u4f18\u5316\u51fd\u6570solvers.qp\u6c42\u89e3\n",
      "print sol['x']  # \u6253\u5370\u7ed3\u679c\uff0csol\u91cc\u9762\u8fd8\u6709\u5f88\u591a\u5176\u4ed6\u5c5e\u6027\uff0c\u8bfb\u8005\u53ef\u4ee5\u81ea\u884c\u4e86\u89e3"
     ],
     "language": "python",
     "metadata": {},
     "outputs": [
      {
       "output_type": "stream",
       "stream": "stdout",
       "text": [
        "     pcost       dcost       gap    pres   dres"
       ]
      },
      {
       "output_type": "stream",
       "stream": "stdout",
       "text": [
        "\n",
        " 0:  1.0780e+02 -7.6366e+02  9e+02  1e-16  4e+01\n",
        " 1:  9.3245e+01  9.7637e+00  8e+01  1e-16  3e+00\n",
        " 2:  6.7311e+01  3.2553e+01  3e+01  6e-17  1e+00\n",
        " 3:  2.6071e+01  1.5068e+01  1e+01  2e-16  7e-01\n",
        " 4:  3.7092e+01  2.3152e+01  1e+01  2e-16  4e-01\n",
        " 5:  2.5352e+01  1.8652e+01  7e+00  8e-17  3e-16\n",
        " 6:  2.0062e+01  1.9974e+01  9e-02  6e-17  3e-16\n",
        " 7:  2.0001e+01  2.0000e+01  9e-04  6e-17  3e-16\n",
        " 8:  2.0000e+01  2.0000e+01  9e-06  9e-17  2e-16\n",
        "Optimal solution found.\n",
        "[ 7.13e-07]\n",
        "[ 5.00e+00]\n",
        "\n"
       ]
      }
     ]
    },
    {
     "cell_type": "markdown",
     "id": "37ED6987DB7C4D2D8108B70292FF7243",
     "metadata": {},
     "source": [
      "- \u770b\u4e86\u4e0a\u9762\u7684\u4ee3\u7801\uff0c\u662f\u4e0d\u662f\u89c9\u5f97\u5f88\u7b80\u5355\u3002\u56e0\u4e3a\u96be\u70b9\u4e0d\u5728\u4ee3\u7801\uff0c\u800c\u662f\u5728\u4e8e\u5c06\u5b9e\u9645\u4f18\u5316\u95ee\u9898\u8f6c\u5316\u4e3a\u6807\u51c6\u5f62\u5f0f\u7684\u8fc7\u7a0b\n",
      "- \u5728\u4e0a\u9762\u7684\u4f8b\u5b50\u4e2d\uff0c\u5e76\u6ca1\u6709\u51fa\u73b0\u7b49\u53f7\uff0c\u5f53\u51fa\u73b0\u7b49\u5f0f\u7ea6\u675f\u65f6\uff0c\u8fc7\u7a0b\u4e00\u6837\uff0c\u627e\u5230A,b\uff0c\u7136\u540e\u8fd0\u884c\u4ee3\u7801 sol = solvers.qp(P,q,G,h,A,b) \u5373\u53ef\u6c42\u89e3"
     ]
    },
    {
     "cell_type": "markdown",
     "id": "FF8335DF5FD848189EC074ADFFF93DFF",
     "metadata": {},
     "source": [
      "##### \u6269\u5c55\uff1a\u4e0a\u8ff0\u5b9a\u4e49\u5404\u4e2a\u77e9\u9635\u53c2\u6570\u7528\u7684\u662f\u6700\u76f4\u63a5\u7684\u65b9\u5f0f\uff0c\u5176\u5b9e\u4e5f\u53ef\u4ee5\u7ed3\u5408Numpy\u6765\u5b9a\u4e49\u4e0a\u8ff0\u77e9\u9635"
     ]
    },
    {
     "cell_type": "code",
     "collapsed": false,
     "id": "11D7617688414B9A85DB0D6717EBDFC5",
     "input": [
      "from cvxopt import solvers, matrix\n",
      "import numpy as np\n",
      "\n",
      "P = matrix(np.diag([1.0,0]))  #  \u5bf9\u4e8e\u4e00\u4e9b\u7279\u6b8a\u77e9\u9635\uff0c\u7528numpy\u521b\u5efa\u4f1a\u65b9\u4fbf\u5f88\u591a\uff08\u5728\u672c\u4f8b\u4e2d\u53ef\u80fd\u611f\u53d7\u4e0d\u5927\uff09\n",
      "q = matrix(np.array([3.0,4]))\n",
      "G = matrix(np.array([[-1.0,0],[0,-1],[-1,-3],[2,5],[3,4]]))\n",
      "h = matrix(np.array([0.0,0,-15,100,80]))\n",
      "sol = solvers.qp(P,q,G,h)"
     ],
     "language": "python",
     "metadata": {},
     "outputs": [
      {
       "output_type": "stream",
       "stream": "stdout",
       "text": [
        "     pcost       dcost       gap    pres   dres"
       ]
      },
      {
       "output_type": "stream",
       "stream": "stdout",
       "text": [
        "\n",
        " 0:  1.0780e+02 -7.6366e+02  9e+02  1e-16  4e+01\n",
        " 1:  9.3245e+01  9.7637e+00  8e+01  1e-16  3e+00\n",
        " 2:  6.7311e+01  3.2553e+01  3e+01  6e-17  1e+00\n",
        " 3:  2.6071e+01  1.5068e+01  1e+01  2e-16  7e-01\n",
        " 4:  3.7092e+01  2.3152e+01  1e+01  2e-16  4e-01\n",
        " 5:  2.5352e+01  1.8652e+01  7e+00  8e-17  3e-16\n",
        " 6:  2.0062e+01  1.9974e+01  9e-02  6e-17  3e-16\n",
        " 7:  2.0001e+01  2.0000e+01  9e-04  6e-17  3e-16\n",
        " 8:  2.0000e+01  2.0000e+01  9e-06  9e-17  2e-16\n",
        "Optimal solution found.\n"
       ]
      }
     ]
    },
    {
     "cell_type": "markdown",
     "id": "A5138683D6E54E718D32A7293C142CFD",
     "metadata": {},
     "source": [
      "##### \u5148\u5199\u5230\u8fd9\u5427\uff0c\u5173\u4e8e\u4e8c\u6b21\u89c4\u5212\u5728\u5747\u65b9\u5dee\u4f18\u5316\u4e2d\u7684\u5b9e\u8df5\u5e94\u7528\uff0c\u53c2\u89c1\u540e\u7eed\u53d1\u5e16\uff0c\u6b22\u8fce\u4ea4\u6d41~~"
     ]
    }
   ],
   "metadata": {}
  }
 ]
}
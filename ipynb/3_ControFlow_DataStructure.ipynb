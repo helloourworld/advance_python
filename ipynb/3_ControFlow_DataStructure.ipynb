{
 "metadata": {
  "name": "",
  "signature": "sha256:61d6977950eb324756b7d9ea4ff61f3b73cc38366fbd3042689f8645e9dcf617"
 },
 "nbformat": 3,
 "nbformat_minor": 0,
 "worksheets": [
  {
   "cells": [
    {
     "cell_type": "code",
     "collapsed": false,
     "input": [
      "for i in xrange(5):\n",
      "    if i > 3:\n",
      "        break\n",
      "    else:\n",
      "        print i,\n",
      "else:\n",
      "    print \"Expectedly Finished\"\n"
     ],
     "language": "python",
     "metadata": {},
     "outputs": [
      {
       "output_type": "stream",
       "stream": "stdout",
       "text": [
        "0 1 2 3\n"
       ]
      }
     ],
     "prompt_number": 1
    },
    {
     "cell_type": "code",
     "collapsed": false,
     "input": [
      "your_salary = 35000\n",
      "your_location = \"Beijing\"\n",
      "if your_salary > 100000:\n",
      "    print \"(\uffe3\uffe3\ufe36)> []\"\n",
      "elif your_salary >= 25000:\n",
      "    print \"<(\uffe3\ufe36\uffe3)/*\"\n",
      "else:\n",
      "    print \"(\uffe3\ufe4f\uffe3) (\uffe3\u02c7\uffe3)\""
     ],
     "language": "python",
     "metadata": {},
     "outputs": [
      {
       "output_type": "stream",
       "stream": "stdout",
       "text": [
        "<(\uffe3\ufe36\uffe3)/*\n"
       ]
      }
     ],
     "prompt_number": 6
    },
    {
     "cell_type": "code",
     "collapsed": false,
     "input": [
      "x,y = 111,17\n",
      "if x < y:\n",
      "    smaller = x\n",
      "else:\n",
      "    smaller = y\n",
      "print smaller"
     ],
     "language": "python",
     "metadata": {},
     "outputs": [
      {
       "output_type": "stream",
       "stream": "stdout",
       "text": [
        "17\n"
       ]
      }
     ],
     "prompt_number": 7
    },
    {
     "cell_type": "code",
     "collapsed": false,
     "input": [
      "smaller = x if x < y else y\n",
      "print smaller"
     ],
     "language": "python",
     "metadata": {},
     "outputs": [
      {
       "output_type": "stream",
       "stream": "stdout",
       "text": [
        "17\n"
       ]
      }
     ],
     "prompt_number": 8
    },
    {
     "cell_type": "code",
     "collapsed": false,
     "input": [
      "x , y  = 3 , 5\n",
      "smaller =  x < y and x or y\n",
      "print smaller\n",
      "\n",
      "x , y  = 5 , 3\n",
      "smaller =  x < y and x or y\n",
      "print smaller"
     ],
     "language": "python",
     "metadata": {},
     "outputs": [
      {
       "output_type": "stream",
       "stream": "stdout",
       "text": [
        "3\n",
        "3\n"
       ]
      }
     ],
     "prompt_number": 9
    },
    {
     "cell_type": "code",
     "collapsed": false,
     "input": [
      "x , y  = 0 , 5 \n",
      "smaller =  x < y and x or y\n",
      "print smaller"
     ],
     "language": "python",
     "metadata": {},
     "outputs": [
      {
       "output_type": "stream",
       "stream": "stdout",
       "text": [
        "5\n"
       ]
      }
     ],
     "prompt_number": 10
    },
    {
     "cell_type": "code",
     "collapsed": false,
     "input": [
      "x , y  = 0.12 , 5 \n",
      "smaller =  x and x < y  or y\n",
      "print smaller"
     ],
     "language": "python",
     "metadata": {},
     "outputs": [
      {
       "output_type": "stream",
       "stream": "stdout",
       "text": [
        "True\n"
       ]
      }
     ],
     "prompt_number": 12
    },
    {
     "cell_type": "code",
     "collapsed": false,
     "input": [
      "print range(10)\n",
      "print range(1,5,1)\n",
      "print range(5,1,-1)\n",
      "for i in xrange(10):\n",
      "    print i ** 2,"
     ],
     "language": "python",
     "metadata": {},
     "outputs": [
      {
       "output_type": "stream",
       "stream": "stdout",
       "text": [
        "[0, 1, 2, 3, 4, 5, 6, 7, 8, 9]\n",
        "[1, 2, 3, 4]\n",
        "[5, 4, 3, 2]\n",
        "0 1 4 9 16 25 36 49 64 81\n"
       ]
      }
     ],
     "prompt_number": 13
    },
    {
     "cell_type": "code",
     "collapsed": false,
     "input": [
      "s = 'string'"
     ],
     "language": "python",
     "metadata": {},
     "outputs": [],
     "prompt_number": 14
    },
    {
     "cell_type": "code",
     "collapsed": false,
     "input": [
      "for each in s:\n",
      "    print each"
     ],
     "language": "python",
     "metadata": {},
     "outputs": [
      {
       "output_type": "stream",
       "stream": "stdout",
       "text": [
        "s\n",
        "t\n",
        "r\n",
        "i\n",
        "n\n",
        "g\n"
       ]
      }
     ],
     "prompt_number": 15
    },
    {
     "cell_type": "code",
     "collapsed": false,
     "input": [
      "for each in s:\n",
      "    print each,"
     ],
     "language": "python",
     "metadata": {},
     "outputs": [
      {
       "output_type": "stream",
       "stream": "stdout",
       "text": [
        "s t r i n g\n"
       ]
      }
     ],
     "prompt_number": 18
    },
    {
     "cell_type": "code",
     "collapsed": false,
     "input": [
      "a = 'Be Enumerated'\n",
      "b = len(a)\n",
      "for eachnum in range(b):\n",
      "    print a[eachnum], \"{0}\".format(float(eachnum))"
     ],
     "language": "python",
     "metadata": {},
     "outputs": [
      {
       "output_type": "stream",
       "stream": "stdout",
       "text": [
        " B 0.0\n",
        "e 1.0\n",
        "  2.0\n",
        "E 3.0\n",
        "n 4.0\n",
        "u 5.0\n",
        "m 6.0\n",
        "e 7.0\n",
        "r 8.0\n",
        "a 9.0\n",
        "t 10.0\n",
        "e 11.0\n",
        "d 12.0\n"
       ]
      }
     ],
     "prompt_number": 25
    },
    {
     "cell_type": "code",
     "collapsed": false,
     "input": [
      "for eachnum,item in enumerate(a):\n",
      "    print eachnum,item"
     ],
     "language": "python",
     "metadata": {},
     "outputs": [
      {
       "output_type": "stream",
       "stream": "stdout",
       "text": [
        "0 B\n",
        "1 e\n",
        "2  \n",
        "3 E\n",
        "4 n\n",
        "5 u\n",
        "6 m\n",
        "7 e\n",
        "8 r\n",
        "9 a\n",
        "10 t\n",
        "11 e\n",
        "12 d\n"
       ]
      }
     ],
     "prompt_number": 26
    },
    {
     "cell_type": "code",
     "collapsed": false,
     "input": [
      "count = 0\n",
      "while count <= 3:\n",
      "    print \"looping {0}\".format(count)\n",
      "    count += 1\n",
      "    print count\n",
      "else:\n",
      "    print \"Finite Loop, {0}\".format(count)\n",
      "\n",
      "count = 0\n",
      "while True:\n",
      "    print \"looping {0}\".format(count)\n",
      "    count += 1\n",
      "    print count\n",
      "    if count > 3:\n",
      "        break\n",
      "else:\n",
      "    print \"Broken Loop\"\n"
     ],
     "language": "python",
     "metadata": {},
     "outputs": [
      {
       "output_type": "stream",
       "stream": "stdout",
       "text": [
        "looping 0\n",
        "1\n",
        "looping 1\n",
        "2\n",
        "looping 2\n",
        "3\n",
        "looping 3\n",
        "4\n",
        "Finite Loop, 4\n",
        "looping 0\n",
        "1\n",
        "looping 1\n",
        "2\n",
        "looping 2\n",
        "3\n",
        "looping 3\n",
        "4\n"
       ]
      }
     ],
     "prompt_number": 28
    },
    {
     "cell_type": "code",
     "collapsed": false,
     "input": [
      "for i in xrange(3):\n",
      "    print i\n",
      "else:\n",
      "    print \"Finished\"\n",
      "print '='*20\n",
      "for i in xrange(3):\n",
      "    if i > 1:\n",
      "        break\n",
      "    print i\n",
      "else:\n",
      "    print \"Finished\""
     ],
     "language": "python",
     "metadata": {},
     "outputs": [
      {
       "output_type": "stream",
       "stream": "stdout",
       "text": [
        "0\n",
        "1\n",
        "2\n",
        "Finished\n",
        "====================\n",
        "0\n",
        "1\n"
       ]
      }
     ],
     "prompt_number": 29
    },
    {
     "cell_type": "code",
     "collapsed": false,
     "input": [
      "a = [1, 0, 2, 4]\n",
      "for element in a:\n",
      "    if element == 0:\n",
      "        continue\n",
      "    print 1. / element"
     ],
     "language": "python",
     "metadata": {},
     "outputs": [
      {
       "output_type": "stream",
       "stream": "stdout",
       "text": [
        "1.0\n",
        "0.5\n",
        "0.25\n"
       ]
      }
     ],
     "prompt_number": 30
    },
    {
     "cell_type": "code",
     "collapsed": false,
     "input": [
      "z = 1 + 1j\n",
      "while True:\n",
      "    if abs(z) > 100:\n",
      "        break\n",
      "    z = z ** 2 + 1\n",
      "    print z"
     ],
     "language": "python",
     "metadata": {},
     "outputs": [
      {
       "output_type": "stream",
       "stream": "stdout",
       "text": [
        "(1+2j)\n",
        "(-2+4j)\n",
        "(-11-16j)\n",
        "(-134+352j)\n"
       ]
      }
     ],
     "prompt_number": 31
    },
    {
     "cell_type": "code",
     "collapsed": false,
     "input": [
      "print (-11 -16j) ** 2"
     ],
     "language": "python",
     "metadata": {},
     "outputs": [
      {
       "output_type": "stream",
       "stream": "stdout",
       "text": [
        "(-135+352j)\n"
       ]
      }
     ],
     "prompt_number": 32
    },
    {
     "cell_type": "code",
     "collapsed": false,
     "input": [
      "print (-135 + 352j) ** 2"
     ],
     "language": "python",
     "metadata": {},
     "outputs": [
      {
       "output_type": "stream",
       "stream": "stdout",
       "text": [
        "(-105679-95040j)\n"
       ]
      }
     ],
     "prompt_number": 33
    },
    {
     "cell_type": "code",
     "collapsed": false,
     "input": [
      "print (-105679 - 95040j) ** 2"
     ],
     "language": "python",
     "metadata": {},
     "outputs": [
      {
       "output_type": "stream",
       "stream": "stdout",
       "text": [
        "(2135449441+20087464320j)\n"
       ]
      }
     ],
     "prompt_number": 34
    },
    {
     "cell_type": "code",
     "collapsed": false,
     "input": [
      "L = ['red', 'blue', 'green', 'black', 'white']"
     ],
     "language": "python",
     "metadata": {},
     "outputs": [],
     "prompt_number": 35
    },
    {
     "cell_type": "code",
     "collapsed": false,
     "input": [
      "print isinstance(L, list)\n",
      "print L[0], L[-1]\n",
      "print L[2:4]\n",
      "print L[:3], L[::2]"
     ],
     "language": "python",
     "metadata": {},
     "outputs": [
      {
       "output_type": "stream",
       "stream": "stdout",
       "text": [
        "True\n",
        "red white\n",
        "['green', 'black']\n",
        "['red', 'blue', 'green'] ['red', 'green', 'white']\n"
       ]
      }
     ],
     "prompt_number": 36
    },
    {
     "cell_type": "code",
     "collapsed": false,
     "input": [
      "M = ['red','blue','green','black','white',42,True]  # \u5217\u8868\u4e2d\u53ef\u4ee5\u5305\u542b\u4e0d\u540c\u7c7b\u578b\u7684\u5143\u7d20\n",
      "M[2:4] = ['Ruby','sapphire']\n",
      "N = M\n",
      "M[-1] = False                                     # \u53ef\u4ee5\u901a\u8fc7\u5207\u7247\u4fee\u6539\n",
      "print N                                           # \u53ef\u53d8\u7c7b\u578b\u7684\u7279\u70b9\uff0c\u4e0d\u76f4\u63a5\u64cd\u4f5cN\uff0cN\u5185\u5bb9\u88ab\u6539\u53d8"
     ],
     "language": "python",
     "metadata": {},
     "outputs": [
      {
       "output_type": "stream",
       "stream": "stdout",
       "text": [
        "['red', 'blue', 'Ruby', 'sapphire', 'white', 42, False]\n"
       ]
      }
     ],
     "prompt_number": 37
    },
    {
     "cell_type": "code",
     "collapsed": false,
     "input": [
      "print M"
     ],
     "language": "python",
     "metadata": {},
     "outputs": [
      {
       "output_type": "stream",
       "stream": "stdout",
       "text": [
        "['red', 'blue', 'Ruby', 'sapphire', 'white', 42, False]\n"
       ]
      }
     ],
     "prompt_number": 38
    },
    {
     "cell_type": "code",
     "collapsed": false,
     "input": [
      "LM = ['red','blue','green','black','white']\n",
      "LM.append('pink')                          # \u5217\u8868\u5c3e\u90e8\u6dfb\u52a0\u4e00\u4e2a\u5143\u7d20\n",
      "popped = LM.pop()                           # \u5220\u9664\u5e76\u8fd4\u56de\u5217\u8868\u6700\u540e\u4e00\u4e2a\u5143\u7d20\n",
      "#\u8bd5\u8bd5LM.pop(0)\n",
      "LM.extend(['pink','purple','purple'])       # \u8bb2extend\u540e\u7684\u5e8f\u5217\u6dfb\u52a0\u5230\u5217\u8868\u4e2d\uff0cextend\u540e\u7684\u5185\u5bb9\u5e94\u8be5\u662f\u53ef\u8fed\u4ee3\u7684\n",
      "LM.remove('purple')                       # \u5220\u9664\u6307\u5b9a\u503c\u7684\u4e00\u4e2a\u5143\u7d20\n",
      "print LM\n",
      "print popped"
     ],
     "language": "python",
     "metadata": {},
     "outputs": [
      {
       "output_type": "stream",
       "stream": "stdout",
       "text": [
        "['red', 'blue', 'green', 'black', 'white', 'pink', 'purple']\n",
        "pink\n"
       ]
      }
     ],
     "prompt_number": 39
    },
    {
     "cell_type": "code",
     "collapsed": false,
     "input": [
      "print LM[::-1]"
     ],
     "language": "python",
     "metadata": {},
     "outputs": [
      {
       "output_type": "stream",
       "stream": "stdout",
       "text": [
        "['purple', 'pink', 'white', 'black', 'green', 'blue', 'red']\n"
       ]
      }
     ],
     "prompt_number": 40
    },
    {
     "cell_type": "code",
     "collapsed": false,
     "input": [
      "print LM.reverse"
     ],
     "language": "python",
     "metadata": {},
     "outputs": [
      {
       "output_type": "stream",
       "stream": "stdout",
       "text": [
        "<built-in method reverse of list object at 0x0000000003EE67C8>\n"
       ]
      }
     ],
     "prompt_number": 41
    },
    {
     "cell_type": "code",
     "collapsed": false,
     "input": [
      "LL = LM.reverse\n",
      "print LL"
     ],
     "language": "python",
     "metadata": {},
     "outputs": [
      {
       "output_type": "stream",
       "stream": "stdout",
       "text": [
        "<built-in method reverse of list object at 0x0000000003EE67C8>\n"
       ]
      }
     ],
     "prompt_number": 42
    },
    {
     "cell_type": "code",
     "collapsed": false,
     "input": [
      "print LM"
     ],
     "language": "python",
     "metadata": {},
     "outputs": [
      {
       "output_type": "stream",
       "stream": "stdout",
       "text": [
        "['red', 'blue', 'green', 'black', 'white', 'pink', 'purple']\n"
       ]
      }
     ],
     "prompt_number": 43
    },
    {
     "cell_type": "code",
     "collapsed": false,
     "input": [
      "print LM * 2"
     ],
     "language": "python",
     "metadata": {},
     "outputs": [
      {
       "output_type": "stream",
       "stream": "stdout",
       "text": [
        "['red', 'blue', 'green', 'black', 'white', 'pink', 'purple', 'red', 'blue', 'green', 'black', 'white', 'pink', 'purple']\n"
       ]
      }
     ],
     "prompt_number": 44
    },
    {
     "cell_type": "code",
     "collapsed": false,
     "input": [
      "print LM + LM"
     ],
     "language": "python",
     "metadata": {},
     "outputs": [
      {
       "output_type": "stream",
       "stream": "stdout",
       "text": [
        "['red', 'blue', 'green', 'black', 'white', 'pink', 'purple', 'red', 'blue', 'green', 'black', 'white', 'pink', 'purple']\n"
       ]
      }
     ],
     "prompt_number": 45
    },
    {
     "cell_type": "code",
     "collapsed": false,
     "input": [
      "LL_Law = M.sort\n",
      "print LL_Law"
     ],
     "language": "python",
     "metadata": {},
     "outputs": [
      {
       "output_type": "stream",
       "stream": "stdout",
       "text": [
        "<built-in method sort of list object at 0x0000000003D03808>\n"
       ]
      }
     ],
     "prompt_number": 46
    },
    {
     "cell_type": "code",
     "collapsed": false,
     "input": [
      "sorted(M)"
     ],
     "language": "python",
     "metadata": {},
     "outputs": [
      {
       "metadata": {},
       "output_type": "pyout",
       "prompt_number": 47,
       "text": [
        "[False, 42, 'Ruby', 'blue', 'red', 'sapphire', 'white']"
       ]
      }
     ],
     "prompt_number": 47
    },
    {
     "cell_type": "code",
     "collapsed": false,
     "input": [
      "LL_law = ['red', 'blue', 'Ruby', 'sapphire', 'white', 42, False]\n",
      "my_precious = \"silmarils\"\n",
      "print my_precious in LL_law\n",
      "if \"Ruby\" in LL_law:\n",
      "    print \"Ok\""
     ],
     "language": "python",
     "metadata": {},
     "outputs": [
      {
       "output_type": "stream",
       "stream": "stdout",
       "text": [
        "False\n",
        "Ok\n"
       ]
      }
     ],
     "prompt_number": 48
    },
    {
     "cell_type": "code",
     "collapsed": false,
     "input": [
      "string = 'Mukatsuku'\n",
      "ls_str = list(string)\n",
      "print ls_str"
     ],
     "language": "python",
     "metadata": {},
     "outputs": [
      {
       "output_type": "stream",
       "stream": "stdout",
       "text": [
        "['M', 'u', 'k', 'a', 't', 's', 'u', 'k', 'u']\n"
       ]
      }
     ],
     "prompt_number": 49
    },
    {
     "cell_type": "code",
     "collapsed": false,
     "input": [],
     "language": "python",
     "metadata": {},
     "outputs": []
    },
    {
     "cell_type": "code",
     "collapsed": false,
     "input": [
      "war3 = ('Orc','Humans','Undead','Night Elves')\n",
      "heros = 'Blade Master','Farseer','Tauren Chieftain','Shadow Hunter'"
     ],
     "language": "python",
     "metadata": {},
     "outputs": [],
     "prompt_number": 50
    },
    {
     "cell_type": "code",
     "collapsed": false,
     "input": [
      "war3copy = war3\n",
      "print war3copy\n",
      "del war3copy\n",
      "print war3copy"
     ],
     "language": "python",
     "metadata": {},
     "outputs": [
      {
       "output_type": "stream",
       "stream": "stdout",
       "text": [
        "('Orc', 'Humans', 'Undead', 'Night Elves')\n"
       ]
      },
      {
       "ename": "NameError",
       "evalue": "name 'war3copy' is not defined",
       "output_type": "pyerr",
       "traceback": [
        "\u001b[1;31m---------------------------------------------------------------------------\u001b[0m\n\u001b[1;31mNameError\u001b[0m                                 Traceback (most recent call last)",
        "\u001b[1;32m<ipython-input-51-34e185e093f6>\u001b[0m in \u001b[0;36m<module>\u001b[1;34m()\u001b[0m\n\u001b[0;32m      2\u001b[0m \u001b[1;32mprint\u001b[0m \u001b[0mwar3copy\u001b[0m\u001b[1;33m\u001b[0m\u001b[0m\n\u001b[0;32m      3\u001b[0m \u001b[1;32mdel\u001b[0m \u001b[0mwar3copy\u001b[0m\u001b[1;33m\u001b[0m\u001b[0m\n\u001b[1;32m----> 4\u001b[1;33m \u001b[1;32mprint\u001b[0m \u001b[0mwar3copy\u001b[0m\u001b[1;33m\u001b[0m\u001b[0m\n\u001b[0m",
        "\u001b[1;31mNameError\u001b[0m: name 'war3copy' is not defined"
       ]
      }
     ],
     "prompt_number": 51
    },
    {
     "cell_type": "code",
     "collapsed": false,
     "input": [
      "t = (42,False,[True],-203+1j)\n",
      "t[2][0] = False"
     ],
     "language": "python",
     "metadata": {},
     "outputs": [],
     "prompt_number": 52
    },
    {
     "cell_type": "code",
     "collapsed": false,
     "input": [
      "print t"
     ],
     "language": "python",
     "metadata": {},
     "outputs": [
      {
       "output_type": "stream",
       "stream": "stdout",
       "text": [
        "(42, False, [False], (-203+1j))\n"
       ]
      }
     ],
     "prompt_number": 53
    },
    {
     "cell_type": "code",
     "collapsed": false,
     "input": [
      "print list(t)"
     ],
     "language": "python",
     "metadata": {},
     "outputs": [
      {
       "output_type": "stream",
       "stream": "stdout",
       "text": [
        "[42, False, [False], (-203+1j)]\n"
       ]
      }
     ],
     "prompt_number": 54
    },
    {
     "cell_type": "code",
     "collapsed": false,
     "input": [
      "war3 = ('Orcs','Humans','Undead','Night Elves')\n",
      "Lord_of_ring = ('Ainur','Dragons','Dwarves','Elves','Ents','Hobbits','Humans','Orcs')\n",
      "test_set = set(war3)\n",
      "train = set(Lord_of_ring)\n",
      "ya_test_set = {'Orcs','Humans','Undead','Night Elves'}"
     ],
     "language": "python",
     "metadata": {},
     "outputs": [],
     "prompt_number": 55
    },
    {
     "cell_type": "code",
     "collapsed": false,
     "input": [
      "print 'Orcs' in test_set"
     ],
     "language": "python",
     "metadata": {},
     "outputs": [
      {
       "output_type": "stream",
       "stream": "stdout",
       "text": [
        "True\n"
       ]
      }
     ],
     "prompt_number": 56
    },
    {
     "cell_type": "code",
     "collapsed": false,
     "input": [
      "print 'Orcs' in train"
     ],
     "language": "python",
     "metadata": {},
     "outputs": [
      {
       "output_type": "stream",
       "stream": "stdout",
       "text": [
        "True\n"
       ]
      }
     ],
     "prompt_number": 57
    },
    {
     "cell_type": "code",
     "collapsed": false,
     "input": [
      "print 'Orcs' in ya_test_set"
     ],
     "language": "python",
     "metadata": {},
     "outputs": [
      {
       "output_type": "stream",
       "stream": "stdout",
       "text": [
        "True\n"
       ]
      }
     ],
     "prompt_number": 59
    },
    {
     "cell_type": "code",
     "collapsed": false,
     "input": [
      "test_set.add('Xmen')"
     ],
     "language": "python",
     "metadata": {},
     "outputs": [],
     "prompt_number": 60
    },
    {
     "cell_type": "code",
     "collapsed": false,
     "input": [
      "print test_set"
     ],
     "language": "python",
     "metadata": {},
     "outputs": [
      {
       "output_type": "stream",
       "stream": "stdout",
       "text": [
        "set(['Undead', 'Xmen', 'Humans', 'Orcs', 'Night Elves'])\n"
       ]
      }
     ],
     "prompt_number": 61
    },
    {
     "cell_type": "code",
     "collapsed": false,
     "input": [
      "test_set.update(['No.16', 'No.17', 'No.18'])\n",
      "print test_set"
     ],
     "language": "python",
     "metadata": {},
     "outputs": [
      {
       "output_type": "stream",
       "stream": "stdout",
       "text": [
        "set(['Undead', 'No.17', 'No.16', 'No.18', 'Humans', 'Orcs', 'Night Elves', 'Xmen'])\n"
       ]
      }
     ],
     "prompt_number": 62
    },
    {
     "cell_type": "code",
     "collapsed": false,
     "input": [
      "for item in ['Xmen', 'No.16', 'No.17', 'No.18']:\n",
      "    test_set.remove(item)\n",
      "print test_set"
     ],
     "language": "python",
     "metadata": {},
     "outputs": [
      {
       "output_type": "stream",
       "stream": "stdout",
       "text": [
        "set(['Undead', 'Humans', 'Orcs', 'Night Elves'])\n"
       ]
      }
     ],
     "prompt_number": 63
    },
    {
     "cell_type": "code",
     "collapsed": false,
     "input": [
      "ftest = frozenset(test_set)\n",
      "print ftest\n",
      "ftest.add('Xmen')"
     ],
     "language": "python",
     "metadata": {},
     "outputs": [
      {
       "output_type": "stream",
       "stream": "stdout",
       "text": [
        "frozenset(['Undead', 'Humans', 'Orcs', 'Night Elves'])\n"
       ]
      },
      {
       "ename": "AttributeError",
       "evalue": "'frozenset' object has no attribute 'add'",
       "output_type": "pyerr",
       "traceback": [
        "\u001b[1;31m---------------------------------------------------------------------------\u001b[0m\n\u001b[1;31mAttributeError\u001b[0m                            Traceback (most recent call last)",
        "\u001b[1;32m<ipython-input-64-14a6fa50a9f5>\u001b[0m in \u001b[0;36m<module>\u001b[1;34m()\u001b[0m\n\u001b[0;32m      1\u001b[0m \u001b[0mftest\u001b[0m \u001b[1;33m=\u001b[0m \u001b[0mfrozenset\u001b[0m\u001b[1;33m(\u001b[0m\u001b[0mtest_set\u001b[0m\u001b[1;33m)\u001b[0m\u001b[1;33m\u001b[0m\u001b[0m\n\u001b[0;32m      2\u001b[0m \u001b[1;32mprint\u001b[0m \u001b[0mftest\u001b[0m\u001b[1;33m\u001b[0m\u001b[0m\n\u001b[1;32m----> 3\u001b[1;33m \u001b[0mftest\u001b[0m\u001b[1;33m.\u001b[0m\u001b[0madd\u001b[0m\u001b[1;33m(\u001b[0m\u001b[1;34m'Xmen'\u001b[0m\u001b[1;33m)\u001b[0m\u001b[1;33m\u001b[0m\u001b[0m\n\u001b[0m",
        "\u001b[1;31mAttributeError\u001b[0m: 'frozenset' object has no attribute 'add'"
       ]
      }
     ],
     "prompt_number": 64
    },
    {
     "cell_type": "code",
     "collapsed": false,
     "input": [
      "print test_set==train   #\u5224\u65ad\u662f\u5426\u76f8\u7b49\n",
      "print test_set<train    #\u5224\u65ad\u662f\u5426\u662f\u5b50\u96c6\n",
      "print test_set>train    #\u5224\u65ad\u662f\u5426\u662f\u8d85\u96c6\n",
      "print test_set&train    #\u6c42\u4ea4\u96c6\n",
      "print test_set|train    #\u6c42\u5e76\u96c6\n",
      "print train-test_set    #\u6c42\u5dee\u96c6\n",
      "print test_set^train    #\u6c42\u5f02\u6216\n",
      "\n",
      "print test_set^train == ((train-test_set) | (test_set-train))\n",
      "rint test_spet^train == (train | test_set) - (train & test_set)"
     ],
     "language": "python",
     "metadata": {},
     "outputs": [
      {
       "output_type": "stream",
       "stream": "stdout",
       "text": [
        "False\n",
        "False\n",
        "False\n",
        "set(['Humans', 'Orcs'])\n",
        "set(['Undead', 'Hobbits', 'Dwarves', 'Humans', 'Orcs', 'Night Elves', 'Dragons', 'Ents', 'Ainur', 'Elves'])\n",
        "set(['Hobbits', 'Dwarves', 'Dragons', 'Ents', 'Ainur', 'Elves'])\n",
        "set(['Undead', 'Hobbits', 'Dwarves', 'Night Elves', 'Dragons', 'Ents', 'Ainur', 'Elves'])\n",
        "True\n",
        "True\n"
       ]
      }
     ],
     "prompt_number": 65
    },
    {
     "cell_type": "code",
     "collapsed": false,
     "input": [
      "print test_set^train"
     ],
     "language": "python",
     "metadata": {},
     "outputs": [
      {
       "output_type": "stream",
       "stream": "stdout",
       "text": [
        "set(['Undead', 'Hobbits', 'Dwarves', 'Night Elves', 'Dragons', 'Ents', 'Ainur', 'Elves'])\n"
       ]
      }
     ],
     "prompt_number": 66
    },
    {
     "cell_type": "code",
     "collapsed": false,
     "input": [
      "language={\"Scala\":\"Martin Odersky\",\"Clojure\":\"Richy Hickey\",\"C\":\"Dennis Ritchie\",\"Standard ML\":\"Robin Milner\"}"
     ],
     "language": "python",
     "metadata": {},
     "outputs": [],
     "prompt_number": 67
    },
    {
     "cell_type": "code",
     "collapsed": false,
     "input": [
      "print language.keys() #key"
     ],
     "language": "python",
     "metadata": {},
     "outputs": [
      {
       "output_type": "stream",
       "stream": "stdout",
       "text": [
        "['Standard ML', 'C', 'Clojure', 'Scala']\n"
       ]
      }
     ],
     "prompt_number": 68
    },
    {
     "cell_type": "code",
     "collapsed": false,
     "input": [
      "print language.values() #value"
     ],
     "language": "python",
     "metadata": {},
     "outputs": [
      {
       "output_type": "stream",
       "stream": "stdout",
       "text": [
        "['Robin Milner', 'Dennis Ritchie', 'Richy Hickey', 'Martin Odersky']\n"
       ]
      }
     ],
     "prompt_number": 69
    },
    {
     "cell_type": "code",
     "collapsed": false,
     "input": [
      "print language.items() #item"
     ],
     "language": "python",
     "metadata": {},
     "outputs": [
      {
       "output_type": "stream",
       "stream": "stdout",
       "text": [
        "[('Standard ML', 'Robin Milner'), ('C', 'Dennis Ritchie'), ('Clojure', 'Richy Hickey'), ('Scala', 'Martin Odersky')]\n"
       ]
      }
     ],
     "prompt_number": 70
    },
    {
     "cell_type": "code",
     "collapsed": false,
     "input": [
      "print language.iterkeys()  #\u53d6\u5f97\u4e0a\u8ff0\u5185\u5bb9\u7684iterable"
     ],
     "language": "python",
     "metadata": {},
     "outputs": [
      {
       "output_type": "stream",
       "stream": "stdout",
       "text": [
        "<dictionary-keyiterator object at 0x0000000003F01598>\n"
       ]
      }
     ],
     "prompt_number": 71
    },
    {
     "cell_type": "code",
     "collapsed": false,
     "input": [
      "print language.itervalues()"
     ],
     "language": "python",
     "metadata": {},
     "outputs": [
      {
       "output_type": "stream",
       "stream": "stdout",
       "text": [
        "<dictionary-valueiterator object at 0x0000000003F01638>\n"
       ]
      }
     ],
     "prompt_number": 72
    },
    {
     "cell_type": "code",
     "collapsed": false,
     "input": [
      "print language.iteritems()"
     ],
     "language": "python",
     "metadata": {},
     "outputs": [
      {
       "output_type": "stream",
       "stream": "stdout",
       "text": [
        "<dictionary-itemiterator object at 0x0000000003F016D8>\n"
       ]
      }
     ],
     "prompt_number": 73
    },
    {
     "cell_type": "code",
     "collapsed": false,
     "input": [
      "# \u8fed\u4ee3\u5668\n",
      "for key in language:\n",
      "    print 'key={0}, value={1}'.format(key,language[key])"
     ],
     "language": "python",
     "metadata": {},
     "outputs": [
      {
       "output_type": "stream",
       "stream": "stdout",
       "text": [
        "key=Standard ML, value=Robin Milner\n",
        "key=C, value=Dennis Ritchie\n",
        "key=Clojure, value=Richy Hickey\n",
        "key=Scala, value=Martin Odersky\n"
       ]
      }
     ],
     "prompt_number": 74
    },
    {
     "cell_type": "code",
     "collapsed": false,
     "input": [
      "language.get(\"Haskell\",\"They hardly understand IT\")"
     ],
     "language": "python",
     "metadata": {},
     "outputs": [
      {
       "metadata": {},
       "output_type": "pyout",
       "prompt_number": 75,
       "text": [
        "'They hardly understand IT'"
       ]
      }
     ],
     "prompt_number": 75
    },
    {
     "cell_type": "code",
     "collapsed": false,
     "input": [],
     "language": "python",
     "metadata": {},
     "outputs": []
    }
   ],
   "metadata": {}
  }
 ]
}
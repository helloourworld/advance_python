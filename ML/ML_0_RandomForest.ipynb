{
 "metadata": {
  "name": "",
  "signature": "sha256:23b4c1a84c68a3a94221306812ebe74fd56cda50eb253f2e681b4808a763a4f7"
 },
 "nbformat": 3,
 "nbformat_minor": 0,
 "worksheets": [
  {
   "cells": [
    {
     "cell_type": "markdown",
     "metadata": {},
     "source": [
      "\u673a\u5668\u5b66\u4e60\u7b97\u6cd5\u7cfb\u5217\u6559\u7a0b\n",
      "==================\n",
      "\u6b22\u8fce\u60a8\u7684\u8bbf\u95ee\uff01\n",
      "\u4f5c\u8005\uff1aLijun Yu\uff08davidyjun\uff09\u5927\u536b\u541b\n",
      "\n",
      "\u8bbf\u95ee\u7f51\u5740\uff1a[@\u673a\u5668\u5b66\u4e60_\u5927\u536b\u541b](http://blog.sina.com.cn/u/2672280861)\n"
     ]
    },
    {
     "cell_type": "heading",
     "level": 2,
     "metadata": {},
     "source": [
      "\u673a\u5668\u5b66\u4e60\u7b97\u6cd5\u4e4b\u968f\u673a\u68ee\u6797"
     ]
    },
    {
     "cell_type": "markdown",
     "metadata": {},
     "source": [
      "\u968f\u673a\u68ee\u6797\u662f\u6570\u636e\u6316\u6398\u4e2d\u975e\u5e38\u5e38\u7528\u7684\u5206\u7c7b\u9884\u6d4b\u7b97\u6cd5\uff0c\u4ee5\u5206\u7c7b\u6216\u56de\u5f52\u7684\u51b3\u7b56\u6811\u4e3a\u57fa\u5206\u7c7b\u5668\u3002\n",
      "\n",
      "\u7b97\u6cd5\u8981\u70b9\uff1a\n",
      ">1 each tree in the ensemble is built from a sample drawn with replacement \n",
      "from the trainning set.\n",
      "\uff08\u6709\u9650\u6b21\u6709\u653e\u56de\u62bd\u6837\uff09\n",
      "\n",
      ">2 when splitting a node during the construction of the tree, the split \n",
      "that is chosen is no longer the best split among all features.the split\n",
      "that is picked is the best split among a random subset of the features\n",
      "\uff08\u5355\u68f5\u6811\u6700\u597d\uff0c\u975e\u5168\u5c40\u6700\u597d\uff09\n",
      "\n",
      "\u53c2\u8003sklearn(http://scikit-learn.org/stable/modules/ensemble.html#random-forests)"
     ]
    },
    {
     "cell_type": "markdown",
     "metadata": {},
     "source": [
      "1.\u4ee3\u7801\u793a\u4f8b\n",
      "---------\n",
      "\u4f8b\uff1a\u4ee5\u7ecf\u5178\u7684Kaggle\"\u6cf0\u5766\u5c3c\u514b\u53f7\"\u4e58\u5ba2\u7684\u6570\u636e\u96c6\u5efa\u6a21\u8bf4\u660e\u3002\u6570\u636e[https://www.kaggle.com/c/titanic]"
     ]
    },
    {
     "cell_type": "code",
     "collapsed": false,
     "input": [
      "from model import *"
     ],
     "language": "python",
     "metadata": {},
     "outputs": [
      {
       "ename": "ImportError",
       "evalue": "No module named model",
       "output_type": "pyerr",
       "traceback": [
        "\u001b[1;31m---------------------------------------------------------------------------\u001b[0m\n\u001b[1;31mImportError\u001b[0m                               Traceback (most recent call last)",
        "\u001b[1;32m<ipython-input-1-7ecd2140e8d8>\u001b[0m in \u001b[0;36m<module>\u001b[1;34m()\u001b[0m\n\u001b[1;32m----> 1\u001b[1;33m \u001b[1;32mfrom\u001b[0m \u001b[0mmodel\u001b[0m \u001b[1;32mimport\u001b[0m \u001b[1;33m*\u001b[0m\u001b[1;33m\u001b[0m\u001b[0m\n\u001b[0m",
        "\u001b[1;31mImportError\u001b[0m: No module named model"
       ]
      }
     ],
     "prompt_number": 1
    },
    {
     "cell_type": "raw",
     "metadata": {},
     "source": [
      "http://blog.csdn.net/lo_cima/article/details/50533010#"
     ]
    }
   ],
   "metadata": {}
  }
 ]
}
{
 "cells": [
  {
   "cell_type": "markdown",
   "metadata": {},
   "source": [
    "__This is a script for Test__\n",
    "-----"
   ]
  },
  {
   "cell_type": "code",
   "execution_count": 5,
   "metadata": {
    "collapsed": false
   },
   "outputs": [
    {
     "name": "stdout",
     "output_type": "stream",
     "text": [
      "input your age-lL\n",
      "Could not convert data to an integer.\n",
      "Goodbye!\n"
     ]
    }
   ],
   "source": [
    "s = raw_input(\"input your age\")\n",
    "if s == \"\":\n",
    "    raise Exception(\"Input must not be empty\")\n",
    "try:\n",
    "    i = int(s)\n",
    "except ValueError:\n",
    "    print \"Could not convert data to an integer.\"\n",
    "except:\n",
    "    print \"Unknown exception!\"\n",
    "else:\n",
    "    print \"you are %d years old\" %i\n",
    "finally:\n",
    "    print \"Goodbye!\""
   ]
  },
  {
   "cell_type": "code",
   "execution_count": null,
   "metadata": {
    "collapsed": true
   },
   "outputs": [],
   "source": []
  }
 ],
 "metadata": {
  "kernelspec": {
   "display_name": "Python [Root]",
   "language": "python",
   "name": "Python [Root]"
  },
  "language_info": {
   "codemirror_mode": {
    "name": "ipython",
    "version": 2
   },
   "file_extension": ".py",
   "mimetype": "text/x-python",
   "name": "python",
   "nbconvert_exporter": "python",
   "pygments_lexer": "ipython2",
   "version": "2.7.12"
  }
 },
 "nbformat": 4,
 "nbformat_minor": 0
}

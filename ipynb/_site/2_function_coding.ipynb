{
 "metadata": {
  "name": "",
  "signature": "sha256:b270534d411829a807e9b1b1948e57e2d757817c6efec63f0e283a9bc045a2b7"
 },
 "nbformat": 3,
 "nbformat_minor": 0,
 "worksheets": [
  {
   "cells": [
    {
     "cell_type": "heading",
     "level": 1,
     "metadata": {},
     "source": [
      "\u6c42\u548c\u95ee\u9898\n",
      "\u547d\u4ee4\u5f0f \u51fd\u6570\u5f0f \u5bf9\u8c61\u5f0f"
     ]
    },
    {
     "cell_type": "markdown",
     "metadata": {},
     "source": [
      "\u547d\u4ee4\u5f0f"
     ]
    },
    {
     "cell_type": "markdown",
     "metadata": {},
     "source": [
      " x=1 y = 2 \u6c42 x\u548cy\u7684\u548c\n",
      "\u6c42 x\u548cy\u7684\u5e73\u65b9\u7684\u548c\n",
      "\u6c42 x\u7684m\u6b21\u65b9\u4e0en\u6b21\u65b9\u7684\u548c"
     ]
    },
    {
     "cell_type": "code",
     "collapsed": false,
     "input": [
      "# \u547d\u4ee4\u5f0f\n",
      "def sum1(x, y):\n",
      "    return x + y\n",
      "def sum2(x, y):\n",
      "    return x ** 2 + y ** 2\n",
      "def sum3(x, y, m, n):\n",
      "    return x ** m + y ** n"
     ],
     "language": "python",
     "metadata": {},
     "outputs": [],
     "prompt_number": 1
    },
    {
     "cell_type": "code",
     "collapsed": false,
     "input": [
      "print sum1(1, 2)\n",
      "print sum2(1, 2)\n",
      "print sum3(1, 2, 3, 4)"
     ],
     "language": "python",
     "metadata": {},
     "outputs": [
      {
       "output_type": "stream",
       "stream": "stdout",
       "text": [
        "3\n",
        "5\n",
        "17\n"
       ]
      }
     ],
     "prompt_number": 2
    },
    {
     "cell_type": "code",
     "collapsed": false,
     "input": [
      "# \u5bf9\u8c61\u5f0f\n",
      "class Sum:\n",
      "    def __init__(self, x, y):\n",
      "        self.x, self.y = x, y\n",
      "    \n",
      "    def sum(self, m=1, n=1):\n",
      "        return self.x ** m + self.y ** n\n",
      "    \n",
      "    \n",
      "S = Sum(1, 2)\n",
      "print S.sum()\n",
      "print S.sum(2, 2)\n",
      "print S.sum(3, 4)"
     ],
     "language": "python",
     "metadata": {},
     "outputs": [
      {
       "output_type": "stream",
       "stream": "stdout",
       "text": [
        "3\n",
        "5\n",
        "17\n"
       ]
      }
     ],
     "prompt_number": 3
    },
    {
     "cell_type": "code",
     "collapsed": false,
     "input": [
      "# \u51fd\u6570\u5f0f\n",
      "def sum(x, y, f, g):\n",
      "    return f(x) + g(y)\n",
      "\n",
      "def f1(x):\n",
      "    return x\n",
      "def f2(x):\n",
      "    return x**2\n",
      "def f3(x):\n",
      "    return x**3\n",
      "def f4(x):\n",
      "    return x**4\n",
      "\n"
     ],
     "language": "python",
     "metadata": {},
     "outputs": [],
     "prompt_number": 4
    },
    {
     "cell_type": "code",
     "collapsed": false,
     "input": [
      "sum(1, 2, f1, f1)"
     ],
     "language": "python",
     "metadata": {},
     "outputs": [
      {
       "metadata": {},
       "output_type": "pyout",
       "prompt_number": 5,
       "text": [
        "3"
       ]
      }
     ],
     "prompt_number": 5
    },
    {
     "cell_type": "code",
     "collapsed": false,
     "input": [
      "sum(1, 2, f2, f2)"
     ],
     "language": "python",
     "metadata": {},
     "outputs": [
      {
       "metadata": {},
       "output_type": "pyout",
       "prompt_number": 6,
       "text": [
        "5"
       ]
      }
     ],
     "prompt_number": 6
    },
    {
     "cell_type": "code",
     "collapsed": false,
     "input": [
      "sum(1, 2, f3, f4)"
     ],
     "language": "python",
     "metadata": {},
     "outputs": [
      {
       "metadata": {},
       "output_type": "pyout",
       "prompt_number": 7,
       "text": [
        "17"
       ]
      }
     ],
     "prompt_number": 7
    },
    {
     "cell_type": "code",
     "collapsed": false,
     "input": [
      "# function_coding\n",
      "def sum(x, y, f, g):\n",
      "    return f(x) + g(y)\n",
      "\n",
      "def generate_func(k):\n",
      "    def func(x):\n",
      "        return x**k\n",
      "    return func\n"
     ],
     "language": "python",
     "metadata": {},
     "outputs": [],
     "prompt_number": 8
    },
    {
     "cell_type": "code",
     "collapsed": false,
     "input": [
      "sum(1, 2, generate_func(1), generate_func(1))"
     ],
     "language": "python",
     "metadata": {},
     "outputs": [
      {
       "metadata": {},
       "output_type": "pyout",
       "prompt_number": 9,
       "text": [
        "3"
       ]
      }
     ],
     "prompt_number": 9
    },
    {
     "cell_type": "code",
     "collapsed": false,
     "input": [
      "sum(1, 2, generate_func(2), generate_func(2))"
     ],
     "language": "python",
     "metadata": {},
     "outputs": [
      {
       "metadata": {},
       "output_type": "pyout",
       "prompt_number": 10,
       "text": [
        "5"
       ]
      }
     ],
     "prompt_number": 10
    },
    {
     "cell_type": "code",
     "collapsed": false,
     "input": [
      "sum(1, 2, generate_func(3), generate_func(4))"
     ],
     "language": "python",
     "metadata": {},
     "outputs": [
      {
       "metadata": {},
       "output_type": "pyout",
       "prompt_number": 11,
       "text": [
        "17"
       ]
      }
     ],
     "prompt_number": 11
    },
    {
     "cell_type": "code",
     "collapsed": false,
     "input": [
      "def gen_func(x):\n",
      "    def func(k):\n",
      "        return x ** k\n",
      "    return func"
     ],
     "language": "python",
     "metadata": {},
     "outputs": [],
     "prompt_number": 12
    },
    {
     "cell_type": "code",
     "collapsed": false,
     "input": [
      "sum(1, 2, gen_func(3), gen_func(4))"
     ],
     "language": "python",
     "metadata": {},
     "outputs": [
      {
       "metadata": {},
       "output_type": "pyout",
       "prompt_number": 13,
       "text": [
        "19"
       ]
      }
     ],
     "prompt_number": 13
    },
    {
     "cell_type": "code",
     "collapsed": false,
     "input": [
      "def gen_func2(m, n):\n",
      "    def func(x):\n",
      "        return (x/m) ** n\n",
      "    return func\n",
      "\n",
      "sum(6, 6, gen_func2(3,4),gen_func(1))"
     ],
     "language": "python",
     "metadata": {},
     "outputs": [
      {
       "metadata": {},
       "output_type": "pyout",
       "prompt_number": 14,
       "text": [
        "17"
       ]
      }
     ],
     "prompt_number": 14
    },
    {
     "cell_type": "code",
     "collapsed": false,
     "input": [
      "sum(6, 6, gen_func2(3,4), generate_func(1))"
     ],
     "language": "python",
     "metadata": {},
     "outputs": [
      {
       "metadata": {},
       "output_type": "pyout",
       "prompt_number": 15,
       "text": [
        "22"
       ]
      }
     ],
     "prompt_number": 15
    },
    {
     "cell_type": "markdown",
     "metadata": {},
     "source": [
      "3.1 \u9ad8\u9636\u51fd\u6570 Higher-order Function\n",
      "==="
     ]
    },
    {
     "cell_type": "markdown",
     "metadata": {},
     "source": [
      "generate_func\u53ef\u4ee5\u52a8\u6001\u751f\u6210\u51fd\u6570\uff0c\u65e0\u9700\u4eba\u5de5\u86ee\u529b\u5b9a\u4e49\uff0c\u7701\u65f6\u7701\u529b\uff0c\u6700\u5927\u7684\u597d\u5904\u662f\u751f\u6210\u7684\u51fd\u6570\u6709\u65e0\u9650\u4e2a\uff0c\u8fd9\u662f\u4eba\u5de5\u6240\u4e0d\u53ca\u7684\u3002"
     ]
    },
    {
     "cell_type": "markdown",
     "metadata": {},
     "source": [
      "\u9ad8\u9636\u51fd\u6570\u5c31\u662fgenerate_func\u8fd9\u6837\u7684\u51fd\u6570\uff0c\u8981\u4e48\u8f93\u5165\u4e2d\u81f3\u5c11\u6709\u4e00\u4e2a\u51fd\u6570\uff0c\u8981\u4e48\u8f93\u51fa\u4e00\u4e2a\u51fd\u6570\uff0c\u81f3\u5c11\u6ee1\u8db3\u4e24\u4e2a\u6761\u4ef6\u4e2d\u7684\u4e00\u4e2a\u3002\u4f55\u8c13\u9ad8\u9636\uff1f\u9ad8\u9636\u51fd\u6570\u6bd4\u666e\u901a\u7684\u51fd\u6570\u9ad8\u9636\u3002"
     ]
    },
    {
     "cell_type": "markdown",
     "metadata": {},
     "source": [
      "\u4e3a\u4ec0\u4e48\u9ad8\u9636\u51fd\u6570\u66f4\u725b\u903c\uff1f\u6709\u4e00\u4e2a\u8bcd\u53eb\"\u6cdb\u5316\",\u662f\u4ece\u5177\u4f53\u5230\u62bd\u8c61\uff0c\u62bd\u8c61\u53ef\u4ee5\u8ba9\u6211\u4eec\u7ad9\u5728\u66f4\u9ad8\u7684\u4f4d\u7f6e\u770b\u5f85\u8fd9\u82b8\u82b8\u4f17\u751f\uff0c\u7136\u540e\u609f\u51fa\u4eba\u751f\u3002\u4ec0\u4e48\u6a21\u5757\u5316\u3001\u9762\u8c61\u5bf9\u8c61\u3001\u8bbe\u8ba1\u6a21\u5f0fblabla\uff0c\u90fd\u4e0d\u662f\u5728\u8ffd\u6c42\u62bd\u8c61\uff0c\u8ffd\u6c42\u201c\u6cdb\u201d\u5417\uff1f\u4ece\u4e00\u4e2a\u51fd\u6570\u751f\u6210\u65e0\u6570\u4e2a\u51fd\u6570\uff0c\u4e0d\u5c31\u662f\u4e00\u751f\u4e8c\u4e8c\u751f\u4e09\u561b\uff01"
     ]
    },
    {
     "cell_type": "markdown",
     "metadata": {},
     "source": [
      "\u6240\u4ee5\u9ad8\u9636\u51fd\u6570\u5b9e\u81f3\u540d\u5f52\u3002\u9ad8\u9636\u51fd\u6570\u5728\u6570\u5b66\u4e2d\u4e5f\u53eb\u505a\u7b97\u5b50\uff08\u8fd0\u7b97\u7b26)\u6216\u6cdb\u51fd\u3002"
     ]
    },
    {
     "cell_type": "markdown",
     "metadata": {},
     "source": [
      "3.2 \u95ed\u5305\uff08Closure)\n",
      "=================\n",
      "\u5f53\u6211\u4eec\u4f7f\u7528\u9ad8\u9636\u51fd\u6570\u6765\u751f\u6210\u51fd\u6570\u7684\u65f6\u5019\uff0c\u53ef\u4ee5\u4f7f\u7528\u4ee5\u4e0b\u4e24\u79cd\u65b9\u6cd5\u3002\u65b9\u6cd5\u4e00\u662f\u5c06\u8981\u751f\u6210\u7684\u51fd\u6570f\u5199\u5728\u9ad8\u9636\u51fd\u6570gen_f\u5185\u90e8\uff1b \u65b9\u6cd5\u4e8c\u662f\u5c06f\u5199\u5728\u5916\u90e8\u3002\u901a\u5e38\u6211\u4eec\u4f7f\u7528\u7b2c\u4e00\u79cd\uff0c\u8fd9\u5c31\u548c\u5b9a\u4e49\u5c40\u90e8\u53d8\u91cf\u5dee\u4e0d\u591a\uff0c\u5728\u54ea\u7528\u5c31\u5728\u54ea\u5b9a\u4e49\uff0c\u51cf\u5c11\u5bf9\u5916\u5e72\u6270\u3002"
     ]
    },
    {
     "cell_type": "code",
     "collapsed": false,
     "input": [
      "# method1\n",
      "def gen_f():\n",
      "    def f():\n",
      "        pass\n",
      "    return f"
     ],
     "language": "python",
     "metadata": {},
     "outputs": [],
     "prompt_number": 16
    },
    {
     "cell_type": "code",
     "collapsed": false,
     "input": [
      "# method2\n",
      "def f():\n",
      "    pass\n",
      "def gen_f():\n",
      "    return f"
     ],
     "language": "python",
     "metadata": {},
     "outputs": [],
     "prompt_number": 17
    },
    {
     "cell_type": "code",
     "collapsed": false,
     "input": [
      "# method1\n",
      "def gen_f():\n",
      "    array = []\n",
      "    def f():\n",
      "        array.append(1)\n",
      "        return array\n",
      "    return f\n",
      "func = gen_f()\n",
      "func() # [1]"
     ],
     "language": "python",
     "metadata": {},
     "outputs": [
      {
       "metadata": {},
       "output_type": "pyout",
       "prompt_number": 18,
       "text": [
        "[1]"
       ]
      }
     ],
     "prompt_number": 18
    },
    {
     "cell_type": "code",
     "collapsed": false,
     "input": [
      "func() #[1, 1]"
     ],
     "language": "python",
     "metadata": {},
     "outputs": [
      {
       "metadata": {},
       "output_type": "pyout",
       "prompt_number": 19,
       "text": [
        "[1, 1]"
       ]
      }
     ],
     "prompt_number": 19
    },
    {
     "cell_type": "code",
     "collapsed": false,
     "input": [
      "func() #[1, 1, 1]"
     ],
     "language": "python",
     "metadata": {},
     "outputs": [
      {
       "metadata": {},
       "output_type": "pyout",
       "prompt_number": 20,
       "text": [
        "[1, 1, 1]"
       ]
      }
     ],
     "prompt_number": 20
    },
    {
     "cell_type": "markdown",
     "metadata": {},
     "source": [
      "\u9884\u6599\u4e4b\u5916\uff0c\u60c5\u7406\u4e4b\u4e2d\uff0cf\u5c31\u662f\u95ed\u5305\u51fd\u6570\u3002func\u4f5c\u4e3a\u751f\u6210\u51fa\u6765\u7684\u51fd\u6570\uff0c\u6bcf\u6b21\u8c03\u7528\u65f6\u90fd\u4f1a\u5f80array\u91cc\u653e\u4e00\u4e2a\u6570\u5b571\uff0c \u800carray\u662f\u5728\u5916\u90e8gen_f\u4e2d\u5b9a\u4e49\u7684\u3002\u8fd9\u65f6\u5c31\u9700\u8981\u4f5c\u51fa\u9009\u62e9\uff0c\u662f\u4fee\u6539\u5916\u90e8\u7684array\u8fd8\u662f\u629b\u51fa\u4e00\u4e2a\u627e\u4e0d\u5230array\u7684\u9519\u8bef\u3002\u652f\u6301\u95ed\u5305\u7279\u6027\u7684\u7f16\u7a0b\u8bed\u8a00\u9009\u62e9\u7684\u662f\u524d\u8005\u3002\n",
      "\n",
      "\u95ed\u5305\u51fd\u6570\u548c\u5176\u5f15\u7528\u53d8\u91cf\u5c06\u4e00\u540c\u5b58\u5728\uff0c\u6240\u4ee5\u6709\u53e6\u4e00\u79cd\u8bf4\u6cd5\u8ba4\u4e3a\u95ed\u5305\u662f\u7531\u51fd\u6570\u548c\u5176\u76f8\u5173\u7684\u5f15\u7528\u73af\u5883\u7ec4\u5408\u800c\u6210\u7684\u5b9e\u4f53\u3002"
     ]
    },
    {
     "cell_type": "markdown",
     "metadata": {},
     "source": [
      "3.3 \u67ef\u91cc\u5316\uff08currying\uff09\n",
      "======\n",
      "\u5982\u679c\u6211\u4eec\u4e60\u60ef\u4e86\u751f\u6210\u51fd\u6570\u7684\u5feb\u611f\uff0c\u4e5f\u5f88\u6709\u53ef\u80fd\u5199\u51fa\u4ee5\u4e0b\u4ee3\u7801\u3002\u65b9\u6cd5\u4e00\u548c\u65b9\u6cd5\u4e8c\u90fd\u5b9e\u73b0\u4e86\u540c\u6837\u7684\u529f\u80fd\u3002"
     ]
    },
    {
     "cell_type": "code",
     "collapsed": false,
     "input": [
      "# method1\n",
      "# \u6bcf\u6b21\u53ea\u4f20\u4e00\u4e2a\u53c2\u6570\n",
      "def f(x):\n",
      "    def g(y):\n",
      "        def h(z):\n",
      "            return x + y + z\n",
      "        return h\n",
      "    return g\n",
      "f(1)(2)(3) # 6"
     ],
     "language": "python",
     "metadata": {},
     "outputs": [
      {
       "metadata": {},
       "output_type": "pyout",
       "prompt_number": 21,
       "text": [
        "6"
       ]
      }
     ],
     "prompt_number": 21
    },
    {
     "cell_type": "code",
     "collapsed": false,
     "input": [
      "# method2 \n",
      "# \u4e00\u6b21\u628a\u6240\u6709\u53c2\u6570\u4f20\u8fdb\u53bb\n",
      "def f(x,y,z):\n",
      "    return x + y + z\n",
      "f(1, 2, 3)"
     ],
     "language": "python",
     "metadata": {},
     "outputs": [
      {
       "metadata": {},
       "output_type": "pyout",
       "prompt_number": 22,
       "text": [
        "6"
       ]
      }
     ],
     "prompt_number": 22
    },
    {
     "cell_type": "markdown",
     "metadata": {},
     "source": [
      "\u4ece\u65b9\u6cd5\u4e8c\u5230\u65b9\u6cd5\u4e00\u7684\u53d8\u5316\u6210\u4e3a\u67ef\u91cc\u5316\uff0c\u5373\u628a\u63a5\u53d7\u591a\u4e2a\u53c2\u6570\u7684\u51fd\u6570\u7684\u51fd\u6570\u53d8\u6210\u6bcf\u6b21\u53ea\u63a5\u53d7\u4e00\u4e2a\u53c2\u6570\u7684\u51fd\u6570\uff0c\u5e76\u8fd4\u56de\u4f59\u4e0b\u53c2\u6570\u7684\u51fd\u6570\u3002\u6709\u70b9\u62d7\u53e3\uff0c\u5c31\u662f\u901a\u8fc7\u591a\u6b21\u8c03\u7528\u51fd\u6570\u6765\u4ee3\u66ff\u4e00\u6b21\u4f20\u5165\u591a\u4e2a\u53c2\u6570\u3002"
     ]
    },
    {
     "cell_type": "markdown",
     "metadata": {},
     "source": [
      "\u67ef\u91cc\u5316\u7684\u4f18\u52bf\u5728\u4e8e\u53ef\u4ee5\u5c06\u62bd\u8c61\u7684\u51fd\u6570\u5177\u4f53\u5316\uff0c\u6bd4\u5982\u6253\u5370\u65e5\u5fd7\u3002"
     ]
    },
    {
     "cell_type": "code",
     "collapsed": false,
     "input": [
      "from django.utils.functional import curry\n",
      "def print_msg(label, msg):\n",
      "    print '[%s] %s' % (label, msg)\n",
      "    \n",
      "# no currying\n",
      "print_msg('error', 'network failed')\n",
      "print_msg('info', 'init ok')\n",
      "\n",
      "# use currying\n",
      "print_err_msg = curry(print_msg)('error')\n",
      "print_info_msg = curry(print_msg)('info')\n",
      "print_info_msg('init ok')\n",
      "print_err_msg('network failed')\n",
      "# \u5176\u4e2dcurry\u8868\u793a\u5c06\u8f93\u51fa\u7684\u51fd\u6570\u67ef\u91cc\u5316"
     ],
     "language": "python",
     "metadata": {},
     "outputs": [
      {
       "ename": "ImportError",
       "evalue": "No module named django.utils.functional",
       "output_type": "pyerr",
       "traceback": [
        "\u001b[1;31m---------------------------------------------------------------------------\u001b[0m\n\u001b[1;31mImportError\u001b[0m                               Traceback (most recent call last)",
        "\u001b[1;32m<ipython-input-24-b9ded729440c>\u001b[0m in \u001b[0;36m<module>\u001b[1;34m()\u001b[0m\n\u001b[1;32m----> 1\u001b[1;33m \u001b[1;32mfrom\u001b[0m \u001b[0mdjango\u001b[0m\u001b[1;33m.\u001b[0m\u001b[0mutils\u001b[0m\u001b[1;33m.\u001b[0m\u001b[0mfunctional\u001b[0m \u001b[1;32mimport\u001b[0m \u001b[0mcurry\u001b[0m\u001b[1;33m\u001b[0m\u001b[0m\n\u001b[0m\u001b[0;32m      2\u001b[0m \u001b[1;32mdef\u001b[0m \u001b[0mprint_msg\u001b[0m\u001b[1;33m(\u001b[0m\u001b[0mlabel\u001b[0m\u001b[1;33m,\u001b[0m \u001b[0mmsg\u001b[0m\u001b[1;33m)\u001b[0m\u001b[1;33m:\u001b[0m\u001b[1;33m\u001b[0m\u001b[0m\n\u001b[0;32m      3\u001b[0m     \u001b[1;32mprint\u001b[0m \u001b[1;34m'[%s] %s'\u001b[0m \u001b[1;33m%\u001b[0m \u001b[1;33m(\u001b[0m\u001b[0mlabel\u001b[0m\u001b[1;33m,\u001b[0m \u001b[0mmsg\u001b[0m\u001b[1;33m)\u001b[0m\u001b[1;33m\u001b[0m\u001b[0m\n\u001b[0;32m      4\u001b[0m \u001b[1;33m\u001b[0m\u001b[0m\n\u001b[0;32m      5\u001b[0m \u001b[1;31m# no currying\u001b[0m\u001b[1;33m\u001b[0m\u001b[1;33m\u001b[0m\u001b[0m\n",
        "\u001b[1;31mImportError\u001b[0m: No module named django.utils.functional"
       ]
      }
     ],
     "prompt_number": 24
    },
    {
     "cell_type": "markdown",
     "metadata": {},
     "source": [
      "3.4 \u504f\u51fd\u6570Partial Function\n",
      "===\n",
      "python\u6ca1\u6709\u63d0\u4f9bcurry\u51fd\u6570\u3002\n",
      "python \u7684\u5185\u7f6efunctools\u6a21\u5757\u63d0\u4f9b\u4e86\u7c7b\u4f3ccurry\u7684\u529f\u80fd\uff0c\u540d\u66f0\u504f\u51fd\u6570\u3002"
     ]
    },
    {
     "cell_type": "code",
     "collapsed": false,
     "input": [
      "from functools import partial\n",
      "\n",
      "def print_msg(label, msg):\n",
      "    print '[%s] %s' % (label, msg)\n",
      "    \n",
      "# use partial\n",
      "print_err_msg = partial(print_msg, 'error')\n",
      "print_info_msg = partial(print_msg, 'info')\n",
      "\n",
      "print_err_msg('network failed')\n",
      "print_info_msg('init ok')"
     ],
     "language": "python",
     "metadata": {},
     "outputs": []
    },
    {
     "cell_type": "markdown",
     "metadata": {},
     "source": [
      "    \u67ef\u91cc\u5316\u548c\u504f\u51fd\u6570\u7c7b\u4f3c\u4f46\u4e0d\u540c\uff0c\u67ef\u91cc\u5316\u662f\u5c06\u591a\u53c2\u6570\u51fd\u6570\u8f6c\u53d8\u4e3a\u4e00\u7cfb\u5217\u5355\u53c2\u6570\u51fd\u6570\u7684\u94fe\u5f0f\u8c03\u7528\uff0c\u800c\u504f\u51fd\u6570\u662f\u4e8b\u5148\u56fa\u5b9a\u597d\u4e00\u90e8\u5206\u53c2\u6570\u540e\u9762\u5c31\u65e0\u9700\u91cd\u590d\u4f20\u5165\u4e86\u3002\u4e24\u8005\u90fd\u53ef\u80fd\u5b9e\u73b0\u51fd\u6570\u7684\u5177\u4f53\u5316\uff0c\u56fa\u5b9a\u51fd\u6570\u7684\u4e00\u90e8\u5206\u53c2\u6570\u6765\u8fbe\u5230\u7279\u5b9a\u7684\u5e94\u7528\u3002"
     ]
    },
    {
     "cell_type": "markdown",
     "metadata": {},
     "source": [
      "3.5 \u533f\u540d\u51fd\u6570\n",
      "=="
     ]
    },
    {
     "cell_type": "code",
     "collapsed": false,
     "input": [
      "def sum(x, y, f, g):\n",
      "    return f(x) + g(y)\n",
      "\n",
      "sum(1, 2, lambda x: x, lambda x: x)"
     ],
     "language": "python",
     "metadata": {},
     "outputs": []
    },
    {
     "cell_type": "code",
     "collapsed": false,
     "input": [
      "sum(1, 2, lambda x: x**2, lambda y: y**2)"
     ],
     "language": "python",
     "metadata": {},
     "outputs": []
    },
    {
     "cell_type": "code",
     "collapsed": false,
     "input": [
      "sum(1, 2, lambda x: x**3, lambda z: z**4)"
     ],
     "language": "python",
     "metadata": {},
     "outputs": []
    },
    {
     "cell_type": "markdown",
     "metadata": {},
     "source": [
      "lambda \u7edd\u8272\u65e0\u6c61\u67d3 \u5e72\u51c0\u5229\u7d22"
     ]
    },
    {
     "cell_type": "markdown",
     "metadata": {},
     "source": [
      "3.6 map reduce filter\n",
      "==========\n",
      "\n",
      "map reduce filter \u662fPython\u5185\u7f6e\u7684\u9ad8\u9636\u51fd\u6570\uff0c\u901a\u8fc7\u4f20\u5165\u51fd\u6570\u53ef\u5b9e\u73b0\u67d0\u4e9b\u7279\u5b9a\u7684\u529f\u80fd\uff0c\u901a\u8fc7\u7528\u8fd9\u4e9b\u51fd\u6570\u53ef\u4ee5\u8ba9\u4ee3\u7801\u66f4\u52a0\u7b80\u6d01\uff0c\u903c\u683c\u66f4\u9ad8"
     ]
    },
    {
     "cell_type": "code",
     "collapsed": false,
     "input": [
      "array = [1, 2, 3]\n",
      "### [1,2,3] \u53d8\u6362\u4e3a \u30101*1\uff0c 2*2\uff0c 3*3\u3011 \n",
      "# good\n",
      "map(lambda x: x*x, array) # [1, 4, 9]"
     ],
     "language": "python",
     "metadata": {},
     "outputs": []
    },
    {
     "cell_type": "code",
     "collapsed": false,
     "input": [
      "map(lambda x: x ** 2, array)"
     ],
     "language": "python",
     "metadata": {},
     "outputs": []
    },
    {
     "cell_type": "code",
     "collapsed": false,
     "input": [
      "### \u6c42[1,2,3]\u5143\u7d20\u7684\u548c\n",
      "# good\n",
      "reduce(lambda x,y: x+y, array) # 6"
     ],
     "language": "python",
     "metadata": {},
     "outputs": []
    },
    {
     "cell_type": "code",
     "collapsed": false,
     "input": [
      "reduce(lambda x,y: x*y, array)"
     ],
     "language": "python",
     "metadata": {},
     "outputs": []
    },
    {
     "cell_type": "code",
     "collapsed": false,
     "input": [
      "# \u6c42[1,2,3]\u4e2d\u7684\u5947\u6570\n",
      "# good\n",
      "filter(lambda x: x%2, array)"
     ],
     "language": "python",
     "metadata": {},
     "outputs": []
    },
    {
     "cell_type": "code",
     "collapsed": false,
     "input": [],
     "language": "python",
     "metadata": {},
     "outputs": []
    }
   ],
   "metadata": {}
  }
 ]
}
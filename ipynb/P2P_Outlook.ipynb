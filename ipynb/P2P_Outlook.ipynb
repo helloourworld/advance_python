{
 "metadata": {
  "encoding": "utf-8",
  "name": "",
  "signature": "sha256:ab922e7ca8f2e858c4893d969a702efe1395b07e79b0a1a0d28d011ace309993"
 },
 "nbformat": 3,
 "nbformat_minor": 0,
 "worksheets": [
  {
   "cells": [
    {
     "cell_type": "heading",
     "level": 1,
     "metadata": {},
     "source": [
      "P2P\u884c\u4e1a\u7684\u98ce\u63a7\u6a21\u578b\u5206\u6790"
     ]
    },
    {
     "cell_type": "code",
     "collapsed": false,
     "input": [
      "# -*- coding:utf-8 -*-\n",
      "import matplotlib.pyplot as plt\n",
      "import numpy as np\n",
      "import pandas as pd\n",
      "from matplotlib.figure import Figure\n",
      "%pylab inline"
     ],
     "language": "python",
     "metadata": {},
     "outputs": [
      {
       "output_type": "stream",
       "stream": "stdout",
       "text": [
        "Populating the interactive namespace from numpy and matplotlib\n"
       ]
      }
     ],
     "prompt_number": 8
    },
    {
     "cell_type": "markdown",
     "metadata": {},
     "source": [
      "## \u9996\u5148\u5148\u770b\u4e0b\u4e0d\u540c\u91d1\u878d\u4ea7\u54c1\u7684\u5927\u81f4\u5229\u7387\u6c34\u5e73"
     ]
    },
    {
     "cell_type": "code",
     "collapsed": false,
     "input": [
      "intrest_by_channal = pd.Series([22.40,17.50,6,4.34,2.75],name= ['\u9ad8\u5229\u8d37','P2P','\u94f6\u884c\u7406\u8d22','\u4f59\u989d\u5b9d','\u94f6\u884c\u5b9a\u5b58'])"
     ],
     "language": "python",
     "metadata": {},
     "outputs": [],
     "prompt_number": 9
    },
    {
     "cell_type": "code",
     "collapsed": false,
     "input": [
      "def autolabel(rects):\n",
      "    for rect in rects:\n",
      "        height = rect.get_height()\n",
      "        plt.text(rect.get_x()+rect.get_width()/2., 1.03*height, '%s' % float(height))"
     ],
     "language": "python",
     "metadata": {},
     "outputs": [],
     "prompt_number": 10
    },
    {
     "cell_type": "code",
     "collapsed": false,
     "input": [
      "N = 5\n",
      "ind = np.arange(N)\n",
      "width = 0.5 \n",
      "plt.xticks(ind,['gaolidai','P2P','chrem','yuebao','dingcun'])\n",
      "rect = plt.bar(ind, intrest_by_channal, width, color='r',align=\"center\")\n",
      "plt.legend((rect,),(\"legend\",))\n",
      "autolabel(rect)\n",
      "plt.title('Different Rate for Special Finace Product')\n",
      "plt.grid()\n",
      "plt.xlabel(u'In contrast to bank dingcun\uff0cP2P is more popular')\n",
      "plt.show()"
     ],
     "language": "python",
     "metadata": {},
     "outputs": [
      {
       "metadata": {},
       "output_type": "display_data",
       "png": "[encoded data removed]",
       "text": [
        "<matplotlib.figure.Figure at 0xb9597f0>"
       ]
      }
     ],
     "prompt_number": 14
    },
    {
     "cell_type": "markdown",
     "metadata": {},
     "source": [
      "P2P\u4e0e\u94f6\u884c\u5b9a\u5b58\u548c\u7406\u8d22\u76f8\u6bd4\uff0c\u65e0\u7591\u5177\u6709\u975e\u5e38\u5f3a\u7684\u5438\u5f15\u529b\uff0c\u4e5f\u662f\u8fd1\u5e74\u6765\u53d1\u5c55\u8f83\u5feb\u7684\u539f\u56e0\u3002\n",
      "\n",
      "## \u5176\u6b21\u68b3\u7406\u98ce\u63a7\u7684\u4e00\u822c\u6a21\u5f0f\n",
      "\n",
      "\u5bf9\u4e8e\u4efb\u4f55\u4e00\u4e2aP2P\u516c\u53f8\u6765\u8bf4\uff0c\u98ce\u9669\u63a7\u5236\u90fd\u662f\u4e0d\u53ef\u80fd\u7ed5\u8fc7\u7684\u4e00\u9053\u5173\u53e3\uff0c\u957f\u671f\u6765\u770b\uff0c\u6700\u7ec8\u80fd\u751f\u5b58\u4e0b\u6765\n",
      "\u7684\u7ade\u4e89\u8005\uff0c\u5fc5\u7136\u5728\u98ce\u63a7\u4e0a\u6709\u72ec\u5230\u4e4b\u5904\u3002\u90a3\u4e48\u5230\u5e95\u6709\u54ea\u4e9b\u98ce\u63a7\u6a21\u5f0f,\u5e94\u8be5\u9009\u62e9\u4ec0\u4e48\u6837\u7684\u98ce\u63a7\u6a21\u5f0f,\u8fd9\n",
      "\u662f\u6bcf\u4e2a\u7acb\u5fd7\u5728P2P\u884c\u4e1a\u91cc\u6709\u6240\u5efa\u6811\u7684\u516c\u53f8\u90fd\u5e94\u8be5\u6df1\u5165\u8003\u8651\u7684\u95ee\u9898\u3002"
     ]
    },
    {
     "cell_type": "markdown",
     "metadata": {},
     "source": [
      "\u8981\u641e\u98ce\u63a7\uff0c\u9996\u5148\u8981\u660e\u786e\u7684\u662f\u98ce\u63a7\u7684\u6700\u7ec8\u76ee\u7684\u662f\u4ec0\u4e48\u3002\u5f88\u7b80\u5355\uff0c\u5c31\u662f\u63a7\u5236\u9884\u671f\u4fe1\u7528\u635f\u5931\uff0c\u5373\u501f\u6b3e\u4eba\n",
      "\u6700\u7ec8\u7ed9\u6295\u8d44\u4eba\u5e26\u6765\u7684\u635f\u5931\u9884\u8ba1\u6709\u591a\u5927\u3002\u90a3\u4e48\u8fd9\u4e2a\u9884\u671f\u4fe1\u7528\u635f\u5931\u5982\u4f55\u6765\u8ba1\u91cf\u5462\uff1f"
     ]
    },
    {
     "cell_type": "markdown",
     "metadata": {},
     "source": [
      "### $ \u9884\u671f\u635f\u5931=\u8fdd\u7ea6\u6982\u7387*\u8fdd\u7ea6\u655e\u53e3*\u8fdd\u7ea6\u635f\u5931\u7387 $"
     ]
    },
    {
     "cell_type": "markdown",
     "metadata": {},
     "source": [
      "\u8fd9\u91cc\u7684\u8fdd\u7ea6\uff0c\u6709\u4e0d\u540c\u7684\u6807\u51c6\uff0c\u6bd4\u5982\u5df4\u585e\u5c14\u534f\u8bae\u4e0a\u660e\u786e\u5b9a\u4e49\u903e\u671f\u8d85\u8fc790\u5929\u89c6\u4e3a\u8fdd\u7ea6;\u5bf9\u4e8eP2P\u884c\u4e1a\u6765\n",
      "\u8bf4\uff0c\u6211\u4eec\u4e0d\u53ef\u80fd\u5bb9\u5fcd\u5982\u6b64\u957f\u7684\u65f6\u95f4\uff0c\u7b14\u8005\u8ba4\u4e3a\uff0c\u4ece\u5ba1\u614e\u7684\u89d2\u5ea6\u6765\u770b\uff0cP2P\u501f\u6b3e\u4eba\u903e\u671f\u4e4b\u65f6\u5c31\u5e94\u89c6\n",
      "\u4e3a\u8fdd\u7ea6\u3002"
     ]
    },
    {
     "cell_type": "markdown",
     "metadata": {},
     "source": [
      "**\u8fdd\u7ea6\u7387**\u662f\u6307\u4e00\u4e2a\u5ba2\u6237\u53d1\u751f\u8fdd\u7ea6\u7684\u53ef\u80fd\u6027\uff0c\u8ba1\u7b97\u65b9\u5f0f\u4e3aP2P\u5e73\u53f0\u8fdd\u7ea6\u501f\u6b3e\u4eba\u7684\u6570\u91cf\u9664\u4ee5P2P\u5e73\u53f0\u603b\u7684\n",
      "\u501f\u6b3e\u4eba\u6570\u91cf\uff0c\u6ce8\u610f\uff1a\u8fdd\u7ea6\u7387\u8003\u91cf\u7684\u4e0d\u662f\u501f\u6b3e\u91d1\u989d\u4e4b\u6bd4\uff0c\u800c\u662f\u501f\u6b3e\u4eba\u6570\u91cf\u4e4b\u6bd4\u3002\u8fdd\u7ea6\u7387\u4e0e\u501f\u6b3e\u4eba\u7684\n",
      "\u4fe1\u7528\u8bc4\u7ea7\u76f4\u63a5\u76f8\u5173\uff0c\u5ba2\u6237\u4fe1\u7528\u7ea7\u522b\u8d8a\u9ad8\uff0c\u5176\u8fdd\u7ea6\u7387\u8d8a\u4f4e\uff0c\u56e0\u800c\u501f\u6b3e\u5229\u7387\u4e5f\u5e94\u8be5\u8d8a\u4f4e\u3002"
     ]
    },
    {
     "cell_type": "markdown",
     "metadata": {},
     "source": [
      "**\u8fdd\u7ea6\u655e\u53e3**\u662f\u6307\u501f\u6b3e\u4eba\u8fdd\u7ea6\u65f6\u5c1a\u672a\u507f\u8fd8\u7684\u501f\u6b3e\u672c\u606f\u91d1\u989d\uff0c\u8fdd\u7ea6\u655e\u53e3\u4e0e\u501f\u6b3e\u4eba\u91c7\u7528\u7684\u8fd8\u6b3e\u65b9\u5f0f\u76f4\u63a5\u76f8\n",
      "\u5173\uff0c\u6bd4\u5982\u540c\u6837\u4e00\u7b14\u501f\u6b3e\uff0c\u5728\u501f\u6b3e\u4eba\u8fdd\u7ea6\u540e\uff0c\u5230\u671f\u4e00\u6b21\u8fd8\u6b3e\u65b9\u5f0f\u4e0e\u7b49\u989d\u672c\u606f\u8fd8\u6b3e\u65b9\u5f0f\u76f8\u6bd4\uff0c\u524d\u8005\u7684\n",
      "\u8fdd\u7ea6\u655e\u53e3\u4e00\u822c\u66f4\u5927\uff0c\u56e0\u4e3a\u540e\u8005\u7684\u672c\u91d1\u968f\u7740\u6bcf\u671f\u8fd8\u6b3e\u7684\u8fdb\u884c\u800c\u8d8a\u6765\u8d8a\u5c11\u3002"
     ]
    },
    {
     "cell_type": "markdown",
     "metadata": {},
     "source": [
      "**\u8fdd\u7ea6\u635f\u5931\u7387**\u662f\u6307\u8fdd\u7ea6\u655e\u53e3\u4e2d\u65e0\u6cd5\u6536\u56de\u90e8\u5206\u5360\u8fdd\u7ea6\u655e\u53e3\u7684\u6bd4\u4f8b\u3002\u8fdd\u7ea6\u635f\u5931\u7387\u4e0e\u62c5\u4fdd\u65b9\u5f0f\u76f4\u63a5\u76f8\u5173\uff0c\n",
      "\u6bd4\u5982\u540c\u6837\u4e00\u7b14\u8d37\u6b3e\uff0c\u7eaf\u4fe1\u7528\u3001\u623f\u4ea7\u62b5\u62bc\u3001\u62c5\u4fdd\u673a\u6784\u62c5\u4fdd\u4e09\u79cd\u65b9\u5f0f\u7684\u8fdd\u7ea6\u635f\u5931\u7387\u662f\u4e0d\u540c\u7684\uff0c\u7eaf\u4fe1\u7528\n",
      "\u8d37\u6b3e\u7684\u8fdd\u7ea6\u635f\u5931\u7387\u53ef\u80fd\u6700\u9ad8\uff0c\u56e0\u4e3a\u5982\u679c\u501f\u6b3e\u4eba\u4e0d\u8fd8\u6b3e\uff0c\u5c06\u4f1a\u635f\u5931100%\uff0c\u623f\u4ea7\u62b5\u62bc\u548c\u62c5\u4fdd\u673a\u6784\u62c5\u4fdd\n",
      "\u7684\u8fdd\u7ea6\u635f\u5931\u7387\u76f8\u6bd4\u4e4b\u4e0b\u8981\u5c0f\u5f88\u591a\uff0c\u4f46\u662f\u7531\u4e8e\u623f\u4ea7\u53d8\u73b0\u80fd\u529b\u5b58\u5728\u4e0d\u786e\u5b9a\u6027\u6216\u8005\u62c5\u4fdd\u673a\u6784\u4ee3\u507f\u80fd\u529b\u7684\n",
      "\u4e0d\u786e\u5b9a\u6027\uff0c\u8fdd\u7ea6\u635f\u5931\u7387\u4e5f\u4f1a\u5b58\u5728\u4e0d\u786e\u5b9a\u6027\uff0c\u5173\u952e\u662f\u5982\u4f55\u9009\u62e9\u62b5\u62bc\u54c1\u548c\u5408\u683c\u7684\u62c5\u4fdd\u673a\u6784\u3002"
     ]
    },
    {
     "cell_type": "markdown",
     "metadata": {},
     "source": [
      "\u8981\u63a7\u5236\u98ce\u9669\uff0c\u4e5f\u5c31\u662f\u8981\u4ece\u4ee5\u4e0a\u4e09\u4e2a\u65b9\u9762\u5c55\u5f00\u3002\u56fd\u5185\u7684\u94f6\u884c\u5728\u63a7\u5236\u98ce\u9669\u7684\u65f6\u5019\uff0c\u867d\u7136\u4e5f\u4f1a\u770b\u8fdd\u7ea6\n",
      "\u7387\uff0c\u4e5f\u4f1a\u63a7\u5236\u8fdd\u7ea6\u655e\u53e3\uff0c\u4f46\u662f\u66f4\u52a0\u504f\u91cd\u4e8e\u63a7\u5236\u8fdd\u7ea6\u635f\u5931\u7387\uff0c\u4e5f\u5c31\u662f\u4e00\u822c\u90fd\u8981\u6c42\u501f\u6b3e\u4eba\u63d0\u4f9b\u62b5\u62bc\u7269\n",
      "\u6216\u8005\u63d0\u4f9b\u5927\u578b\u4f01\u4e1a\u62c5\u4fdd\u3002\u6b64\u79cd\u601d\u8def\u4e0b\uff0c\u94f6\u884c\u8ba4\u4e3a\uff0c\u5c31\u7b97\u8fdd\u7ea6\u7387\u9ad8\u3001\u655e\u53e3\u5927\uff0c\u4f46\u662f\u901a\u8fc7\u5904\u7f6e\u62b5\u62bc\u7269\n",
      "\u6216\u8981\u6c42\u62c5\u4fdd\u65b9\u57ab\u8fd8\uff0c\u53ef\u4ee5\u5c06\u8fdd\u7ea6\u635f\u5931\u7387\u63a7\u5236\u5f97\u5f88\u4f4e\u6216\u8005\u4e3a0\uff0c\u90a3\u4e48\u4e09\u8005\u76f8\u4e58\uff0c\u603b\u7684\u635f\u5931\u8fd8\u662f\u5f88\n",
      "\u5c0f\u3002\u8fd9\u6837\u662f***\u7b2c\u4e00\u79cd\u98ce\u9669\u63a7\u5236\u6a21\u5f0f\uff0c\u4e5f\u5c31\u662f\u6ce8\u91cd\u62c5\u4fdd***\uff0c\u5176\u76ee\u7684\u662f\u6700\u5927\u9650\u5ea6\u5730\u63a7\u5236\u8fdd\u7ea6\u635f\u5931\u7387\uff0c\u8fd9\u6837\n",
      "\u5c31\u4e0d\u7528\u82b1\u592a\u591a\u7cbe\u529b\u53bb\u63a7\u5236\u8fdd\u7ea6\u7387\u4e86\uff0c\u7b80\u5355\u76f4\u63a5\u3002"
     ]
    },
    {
     "cell_type": "markdown",
     "metadata": {},
     "source": [
      "\u90a3\u4e48***\u7b2c\u4e8c\u79cd\u6a21\u5f0f***\u4e0e\u6b64\u6b63\u597d\u76f8\u53cd\uff0c\u4e5f\u5c31\u662f\u901a\u8fc7\u5efa\u7acb\u9884\u6d4b\u6027\u975e\u5e38\u597d\u7684\u8fdd\u7ea6\u7387\u6a21\u578b\uff0c\u5373***\u4fe1\u7528\u8bc4\u7ea7\u6a21\u578b***\uff0c\n",
      "\u628a\u8fdd\u7ea6\u7387\u9ad8\u7684\u501f\u6b3e\u4eba\u5168\u90e8\u62d2\u4e4b\u95e8\u5916\uff0c\u6838\u5fc3\u5c31\u662f\u63a7\u5236\u8fdd\u7ea6\u7387\u3002\u5728\u8fd9\u79cd\u6a21\u5f0f\u4e0b\uff0c\u5982\u679c\u9009\u62e9\u8fdd\u7ea6\u7387\u6781\u4f4e\n",
      "\u7684\u501f\u6b3e\u4eba\uff0c\u90a3\u4e48\u5c31\u53ef\u4ee5\u653e\u677e\u5bf9\u62c5\u4fdd\u65b9\u5f0f\u7684\u8981\u6c42\uff0c\u539f\u56e0\u662f\u867d\u7136\u8fdd\u7ea6\u635f\u5931\u7387\u9ad8\uff0c\u4f46\u662f\u501f\u6b3e\u4eba\u603b\u4f53\u8fdd\u7ea6\n",
      "\u7387\u6781\u4f4e\uff0c\u4e8c\u8005\u76f8\u4e58\uff0c\u6700\u7ec8\u7684\u635f\u5931\u8fd8\u662f\u5f88\u4f4e\u3002\u8fd9\u79cd\u6a21\u5f0f\u8981\u6c42\u6709\u5927\u91cf\u7684\u4fe1\u7528\u6570\u636e\u79ef\u7d2f\uff0c\u4ee5\u4fbf\u5efa\u7acb\u7cbe\u786e\n",
      "\u7684\u4fe1\u7528\u8bc4\u7ea7\u6a21\u578b\uff0c\u4f46\u662f\u96be\u5ea6\u5f88\u5927\u3002\u76ee\u524d\u53ea\u6709**\u96f6\u552e\u8d37\u6b3e(\u5982\u4fe1\u7528\u5361)**\u53ef\u4ee5\u5b8c\u5168\u91c7\u7528\u6b64\u6a21\u5f0f\uff0c\u56e0\u4e3a\u5176\u6570\n",
      "\u636e\u79ef\u7d2f\u91cf\u975e\u5e38\u5927\uff0c\u5efa\u7acb\u6a21\u578b\u7684\u57fa\u7840\u5c31\u4f1a\u975e\u5e38\u597d\uff0c\u6a21\u578b\u7684\u9884\u6d4b\u80fd\u529b\u4e5f\u4f1a\u975e\u5e38\u5f3a\u3002"
     ]
    },
    {
     "cell_type": "markdown",
     "metadata": {},
     "source": [
      "***\u7b2c\u4e09\u79cd\u6a21\u5f0f***\u662f\u6700\u7406\u60f3\u7684\uff0c\u5b83\u5c06***\u540c\u65f6\u5173\u6ce8\u8fdd\u7ea6\u7387\u548c\u8fdd\u7ea6\u635f\u5931\u7387***\uff0c\u8fd9\u6837\u5c06\u4f1a\u83b7\u5f97\u6bd4\u524d\u4e24\u79cd\u6a21\u5f0f\u90fd\u66f4\u4f4e\n",
      "\u7684\u4fe1\u7528\u635f\u5931\u3002\u4f46\u662f\u8fd9\u79cd\u6a21\u5f0f\u5b58\u5728\u4e00\u4e2a\u95ee\u9898\uff0c\u90a3\u5c31\u662f\u5982\u679c\u8981\u6c42\u501f\u6b3e\u4eba\u4fe1\u7528\u7ea7\u522b\u7279\u522b\u9ad8\uff0c\u53c8\u8981\u6c42\u5176\u63d0\n",
      "\u4f9b\u5f3a\u62c5\u4fdd\u63aa\u65bd\uff0c\u90a3\u4e48\u6700\u7ec8\u8fd9\u7b14\u751f\u610f\u53ef\u80fd\u65e0\u6cd5\u8fbe\u6210\uff0c\u56e0\u4e3a\u5f88\u5c11\u6709\u501f\u6b3e\u4eba\u4f1a\u8fd9\u4e48\u50bb\u3002\u4e5f\u5c31\u662f\u8bf4\u867d\u7136\u8fd9\n",
      "\u79cd\u6a21\u5f0f\u5c06\u635f\u5931\u63a7\u5236\u4f4f\u4e86\uff0c\u4f46\u662f\u4e1a\u52a1\u91cf\u53ef\u80fd\u5f88\u96be\u4e0a\u53bb\uff0c\u7ed3\u679c\u4e1a\u52a1\u8fd0\u8425\u65b9\u4f1a\u56e0\u65e0\u6cd5\u83b7\u5f97\u8f83\u9ad8\u7684\u5229\u6da6\u800c\n",
      "\u51fa\u73b0\u7ecf\u8425\u56f0\u96be\u3002"
     ]
    },
    {
     "cell_type": "markdown",
     "metadata": {},
     "source": [
      "\u867d\u7136\u7b2c\u4e09\u79cd\u6a21\u5f0f\u4ee4\u4eba\u5411\u5f80\uff0c\u4f46\u662f\u5b9e\u9645\u64cd\u4f5c\u8d77\u6765\u56f0\u96be\u91cd\u91cd\u3002\u90a3\u4e48\u4ece\u5b9e\u9645\u64cd\u4f5c\u4e0a\u6765\u770b\uff0c\u53ea\u80fd\u9009\u62e9\u7b2c\u4e00\n",
      "\u79cd\u6216\u7b2c\u4e8c\u79cd\u6a21\u5f0f\u3002\u6bd4\u8f83\u5408\u7406\u7684\u505a\u6cd5\u662f\uff1a\u5982\u679c\u9009\u62e9\u7b2c\u4e00\u79cd\u6a21\u5f0f\uff0c\u90a3\u4e48\u9002\u5f53\u5173\u6ce8\u4e00\u4e0b\u5ba2\u6237\u4fe1\u7528\u7ea7\u522b;\n",
      "\u5982\u679c\u73b0\u5219\u7b2c\u4e8c\u79cd\u6a21\u5f0f\uff0c\u4e5f\u9700\u8981\u9002\u5f53\u8003\u8651\u4e00\u4e0b\u62c5\u4fdd\u65b9\u5f0f\u3002"
     ]
    },
    {
     "cell_type": "markdown",
     "metadata": {},
     "source": [
      "\u90a3\u4e48\u5bf9\u4e8eP2P\u516c\u53f8\u6765\u8bf4\uff0c\u5e94\u8be5\u91c7\u7528\u4ec0\u4e48\u6837\u7684\u98ce\u9669\u63a7\u5236\u6a21\u5f0f\u5462.\u8fd9\u8ddf\u4e1a\u52a1\u6a21\u5f0f\u7684\u9009\u62e9\u6709\u5f88\u5927\u5173\u7cfb\u3002"
     ]
    },
    {
     "cell_type": "markdown",
     "metadata": {},
     "source": [
      "1\u3001\u5982\u679c\u9009\u62e9\u505a\u4e2a\u4eba\u6d88\u8d39\u7528\u9014\u7684\u8d37\u6b3e\uff0c\u7531\u4e8e\u8fd9\u7c7b\u8d37\u6b3e\u7684\u7279\u70b9\u662f\u91d1\u989d\u5c0f\uff0c\u6570\u91cf\u5927\uff0c\u65e0\u6cd5\u8981\u6c42\u501f\u6b3e\u4eba\n",
      "\u63d0\u4f9b\u62c5\u4fdd\uff0c\u6240\u4ee5\u6700\u4f73\u9009\u62e9\u662f\u63a7\u5236\u8fdd\u7ea6\u7387\uff0c\u5373\u7b2c\u4e8c\u79cd\u6a21\u5f0f\u3002\u6b64\u65f6\u6784\u5efa\u9884\u6d4b\u6027\u5f3a\u7684\u4fe1\u7528\u8bc4\u7ea7\u6a21\u578b\u662f\u6700\n",
      "\u6838\u5fc3\u7684\u7ade\u4e89\u529b\uff0c\u4e5f\u662f\u6700\u5927\u7684\u969c\u788d\u6240\u5728\uff0c\u5bf9P2P\u516c\u53f8\u7edd\u5bf9\u662f\u4e00\u4e2a\u5de8\u5927\u6311\u6218\uff0c\u7eb5\u89c2\u76ee\u524d\u56fd\u5185\u7684P2P\u516c\n",
      "\u53f8\uff0c\u5e94\u8be5\u8fd8\u6ca1\u6709\u4e00\u5bb6\u5f00\u53d1\u51fa\u4ee4\u4eba\u6ee1\u610f\u7684\u8bc4\u7ea7\u6a21\u578b\u7684P2P\u516c\u53f8\uff0c\u5305\u62ec\u4eba\u4eba\u8d37\u3001\u7231\u94b1\u8fdb \u3001 \u62cd\u62cd\u8d37 \u57fa\n",
      "\u672c\u4e0a\u90fd\u8fd8\u5904\u4e8e\u6478\u7d22\u9636\u6bb5\u3002\n",
      "\n",
      "\u8fd9\u91cc\u9762\u4e00\u4e2a\u6700\u5173\u952e\u7684\u95ee\u9898\u5728\u4e8e\u6570\u636e\u6765\u6e90\u3002\u4e2d\u56fd\u7684\u4fe1\u7528\u6570\u636e\u6765\u6e90\u975e\u5e38\u5206\u6563\uff0c\u4e0d\u540c\u7684\u6570\u636e\u6e90\u4e4b\u95f4\u76f8\u4e92\n",
      "\u5272\u88c2\u7684\u73b0\u8c61\u8f83\u4e3a\u4e25\u91cd\uff0c\u4e0d\u540c\u673a\u6784\u4e4b\u95f4\u6570\u636e\u5c1a\u65e0\u6cd5\u5b9e\u73b0\u5171\u4eab\uff0c\u4e14\u6570\u636e\u66f4\u65b0\u6ede\u540e\u3002\u90a3\u4e48\u4f5c\u4e3aP2P\u516c\n",
      "\u53f8\uff0c\u8feb\u4e8e\u73b0\u5b9e\u7684\u538b\u529b\uff0c\u5fc5\u7136\u8981\u82b1\u8d39\u5927\u91cf\u7684\u7cbe\u529b\u6765\u81ea\u884c\u79ef\u7d2f\u6570\u636e\uff0c\u5373\u4f7f\u5982\u6b64\uff0c\u5176\u79ef\u7d2f\u7684\u6570\u636e\u7684\u771f\u5b9e\n",
      "\u6027\u4e5f\u662f\u503c\u5f97\u6000\u7591\u7684\uff0c\u56e0\u4e3aP2P\u516c\u53f8\u5f88\u591a\u65f6\u5019\u8fd8\u771f\u7684\u65e0\u6cd5\u4fdd\u8bc1\u671f\u83b7\u53d6\u4fe1\u606f\u7684\u771f\u5b9e\u6027\uff0c\u56e0\u6b64\u5728\u7f51\u7ad9\u4e0a\n",
      "\u4e5f\u5e38\u63d0\u793a\u6295\u8d44\u8005\u4e0d\u4fdd\u8bc1\u4fe1\u606f\u5b8c\u5168\u51c6\u786e!\u4ee5\u6b64\u6765\u770b\uff0c\u76ee\u524d\u8981\u6784\u5efa\u9884\u6d4b\u6027\u5f3a\u7684\u4fe1\u7528\u8bc4\u7ea7\u6a21\u578b\u662f\u975e\u5e38\u56f0\n",
      "\u96be\u7684\uff0c\u8fd9\u4e5f\u4ece\u4fa7\u9762\u53cd\u6620\u4e86\u56fd\u5185\u5f81\u4fe1\u4f53\u7cfb\u7684\u843d\u540e\u3002\n",
      "\n",
      "\u65e0\u6cd5\u6784\u5efa\u9ad8\u8d28\u91cf\u7684\u4fe1\u7528\u8bc4\u7ea7\u6a21\u578b\uff0c\u4e5f\u5c31\u5bfc\u81f4\u65e0\u6cd5\u5bf9\u501f\u6b3e\u4eba\u4fe1\u7528\u8fdb\u884c\u7cbe\u786e\u7684\u5224\u65ad\uff0c\u8fd9\u4e5f\u8fdb\u4e00\u6b65\u5bfc\u81f4\n",
      "\u4e86\u6b64\u7c7bP2P\u5e73\u53f0\u6269\u5f20\u7684\u52a8\u529b\u4e0d\u8db3\uff0c\u4ea4\u6613\u91cf\u5f88\u96be\u51fa\u73b0\u5feb\u901f\u63d0\u5347\uff0c\u67d0\u4e9b\u8001\u5e73\u53f0\u76ee\u524d\u4e5f\u906d\u9047\u7c7b\u4f3c\u5c34\u5c2c\u3002\n",
      "\u6b64\u7c7b\u5e73\u53f0\u5c06\u5728\u6570\u636e\u79ef\u7d2f\u4e0a\u8017\u8d39\u5927\u91cf\u7684\u8d44\u91d1\u548c\u4eba\u529b\uff0c\u4f46\u662f\u7b14\u8005\u8ba4\u4e3a\u77ed\u671f\u5185\u8981\u53d6\u5f97\u5b9e\u8d28\u6027\u8fdb\u5c55\u5f88\u96be\uff0c\n",
      "\u8fd9\u4e0d\u662f\u4ee5\u67d0\u4e2a\u5e73\u53f0\u7684\u610f\u5fd7\u4e3a\u8f6c\u79fb\u7684\uff0c\u5ba2\u89c2\u4e0a\u771f\u7684\u8fd8\u9700\u8981\u65f6\u95f4\u3002"
     ]
    },
    {
     "cell_type": "markdown",
     "metadata": {},
     "source": [
      "2\u3001\u5982\u679c\u9009\u62e9\u505a\u7ecf\u8425\u7c7b\u7684\u4f01\u4e1a\u8d37\u6b3e\uff0c\u90a3\u4e48\u73b0\u9636\u6bb5\u9009\u62e9\u7b2c\u4e00\u79cd\u6a21\u5f0f\u66f4\u4e3a\u5408\u7406\u3002\u5177\u4f53\u6765\u8bf4\uff0c\u4e00\u822c\u8981\u6c42\n",
      "\u501f\u6b3e\u4eba\u63d0\u4f9b\u62c5\u4fdd\u63aa\u65bd\uff0c\u5982\u62c5\u4fdd\u516c\u53f8\u3001\u5c0f\u8d37\u516c\u53f8\u62c5\u4fdd\uff0c\u5e94\u6536\u8d26\u6b3e\u8d28\u62bc\uff0c\u7968\u636e\u8d28\u62bc\uff0c\u7b2c\u4e09\u65b9\u4f01\u4e1a\u62c5\u4fdd\n",
      "\u7b49\u3002\u8fd9\u662f\u4e00\u79cd\u98ce\u9669\u8f6c\u79fb\u7684\u65b9\u5f0f\uff0c\u662f\u4e00\u4e2a\u6ca1\u6709\u529e\u6cd5\u7684\u529e\u6cd5!\u7531\u4e8e\u4f01\u4e1a\u4fe1\u7528\u5206\u6790\u975e\u5e38\u4e13\u4e1a\uff0c\u4e14\u5f88\u96be\u901a\n",
      "\u8fc7\u5e73\u53f0\u81ea\u8eab\u529b\u91cf\u83b7\u53d6\u5168\u9762\u51c6\u786e\u7684\u501f\u6b3e\u4eba\u4fe1\u606f\uff0c\u56e0\u800c\u501f\u52a9\u4e8e\u62c5\u4fdd\u63aa\u65bd\u8f6c\u79fb\u98ce\u9669\u662f\u76ee\u524d\u9636\u6bb5\u7684\u4e00\u4e2a\u6700\n",
      "\u4f73\u9009\u62e9\u3002\n",
      "\n",
      "\u6b64\u6a21\u5f0f\u4e0b\uff0c\u5e73\u53f0\u53ef\u4ee5\u9009\u62e9\u62c5\u4fdd\u516c\u53f8\u3001\u5c0f\u8d37\u516c\u53f8\u5408\u4f5c\uff0c\u7531\u5b83\u4eec\u63a8\u8350\u5ba2\u6237\u3001\u5c3d\u804c\u8c03\u67e5\u5e76\u63d0\u4f9b\u62c5\u4fdd\uff0c\u4e5f\n",
      "\u53ef\u4ee5\u9009\u62e9\u5b9e\u529b\u5f3a\u7684\u4f9b\u5e94\u94fe\u6838\u5fc3\u4f01\u4e1a\u6765\u5408\u4f5c\u505a\u4f9b\u5e94\u5546\u8d37\u6b3e\uff0c\u4ee5\u4f9b\u5e94\u5546\u6301\u6709\u7684\u5bf9\u6838\u5fc3\u4f01\u4e1a\u7684\u5e94\u6536\u8d26\u6b3e\n",
      "\u8d28\u62bc\u3002\u8fd9\u7c7b\u6a21\u5f0f\u65e2\u89e3\u51b3\u4e86\u5ba2\u6237\u6765\u6e90\u95ee\u9898\uff0c\u4e5f\u89e3\u51b3\u4e86\u98ce\u63a7\u95ee\u9898\uff0c\u53ef\u8c13\u4e00\u4e3e\u4e24\u5f97\u3002\n",
      "\u6b64\u6a21\u5f0f\u4e0b\uff0cP2P\u516c\u53f8\u6700\u91cd\u8981\u7684\u662f\u8981\u5236\u5b9a\u62c5\u4fdd\u673a\u6784\u7684\u51c6\u5165\u6807\u51c6\u548c\u4f9b\u5e94\u94fe\u6838\u5fc3\u4f01\u4e1a\u7684\u51c6\u5165\u6807\u51c6\uff0c\u5e76\u5c31\n",
      "\u53cc\u65b9\u5408\u4f5c\u5236\u5b9a\u660e\u786e\u7684\u65b9\u6848\uff0c\u5c24\u5176\u662f\u5728\u8d37\u540e\u7ba1\u7406\u65b9\u9762\uff0c\u8981\u6c42\u5bf9\u65b9\u79ef\u6781\u914d\u5408\u3002\u53ea\u8981\u62c5\u4fdd\u516c\u53f8\u6709\u6781\u5f3a\u7684\n",
      "\u4ee3\u507f\u80fd\u529b\u6216\u4f9b\u5e94\u94fe\u6838\u5fc3\u4f01\u4e1a\u5bf9\u4f9b\u5e94\u5546\u7684\u8d44\u91d1\u6d41\u6709\u5f88\u5f3a\u7684\u63a7\u5236\u529b\uff0c\u90a3\u4e48\u5c31\u7b97\u501f\u6b3e\u4eba\u903e\u671f\uff0c\u6700\u7ec8\u4e5f\u4e0d\n",
      "\u4f1a\u7ed9\u6295\u8d44\u4eba\u5e26\u6765\u635f\u5931\u3002\n",
      "\n",
      "\u6709\u4eba\u8bf4\u7eaf\u7ebf\u4e0a\u5e73\u53f0\u662f\u672a\u6765\u7684\u53d1\u5c55\u65b9\u5411\uff0c\u8fd9\u53e5\u8bdd\u6709\u70b9\u9053\u7406;\u4f46\u662f\u672a\u6765\u662f\u591a\u5c11\u5e74\u4e4b\u540e\u5462?\u53ef\u80fd\u662f10\u5e74\u4ee5\n",
      "\u4e0a\u5427\u3002\u73b0\u5728\u8c0810\u5e74\u540e\u7684\u4e8b\u60c5\uff0c\u6709\u70b9\u4e0d\u9760\u8c31\uff0c\u5728\u53ef\u4ee5\u9884\u89c1\u7684\u672a\u6765\uff0c\u7b2c\u4e00\u79cd\u6a21\u5f0f\u548c\u7b2c\u4e8c\u79cd\u6a21\u5f0f\u5fc5\u7136\u4f1a\n",
      "\u5e76\u5b58\uff0c\u800c\u4e14\u90fd\u4f1a\u6709\u4ee3\u8868\u6027\u7684\u516c\u53f8\u58ee\u5927\u8d77\u6765\u3002\u4f5c\u4e3aP2P\u516c\u53f8\uff0c\u6700\u5173\u952e\u7684\u662f\u8981\u4e0d\u65ad\u79ef\u7d2f\u501f\u6b3e\u4eba\u548c\u6295\u8d44\n",
      "\u4eba\u8d44\u6e90\uff0c\u786e\u4fdd\u81ea\u5df1\u751f\u5b58\u4e0b\u53bb\uff0c\u8fd9\u6837\u5728\u4e2d\u56fd\u5f81\u4fe1\u4f53\u7cfb\u6784\u5efa\u5b8c\u6210\u4e4b\u65f6\uff0c\u624d\u597d\u4e58\u7740\u4e1c\u98ce\u5feb\u4e50\u5730\u98de\u7fd4\u3002"
     ]
    },
    {
     "cell_type": "markdown",
     "metadata": {},
     "source": [
      "## \u6700\u540e\u4ee5\u96f6\u8d37\uff08\u4fe1\u7528\u8bc4\u5206\u5361\uff09\u4e3aDemo"
     ]
    },
    {
     "cell_type": "markdown",
     "metadata": {},
     "source": [
      "### \u8bc4\u5206\u5361\u5f00\u53d1\u6d41\u7a0b"
     ]
    },
    {
     "cell_type": "markdown",
     "metadata": {},
     "source": [
      "![folow](ccimg\\\\1.png)"
     ]
    },
    {
     "cell_type": "markdown",
     "metadata": {},
     "source": [
      "### \u9636\u6bb5\u4e00\uff1a\u51c6\u5907\u548c\u8ba1\u5212\u2014\u2014\u5546\u4e1a\u76ee\u6807\u3001\u9879\u76ee\u8ba1\u5212"
     ]
    },
    {
     "cell_type": "markdown",
     "metadata": {},
     "source": [
      "![plan](ccimg/2.png)"
     ]
    },
    {
     "cell_type": "markdown",
     "metadata": {},
     "source": [
      "### \u9636\u6bb5\u4e8c\uff1a\u6570\u636e\u521d\u63a2\u4e0e\u9879\u76ee\u53c2\u6570\u2014\u2014\u6570\u636e\u8d28\u91cf\u3001\u6392\u9664\u89c4\u5219"
     ]
    },
    {
     "cell_type": "markdown",
     "metadata": {},
     "source": [
      "![explore](ccimg/3.png)"
     ]
    },
    {
     "cell_type": "markdown",
     "metadata": {},
     "source": [
      "### \u9636\u6bb5\u4e8c\uff1a\u6570\u636e\u521d\u63a2\u4e0e\u6a21\u578b\u53c2\u6570\u2014\u2014\u65f6\u95f4\u7a97\u3001\u597d\u574f\u5b9a\u4e49"
     ]
    },
    {
     "cell_type": "markdown",
     "metadata": {},
     "source": [
      "![explore](ccimg/4.png)"
     ]
    },
    {
     "cell_type": "markdown",
     "metadata": {},
     "source": [
      "### \u9636\u6bb5\u4e09\uff1a\u5efa\u6a21\u6570\u636e\u51c6\u5907\u2014\u2014\u53d8\u91cf\u9009\u62e9"
     ]
    },
    {
     "cell_type": "markdown",
     "metadata": {},
     "source": [
      "![prepare](ccimg/5.png)"
     ]
    },
    {
     "cell_type": "markdown",
     "metadata": {},
     "source": [
      "### \u9636\u6bb5\u56db\uff1a\u8bc4\u5206\u5361\u6784\u5efa\u2014\u2014\u6570\u636e\u63a2\u7d22\u3001\u5355\u53d8\u91cf\u5206\u6790"
     ]
    },
    {
     "cell_type": "markdown",
     "metadata": {},
     "source": [
      "![explore](ccimg/6_1.png)\n",
      "![explore](ccimg/6_2.png)"
     ]
    },
    {
     "cell_type": "markdown",
     "metadata": {},
     "source": [
      "### \u9636\u6bb5\u56db\uff1a\u8bc4\u5206\u5361\u6784\u5efa\u2014\u2014\u62d2\u7edd\u63a8\u65ad\u3001\u6700\u7ec8\u5efa\u6a21"
     ]
    },
    {
     "cell_type": "markdown",
     "metadata": {},
     "source": [
      "![explore](ccimg/7_1.png)\n",
      "![explore](ccimg/7_2.png)"
     ]
    },
    {
     "cell_type": "markdown",
     "metadata": {},
     "source": [
      "### \u9636\u6bb5\u56db\uff1a\u8bc4\u5206\u5361\u6784\u5efa\u2014\u2014\u6700\u7ec8\u5efa\u6a21"
     ]
    },
    {
     "cell_type": "markdown",
     "metadata": {},
     "source": [
      "![explore](ccimg/8_1.png)\n",
      "![explore](ccimg/8_2.png)"
     ]
    },
    {
     "cell_type": "markdown",
     "metadata": {},
     "source": [
      "### \u9636\u6bb5\u4e94\uff1a\u4fe1\u7528\u5361\u7ba1\u7406\u62a5\u544a\u2014\u2014\u6253\u5206\u62a5\u544a\u3001Vintage\u62a5\u544a"
     ]
    },
    {
     "cell_type": "markdown",
     "metadata": {},
     "source": [
      "![score](ccimg/9.png)\n",
      "![report](ccimg/10.png)"
     ]
    },
    {
     "cell_type": "markdown",
     "metadata": {},
     "source": [
      "# \u603b\u7ed3"
     ]
    },
    {
     "cell_type": "markdown",
     "metadata": {},
     "source": [
      "\u4ee5\u4e0a\u53ea\u662f\u98ce\u63a7\u4e2d\u4fe1\u7528\u98ce\u9669\u7684\u793a\u4f8b\u3002\u5b9e\u9645\u5e94\u7528\u4e2d\u8fd8\u9700\u8981\u5173\u6ce8\u5e02\u573a\u98ce\u9669\u3001\u64cd\u4f5c\u98ce\u9669\u7b49\u3002"
     ]
    },
    {
     "cell_type": "code",
     "collapsed": false,
     "input": [],
     "language": "python",
     "metadata": {},
     "outputs": [],
     "prompt_number": 5
    }
   ],
   "metadata": {}
  }
 ]
}
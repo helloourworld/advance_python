{
 "cells": [
  {
   "cell_type": "markdown",
   "metadata": {},
   "source": [
    "# P2P行业的风控模型分析"
   ]
  },
  {
   "cell_type": "code",
   "execution_count": 8,
   "metadata": {
    "collapsed": false
   },
   "outputs": [
    {
     "name": "stdout",
     "output_type": "stream",
     "text": [
      "Populating the interactive namespace from numpy and matplotlib\n"
     ]
    }
   ],
   "source": [
    "# -*- coding:utf-8 -*-\n",
    "import matplotlib.pyplot as plt\n",
    "import numpy as np\n",
    "import pandas as pd\n",
    "from matplotlib.figure import Figure\n",
    "%pylab inline"
   ]
  },
  {
   "cell_type": "markdown",
   "metadata": {},
   "source": [
    "## 首先先看下不同金融产品的大致利率水平"
   ]
  },
  {
   "cell_type": "code",
   "execution_count": 9,
   "metadata": {
    "collapsed": false
   },
   "outputs": [],
   "source": [
    "intrest_by_channal = pd.Series([22.40,17.50,6,4.34,2.75],name= ['高利贷','P2P','银行理财','余额宝','银行定存'])"
   ]
  },
  {
   "cell_type": "code",
   "execution_count": 10,
   "metadata": {
    "collapsed": false
   },
   "outputs": [],
   "source": [
    "def autolabel(rects):\n",
    "    for rect in rects:\n",
    "        height = rect.get_height()\n",
    "        plt.text(rect.get_x()+rect.get_width()/2., 1.03*height, '%s' % float(height))"
   ]
  },
  {
   "cell_type": "code",
   "execution_count": 14,
   "metadata": {
    "collapsed": false
   },
   "outputs": [
    {
     "data": {
      "image/png": "[encoded data removed]",
      "text/plain": [
       "<matplotlib.figure.Figure at 0xb9597f0>"
      ]
     },
     "metadata": {},
     "output_type": "display_data"
    }
   ],
   "source": [
    "N = 5\n",
    "ind = np.arange(N)\n",
    "width = 0.5 \n",
    "plt.xticks(ind,['gaolidai','P2P','chrem','yuebao','dingcun'])\n",
    "rect = plt.bar(ind, intrest_by_channal, width, color='r',align=\"center\")\n",
    "plt.legend((rect,),(\"legend\",))\n",
    "autolabel(rect)\n",
    "plt.title('Different Rate for Special Finace Product')\n",
    "plt.grid()\n",
    "plt.xlabel(u'In contrast to bank dingcun，P2P is more popular')\n",
    "plt.show()"
   ]
  },
  {
   "cell_type": "markdown",
   "metadata": {},
   "source": [
    "P2P与银行定存和理财相比，无疑具有非常强的吸引力，也是近年来发展较快的原因。\n",
    "\n",
    "## 其次梳理风控的一般模式\n",
    "\n",
    "对于任何一个P2P公司来说，风险控制都是不可能绕过的一道关口，长期来看，最终能生存下来\n",
    "的竞争者，必然在风控上有独到之处。那么到底有哪些风控模式,应该选择什么样的风控模式,这\n",
    "是每个立志在P2P行业里有所建树的公司都应该深入考虑的问题。"
   ]
  },
  {
   "cell_type": "markdown",
   "metadata": {},
   "source": [
    "要搞风控，首先要明确的是风控的最终目的是什么。很简单，就是控制预期信用损失，即借款人\n",
    "最终给投资人带来的损失预计有多大。那么这个预期信用损失如何来计量呢？"
   ]
  },
  {
   "cell_type": "markdown",
   "metadata": {},
   "source": [
    "### $ 预期损失=违约概率*违约敞口*违约损失率 $"
   ]
  },
  {
   "cell_type": "markdown",
   "metadata": {},
   "source": [
    "这里的违约，有不同的标准，比如巴塞尔协议上明确定义逾期超过90天视为违约;对于P2P行业来\n",
    "说，我们不可能容忍如此长的时间，笔者认为，从审慎的角度来看，P2P借款人逾期之时就应视\n",
    "为违约。"
   ]
  },
  {
   "cell_type": "markdown",
   "metadata": {},
   "source": [
    "**违约率**是指一个客户发生违约的可能性，计算方式为P2P平台违约借款人的数量除以P2P平台总的\n",
    "借款人数量，注意：违约率考量的不是借款金额之比，而是借款人数量之比。违约率与借款人的\n",
    "信用评级直接相关，客户信用级别越高，其违约率越低，因而借款利率也应该越低。"
   ]
  },
  {
   "cell_type": "markdown",
   "metadata": {},
   "source": [
    "**违约敞口**是指借款人违约时尚未偿还的借款本息金额，违约敞口与借款人采用的还款方式直接相\n",
    "关，比如同样一笔借款，在借款人违约后，到期一次还款方式与等额本息还款方式相比，前者的\n",
    "违约敞口一般更大，因为后者的本金随着每期还款的进行而越来越少。"
   ]
  },
  {
   "cell_type": "markdown",
   "metadata": {},
   "source": [
    "**违约损失率**是指违约敞口中无法收回部分占违约敞口的比例。违约损失率与担保方式直接相关，\n",
    "比如同样一笔贷款，纯信用、房产抵押、担保机构担保三种方式的违约损失率是不同的，纯信用\n",
    "贷款的违约损失率可能最高，因为如果借款人不还款，将会损失100%，房产抵押和担保机构担保\n",
    "的违约损失率相比之下要小很多，但是由于房产变现能力存在不确定性或者担保机构代偿能力的\n",
    "不确定性，违约损失率也会存在不确定性，关键是如何选择抵押品和合格的担保机构。"
   ]
  },
  {
   "cell_type": "markdown",
   "metadata": {},
   "source": [
    "要控制风险，也就是要从以上三个方面展开。国内的银行在控制风险的时候，虽然也会看违约\n",
    "率，也会控制违约敞口，但是更加偏重于控制违约损失率，也就是一般都要求借款人提供抵押物\n",
    "或者提供大型企业担保。此种思路下，银行认为，就算违约率高、敞口大，但是通过处置抵押物\n",
    "或要求担保方垫还，可以将违约损失率控制得很低或者为0，那么三者相乘，总的损失还是很\n",
    "小。这样是***第一种风险控制模式，也就是注重担保***，其目的是最大限度地控制违约损失率，这样\n",
    "就不用花太多精力去控制违约率了，简单直接。"
   ]
  },
  {
   "cell_type": "markdown",
   "metadata": {},
   "source": [
    "那么***第二种模式***与此正好相反，也就是通过建立预测性非常好的违约率模型，即***信用评级模型***，\n",
    "把违约率高的借款人全部拒之门外，核心就是控制违约率。在这种模式下，如果选择违约率极低\n",
    "的借款人，那么就可以放松对担保方式的要求，原因是虽然违约损失率高，但是借款人总体违约\n",
    "率极低，二者相乘，最终的损失还是很低。这种模式要求有大量的信用数据积累，以便建立精确\n",
    "的信用评级模型，但是难度很大。目前只有**零售贷款(如信用卡)**可以完全采用此模式，因为其数\n",
    "据积累量非常大，建立模型的基础就会非常好，模型的预测能力也会非常强。"
   ]
  },
  {
   "cell_type": "markdown",
   "metadata": {},
   "source": [
    "***第三种模式***是最理想的，它将***同时关注违约率和违约损失率***，这样将会获得比前两种模式都更低\n",
    "的信用损失。但是这种模式存在一个问题，那就是如果要求借款人信用级别特别高，又要求其提\n",
    "供强担保措施，那么最终这笔生意可能无法达成，因为很少有借款人会这么傻。也就是说虽然这\n",
    "种模式将损失控制住了，但是业务量可能很难上去，结果业务运营方会因无法获得较高的利润而\n",
    "出现经营困难。"
   ]
  },
  {
   "cell_type": "markdown",
   "metadata": {},
   "source": [
    "虽然第三种模式令人向往，但是实际操作起来困难重重。那么从实际操作上来看，只能选择第一\n",
    "种或第二种模式。比较合理的做法是：如果选择第一种模式，那么适当关注一下客户信用级别;\n",
    "如果现则第二种模式，也需要适当考虑一下担保方式。"
   ]
  },
  {
   "cell_type": "markdown",
   "metadata": {},
   "source": [
    "那么对于P2P公司来说，应该采用什么样的风险控制模式呢.这跟业务模式的选择有很大关系。"
   ]
  },
  {
   "cell_type": "markdown",
   "metadata": {},
   "source": [
    "1、如果选择做个人消费用途的贷款，由于这类贷款的特点是金额小，数量大，无法要求借款人\n",
    "提供担保，所以最佳选择是控制违约率，即第二种模式。此时构建预测性强的信用评级模型是最\n",
    "核心的竞争力，也是最大的障碍所在，对P2P公司绝对是一个巨大挑战，纵观目前国内的P2P公\n",
    "司，应该还没有一家开发出令人满意的评级模型的P2P公司，包括人人贷、爱钱进 、 拍拍贷 基\n",
    "本上都还处于摸索阶段。\n",
    "\n",
    "这里面一个最关键的问题在于数据来源。中国的信用数据来源非常分散，不同的数据源之间相互\n",
    "割裂的现象较为严重，不同机构之间数据尚无法实现共享，且数据更新滞后。那么作为P2P公\n",
    "司，迫于现实的压力，必然要花费大量的精力来自行积累数据，即使如此，其积累的数据的真实\n",
    "性也是值得怀疑的，因为P2P公司很多时候还真的无法保证期获取信息的真实性，因此在网站上\n",
    "也常提示投资者不保证信息完全准确!以此来看，目前要构建预测性强的信用评级模型是非常困\n",
    "难的，这也从侧面反映了国内征信体系的落后。\n",
    "\n",
    "无法构建高质量的信用评级模型，也就导致无法对借款人信用进行精确的判断，这也进一步导致\n",
    "了此类P2P平台扩张的动力不足，交易量很难出现快速提升，某些老平台目前也遭遇类似尴尬。\n",
    "此类平台将在数据积累上耗费大量的资金和人力，但是笔者认为短期内要取得实质性进展很难，\n",
    "这不是以某个平台的意志为转移的，客观上真的还需要时间。"
   ]
  },
  {
   "cell_type": "markdown",
   "metadata": {},
   "source": [
    "2、如果选择做经营类的企业贷款，那么现阶段选择第一种模式更为合理。具体来说，一般要求\n",
    "借款人提供担保措施，如担保公司、小贷公司担保，应收账款质押，票据质押，第三方企业担保\n",
    "等。这是一种风险转移的方式，是一个没有办法的办法!由于企业信用分析非常专业，且很难通\n",
    "过平台自身力量获取全面准确的借款人信息，因而借助于担保措施转移风险是目前阶段的一个最\n",
    "佳选择。\n",
    "\n",
    "此模式下，平台可以选择担保公司、小贷公司合作，由它们推荐客户、尽职调查并提供担保，也\n",
    "可以选择实力强的供应链核心企业来合作做供应商贷款，以供应商持有的对核心企业的应收账款\n",
    "质押。这类模式既解决了客户来源问题，也解决了风控问题，可谓一举两得。\n",
    "此模式下，P2P公司最重要的是要制定担保机构的准入标准和供应链核心企业的准入标准，并就\n",
    "双方合作制定明确的方案，尤其是在贷后管理方面，要求对方积极配合。只要担保公司有极强的\n",
    "代偿能力或供应链核心企业对供应商的资金流有很强的控制力，那么就算借款人逾期，最终也不\n",
    "会给投资人带来损失。\n",
    "\n",
    "有人说纯线上平台是未来的发展方向，这句话有点道理;但是未来是多少年之后呢?可能是10年以\n",
    "上吧。现在谈10年后的事情，有点不靠谱，在可以预见的未来，第一种模式和第二种模式必然会\n",
    "并存，而且都会有代表性的公司壮大起来。作为P2P公司，最关键的是要不断积累借款人和投资\n",
    "人资源，确保自己生存下去，这样在中国征信体系构建完成之时，才好乘着东风快乐地飞翔。"
   ]
  },
  {
   "cell_type": "markdown",
   "metadata": {},
   "source": [
    "## 最后以零贷（信用评分卡）为Demo"
   ]
  },
  {
   "cell_type": "markdown",
   "metadata": {},
   "source": [
    "### 评分卡开发流程"
   ]
  },
  {
   "cell_type": "markdown",
   "metadata": {},
   "source": [
    "![folow](ccimg\\\\1.png)"
   ]
  },
  {
   "cell_type": "markdown",
   "metadata": {},
   "source": [
    "### 阶段一：准备和计划——商业目标、项目计划"
   ]
  },
  {
   "cell_type": "markdown",
   "metadata": {},
   "source": [
    "![plan](ccimg/2.png)"
   ]
  },
  {
   "cell_type": "markdown",
   "metadata": {},
   "source": [
    "### 阶段二：数据初探与项目参数——数据质量、排除规则"
   ]
  },
  {
   "cell_type": "markdown",
   "metadata": {},
   "source": [
    "![explore](ccimg/3.png)"
   ]
  },
  {
   "cell_type": "markdown",
   "metadata": {},
   "source": [
    "### 阶段二：数据初探与模型参数——时间窗、好坏定义"
   ]
  },
  {
   "cell_type": "markdown",
   "metadata": {},
   "source": [
    "![explore](ccimg/4.png)"
   ]
  },
  {
   "cell_type": "markdown",
   "metadata": {},
   "source": [
    "### 阶段三：建模数据准备——变量选择"
   ]
  },
  {
   "cell_type": "markdown",
   "metadata": {},
   "source": [
    "![prepare](ccimg/5.png)"
   ]
  },
  {
   "cell_type": "markdown",
   "metadata": {},
   "source": [
    "### 阶段四：评分卡构建——数据探索、单变量分析"
   ]
  },
  {
   "cell_type": "markdown",
   "metadata": {},
   "source": [
    "![explore](ccimg/6_1.png)\n",
    "![explore](ccimg/6_2.png)"
   ]
  },
  {
   "cell_type": "markdown",
   "metadata": {},
   "source": [
    "### 阶段四：评分卡构建——拒绝推断、最终建模"
   ]
  },
  {
   "cell_type": "markdown",
   "metadata": {},
   "source": [
    "![explore](ccimg/7_1.png)\n",
    "![explore](ccimg/7_2.png)"
   ]
  },
  {
   "cell_type": "markdown",
   "metadata": {},
   "source": [
    "### 阶段四：评分卡构建——最终建模"
   ]
  },
  {
   "cell_type": "markdown",
   "metadata": {},
   "source": [
    "![explore](ccimg/8_1.png)\n",
    "![explore](ccimg/8_2.png)"
   ]
  },
  {
   "cell_type": "markdown",
   "metadata": {},
   "source": [
    "### 阶段五：信用卡管理报告——打分报告、Vintage报告"
   ]
  },
  {
   "cell_type": "markdown",
   "metadata": {},
   "source": [
    "![score](ccimg/9.png)\n",
    "![report](ccimg/10.png)"
   ]
  },
  {
   "cell_type": "markdown",
   "metadata": {},
   "source": [
    "# 总结"
   ]
  },
  {
   "cell_type": "markdown",
   "metadata": {},
   "source": [
    "以上只是风控中信用风险的示例。实际应用中还需要关注市场风险、操作风险等。"
   ]
  },
  {
   "cell_type": "code",
   "execution_count": 5,
   "metadata": {
    "collapsed": false
   },
   "outputs": [],
   "source": []
  }
 ],
 "metadata": {
  "anaconda-cloud": {},
  "encoding": "utf-8"
 },
 "nbformat": 4,
 "nbformat_minor": 0
}

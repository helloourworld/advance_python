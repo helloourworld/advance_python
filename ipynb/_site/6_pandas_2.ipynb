{
 "metadata": {
  "name": "",
  "signature": "sha256:7ab434ee087ab77d066217f105811cfb1e83bcd786823d240ce9709d4473b0f7"
 },
 "nbformat": 3,
 "nbformat_minor": 0,
 "worksheets": [
  {
   "cells": [
    {
     "cell_type": "heading",
     "level": 1,
     "metadata": {},
     "source": [
      "1\u3001 \u6b22\u8fce to pandas\n"
     ]
    },
    {
     "cell_type": "markdown",
     "metadata": {},
     "source": [
      "Pandas\u7684\u91cd\u8981\u6570\u636e\u7c7b\u578b\n",
      "* DataFrame\uff08\u4e8c\u7ef4\u8868)\n",
      "* Series\uff08\u4e00\u7ef4\u5e8f\u5217)\n",
      "* Index(\u884c\u7d22\u5f15\uff0c\u884c\u7ea7\u5143\u6570\u636e\uff09"
     ]
    },
    {
     "cell_type": "markdown",
     "metadata": {},
     "source": [
      "1.1 Series: pandas\u7684\u957f\u67aa\uff08\u6570\u636e\u8868\u4e2d\u7684\u4e00\u5217\u6216\u4e00\u884c\uff0c\u89c2\u6d4b\u5411\u91cf\uff0c\u4e00\u7ef4\u6570\u7ec4\u3002\u3002\u3002\uff09\n",
      "----------------------------------------------------------------------\n",
      "\u6570\u636e\u4e16\u754c\u4e2d\u5bf9\u4e8e\u4efb\u610f\u4e00\u4e2a\u4e2a\u4f53\u7684\u5168\u9762\u89c2\u6d4b\uff0c\u6216\u8005\u5bf9\u4e8e\u4efb\u610f\u4e00\u7ec4\u4e2a\u4f53\u67d0\u4e00\u5c5e\u6027\u7684\u89c2\u6d4b\uff0c\u5168\u90e8\u53ef\u4ee5\u62bd\u8c61\u708eSeries\u7684\u6982\u5ff5\u3002\n",
      "\n",
      "\u7528\u503c\u6784\u5efa\u4e00\u4e2aSeries\uff1a\n",
      "\u7531\u9ed8\u8ba4index\u548cvalue\u7ec4\u6210"
     ]
    },
    {
     "cell_type": "code",
     "collapsed": false,
     "input": [
      "import numpy as np\n",
      "import pandas as pd\n",
      "Series1 = pd.Series(np.random.randn(4))\n",
      "print Series1,type(Series1)\n",
      "print Series1.index\n",
      "print Series1.values"
     ],
     "language": "python",
     "metadata": {},
     "outputs": [
      {
       "output_type": "stream",
       "stream": "stdout",
       "text": [
        "0   -0.128622\n",
        "1    1.628686\n",
        "2    0.725371\n",
        "3   -0.035089\n",
        "dtype: float64 <class 'pandas.core.series.Series'>\n",
        "RangeIndex(start=0, stop=4, step=1)\n",
        "[-0.12862196  1.62868612  0.72537131 -0.03508945]\n"
       ]
      }
     ],
     "prompt_number": 1
    },
    {
     "cell_type": "markdown",
     "metadata": {},
     "source": [
      "## Series \u652f\u6301\u8fc7\u6ee4\u7684\u539f\u7406\u5c31\u5982\u540cNumPy\uff1a"
     ]
    },
    {
     "cell_type": "code",
     "collapsed": false,
     "input": [
      "print Series1>0"
     ],
     "language": "python",
     "metadata": {},
     "outputs": [
      {
       "output_type": "stream",
       "stream": "stdout",
       "text": [
        "0    False\n",
        "1     True\n",
        "2     True\n",
        "3    False\n",
        "dtype: bool\n"
       ]
      }
     ],
     "prompt_number": 2
    },
    {
     "cell_type": "code",
     "collapsed": false,
     "input": [
      "print Series1[Series1>0]"
     ],
     "language": "python",
     "metadata": {},
     "outputs": [
      {
       "output_type": "stream",
       "stream": "stdout",
       "text": [
        "1    1.628686\n",
        "2    0.725371\n",
        "dtype: float64\n"
       ]
      }
     ],
     "prompt_number": 3
    },
    {
     "cell_type": "markdown",
     "metadata": {},
     "source": [
      "## \u5f53\u7136\u4e5f\u652f\u6301Broadcasting\uff1a"
     ]
    },
    {
     "cell_type": "code",
     "collapsed": false,
     "input": [
      "print Series1 * 2\n",
      "print Series1 + 5"
     ],
     "language": "python",
     "metadata": {},
     "outputs": [
      {
       "output_type": "stream",
       "stream": "stdout",
       "text": [
        "0   -0.257244\n",
        "1    3.257372\n",
        "2    1.450743\n",
        "3   -0.070179\n",
        "dtype: float64\n",
        "0    4.871378\n",
        "1    6.628686\n",
        "2    5.725371\n",
        "3    4.964911\n",
        "dtype: float64\n"
       ]
      }
     ],
     "prompt_number": 4
    },
    {
     "cell_type": "markdown",
     "metadata": {},
     "source": [
      "#\u4ee5\u53caUniversal Function\uff1a"
     ]
    },
    {
     "cell_type": "code",
     "collapsed": false,
     "input": [
      "print np.exp(Series1)\n",
      "#NumPy Universal Function\n",
      "f_np = np.frompyfunc(lambda x:np.exp(x*2+5),1,1)\n",
      "print f_np(Series1)"
     ],
     "language": "python",
     "metadata": {},
     "outputs": [
      {
       "output_type": "stream",
       "stream": "stdout",
       "text": [
        "0    0.879306\n",
        "1    5.097173\n",
        "2    2.065498\n",
        "3    0.965519\n",
        "dtype: float64\n",
        "0     114.75\n",
        "1    3855.95\n",
        "2    633.172\n",
        "3    138.355\n",
        "dtype: object\n"
       ]
      }
     ],
     "prompt_number": 5
    },
    {
     "cell_type": "markdown",
     "metadata": {},
     "source": [
      "##\u5728\u5e8f\u5217\u4e0a\u5c31\u4f7f\u2f64\u7528\u2f8f\u884c\u6807\uff0c\u2f7d\u800c\u4e0d\u662f\u521b\u5efa\u2f00\u4e00\u4e2a2\u5217\u7684\u6570\u636e\u8868\uff0c\u80fd\u591f\u8f7b\u677e\u8fa8\u522b\u54ea\u2fa5\u91cc\u662f\u6570\u636e\uff0c\u54ea\u2fa5\u91cc\u662f\u5143\u6570\u636e\uff1a"
     ]
    },
    {
     "cell_type": "code",
     "collapsed": false,
     "input": [
      "series2 = pd.Series(Series1.values, index = ['norm_' + unicode(i) for i in xrange(4)])"
     ],
     "language": "python",
     "metadata": {},
     "outputs": [],
     "prompt_number": 6
    },
    {
     "cell_type": "code",
     "collapsed": false,
     "input": [
      "print series2, type(series2)"
     ],
     "language": "python",
     "metadata": {},
     "outputs": [
      {
       "output_type": "stream",
       "stream": "stdout",
       "text": [
        "norm_0   -0.128622\n",
        "norm_1    1.628686\n",
        "norm_2    0.725371\n",
        "norm_3   -0.035089\n",
        "dtype: float64 <class 'pandas.core.series.Series'>\n"
       ]
      }
     ],
     "prompt_number": 7
    },
    {
     "cell_type": "code",
     "collapsed": false,
     "input": [
      "print series2.index"
     ],
     "language": "python",
     "metadata": {},
     "outputs": [
      {
       "output_type": "stream",
       "stream": "stdout",
       "text": [
        "Index([u'norm_0', u'norm_1', u'norm_2', u'norm_3'], dtype='object')\n"
       ]
      }
     ],
     "prompt_number": 8
    },
    {
     "cell_type": "code",
     "collapsed": false,
     "input": [
      "print type(series2.index)"
     ],
     "language": "python",
     "metadata": {},
     "outputs": [
      {
       "output_type": "stream",
       "stream": "stdout",
       "text": [
        "<class 'pandas.indexes.base.Index'>\n"
       ]
      }
     ],
     "prompt_number": 9
    },
    {
     "cell_type": "code",
     "collapsed": false,
     "input": [
      "print series2.values"
     ],
     "language": "python",
     "metadata": {},
     "outputs": [
      {
       "output_type": "stream",
       "stream": "stdout",
       "text": [
        "[-0.12862196  1.62868612  0.72537131 -0.03508945]\n"
       ]
      }
     ],
     "prompt_number": 10
    },
    {
     "cell_type": "markdown",
     "metadata": {},
     "source": [
      "\u867d\u7136\u2f8f\u884c\u662f\u6709\u987a\u5e8f\u7684\uff0c\u4f46\u662f\u4ecd\u7136\u80fd\u591f\u901a\u8fc7\u2f8f\u884c\u7ea7\u7684index\u6765\u8bbf\u95ee\u5230\u6570\u636e\uff1a\n",
      "\uff08\u5f53\u7136\u4e5f\u4e0d\u5c3d\u7136\u50cfOrdered Dict\uff0c\u56e0\u4e3a\u2f8f\u884c\u7d22\u5f15\u751a\u2f84\u81f3\u53ef\u4ee5\u91cd\u590d\uff0c\u4e0d\u63a8\u8350\u91cd\u590d\u7684\u2f8f\u884c\u7d22\u5f15\u4e0d\u4ee3\u8868\u4e0d\u80fd\u2f64\u7528\uff09"
     ]
    },
    {
     "cell_type": "code",
     "collapsed": false,
     "input": [
      "print series2[['norm-0', 'norm-3']]"
     ],
     "language": "python",
     "metadata": {},
     "outputs": [
      {
       "output_type": "stream",
       "stream": "stdout",
       "text": [
        "norm-0   NaN\n",
        "norm-3   NaN\n",
        "dtype: float64\n"
       ]
      }
     ],
     "prompt_number": 11
    },
    {
     "cell_type": "code",
     "collapsed": false,
     "input": [
      "print series2[['norm_0', 'norm_3']]"
     ],
     "language": "python",
     "metadata": {},
     "outputs": [
      {
       "output_type": "stream",
       "stream": "stdout",
       "text": [
        "norm_0   -0.128622\n",
        "norm_3   -0.035089\n",
        "dtype: float64\n"
       ]
      }
     ],
     "prompt_number": 12
    },
    {
     "cell_type": "code",
     "collapsed": false,
     "input": [
      "print 'norm_0' in series2\n",
      "print 'norm-0' in series2"
     ],
     "language": "python",
     "metadata": {},
     "outputs": [
      {
       "output_type": "stream",
       "stream": "stdout",
       "text": [
        "True\n",
        "False\n"
       ]
      }
     ],
     "prompt_number": 13
    },
    {
     "cell_type": "markdown",
     "metadata": {},
     "source": [
      "\u9ed8\u8ba4\u2f8f\u884c\u7d22\u5f15\u5c31\u50cf\u2f8f\u884c\u53f7\u2f00\u4e00\u6837\uff1a"
     ]
    },
    {
     "cell_type": "code",
     "collapsed": false,
     "input": [
      "print series2.index"
     ],
     "language": "python",
     "metadata": {},
     "outputs": [
      {
       "output_type": "stream",
       "stream": "stdout",
       "text": [
        "Index([u'norm_0', u'norm_1', u'norm_2', u'norm_3'], dtype='object')\n"
       ]
      }
     ],
     "prompt_number": 14
    },
    {
     "cell_type": "code",
     "collapsed": false,
     "input": [
      "print Series1.index"
     ],
     "language": "python",
     "metadata": {},
     "outputs": [
      {
       "output_type": "stream",
       "stream": "stdout",
       "text": [
        "RangeIndex(start=0, stop=4, step=1)\n"
       ]
      }
     ],
     "prompt_number": 15
    },
    {
     "cell_type": "markdown",
     "metadata": {},
     "source": [
      "\u4eceKey\u4e0d\u91cd\u590d\u7684Ordere Dict\u6216\u8005\u4eceDict\u6765\u5b9a\u4e49Series\u5c31\u4e0d\u9700\u8981\u62c5\u5fc3\u7d22\u5f15\u91cd\u590d"
     ]
    },
    {
     "cell_type": "code",
     "collapsed": false,
     "input": [
      "Series3_Dict= {\"Japan\":\"Tokyo\", \"S.Korea\":\"Seoul\", \"China\":\"Bj\"}\n",
      "Series3_pdseries = pd.Series(Series3_Dict)"
     ],
     "language": "python",
     "metadata": {},
     "outputs": [],
     "prompt_number": 16
    },
    {
     "cell_type": "code",
     "collapsed": false,
     "input": [
      "print Series3_pdseries"
     ],
     "language": "python",
     "metadata": {},
     "outputs": [
      {
       "output_type": "stream",
       "stream": "stdout",
       "text": [
        "China         Bj\n",
        "Japan      Tokyo\n",
        "S.Korea    Seoul\n",
        "dtype: object\n"
       ]
      }
     ],
     "prompt_number": 17
    },
    {
     "cell_type": "code",
     "collapsed": false,
     "input": [
      "print Series3_pdseries.values"
     ],
     "language": "python",
     "metadata": {},
     "outputs": [
      {
       "output_type": "stream",
       "stream": "stdout",
       "text": [
        "['Bj' 'Tokyo' 'Seoul']\n"
       ]
      }
     ],
     "prompt_number": 18
    },
    {
     "cell_type": "code",
     "collapsed": false,
     "input": [
      "print Series3_pdseries.index"
     ],
     "language": "python",
     "metadata": {},
     "outputs": [
      {
       "output_type": "stream",
       "stream": "stdout",
       "text": [
        "Index([u'China', u'Japan', u'S.Korea'], dtype='object')\n"
       ]
      }
     ],
     "prompt_number": 19
    },
    {
     "cell_type": "markdown",
     "metadata": {},
     "source": [
      "## \u60f3\u8ba9\u5e8f\u5217\u6309\u4f60\u7684\u6392\u5e8f\u65b9\u5f0f\u4fdd\u5b58\uff1f\u5c31\u7b97\u6709\u7f3a\u5931\u503c\u90fd\u6beb\u65e0\u95ee\u9898"
     ]
    },
    {
     "cell_type": "code",
     "collapsed": false,
     "input": [
      "Series4_IndexList = [\"Japan\", \"China\", \"Singapore\", \"S.Korea\"]"
     ],
     "language": "python",
     "metadata": {},
     "outputs": [],
     "prompt_number": 20
    },
    {
     "cell_type": "code",
     "collapsed": false,
     "input": [
      "Series4_pdseries = pd.Series(Series3_Dict, index = Series4_IndexList)"
     ],
     "language": "python",
     "metadata": {},
     "outputs": [],
     "prompt_number": 21
    },
    {
     "cell_type": "code",
     "collapsed": false,
     "input": [
      "print Series4_pdseries"
     ],
     "language": "python",
     "metadata": {},
     "outputs": [
      {
       "output_type": "stream",
       "stream": "stdout",
       "text": [
        "Japan        Tokyo\n",
        "China           Bj\n",
        "Singapore      NaN\n",
        "S.Korea      Seoul\n",
        "dtype: object\n"
       ]
      }
     ],
     "prompt_number": 22
    },
    {
     "cell_type": "code",
     "collapsed": false,
     "input": [
      "print Series4_pdseries.values"
     ],
     "language": "python",
     "metadata": {},
     "outputs": [
      {
       "output_type": "stream",
       "stream": "stdout",
       "text": [
        "['Tokyo' 'Bj' nan 'Seoul']\n"
       ]
      }
     ],
     "prompt_number": 23
    },
    {
     "cell_type": "code",
     "collapsed": false,
     "input": [
      "print Series4_pdseries.index"
     ],
     "language": "python",
     "metadata": {},
     "outputs": [
      {
       "output_type": "stream",
       "stream": "stdout",
       "text": [
        "Index([u'Japan', u'China', u'Singapore', u'S.Korea'], dtype='object')\n"
       ]
      }
     ],
     "prompt_number": 24
    },
    {
     "cell_type": "code",
     "collapsed": false,
     "input": [
      "print Series4_pdseries.isnull()"
     ],
     "language": "python",
     "metadata": {},
     "outputs": [
      {
       "output_type": "stream",
       "stream": "stdout",
       "text": [
        "Japan        False\n",
        "China        False\n",
        "Singapore     True\n",
        "S.Korea      False\n",
        "dtype: bool\n"
       ]
      }
     ],
     "prompt_number": 25
    },
    {
     "cell_type": "code",
     "collapsed": false,
     "input": [
      "print Series4_pdseries.notnull()"
     ],
     "language": "python",
     "metadata": {},
     "outputs": [
      {
       "output_type": "stream",
       "stream": "stdout",
       "text": [
        "Japan         True\n",
        "China         True\n",
        "Singapore    False\n",
        "S.Korea       True\n",
        "dtype: bool\n"
       ]
      }
     ],
     "prompt_number": 26
    },
    {
     "cell_type": "markdown",
     "metadata": {},
     "source": [
      "#\u6574\u4e2a\u5e8f\u5217\u7ea7\u522b\u7684\u5143\u6570\u636e\u4fe1\u606f\uff1aname\n",
      "\n",
      "#\u5f53\u6570\u636e\u5e8f\u5217\u4ee5\u53caindex\u672c\u2f9d\u8eab\u6709\u4e86\u540d\u5b57\uff0c\u5c31\u53ef\u4ee5\u66f4\u2f45\u65b9\u4fbf\u7684\u8fdb\u2f8f\u884c\u540e\u7eed\u7684\u6570\u636e\u5173\u8054\u5566\uff01"
     ]
    },
    {
     "cell_type": "code",
     "collapsed": false,
     "input": [
      "print Series4_pdseries.name"
     ],
     "language": "python",
     "metadata": {},
     "outputs": [
      {
       "output_type": "stream",
       "stream": "stdout",
       "text": [
        "None\n"
       ]
      }
     ],
     "prompt_number": 27
    },
    {
     "cell_type": "code",
     "collapsed": false,
     "input": [
      "print Series4_pdseries.index.name"
     ],
     "language": "python",
     "metadata": {},
     "outputs": [
      {
       "output_type": "stream",
       "stream": "stdout",
       "text": [
        "None\n"
       ]
      }
     ],
     "prompt_number": 28
    },
    {
     "cell_type": "code",
     "collapsed": false,
     "input": [
      "Series4_pdseries.name = 'Capital series'\n",
      "Series4_pdseries.index.name = \"Nation\"\n",
      "print Series4_pdseries"
     ],
     "language": "python",
     "metadata": {},
     "outputs": [
      {
       "output_type": "stream",
       "stream": "stdout",
       "text": [
        "Nation\n",
        "Japan        Tokyo\n",
        "China           Bj\n",
        "Singapore      NaN\n",
        "S.Korea      Seoul\n",
        "Name: Capital series, dtype: object\n"
       ]
      }
     ],
     "prompt_number": 29
    },
    {
     "cell_type": "markdown",
     "metadata": {},
     "source": [
      "\"\u5b57\u5178\"\uff1f\u4e0d\u662f\u7684\uff0c\u2f8f\u884cindex\u53ef\u4ee5\u91cd\u590d\uff0c\u5c3d\u7ba1\u4e0d\u63a8\u8350\u3002"
     ]
    },
    {
     "cell_type": "code",
     "collapsed": false,
     "input": [
      "Series5_IndexList = ['A', 'B', 'B', 'c']\n",
      "Series5 = pd.Series(Series1.values, index = Series5_IndexList)"
     ],
     "language": "python",
     "metadata": {},
     "outputs": [],
     "prompt_number": 30
    },
    {
     "cell_type": "code",
     "collapsed": false,
     "input": [
      "print Series5"
     ],
     "language": "python",
     "metadata": {},
     "outputs": [
      {
       "output_type": "stream",
       "stream": "stdout",
       "text": [
        "A   -0.128622\n",
        "B    1.628686\n",
        "B    0.725371\n",
        "c   -0.035089\n",
        "dtype: float64\n"
       ]
      }
     ],
     "prompt_number": 31
    },
    {
     "cell_type": "code",
     "collapsed": false,
     "input": [
      "print Series5[['B', 'C']]"
     ],
     "language": "python",
     "metadata": {},
     "outputs": [
      {
       "output_type": "stream",
       "stream": "stdout",
       "text": [
        "B    1.628686\n",
        "B    0.725371\n",
        "C         NaN\n",
        "dtype: float64\n"
       ]
      }
     ],
     "prompt_number": 32
    },
    {
     "cell_type": "heading",
     "level": 2,
     "metadata": {},
     "source": [
      "1.2 DataFrame\uff1apandas\u7684\u6218\u9524(\u6570\u636e\u8868\uff0c\u2f06\u4e8c\u7ef4\u6570\u7ec4)"
     ]
    },
    {
     "cell_type": "markdown",
     "metadata": {},
     "source": [
      "Series\u7684\u6709\u5e8f\u96c6\u5408\uff0c\u5c31\u50cfR\u7684DataFrame\u4e00\u6837\u65b9\u4fbf\u3002\n",
      "\n",
      "\u4ed4\u7ec6\u60f3\u60f3\uff0c\u7edd\u5927\u90e8\u5206\u7684\u6570\u636e\u5f62\u5f0f\u90fd\u53ef\u4ee5\u8868\u73b0\u4e3aDataFrame\u3002\n",
      "\n",
      "\u4eceNumPy\u4e8c\u7ef4\u6570\u7ec4\u3001\u4ece\u6587\u4ef6\u6216\u8005\u4ece\u6570\u636e\u5e93\u5b9a\u4e49\uff1a\u6570\u636e\u867d\u597d\uff0c\u52ff\u5fd8\u5217\u540d"
     ]
    },
    {
     "cell_type": "code",
     "collapsed": false,
     "input": [
      "dataNumpy = np.asarray([('Japan', 'Tokyo', 4000), ('S.Korea', 'Seoul', 1300), ('China', 'Beijing', 9100)])"
     ],
     "language": "python",
     "metadata": {},
     "outputs": [],
     "prompt_number": 33
    },
    {
     "cell_type": "code",
     "collapsed": false,
     "input": [
      "DF1 = pd.DataFrame(dataNumpy, columns=['nation','capital','GDP'])"
     ],
     "language": "python",
     "metadata": {},
     "outputs": [],
     "prompt_number": 34
    },
    {
     "cell_type": "code",
     "collapsed": false,
     "input": [
      "dataNumpy"
     ],
     "language": "python",
     "metadata": {},
     "outputs": [
      {
       "metadata": {},
       "output_type": "pyout",
       "prompt_number": 35,
       "text": [
        "array([['Japan', 'Tokyo', '4000'],\n",
        "       ['S.Korea', 'Seoul', '1300'],\n",
        "       ['China', 'Beijing', '9100']], \n",
        "      dtype='|S7')"
       ]
      }
     ],
     "prompt_number": 35
    },
    {
     "cell_type": "code",
     "collapsed": false,
     "input": [
      "DF1"
     ],
     "language": "python",
     "metadata": {},
     "outputs": [
      {
       "html": [
        "<div style=\"max-width:1500px;overflow:auto;\">\n",
        "<table border=\"1\" class=\"dataframe\">\n",
        "  <thead>\n",
        "    <tr style=\"text-align: right;\">\n",
        "      <th></th>\n",
        "      <th>nation</th>\n",
        "      <th>capital</th>\n",
        "      <th>GDP</th>\n",
        "    </tr>\n",
        "  </thead>\n",
        "  <tbody>\n",
        "    <tr>\n",
        "      <th>0</th>\n",
        "      <td>Japan</td>\n",
        "      <td>Tokyo</td>\n",
        "      <td>4000</td>\n",
        "    </tr>\n",
        "    <tr>\n",
        "      <th>1</th>\n",
        "      <td>S.Korea</td>\n",
        "      <td>Seoul</td>\n",
        "      <td>1300</td>\n",
        "    </tr>\n",
        "    <tr>\n",
        "      <th>2</th>\n",
        "      <td>China</td>\n",
        "      <td>Beijing</td>\n",
        "      <td>9100</td>\n",
        "    </tr>\n",
        "  </tbody>\n",
        "</table>\n",
        "</div>"
       ],
       "metadata": {},
       "output_type": "pyout",
       "prompt_number": 36,
       "text": [
        "    nation  capital   GDP\n",
        "0    Japan    Tokyo  4000\n",
        "1  S.Korea    Seoul  1300\n",
        "2    China  Beijing  9100"
       ]
      }
     ],
     "prompt_number": 36
    },
    {
     "cell_type": "markdown",
     "metadata": {},
     "source": [
      "\u7b49\u957f\u7684\u5217\u6570\u636e\u4fdd\u5b58\u5728\u4e00\u4e2a\u5b57\u5178\u91cc\uff08Json): \u5f88\u4e0d\u5e78\uff0c\u5b57\u5178Key\u662f\u65e0\u5e8f\u7684"
     ]
    },
    {
     "cell_type": "code",
     "collapsed": false,
     "input": [
      "dataDict = {'nation': ['Japan','S.Korea','China'],'capital': ['Tokyo', 'Seoul', 'Beijing'], 'GDP': [4900, 1300, 9100]}"
     ],
     "language": "python",
     "metadata": {},
     "outputs": [],
     "prompt_number": 37
    },
    {
     "cell_type": "code",
     "collapsed": false,
     "input": [
      "DF2 = pd.DataFrame(dataDict)"
     ],
     "language": "python",
     "metadata": {},
     "outputs": [],
     "prompt_number": 38
    },
    {
     "cell_type": "code",
     "collapsed": false,
     "input": [
      "DF2"
     ],
     "language": "python",
     "metadata": {},
     "outputs": [
      {
       "html": [
        "<div style=\"max-width:1500px;overflow:auto;\">\n",
        "<table border=\"1\" class=\"dataframe\">\n",
        "  <thead>\n",
        "    <tr style=\"text-align: right;\">\n",
        "      <th></th>\n",
        "      <th>GDP</th>\n",
        "      <th>capital</th>\n",
        "      <th>nation</th>\n",
        "    </tr>\n",
        "  </thead>\n",
        "  <tbody>\n",
        "    <tr>\n",
        "      <th>0</th>\n",
        "      <td>4900</td>\n",
        "      <td>Tokyo</td>\n",
        "      <td>Japan</td>\n",
        "    </tr>\n",
        "    <tr>\n",
        "      <th>1</th>\n",
        "      <td>1300</td>\n",
        "      <td>Seoul</td>\n",
        "      <td>S.Korea</td>\n",
        "    </tr>\n",
        "    <tr>\n",
        "      <th>2</th>\n",
        "      <td>9100</td>\n",
        "      <td>Beijing</td>\n",
        "      <td>China</td>\n",
        "    </tr>\n",
        "  </tbody>\n",
        "</table>\n",
        "</div>"
       ],
       "metadata": {},
       "output_type": "pyout",
       "prompt_number": 39,
       "text": [
        "    GDP  capital   nation\n",
        "0  4900    Tokyo    Japan\n",
        "1  1300    Seoul  S.Korea\n",
        "2  9100  Beijing    China"
       ]
      }
     ],
     "prompt_number": 39
    },
    {
     "cell_type": "code",
     "collapsed": false,
     "input": [
      "DF21 = pd.DataFrame(DF2, columns=['nation','capital','GDP'])"
     ],
     "language": "python",
     "metadata": {},
     "outputs": [],
     "prompt_number": 40
    },
    {
     "cell_type": "code",
     "collapsed": false,
     "input": [
      "DF21"
     ],
     "language": "python",
     "metadata": {},
     "outputs": [
      {
       "html": [
        "<div style=\"max-width:1500px;overflow:auto;\">\n",
        "<table border=\"1\" class=\"dataframe\">\n",
        "  <thead>\n",
        "    <tr style=\"text-align: right;\">\n",
        "      <th></th>\n",
        "      <th>nation</th>\n",
        "      <th>capital</th>\n",
        "      <th>GDP</th>\n",
        "    </tr>\n",
        "  </thead>\n",
        "  <tbody>\n",
        "    <tr>\n",
        "      <th>0</th>\n",
        "      <td>Japan</td>\n",
        "      <td>Tokyo</td>\n",
        "      <td>4900</td>\n",
        "    </tr>\n",
        "    <tr>\n",
        "      <th>1</th>\n",
        "      <td>S.Korea</td>\n",
        "      <td>Seoul</td>\n",
        "      <td>1300</td>\n",
        "    </tr>\n",
        "    <tr>\n",
        "      <th>2</th>\n",
        "      <td>China</td>\n",
        "      <td>Beijing</td>\n",
        "      <td>9100</td>\n",
        "    </tr>\n",
        "  </tbody>\n",
        "</table>\n",
        "</div>"
       ],
       "metadata": {},
       "output_type": "pyout",
       "prompt_number": 41,
       "text": [
        "    nation  capital   GDP\n",
        "0    Japan    Tokyo  4900\n",
        "1  S.Korea    Seoul  1300\n",
        "2    China  Beijing  9100"
       ]
      }
     ],
     "prompt_number": 41
    },
    {
     "cell_type": "code",
     "collapsed": false,
     "input": [
      "DF22 = pd.DataFrame(DF2, columns = ['nation', 'capital', 'GDP'], index = [2,0,1])"
     ],
     "language": "python",
     "metadata": {},
     "outputs": [],
     "prompt_number": 42
    },
    {
     "cell_type": "code",
     "collapsed": false,
     "input": [
      "DF22"
     ],
     "language": "python",
     "metadata": {},
     "outputs": [
      {
       "html": [
        "<div style=\"max-width:1500px;overflow:auto;\">\n",
        "<table border=\"1\" class=\"dataframe\">\n",
        "  <thead>\n",
        "    <tr style=\"text-align: right;\">\n",
        "      <th></th>\n",
        "      <th>nation</th>\n",
        "      <th>capital</th>\n",
        "      <th>GDP</th>\n",
        "    </tr>\n",
        "  </thead>\n",
        "  <tbody>\n",
        "    <tr>\n",
        "      <th>2</th>\n",
        "      <td>China</td>\n",
        "      <td>Beijing</td>\n",
        "      <td>9100</td>\n",
        "    </tr>\n",
        "    <tr>\n",
        "      <th>0</th>\n",
        "      <td>Japan</td>\n",
        "      <td>Tokyo</td>\n",
        "      <td>4900</td>\n",
        "    </tr>\n",
        "    <tr>\n",
        "      <th>1</th>\n",
        "      <td>S.Korea</td>\n",
        "      <td>Seoul</td>\n",
        "      <td>1300</td>\n",
        "    </tr>\n",
        "  </tbody>\n",
        "</table>\n",
        "</div>"
       ],
       "metadata": {},
       "output_type": "pyout",
       "prompt_number": 43,
       "text": [
        "    nation  capital   GDP\n",
        "2    China  Beijing  9100\n",
        "0    Japan    Tokyo  4900\n",
        "1  S.Korea    Seoul  1300"
       ]
      }
     ],
     "prompt_number": 43
    },
    {
     "cell_type": "markdown",
     "metadata": {},
     "source": [
      "\u4eceDataFrame\u4e2d\u53d6\u51fa\u5217\uff1f\u4e24\u79cd\u65b9\u6cd5\uff08\u4e0eJavaScript\u5b8c\u5168\u4e00\u81f4\uff09"
     ]
    },
    {
     "cell_type": "markdown",
     "metadata": {},
     "source": [
      "* '.'\u7684\u5199\u6cd5\u5bb9\u6613\u4e0e\u5176\u4ed6\u9884\u7559\u7c7b\u5173\u952e\u5b57\u4ea7\u751f\u51b2\u7a81\n",
      "* '[]'\u7684\u5199\u6cd5\u6700\u5b89\u5168"
     ]
    },
    {
     "cell_type": "code",
     "collapsed": false,
     "input": [
      "print DF22.nation, DF22.capital"
     ],
     "language": "python",
     "metadata": {},
     "outputs": [
      {
       "output_type": "stream",
       "stream": "stdout",
       "text": [
        "2      China\n",
        "0      Japan\n",
        "1    S.Korea\n",
        "Name: nation, dtype: object 2    Beijing\n",
        "0      Tokyo\n",
        "1      Seoul\n",
        "Name: capital, dtype: object\n"
       ]
      }
     ],
     "prompt_number": 44
    },
    {
     "cell_type": "code",
     "collapsed": false,
     "input": [
      "print DF22['GDP']"
     ],
     "language": "python",
     "metadata": {},
     "outputs": [
      {
       "output_type": "stream",
       "stream": "stdout",
       "text": [
        "2    9100\n",
        "0    4900\n",
        "1    1300\n",
        "Name: GDP, dtype: int64\n"
       ]
      }
     ],
     "prompt_number": 45
    },
    {
     "cell_type": "markdown",
     "metadata": {},
     "source": [
      "\u4eceDataFrame\u4e2d\u53d6\u51fa\u884c\uff1f\uff08\u81f3\u5c11)\u4e24\u79cd\u65b9\u6cd5\uff1a"
     ]
    },
    {
     "cell_type": "code",
     "collapsed": false,
     "input": [
      "print DF22[0:1] # \u7ed9\u51fa\u7684\u5b9e\u9645\u662fDataFrame"
     ],
     "language": "python",
     "metadata": {},
     "outputs": [
      {
       "output_type": "stream",
       "stream": "stdout",
       "text": [
        "  nation  capital   GDP\n",
        "2  China  Beijing  9100\n"
       ]
      }
     ],
     "prompt_number": 46
    },
    {
     "cell_type": "code",
     "collapsed": false,
     "input": [
      "print DF22.ix[0] # \u901a\u8fc7\u5bf9\u5e94Index\u7ed9\u51fa\u884c"
     ],
     "language": "python",
     "metadata": {},
     "outputs": [
      {
       "output_type": "stream",
       "stream": "stdout",
       "text": [
        "nation     Japan\n",
        "capital    Tokyo\n",
        "GDP         4900\n",
        "Name: 0, dtype: object\n"
       ]
      }
     ],
     "prompt_number": 47
    },
    {
     "cell_type": "markdown",
     "metadata": {},
     "source": [
      "\u50cfNumpy\u5207\u7247\u4e00\u6837\u7684\u7ec8\u6781\u62db\u5f0f\uff1a iloc"
     ]
    },
    {
     "cell_type": "code",
     "collapsed": false,
     "input": [
      "print DF22.iloc[0,:]"
     ],
     "language": "python",
     "metadata": {},
     "outputs": [
      {
       "output_type": "stream",
       "stream": "stdout",
       "text": [
        "nation       China\n",
        "capital    Beijing\n",
        "GDP           9100\n",
        "Name: 2, dtype: object\n"
       ]
      }
     ],
     "prompt_number": 48
    },
    {
     "cell_type": "code",
     "collapsed": false,
     "input": [
      "print DF22.iloc[:,0]"
     ],
     "language": "python",
     "metadata": {},
     "outputs": [
      {
       "output_type": "stream",
       "stream": "stdout",
       "text": [
        "2      China\n",
        "0      Japan\n",
        "1    S.Korea\n",
        "Name: nation, dtype: object\n"
       ]
      }
     ],
     "prompt_number": 49
    },
    {
     "cell_type": "markdown",
     "metadata": {},
     "source": [
      "\u542c\u8bf4\u4f60\u4eceAlter Table\u5730\u72f1\u6765\uff0c\u5927\u718a\u732b\u7b11\u4e86\n",
      "\u7136\u800c\u52a8\u6001\u589e\u52a0\u5217\u65e0\u6cd5\u7528\".\"\u7684\u2f45\u65b9\u5f0f\u5b8c\u6210\uff0c\u53ea\u80fd\u2f64\u7528*\"[ ]\"*"
     ]
    },
    {
     "cell_type": "code",
     "collapsed": false,
     "input": [
      "DF22['population'] = [1600, 130, 55]"
     ],
     "language": "python",
     "metadata": {},
     "outputs": [],
     "prompt_number": 50
    },
    {
     "cell_type": "code",
     "collapsed": false,
     "input": [
      "DF22"
     ],
     "language": "python",
     "metadata": {},
     "outputs": [
      {
       "html": [
        "<div style=\"max-width:1500px;overflow:auto;\">\n",
        "<table border=\"1\" class=\"dataframe\">\n",
        "  <thead>\n",
        "    <tr style=\"text-align: right;\">\n",
        "      <th></th>\n",
        "      <th>nation</th>\n",
        "      <th>capital</th>\n",
        "      <th>GDP</th>\n",
        "      <th>population</th>\n",
        "    </tr>\n",
        "  </thead>\n",
        "  <tbody>\n",
        "    <tr>\n",
        "      <th>2</th>\n",
        "      <td>China</td>\n",
        "      <td>Beijing</td>\n",
        "      <td>9100</td>\n",
        "      <td>1600</td>\n",
        "    </tr>\n",
        "    <tr>\n",
        "      <th>0</th>\n",
        "      <td>Japan</td>\n",
        "      <td>Tokyo</td>\n",
        "      <td>4900</td>\n",
        "      <td>130</td>\n",
        "    </tr>\n",
        "    <tr>\n",
        "      <th>1</th>\n",
        "      <td>S.Korea</td>\n",
        "      <td>Seoul</td>\n",
        "      <td>1300</td>\n",
        "      <td>55</td>\n",
        "    </tr>\n",
        "  </tbody>\n",
        "</table>\n",
        "</div>"
       ],
       "metadata": {},
       "output_type": "pyout",
       "prompt_number": 51,
       "text": [
        "    nation  capital   GDP  population\n",
        "2    China  Beijing  9100        1600\n",
        "0    Japan    Tokyo  4900         130\n",
        "1  S.Korea    Seoul  1300          55"
       ]
      }
     ],
     "prompt_number": 51
    },
    {
     "cell_type": "heading",
     "level": 2,
     "metadata": {},
     "source": [
      "1.3 Index\uff1apandas\u8fdb\u884c\u6570\u636e\u64cd\u7eb5\u7684\u9b3c\u724c\uff08\u884c\u7ea7\u7d22\u5f15\uff09"
     ]
    },
    {
     "cell_type": "markdown",
     "metadata": {},
     "source": [
      "\u884c\u7ea7\u7d22\u5f15\u662f\n",
      "--------\n",
      "* \u5143\u6570\u636e\n",
      "* \u53ef\u80fd\u7531\u771f\u5b9e\u6570\u636e\u4ea7\u751f\uff0c\u56e0\u6b64\u53ef\u4ee5\u89c6\u4f5c\u6570\u636e\n",
      "* \u53ef\u4ee5\u7531\u591a\u91cd\u7d22\u5f15\u4e5f\u5c31\u662f\u591a\u4e2a\u5217\u7ec4\u5408\u800c\u6210\n",
      "* \u53ef\u80fd\u548c\u5217\u540d\u8fdb\u884c\u4ea4\u6362\uff0c\u4e5f\u53ef\u4ee5\u8fdb\u884c\u5806\u53e0\u548c\u5c55\u5f00\uff0c\u8fbe\u5230Excel\u900f\u89c6\u8868\u6548\u679c"
     ]
    },
    {
     "cell_type": "markdown",
     "metadata": {},
     "source": [
      "Index\u6709\u56db\u79cd\uff0c\uff0c\uff0c\u54e6no \u591a\u79cd\u5199\u6cd5 \u4e00\u4e9b\u91cd\u8981\u7684\u7d22\u5f15\u7c7b\u578b\u5305\u62ec\uff1a\n",
      "------\n",
      "* pd.Index\uff08\u666e\u901a\uff09\n",
      "* Int64Index(\u6570\u503c\u578b\u7d22\u5f15\uff09\n",
      "* MultiIndex\uff08\u591a\u91cd\u7d22\u5f15\uff0c \u5728\u6570\u636e\u64cd\u7eb5\u8be6\u7ec6\u63cf\u8ff0\uff09\n",
      "* DatatimeIndex\uff08\u4ee5\u65f6\u95f4\u683c\u5f0f\u4f5c\u4e3a\u7d22\u5f15\uff09\n",
      "* PeriodIndex \uff08\u542b\u5468\u671f\u7684\u65f6\u95f4\u683c\u5f0f\u4f5c\u4e3a\u7d22\u5f15\uff09"
     ]
    },
    {
     "cell_type": "markdown",
     "metadata": {},
     "source": [
      "\u76f4\u63a5\u5b9a\u4e49\u666e\u901a\u7d22\u5f15\uff0c\u957f\u5f97\u5c31\u548c\u666e\u901a\u7684Series \u4e00\u6837\n"
     ]
    },
    {
     "cell_type": "code",
     "collapsed": false,
     "input": [
      "index_names = ['a','b','c']"
     ],
     "language": "python",
     "metadata": {},
     "outputs": [],
     "prompt_number": 52
    },
    {
     "cell_type": "code",
     "collapsed": false,
     "input": [
      "Series_for_Index = pd.Series(index_names)"
     ],
     "language": "python",
     "metadata": {},
     "outputs": [],
     "prompt_number": 53
    },
    {
     "cell_type": "code",
     "collapsed": false,
     "input": [
      "print pd.Index(index_names)"
     ],
     "language": "python",
     "metadata": {},
     "outputs": [
      {
       "output_type": "stream",
       "stream": "stdout",
       "text": [
        "Index([u'a', u'b', u'c'], dtype='object')\n"
       ]
      }
     ],
     "prompt_number": 54
    },
    {
     "cell_type": "code",
     "collapsed": false,
     "input": [
      "print pd.Index(Series_for_Index)"
     ],
     "language": "python",
     "metadata": {},
     "outputs": [
      {
       "output_type": "stream",
       "stream": "stdout",
       "text": [
        "Index([u'a', u'b', u'c'], dtype='object')\n"
       ]
      }
     ],
     "prompt_number": 55
    },
    {
     "cell_type": "markdown",
     "metadata": {},
     "source": [
      "\u53ef\u60dcImmutable\uff0c\u7262\u8bb0\uff01"
     ]
    },
    {
     "cell_type": "code",
     "collapsed": false,
     "input": [
      "index_names = ['a','b','c']\n",
      "index0 = pd.Index(index_names)\n",
      "print index0.get_values()\n",
      "index0[2] = 'd'"
     ],
     "language": "python",
     "metadata": {},
     "outputs": [
      {
       "output_type": "stream",
       "stream": "stdout",
       "text": [
        "['a' 'b' 'c']\n"
       ]
      },
      {
       "ename": "TypeError",
       "evalue": "Index does not support mutable operations",
       "output_type": "pyerr",
       "traceback": [
        "\u001b[1;31m---------------------------------------------------------------------------\u001b[0m\n\u001b[1;31mTypeError\u001b[0m                                 Traceback (most recent call last)",
        "\u001b[1;32m<ipython-input-56-f34da0a8623c>\u001b[0m in \u001b[0;36m<module>\u001b[1;34m()\u001b[0m\n\u001b[0;32m      2\u001b[0m \u001b[0mindex0\u001b[0m \u001b[1;33m=\u001b[0m \u001b[0mpd\u001b[0m\u001b[1;33m.\u001b[0m\u001b[0mIndex\u001b[0m\u001b[1;33m(\u001b[0m\u001b[0mindex_names\u001b[0m\u001b[1;33m)\u001b[0m\u001b[1;33m\u001b[0m\u001b[0m\n\u001b[0;32m      3\u001b[0m \u001b[1;32mprint\u001b[0m \u001b[0mindex0\u001b[0m\u001b[1;33m.\u001b[0m\u001b[0mget_values\u001b[0m\u001b[1;33m(\u001b[0m\u001b[1;33m)\u001b[0m\u001b[1;33m\u001b[0m\u001b[0m\n\u001b[1;32m----> 4\u001b[1;33m \u001b[0mindex0\u001b[0m\u001b[1;33m[\u001b[0m\u001b[1;36m2\u001b[0m\u001b[1;33m]\u001b[0m \u001b[1;33m=\u001b[0m \u001b[1;34m'd'\u001b[0m\u001b[1;33m\u001b[0m\u001b[0m\n\u001b[0m",
        "\u001b[1;32mC:\\Anaconda\\lib\\site-packages\\pandas-0.18.0-py2.7-win-amd64.egg\\pandas\\indexes\\base.pyc\u001b[0m in \u001b[0;36m__setitem__\u001b[1;34m(self, key, value)\u001b[0m\n\u001b[0;32m   1235\u001b[0m \u001b[1;33m\u001b[0m\u001b[0m\n\u001b[0;32m   1236\u001b[0m     \u001b[1;32mdef\u001b[0m \u001b[0m__setitem__\u001b[0m\u001b[1;33m(\u001b[0m\u001b[0mself\u001b[0m\u001b[1;33m,\u001b[0m \u001b[0mkey\u001b[0m\u001b[1;33m,\u001b[0m \u001b[0mvalue\u001b[0m\u001b[1;33m)\u001b[0m\u001b[1;33m:\u001b[0m\u001b[1;33m\u001b[0m\u001b[0m\n\u001b[1;32m-> 1237\u001b[1;33m         \u001b[1;32mraise\u001b[0m \u001b[0mTypeError\u001b[0m\u001b[1;33m(\u001b[0m\u001b[1;34m\"Index does not support mutable operations\"\u001b[0m\u001b[1;33m)\u001b[0m\u001b[1;33m\u001b[0m\u001b[0m\n\u001b[0m\u001b[0;32m   1238\u001b[0m \u001b[1;33m\u001b[0m\u001b[0m\n\u001b[0;32m   1239\u001b[0m     \u001b[1;32mdef\u001b[0m \u001b[0m__getitem__\u001b[0m\u001b[1;33m(\u001b[0m\u001b[0mself\u001b[0m\u001b[1;33m,\u001b[0m \u001b[0mkey\u001b[0m\u001b[1;33m)\u001b[0m\u001b[1;33m:\u001b[0m\u001b[1;33m\u001b[0m\u001b[0m\n",
        "\u001b[1;31mTypeError\u001b[0m: Index does not support mutable operations"
       ]
      }
     ],
     "prompt_number": 56
    },
    {
     "cell_type": "markdown",
     "metadata": {},
     "source": [
      "\u6254\u8fdb\u53bb\u4e00\u542b\u6709\u591a\u5143\u7ec4\u7684List,\u5c31\u6709\u4e86*MultiIndex*\n",
      "\u53ef\u60dc\uff0c\u5982\u679c\u8fd9\u4e2aList Comprehension\u6539\u6210\u5c0f\u62ec\u53f7\uff0c\u5c31\u4e0d\u5bf9\u4e86\u3002"
     ]
    },
    {
     "cell_type": "code",
     "collapsed": false,
     "input": [
      "multi1 = pd.Index([['Row_' + str(x+1), 'Col_'+ str(y+1)] for x in xrange(4) for y in xrange(4)])\n",
      "multi1.name = ['index1', 'index2']\n",
      "print multi1"
     ],
     "language": "python",
     "metadata": {},
     "outputs": [
      {
       "output_type": "stream",
       "stream": "stdout",
       "text": [
        "Index([[u'Row_1', u'Col_1'], [u'Row_1', u'Col_2'], [u'Row_1', u'Col_3'],\n",
        "       [u'Row_1', u'Col_4'], [u'Row_2', u'Col_1'], [u'Row_2', u'Col_2'],\n",
        "       [u'Row_2', u'Col_3'], [u'Row_2', u'Col_4'], [u'Row_3', u'Col_1'],\n",
        "       [u'Row_3', u'Col_2'], [u'Row_3', u'Col_3'], [u'Row_3', u'Col_4'],\n",
        "       [u'Row_4', u'Col_1'], [u'Row_4', u'Col_2'], [u'Row_4', u'Col_3'],\n",
        "       [u'Row_4', u'Col_4']],\n",
        "      dtype='object', name=[u'index1', u'index2'])\n"
       ]
      }
     ],
     "prompt_number": 57
    },
    {
     "cell_type": "code",
     "collapsed": false,
     "input": [
      "multi1 = pd.Index([('Row_' + str(x+1), 'Col_'+ str(y+1)) for x in xrange(4) for y in xrange(4)])\n",
      "multi1.name = ['index1', 'index2']\n",
      "print multi1"
     ],
     "language": "python",
     "metadata": {},
     "outputs": [
      {
       "output_type": "stream",
       "stream": "stdout",
       "text": [
        "MultiIndex(levels=[[u'Row_1', u'Row_2', u'Row_3', u'Row_4'], [u'Col_1', u'Col_2', u'Col_3', u'Col_4']],\n",
        "           labels=[[0, 0, 0, 0, 1, 1, 1, 1, 2, 2, 2, 2, 3, 3, 3, 3], [0, 1, 2, 3, 0, 1, 2, 3, 0, 1, 2, 3, 0, 1, 2, 3]])\n"
       ]
      }
     ],
     "prompt_number": 58
    },
    {
     "cell_type": "markdown",
     "metadata": {},
     "source": [
      "\u5bf9\u4e8e**Series**\u6765\u8bf4\uff0c\u5982\u679c\u62e5\u6709\u4e86\u591a\u91cdIndex,\u6570\u636e\uff0c \u53d8\u5f62"
     ]
    },
    {
     "cell_type": "markdown",
     "metadata": {},
     "source": [
      "* \u2f06\u4e8c\u91cdMultiIndex\u7684Series\u53ef\u4ee5unstack()\u6210DataFrame\n",
      "*   DataFrane\u53ef\u4ee5stack\u6210\u62e5\u6709\u4e8c\u91cdMultiIndex\u7684Series"
     ]
    },
    {
     "cell_type": "code",
     "collapsed": false,
     "input": [
      "data_for_multi1 = pd.Series(xrange(0,16), index= multi1)\n",
      "data_for_multi1"
     ],
     "language": "python",
     "metadata": {},
     "outputs": [
      {
       "metadata": {},
       "output_type": "pyout",
       "prompt_number": 59,
       "text": [
        "Row_1  Col_1     0\n",
        "       Col_2     1\n",
        "       Col_3     2\n",
        "       Col_4     3\n",
        "Row_2  Col_1     4\n",
        "       Col_2     5\n",
        "       Col_3     6\n",
        "       Col_4     7\n",
        "Row_3  Col_1     8\n",
        "       Col_2     9\n",
        "       Col_3    10\n",
        "       Col_4    11\n",
        "Row_4  Col_1    12\n",
        "       Col_2    13\n",
        "       Col_3    14\n",
        "       Col_4    15\n",
        "dtype: int32"
       ]
      }
     ],
     "prompt_number": 59
    },
    {
     "cell_type": "code",
     "collapsed": false,
     "input": [
      "data_for_multi1.unstack()"
     ],
     "language": "python",
     "metadata": {},
     "outputs": [
      {
       "html": [
        "<div style=\"max-width:1500px;overflow:auto;\">\n",
        "<table border=\"1\" class=\"dataframe\">\n",
        "  <thead>\n",
        "    <tr style=\"text-align: right;\">\n",
        "      <th></th>\n",
        "      <th>Col_1</th>\n",
        "      <th>Col_2</th>\n",
        "      <th>Col_3</th>\n",
        "      <th>Col_4</th>\n",
        "    </tr>\n",
        "  </thead>\n",
        "  <tbody>\n",
        "    <tr>\n",
        "      <th>Row_1</th>\n",
        "      <td>0</td>\n",
        "      <td>1</td>\n",
        "      <td>2</td>\n",
        "      <td>3</td>\n",
        "    </tr>\n",
        "    <tr>\n",
        "      <th>Row_2</th>\n",
        "      <td>4</td>\n",
        "      <td>5</td>\n",
        "      <td>6</td>\n",
        "      <td>7</td>\n",
        "    </tr>\n",
        "    <tr>\n",
        "      <th>Row_3</th>\n",
        "      <td>8</td>\n",
        "      <td>9</td>\n",
        "      <td>10</td>\n",
        "      <td>11</td>\n",
        "    </tr>\n",
        "    <tr>\n",
        "      <th>Row_4</th>\n",
        "      <td>12</td>\n",
        "      <td>13</td>\n",
        "      <td>14</td>\n",
        "      <td>15</td>\n",
        "    </tr>\n",
        "  </tbody>\n",
        "</table>\n",
        "</div>"
       ],
       "metadata": {},
       "output_type": "pyout",
       "prompt_number": 60,
       "text": [
        "       Col_1  Col_2  Col_3  Col_4\n",
        "Row_1      0      1      2      3\n",
        "Row_2      4      5      6      7\n",
        "Row_3      8      9     10     11\n",
        "Row_4     12     13     14     15"
       ]
      }
     ],
     "prompt_number": 60
    },
    {
     "cell_type": "code",
     "collapsed": false,
     "input": [
      "data_for_multi1.unstack().stack()"
     ],
     "language": "python",
     "metadata": {},
     "outputs": [
      {
       "metadata": {},
       "output_type": "pyout",
       "prompt_number": 61,
       "text": [
        "Row_1  Col_1     0\n",
        "       Col_2     1\n",
        "       Col_3     2\n",
        "       Col_4     3\n",
        "Row_2  Col_1     4\n",
        "       Col_2     5\n",
        "       Col_3     6\n",
        "       Col_4     7\n",
        "Row_3  Col_1     8\n",
        "       Col_2     9\n",
        "       Col_3    10\n",
        "       Col_4    11\n",
        "Row_4  Col_1    12\n",
        "       Col_2    13\n",
        "       Col_3    14\n",
        "       Col_4    15\n",
        "dtype: int32"
       ]
      }
     ],
     "prompt_number": 61
    },
    {
     "cell_type": "markdown",
     "metadata": {},
     "source": [
      "\u6211\u4eec\u6765\u770b\u4e00\u4e0b\u975e\u5e73\u8861\u6570\u636e\u7684\u4f8b\u5b50\uff1a\n",
      "Row_1,2,3,4 \u548c Col_1,2,3,4 \u5e76\u4e0d\u662f\u5168\u7ec4\u5408\u7684\u3002"
     ]
    },
    {
     "cell_type": "code",
     "collapsed": false,
     "input": [
      "multi2 = pd.Index([('Row_' + str(x+1), 'Col_' + str(y+1)) for x in xrange(5) for y in xrange(x)])\n",
      "multi2"
     ],
     "language": "python",
     "metadata": {},
     "outputs": [
      {
       "metadata": {},
       "output_type": "pyout",
       "prompt_number": 62,
       "text": [
        "MultiIndex(levels=[[u'Row_2', u'Row_3', u'Row_4', u'Row_5'], [u'Col_1', u'Col_2', u'Col_3', u'Col_4']],\n",
        "           labels=[[0, 1, 1, 2, 2, 2, 3, 3, 3, 3], [0, 0, 1, 0, 1, 2, 0, 1, 2, 3]])"
       ]
      }
     ],
     "prompt_number": 62
    },
    {
     "cell_type": "code",
     "collapsed": false,
     "input": [
      "for x in xrange(5):\n",
      "    for y in xrange(x):\n",
      "        print y+1\n",
      "    print '**'"
     ],
     "language": "python",
     "metadata": {},
     "outputs": [
      {
       "output_type": "stream",
       "stream": "stdout",
       "text": [
        "**\n",
        "1\n",
        "**\n",
        "1\n",
        "2\n",
        "**\n",
        "1\n",
        "2\n",
        "3\n",
        "**\n",
        "1\n",
        "2\n",
        "3\n",
        "4\n",
        "**\n"
       ]
      }
     ],
     "prompt_number": 63
    },
    {
     "cell_type": "code",
     "collapsed": false,
     "input": [
      "data_for_multi2 = pd.Series(np.arange(10), index = multi2)\n",
      "data_for_multi2"
     ],
     "language": "python",
     "metadata": {},
     "outputs": [
      {
       "metadata": {},
       "output_type": "pyout",
       "prompt_number": 64,
       "text": [
        "Row_2  Col_1    0\n",
        "Row_3  Col_1    1\n",
        "       Col_2    2\n",
        "Row_4  Col_1    3\n",
        "       Col_2    4\n",
        "       Col_3    5\n",
        "Row_5  Col_1    6\n",
        "       Col_2    7\n",
        "       Col_3    8\n",
        "       Col_4    9\n",
        "dtype: int32"
       ]
      }
     ],
     "prompt_number": 64
    },
    {
     "cell_type": "code",
     "collapsed": false,
     "input": [
      "data_for_multi2.unstack()"
     ],
     "language": "python",
     "metadata": {},
     "outputs": [
      {
       "html": [
        "<div style=\"max-width:1500px;overflow:auto;\">\n",
        "<table border=\"1\" class=\"dataframe\">\n",
        "  <thead>\n",
        "    <tr style=\"text-align: right;\">\n",
        "      <th></th>\n",
        "      <th>Col_1</th>\n",
        "      <th>Col_2</th>\n",
        "      <th>Col_3</th>\n",
        "      <th>Col_4</th>\n",
        "    </tr>\n",
        "  </thead>\n",
        "  <tbody>\n",
        "    <tr>\n",
        "      <th>Row_2</th>\n",
        "      <td>0.0</td>\n",
        "      <td>NaN</td>\n",
        "      <td>NaN</td>\n",
        "      <td>NaN</td>\n",
        "    </tr>\n",
        "    <tr>\n",
        "      <th>Row_3</th>\n",
        "      <td>1.0</td>\n",
        "      <td>2.0</td>\n",
        "      <td>NaN</td>\n",
        "      <td>NaN</td>\n",
        "    </tr>\n",
        "    <tr>\n",
        "      <th>Row_4</th>\n",
        "      <td>3.0</td>\n",
        "      <td>4.0</td>\n",
        "      <td>5.0</td>\n",
        "      <td>NaN</td>\n",
        "    </tr>\n",
        "    <tr>\n",
        "      <th>Row_5</th>\n",
        "      <td>6.0</td>\n",
        "      <td>7.0</td>\n",
        "      <td>8.0</td>\n",
        "      <td>9.0</td>\n",
        "    </tr>\n",
        "  </tbody>\n",
        "</table>\n",
        "</div>"
       ],
       "metadata": {},
       "output_type": "pyout",
       "prompt_number": 65,
       "text": [
        "       Col_1  Col_2  Col_3  Col_4\n",
        "Row_2    0.0    NaN    NaN    NaN\n",
        "Row_3    1.0    2.0    NaN    NaN\n",
        "Row_4    3.0    4.0    5.0    NaN\n",
        "Row_5    6.0    7.0    8.0    9.0"
       ]
      }
     ],
     "prompt_number": 65
    },
    {
     "cell_type": "code",
     "collapsed": false,
     "input": [
      "data_for_multi2.unstack().stack()"
     ],
     "language": "python",
     "metadata": {},
     "outputs": [
      {
       "metadata": {},
       "output_type": "pyout",
       "prompt_number": 66,
       "text": [
        "Row_2  Col_1    0.0\n",
        "Row_3  Col_1    1.0\n",
        "       Col_2    2.0\n",
        "Row_4  Col_1    3.0\n",
        "       Col_2    4.0\n",
        "       Col_3    5.0\n",
        "Row_5  Col_1    6.0\n",
        "       Col_2    7.0\n",
        "       Col_3    8.0\n",
        "       Col_4    9.0\n",
        "dtype: float64"
       ]
      }
     ],
     "prompt_number": 66
    },
    {
     "cell_type": "markdown",
     "metadata": {},
     "source": [
      "## DateTime\u6807\u51c6\u5e93\u5982\u6b64\u597d\u7528\uff0c\u4f60\u503c\u5f97\u62e5\u6709"
     ]
    },
    {
     "cell_type": "code",
     "collapsed": false,
     "input": [
      "import datetime\n",
      "dates = [datetime.datetime(2015,1,1), datetime.datetime(2015,2,8),datetime.datetime(2015,1,30)]"
     ],
     "language": "python",
     "metadata": {},
     "outputs": [],
     "prompt_number": 67
    },
    {
     "cell_type": "code",
     "collapsed": false,
     "input": [
      "pd.DatetimeIndex(dates)"
     ],
     "language": "python",
     "metadata": {},
     "outputs": [
      {
       "metadata": {},
       "output_type": "pyout",
       "prompt_number": 68,
       "text": [
        "DatetimeIndex(['2015-01-01', '2015-02-08', '2015-01-30'], dtype='datetime64[ns]', freq=None)"
       ]
      }
     ],
     "prompt_number": 68
    },
    {
     "cell_type": "markdown",
     "metadata": {},
     "source": [
      "\u5982\u679c\u4f60\u4e0d\u4ec5\u9700\u8981\u65f6\u95f4\u683c\u5f0f\u7edf\u4e00\uff0c\u65f6\u95f4\u9891\u7387\u4e5f\u8981\u7edf\u4e00\u7684\u8bdd\n",
      "--------"
     ]
    },
    {
     "cell_type": "code",
     "collapsed": false,
     "input": [
      "periodindex1 = pd.period_range('2015-01', '2015-04',freq = 'M')"
     ],
     "language": "python",
     "metadata": {},
     "outputs": [],
     "prompt_number": 69
    },
    {
     "cell_type": "markdown",
     "metadata": {},
     "source": [
      "print periodindex1"
     ]
    },
    {
     "cell_type": "markdown",
     "metadata": {},
     "source": [
      "\u6708\u7ea7\u7cbe\u5ea6\u548c\u65e5\u7ea7\u7cbe\u5ea6\u5982\u4f55\u8f6c\u6362\uff1f\n",
      "------\n",
      "\u6709\u7684\u516c\u53f8\u4ee51\u53f7\u4ee3\u8868\u5f53\u6708 \uff0c\u6709\u7684\u4ee5\u6700\u540e\u4e00\u5929\u4ee3\u8868 \uff0c\u8f6c\u5316\u8d77\u6765\u5f88\u9ebb\u70e6"
     ]
    },
    {
     "cell_type": "code",
     "collapsed": false,
     "input": [
      "print periodindex1.asfreq('D', how = 'start')\n",
      "print periodindex1.asfreq('D', how = 'end')"
     ],
     "language": "python",
     "metadata": {},
     "outputs": [
      {
       "output_type": "stream",
       "stream": "stdout",
       "text": [
        "PeriodIndex(['2015-01-01', '2015-02-01', '2015-03-01', '2015-04-01'], dtype='int64', freq='D')\n",
        "PeriodIndex(['2015-01-31', '2015-02-28', '2015-03-31', '2015-04-30'], dtype='int64', freq='D')\n"
       ]
      }
     ],
     "prompt_number": 70
    },
    {
     "cell_type": "markdown",
     "metadata": {},
     "source": [
      "## \u6700\u540e\u7684\u6700\u540e\uff0c\u6211\u8981\u771f\u6b63\u628a\u4e24\u79cd\u9891\u7387\u7684\u65f6\u95f4\u7cbe\u5ea6\u5339\u914d\u4e0a\uff1f"
     ]
    },
    {
     "cell_type": "code",
     "collapsed": false,
     "input": [
      "periodindex_mon = pd.period_range('2015-01', '2015-03',freq='M').asfreq('D',how='start')\n",
      "periodindex_day = pd.period_range('2015-01-01', '2015-3-31', freq='D')"
     ],
     "language": "python",
     "metadata": {},
     "outputs": [],
     "prompt_number": 71
    },
    {
     "cell_type": "code",
     "collapsed": false,
     "input": [
      "print periodindex_mon\n",
      "print periodindex_day"
     ],
     "language": "python",
     "metadata": {},
     "outputs": [
      {
       "output_type": "stream",
       "stream": "stdout",
       "text": [
        "PeriodIndex(['2015-01-01', '2015-02-01', '2015-03-01'], dtype='int64', freq='D')\n",
        "PeriodIndex(['2015-01-01', '2015-01-02', '2015-01-03', '2015-01-04',\n",
        "             '2015-01-05', '2015-01-06', '2015-01-07', '2015-01-08',\n",
        "             '2015-01-09', '2015-01-10', '2015-01-11', '2015-01-12',\n",
        "             '2015-01-13', '2015-01-14', '2015-01-15', '2015-01-16',\n",
        "             '2015-01-17', '2015-01-18', '2015-01-19', '2015-01-20',\n",
        "             '2015-01-21', '2015-01-22', '2015-01-23', '2015-01-24',\n",
        "             '2015-01-25', '2015-01-26', '2015-01-27', '2015-01-28',\n",
        "             '2015-01-29', '2015-01-30', '2015-01-31', '2015-02-01',\n",
        "             '2015-02-02', '2015-02-03', '2015-02-04', '2015-02-05',\n",
        "             '2015-02-06', '2015-02-07', '2015-02-08', '2015-02-09',\n",
        "             '2015-02-10', '2015-02-11', '2015-02-12', '2015-02-13',\n",
        "             '2015-02-14', '2015-02-15', '2015-02-16', '2015-02-17',\n",
        "             '2015-02-18', '2015-02-19', '2015-02-20', '2015-02-21',\n",
        "             '2015-02-22', '2015-02-23', '2015-02-24', '2015-02-25',\n",
        "             '2015-02-26', '2015-02-27', '2015-02-28', '2015-03-01',\n",
        "             '2015-03-02', '2015-03-03', '2015-03-04', '2015-03-05',\n",
        "             '2015-03-06', '2015-03-07', '2015-03-08', '2015-03-09',\n",
        "             '2015-03-10', '2015-03-11', '2015-03-12', '2015-03-13',\n",
        "             '2015-03-14', '2015-03-15', '2015-03-16', '2015-03-17',\n",
        "             '2015-03-18', '2015-03-19', '2015-03-20', '2015-03-21',\n",
        "             '2015-03-22', '2015-03-23', '2015-03-24', '2015-03-25',\n",
        "             '2015-03-26', '2015-03-27', '2015-03-28', '2015-03-29',\n",
        "             '2015-03-30', '2015-03-31'],\n",
        "            dtype='int64', freq='D')\n"
       ]
      }
     ],
     "prompt_number": 72
    },
    {
     "cell_type": "code",
     "collapsed": false,
     "input": [
      "# \u7c97\u7c92\u5ea6\u6570\u636e\uff0breindex\uff0bffill/bfill\n",
      "full_ts = pd.Series(periodindex_mon, index=periodindex_mon).reindex(periodindex_day, method='ffill')\n",
      "full_ts"
     ],
     "language": "python",
     "metadata": {},
     "outputs": [
      {
       "metadata": {},
       "output_type": "pyout",
       "prompt_number": 73,
       "text": [
        "2015-01-01   2015-01-01\n",
        "2015-01-02   2015-01-01\n",
        "2015-01-03   2015-01-01\n",
        "2015-01-04   2015-01-01\n",
        "2015-01-05   2015-01-01\n",
        "2015-01-06   2015-01-01\n",
        "2015-01-07   2015-01-01\n",
        "2015-01-08   2015-01-01\n",
        "2015-01-09   2015-01-01\n",
        "2015-01-10   2015-01-01\n",
        "2015-01-11   2015-01-01\n",
        "2015-01-12   2015-01-01\n",
        "2015-01-13   2015-01-01\n",
        "2015-01-14   2015-01-01\n",
        "2015-01-15   2015-01-01\n",
        "2015-01-16   2015-01-01\n",
        "2015-01-17   2015-01-01\n",
        "2015-01-18   2015-01-01\n",
        "2015-01-19   2015-01-01\n",
        "2015-01-20   2015-01-01\n",
        "2015-01-21   2015-01-01\n",
        "2015-01-22   2015-01-01\n",
        "2015-01-23   2015-01-01\n",
        "2015-01-24   2015-01-01\n",
        "2015-01-25   2015-01-01\n",
        "2015-01-26   2015-01-01\n",
        "2015-01-27   2015-01-01\n",
        "2015-01-28   2015-01-01\n",
        "2015-01-29   2015-01-01\n",
        "2015-01-30   2015-01-01\n",
        "                ...    \n",
        "2015-03-02   2015-03-01\n",
        "2015-03-03   2015-03-01\n",
        "2015-03-04   2015-03-01\n",
        "2015-03-05   2015-03-01\n",
        "2015-03-06   2015-03-01\n",
        "2015-03-07   2015-03-01\n",
        "2015-03-08   2015-03-01\n",
        "2015-03-09   2015-03-01\n",
        "2015-03-10   2015-03-01\n",
        "2015-03-11   2015-03-01\n",
        "2015-03-12   2015-03-01\n",
        "2015-03-13   2015-03-01\n",
        "2015-03-14   2015-03-01\n",
        "2015-03-15   2015-03-01\n",
        "2015-03-16   2015-03-01\n",
        "2015-03-17   2015-03-01\n",
        "2015-03-18   2015-03-01\n",
        "2015-03-19   2015-03-01\n",
        "2015-03-20   2015-03-01\n",
        "2015-03-21   2015-03-01\n",
        "2015-03-22   2015-03-01\n",
        "2015-03-23   2015-03-01\n",
        "2015-03-24   2015-03-01\n",
        "2015-03-25   2015-03-01\n",
        "2015-03-26   2015-03-01\n",
        "2015-03-27   2015-03-01\n",
        "2015-03-28   2015-03-01\n",
        "2015-03-29   2015-03-01\n",
        "2015-03-30   2015-03-01\n",
        "2015-03-31   2015-03-01\n",
        "Freq: D, dtype: object"
       ]
      }
     ],
     "prompt_number": 73
    },
    {
     "cell_type": "markdown",
     "metadata": {},
     "source": [
      "### \u5173\u4e8e\u7d22\u5f15\uff0c\u65b9\u4fbf\u7684\u64cd\u4f5c\u6709\uff1f\n",
      "\u524d\u9762\u63cf\u8ff0\u8fc7\u4e86\uff0c\u7d22\u5f15\u6709\u5e8f\uff0c\u91cd\u590d\uff0c\u4f46\u4e00\u5b9a\u7a0b\u5ea6\u4e0a\u53c8\u80fd\u901a\u8fc7key\u6765\u8bbf\u95ee\uff0c\u4e5f\u5c31\u662f\u8bf4\uff0c\u67d0\u4e9b\u96c6\u5408\u64cd\u4f5c\u90fd\u662f\u53ef\u4ee5\u2f40\u652f\u6301\u7684\u3002"
     ]
    },
    {
     "cell_type": "code",
     "collapsed": false,
     "input": [
      "index1 = pd.Index(['A', 'B', 'B', 'c''c'])\n",
      "index2 = pd.Index(['C', 'D', 'E', 'E', 'F'])\n",
      "index3 = pd.Index(['B', 'c', 'A'])\n",
      "print index1.append(index2)"
     ],
     "language": "python",
     "metadata": {},
     "outputs": [
      {
       "output_type": "stream",
       "stream": "stdout",
       "text": [
        "Index([u'A', u'B', u'B', u'cc', u'C', u'D', u'E', u'E', u'F'], dtype='object')\n"
       ]
      }
     ],
     "prompt_number": 74
    },
    {
     "cell_type": "code",
     "collapsed": false,
     "input": [
      "print index1.difference(index2)"
     ],
     "language": "python",
     "metadata": {},
     "outputs": [
      {
       "output_type": "stream",
       "stream": "stdout",
       "text": [
        "Index([u'A', u'B', u'cc'], dtype='object')\n"
       ]
      }
     ],
     "prompt_number": 75
    },
    {
     "cell_type": "code",
     "collapsed": false,
     "input": [
      "print index1.intersection(index3)"
     ],
     "language": "python",
     "metadata": {},
     "outputs": [
      {
       "output_type": "stream",
       "stream": "stdout",
       "text": [
        "Index([u'B', u'B', u'A'], dtype='object')\n"
       ]
      }
     ],
     "prompt_number": 76
    },
    {
     "cell_type": "code",
     "collapsed": false,
     "input": [
      "print index1.union(index2) # Support unique-value Index well"
     ],
     "language": "python",
     "metadata": {},
     "outputs": [
      {
       "output_type": "stream",
       "stream": "stdout",
       "text": [
        "Index([u'A', u'B', u'B', u'C', u'D', u'E', u'E', u'F', u'cc'], dtype='object')\n"
       ]
      }
     ],
     "prompt_number": 77
    },
    {
     "cell_type": "code",
     "collapsed": false,
     "input": [
      "print index3.drop('A') # Support unique-value Index well\n",
      "print index1.is_monotonic,index2.is_monotonic,index3.is_monotonic"
     ],
     "language": "python",
     "metadata": {},
     "outputs": [
      {
       "output_type": "stream",
       "stream": "stdout",
       "text": [
        "Index([u'B', u'c'], dtype='object')\n",
        "True True False\n"
       ]
      }
     ],
     "prompt_number": 78
    },
    {
     "cell_type": "code",
     "collapsed": false,
     "input": [
      "print index1.is_unique,index2.is_unique,index3.is_unique"
     ],
     "language": "python",
     "metadata": {},
     "outputs": [
      {
       "output_type": "stream",
       "stream": "stdout",
       "text": [
        "False False True\n"
       ]
      }
     ],
     "prompt_number": 79
    },
    {
     "cell_type": "code",
     "collapsed": false,
     "input": [],
     "language": "python",
     "metadata": {},
     "outputs": [],
     "prompt_number": 79
    }
   ],
   "metadata": {}
  }
 ]
}
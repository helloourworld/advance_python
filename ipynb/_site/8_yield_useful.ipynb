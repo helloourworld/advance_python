{
 "metadata": {
  "name": "",
  "signature": "sha256:0ab5ab663ff8cbaaa1007fec8d9b3255092e6e58b05ecc30dd9a95040a223cc4"
 },
 "nbformat": 3,
 "nbformat_minor": 0,
 "worksheets": [
  {
   "cells": [
    {
     "cell_type": "heading",
     "level": 1,
     "metadata": {},
     "source": [
      "***yield***"
     ]
    },
    {
     "cell_type": "code",
     "collapsed": false,
     "input": [
      "def h():\n",
      "    print \"hello\"\n",
      "    yield 5"
     ],
     "language": "python",
     "metadata": {},
     "outputs": [],
     "prompt_number": 14
    },
    {
     "cell_type": "code",
     "collapsed": false,
     "input": [
      "h()"
     ],
     "language": "python",
     "metadata": {},
     "outputs": [
      {
       "metadata": {},
       "output_type": "pyout",
       "prompt_number": 15,
       "text": [
        "<generator object h at 0x0000000003EBE8B8>"
       ]
      }
     ],
     "prompt_number": 15
    },
    {
     "cell_type": "markdown",
     "metadata": {},
     "source": [
      "as you see, when h() executed, there is a generator. OK .\n",
      "\u7531\u4e8e\u51fd\u6570\u5305\u4e86yield\u90a3\u4e48\u8fd9\u4e2a\u51fd\u6570\u5df2\u7ecf\u662f\u4e00\u4e2aGenerator"
     ]
    },
    {
     "cell_type": "markdown",
     "metadata": {},
     "source": [
      "\u900f\u8fc7next()\u8bed\u53e5\u770b\u539f\u7406\n",
      "\u73b0\u5728\uff0c\u6211\u4eec\u6765\u63ed\u6653yield\u7684\u5de5\u4f5c\u539f\u7406\u3002\u6211\u4eec\u77e5\u9053\uff0c\u6211\u4eec\u4e0a\u9762\u7684h()\u88ab\u8c03\u7528\u540e\u5e76\u6ca1\u6709\u6267\u884c\uff0c\u56e0\u4e3a\u5b83\u6709yield\u8868\u8fbe\u5f0f\uff0c\u56e0\u6b64\uff0c\u6211\u4eec\u901a\u8fc7next()\u8bed\u53e5\u8ba9\u5b83\u6267\u884c\u3002next()\u8bed\u53e5\u5c06\u6062\u590dGenerator\u6267\u884c\uff0c\u5e76\u76f4\u5230\u4e0b\u4e00\u4e2ayield\u8868\u8fbe\u5f0f\u5904\u3002\u6bd4\u5982\uff1a"
     ]
    },
    {
     "cell_type": "code",
     "collapsed": false,
     "input": [
      "def h():\n",
      "    print ' hahah'\n",
      "    yield 5\n",
      "    print 'fine!'\n",
      "    \n",
      "c = h()\n",
      "c.next()"
     ],
     "language": "python",
     "metadata": {},
     "outputs": [
      {
       "output_type": "stream",
       "stream": "stdout",
       "text": [
        " hahah\n"
       ]
      },
      {
       "metadata": {},
       "output_type": "pyout",
       "prompt_number": 16,
       "text": [
        "5"
       ]
      }
     ],
     "prompt_number": 16
    },
    {
     "cell_type": "code",
     "collapsed": false,
     "input": [
      "c.next()"
     ],
     "language": "python",
     "metadata": {},
     "outputs": [
      {
       "output_type": "stream",
       "stream": "stdout",
       "text": [
        "fine!\n"
       ]
      },
      {
       "ename": "StopIteration",
       "evalue": "",
       "output_type": "pyerr",
       "traceback": [
        "\u001b[1;31m---------------------------------------------------------------------------\u001b[0m\n\u001b[1;31mStopIteration\u001b[0m                             Traceback (most recent call last)",
        "\u001b[1;32m<ipython-input-17-50b4dad19337>\u001b[0m in \u001b[0;36m<module>\u001b[1;34m()\u001b[0m\n\u001b[1;32m----> 1\u001b[1;33m \u001b[0mc\u001b[0m\u001b[1;33m.\u001b[0m\u001b[0mnext\u001b[0m\u001b[1;33m(\u001b[0m\u001b[1;33m)\u001b[0m\u001b[1;33m\u001b[0m\u001b[0m\n\u001b[0m",
        "\u001b[1;31mStopIteration\u001b[0m: "
       ]
      }
     ],
     "prompt_number": 17
    },
    {
     "cell_type": "code",
     "collapsed": false,
     "input": [
      "c.next()"
     ],
     "language": "python",
     "metadata": {},
     "outputs": []
    },
    {
     "cell_type": "markdown",
     "metadata": {},
     "source": [
      "4. send(msg) \u4e0e next()\n",
      "\n",
      "\u4e86\u89e3\u4e86next()\u5982\u4f55\u8ba9\u5305\u542byield\u7684\u51fd\u6570\u6267\u884c\u540e\uff0c\u6211\u4eec\u518d\u6765\u770b\u53e6\u5916\u4e00\u4e2a\u975e\u5e38\u91cd\u8981\u7684\u51fd\u6570send(msg)\u3002\u5176\u5b9enext()\u548csend()\u5728\u4e00\u5b9a\u610f\u4e49\u4e0a\u4f5c\u7528\u662f\u76f8\u4f3c\u7684\uff0c\u533a\u522b\u662fsend()\u53ef\u4ee5\u4f20\u9012yield\u8868\u8fbe\u5f0f\u7684\u503c\u8fdb\u53bb\uff0c\u800cnext()\u4e0d\u80fd\u4f20\u9012\u7279\u5b9a\u7684\u503c\uff0c\u53ea\u80fd\u4f20\u9012None\u8fdb\u53bb\u3002\u56e0\u6b64\uff0c\u6211\u4eec\u53ef\u4ee5\u770b\u505a\n",
      "c.next() \u548c c.send(None) \u4f5c\u7528\u662f\u4e00\u6837\u7684\u3002\n",
      "\u6765\u770b\u8fd9\u4e2a\u4f8b\u5b50\uff1a"
     ]
    },
    {
     "cell_type": "code",
     "collapsed": false,
     "input": [
      "def h():\n",
      "    print 'wen',\n",
      "    m = yield 5\n",
      "    print m\n",
      "    d = yield 12\n",
      "    print 'we together!'"
     ],
     "language": "python",
     "metadata": {},
     "outputs": []
    },
    {
     "cell_type": "code",
     "collapsed": false,
     "input": [
      "c = h()"
     ],
     "language": "python",
     "metadata": {},
     "outputs": []
    },
    {
     "cell_type": "code",
     "collapsed": false,
     "input": [
      "dir(c)\n",
      "c.next()# == c.send(None)"
     ],
     "language": "python",
     "metadata": {},
     "outputs": []
    },
    {
     "cell_type": "code",
     "collapsed": false,
     "input": [
      "c.send('Fighting!')"
     ],
     "language": "python",
     "metadata": {},
     "outputs": []
    },
    {
     "cell_type": "markdown",
     "metadata": {},
     "source": [
      "5. send(msg) \u4e0e next()\u7684\u8fd4\u56de\u503c\n",
      "send(msg) \u548c next()\u662f\u6709\u8fd4\u56de\u503c\u7684\uff0c\u5b83\u4eec\u7684\u8fd4\u56de\u503c\u5f88\u7279\u6b8a\uff0c\u8fd4\u56de\u7684\u662f\u4e0b\u4e00\u4e2ayield\u8868\u8fbe\u5f0f\u7684\u53c2\u6570\u3002\u6bd4\u5982yield 5\uff0c\u5219\u8fd4\u56de 5 \u3002\u5230\u8fd9\u91cc\uff0c\u662f\u4e0d\u662f\u660e\u767d\u4e86\u4e00\u4e9b\u4ec0\u4e48\u4e1c\u897f\uff1f\u672c\u6587\u7b2c\u4e00\u4e2a\u4f8b\u5b50\u4e2d\uff0c\u901a\u8fc7for i in alist \u904d\u5386 Generator\uff0c\u5176\u5b9e\u662f\u6bcf\u6b21\u90fd\u8c03\u7528\u4e86alist.Next()\uff0c\u800c\u6bcf\u6b21alist.Next()\u7684\u8fd4\u56de\u503c\u6b63\u662fyield\u7684\u53c2\u6570\uff0c\u5373\u6211\u4eec\u5f00\u59cb\u8ba4\u4e3a\u88ab\u538b\u8fdb\u53bb\u7684\u4e1c\u4e1c\u3002\u6211\u4eec\u518d\u5ef6\u7eed\u4e0a\u9762\u7684\u4f8b\u5b50\uff1a"
     ]
    },
    {
     "cell_type": "code",
     "collapsed": false,
     "input": [
      "def h():\n",
      "    print 'Wen Chuan',\n",
      "    m = yield 5  # Fighting!\n",
      "    print m\n",
      "    d = yield 12\n",
      "    print 'We are together!'\n",
      "\n",
      "c = h()\n",
      "m = c.next()  #m \u83b7\u53d6\u4e86yield 5 \u7684\u53c2\u6570\u503c 5\n",
      "d = c.send('Fighting!')  #d \u83b7\u53d6\u4e86yield 12 \u7684\u53c2\u6570\u503c12\n",
      "print 'We will never forget the date', m, '.', d"
     ],
     "language": "python",
     "metadata": {},
     "outputs": []
    },
    {
     "cell_type": "markdown",
     "metadata": {},
     "source": [
      "6. throw() \u4e0e close()\u4e2d\u65ad Generator\n",
      "\u4e2d\u65adGenerator\u662f\u4e00\u4e2a\u975e\u5e38\u7075\u6d3b\u7684\u6280\u5de7\uff0c\u53ef\u4ee5\u901a\u8fc7throw\u629b\u51fa\u4e00\u4e2aGeneratorExit\u5f02\u5e38\u6765\u7ec8\u6b62Generator\u3002Close()\u65b9\u6cd5\u4f5c\u7528\u662f\u4e00\u6837\u7684\uff0c\u5176\u5b9e\u5185\u90e8\u5b83\u662f\u8c03\u7528\u4e86throw(GeneratorExit)\u7684\u3002\u6211\u4eec\u770b\uff1a"
     ]
    },
    {
     "cell_type": "code",
     "collapsed": false,
     "input": [
      "def close(self):\n",
      "    try:\n",
      "        self.throw(GeneratorEixt)\n",
      "    except(GeneratorEixt, StopIteration):\n",
      "        pass\n",
      "    else:\n",
      "        raise RuntimeError(\"generator ignored Generator Exit\")"
     ],
     "language": "python",
     "metadata": {},
     "outputs": []
    },
    {
     "cell_type": "code",
     "collapsed": false,
     "input": [
      "close(h)"
     ],
     "language": "python",
     "metadata": {},
     "outputs": []
    },
    {
     "cell_type": "code",
     "collapsed": false,
     "input": [],
     "language": "python",
     "metadata": {},
     "outputs": []
    }
   ],
   "metadata": {}
  }
 ]
}